{
 "cells": [
  {
   "cell_type": "code",
   "execution_count": 7,
   "metadata": {
    "id": "TEhnjpdMNOJi",
    "tags": []
   },
   "outputs": [],
   "source": [
    "# import subprocess\n",
    "\n",
    "# packages = ['geemap', 'geopandas',\n",
    "#             'shapely', 'requests', \n",
    "#             'osgeo', 'rasterio', 'numpy',\n",
    "#             'sklearn', 'fiona', 'pyproj',\n",
    "#             'matplotlib', 'pandas',\n",
    "#             'seaborn','geocube', 'os']\n",
    "\n",
    "# for package in packages:\n",
    "#     try:\n",
    "#         __import__(package)\n",
    "#     except ImportError:\n",
    "#         subprocess.check_call(['pip', 'install', package])"
   ]
  },
  {
   "cell_type": "markdown",
   "metadata": {},
   "source": [
    "import neccessary libaries"
   ]
  },
  {
   "cell_type": "code",
   "execution_count": 8,
   "metadata": {
    "tags": []
   },
   "outputs": [],
   "source": [
    "import pandas as pd\n",
    "import numpy as np\n",
    "import geopandas as gpd\n",
    "import matplotlib.pyplot as plt\n",
    "import seaborn as sns\n",
    "import os\n",
    "import sklearn\n",
    "import json\n",
    "import rasterio as rio\n",
    "import shapely\n",
    "import fiona\n",
    "import warnings\n",
    "\n",
    "warnings.filterwarnings('ignore')"
   ]
  },
  {
   "cell_type": "code",
   "execution_count": 9,
   "metadata": {
    "colab": {
     "base_uri": "https://localhost:8080/"
    },
    "id": "8v9FcrcQIDiK",
    "outputId": "524c8570-ccf1-4115-d650-af93ced37109",
    "tags": []
   },
   "outputs": [
    {
     "data": {
      "text/html": [
       "<div>\n",
       "<style scoped>\n",
       "    .dataframe tbody tr th:only-of-type {\n",
       "        vertical-align: middle;\n",
       "    }\n",
       "\n",
       "    .dataframe tbody tr th {\n",
       "        vertical-align: top;\n",
       "    }\n",
       "\n",
       "    .dataframe thead th {\n",
       "        text-align: right;\n",
       "    }\n",
       "</style>\n",
       "<table border=\"1\" class=\"dataframe\">\n",
       "  <thead>\n",
       "    <tr style=\"text-align: right;\">\n",
       "      <th></th>\n",
       "      <th>ID_0</th>\n",
       "      <th>ISO</th>\n",
       "      <th>NAME_0</th>\n",
       "      <th>ID_1</th>\n",
       "      <th>NAME_1</th>\n",
       "      <th>TYPE_1</th>\n",
       "      <th>ENGTYPE_1</th>\n",
       "      <th>NL_NAME_1</th>\n",
       "      <th>VARNAME_1</th>\n",
       "      <th>geometry</th>\n",
       "    </tr>\n",
       "  </thead>\n",
       "  <tbody>\n",
       "    <tr>\n",
       "      <th>0</th>\n",
       "      <td>33</td>\n",
       "      <td>BRA</td>\n",
       "      <td>Brazil</td>\n",
       "      <td>27</td>\n",
       "      <td>TO</td>\n",
       "      <td>Estado</td>\n",
       "      <td>State</td>\n",
       "      <td>None</td>\n",
       "      <td>None</td>\n",
       "      <td>POLYGON ((-48.35310 -5.17391, -48.32085 -5.201...</td>\n",
       "    </tr>\n",
       "  </tbody>\n",
       "</table>\n",
       "</div>"
      ],
      "text/plain": [
       "   ID_0  ISO  NAME_0  ID_1 NAME_1  TYPE_1 ENGTYPE_1 NL_NAME_1 VARNAME_1  \\\n",
       "0    33  BRA  Brazil    27     TO  Estado     State      None      None   \n",
       "\n",
       "                                            geometry  \n",
       "0  POLYGON ((-48.35310 -5.17391, -48.32085 -5.201...  "
      ]
     },
     "execution_count": 9,
     "metadata": {},
     "output_type": "execute_result"
    }
   ],
   "source": [
    "# load the boundary shapefile for Area of Intrest (AOI)\n",
    "study_area = gpd.read_file('data/tocantins.shp')\n",
    "study_area.head()"
   ]
  },
  {
   "cell_type": "code",
   "execution_count": 10,
   "metadata": {
    "tags": []
   },
   "outputs": [
    {
     "data": {
      "image/png": "[encoded data removed]",
      "text/plain": [
       "<Figure size 640x480 with 1 Axes>"
      ]
     },
     "metadata": {},
     "output_type": "display_data"
    }
   ],
   "source": [
    "study_area.plot( linewidth=2, color='white', edgecolor='0.8');"
   ]
  },
  {
   "cell_type": "markdown",
   "metadata": {},
   "source": [
    "The independent variables that will be use in building this model are in raster format, they will be extracted from google earth engine and downloaded uisng geemap and ee API."
   ]
  },
  {
   "cell_type": "code",
   "execution_count": 11,
   "metadata": {
    "tags": []
   },
   "outputs": [],
   "source": [
    "# import google eath enigne libary for python\n",
    "import io\n",
    "import geemap\n",
    "import ee"
   ]
  },
  {
   "cell_type": "code",
   "execution_count": 12,
   "metadata": {
    "tags": []
   },
   "outputs": [
    {
     "data": {
      "text/html": [
       "\n",
       "            <style>\n",
       "                .geemap-dark {\n",
       "                    --jp-widgets-color: white;\n",
       "                    --jp-widgets-label-color: white;\n",
       "                    --jp-ui-font-color1: white;\n",
       "                    --jp-layout-color2: #454545;\n",
       "                    background-color: #383838;\n",
       "                }\n",
       "                    \n",
       "                .geemap-dark .jupyter-button {\n",
       "                    --jp-layout-color3: #383838;\n",
       "                }\n",
       "                \n",
       "                .geemap-colab {\n",
       "                    background-color: var(--colab-primary-surface-color, white);\n",
       "                }\n",
       "                    \n",
       "                .geemap-colab .jupyter-button {\n",
       "                    --jp-layout-color3: var(--colab-primary-surface-color, white);\n",
       "                }\n",
       "            </style>\n",
       "            "
      ],
      "text/plain": [
       "<IPython.core.display.HTML object>"
      ]
     },
     "metadata": {},
     "output_type": "display_data"
    }
   ],
   "source": [
    "# Autheticate the Google earth engine ee login\n",
    "key_file = './keys/data-enginerring-zoomcamp-b8719aa4a43e.json'\n",
    "email = 'farm-watch-project@data-enginerring-zoomcamp.iam.gserviceaccount.com'\n",
    "try:\n",
    "    credentials = ee.ServiceAccountCredentials(email=email, key_file=key_file)\n",
    "    ee.Initialize(credentials)\n",
    "except Exception as e:\n",
    "    ee.Authenticate()\n",
    "    ee.Initialize()"
   ]
  },
  {
   "cell_type": "markdown",
   "metadata": {},
   "source": [
    "### Data Extraction and Transformation"
   ]
  },
  {
   "cell_type": "markdown",
   "metadata": {},
   "source": [
    "Define ee boundary"
   ]
  },
  {
   "cell_type": "code",
   "execution_count": 13,
   "metadata": {
    "tags": []
   },
   "outputs": [
    {
     "data": {
      "text/html": [
       "\n",
       "            <style>\n",
       "                .geemap-dark {\n",
       "                    --jp-widgets-color: white;\n",
       "                    --jp-widgets-label-color: white;\n",
       "                    --jp-ui-font-color1: white;\n",
       "                    --jp-layout-color2: #454545;\n",
       "                    background-color: #383838;\n",
       "                }\n",
       "                    \n",
       "                .geemap-dark .jupyter-button {\n",
       "                    --jp-layout-color3: #383838;\n",
       "                }\n",
       "                \n",
       "                .geemap-colab {\n",
       "                    background-color: var(--colab-primary-surface-color, white);\n",
       "                }\n",
       "                    \n",
       "                .geemap-colab .jupyter-button {\n",
       "                    --jp-layout-color3: var(--colab-primary-surface-color, white);\n",
       "                }\n",
       "            </style>\n",
       "            "
      ],
      "text/plain": [
       "<IPython.core.display.HTML object>"
      ]
     },
     "metadata": {},
     "output_type": "display_data"
    }
   ],
   "source": [
    "# convert the boundary shapefile to ESPG 4326\n",
    "boundary = study_area\n",
    "\n",
    "# define a helper function to put the geodataframe in the right format for constructing an ee object\n",
    "def shp_to_ee_fmt(geodf):\n",
    "    data = json.loads(geodf.to_json())\n",
    "    return data['features'][0]['geometry']['coordinates']\n",
    "\n",
    "# create the ee object\n",
    "feature_cls = ee.Geometry.MultiPolygon(shp_to_ee_fmt(boundary))"
   ]
  },
  {
   "cell_type": "markdown",
   "metadata": {},
   "source": [
    "Generate Slope and DEM"
   ]
  },
  {
   "cell_type": "code",
   "execution_count": 14,
   "metadata": {
    "tags": []
   },
   "outputs": [
    {
     "data": {
      "text/html": [
       "\n",
       "            <style>\n",
       "                .geemap-dark {\n",
       "                    --jp-widgets-color: white;\n",
       "                    --jp-widgets-label-color: white;\n",
       "                    --jp-ui-font-color1: white;\n",
       "                    --jp-layout-color2: #454545;\n",
       "                    background-color: #383838;\n",
       "                }\n",
       "                    \n",
       "                .geemap-dark .jupyter-button {\n",
       "                    --jp-layout-color3: #383838;\n",
       "                }\n",
       "                \n",
       "                .geemap-colab {\n",
       "                    background-color: var(--colab-primary-surface-color, white);\n",
       "                }\n",
       "                    \n",
       "                .geemap-colab .jupyter-button {\n",
       "                    --jp-layout-color3: var(--colab-primary-surface-color, white);\n",
       "                }\n",
       "            </style>\n",
       "            "
      ],
      "text/plain": [
       "<IPython.core.display.HTML object>"
      ]
     },
     "metadata": {},
     "output_type": "display_data"
    }
   ],
   "source": [
    "#load SRTM data from google earth engine\n",
    "srtm = ee.Image('CGIAR/SRTM90_V4')\n",
    "\n",
    "# Generate individual raster data\n",
    "elevation = srtm.select('elevation')\n",
    "slope = ee.Terrain.slope(elevation)"
   ]
  },
  {
   "cell_type": "markdown",
   "metadata": {},
   "source": [
    "Generate LULC"
   ]
  },
  {
   "cell_type": "code",
   "execution_count": 15,
   "metadata": {
    "tags": []
   },
   "outputs": [
    {
     "data": {
      "text/html": [
       "\n",
       "            <style>\n",
       "                .geemap-dark {\n",
       "                    --jp-widgets-color: white;\n",
       "                    --jp-widgets-label-color: white;\n",
       "                    --jp-ui-font-color1: white;\n",
       "                    --jp-layout-color2: #454545;\n",
       "                    background-color: #383838;\n",
       "                }\n",
       "                    \n",
       "                .geemap-dark .jupyter-button {\n",
       "                    --jp-layout-color3: #383838;\n",
       "                }\n",
       "                \n",
       "                .geemap-colab {\n",
       "                    background-color: var(--colab-primary-surface-color, white);\n",
       "                }\n",
       "                    \n",
       "                .geemap-colab .jupyter-button {\n",
       "                    --jp-layout-color3: var(--colab-primary-surface-color, white);\n",
       "                }\n",
       "            </style>\n",
       "            "
      ],
      "text/plain": [
       "<IPython.core.display.HTML object>"
      ]
     },
     "metadata": {},
     "output_type": "display_data"
    }
   ],
   "source": [
    "# load ESA 2020 World wide 10m land cover  data form google earth\n",
    "collection = (\n",
    "    ee.ImageCollection('ESA/WorldCover/v200')\n",
    "    .filterBounds(feature_cls)\n",
    ")\n",
    "\n",
    "landcover = collection.first()\n",
    "\n",
    "# collection.aggregate_array('system:index').getInfo()"
   ]
  },
  {
   "cell_type": "markdown",
   "metadata": {},
   "source": [
    "Generate NDVI, NDMI and BSI"
   ]
  },
  {
   "cell_type": "code",
   "execution_count": 16,
   "metadata": {
    "tags": []
   },
   "outputs": [
    {
     "data": {
      "text/html": [
       "\n",
       "            <style>\n",
       "                .geemap-dark {\n",
       "                    --jp-widgets-color: white;\n",
       "                    --jp-widgets-label-color: white;\n",
       "                    --jp-ui-font-color1: white;\n",
       "                    --jp-layout-color2: #454545;\n",
       "                    background-color: #383838;\n",
       "                }\n",
       "                    \n",
       "                .geemap-dark .jupyter-button {\n",
       "                    --jp-layout-color3: #383838;\n",
       "                }\n",
       "                \n",
       "                .geemap-colab {\n",
       "                    background-color: var(--colab-primary-surface-color, white);\n",
       "                }\n",
       "                    \n",
       "                .geemap-colab .jupyter-button {\n",
       "                    --jp-layout-color3: var(--colab-primary-surface-color, white);\n",
       "                }\n",
       "            </style>\n",
       "            "
      ],
      "text/plain": [
       "<IPython.core.display.HTML object>"
      ]
     },
     "metadata": {},
     "output_type": "display_data"
    }
   ],
   "source": [
    "# select Landsat 8 collection for the spectal indices\n",
    "l8 = ee.ImageCollection(\"LANDSAT/LC08/C02/T1_TOA\") \\\n",
    "    .filterBounds(feature_cls) \\\n",
    "    .filterDate('2021-01-01', '2022-12-31') \\\n",
    "    .sort('CLOUD_COVER') \\\n",
    "    .median()\n",
    "\n",
    "\n",
    "# Calculate NDVI\n",
    "ndvi = l8.normalizedDifference(['B5', 'B4']).rename('NDVI')\n",
    "                               \n",
    "# Calculate NDMI\n",
    "ndmi = l8.normalizedDifference(['B5', 'B6']).rename('NDMI')\n",
    "\n",
    "# # Calculate BSI\n",
    "# bsi = l8.expression(\n",
    "#     '((SWIR2 + RED) - (SWIR1 + NIR)) / ((SWIR2 + RED) + (SWIR1 + NIR))',\n",
    "#     {\n",
    "#         'SWIR1': l8.select('B6'),\n",
    "#         'SWIR2': l8.select('B6'),\n",
    "#         'NIR': l8.select('B5'),\n",
    "#         'RED': l8.select('B4')\n",
    "#     }\n",
    "# ).rename('BSI')"
   ]
  },
  {
   "cell_type": "markdown",
   "metadata": {},
   "source": [
    "Generate LST and SMI"
   ]
  },
  {
   "cell_type": "code",
   "execution_count": 17,
   "metadata": {
    "tags": []
   },
   "outputs": [
    {
     "data": {
      "text/html": [
       "\n",
       "            <style>\n",
       "                .geemap-dark {\n",
       "                    --jp-widgets-color: white;\n",
       "                    --jp-widgets-label-color: white;\n",
       "                    --jp-ui-font-color1: white;\n",
       "                    --jp-layout-color2: #454545;\n",
       "                    background-color: #383838;\n",
       "                }\n",
       "                    \n",
       "                .geemap-dark .jupyter-button {\n",
       "                    --jp-layout-color3: #383838;\n",
       "                }\n",
       "                \n",
       "                .geemap-colab {\n",
       "                    background-color: var(--colab-primary-surface-color, white);\n",
       "                }\n",
       "                    \n",
       "                .geemap-colab .jupyter-button {\n",
       "                    --jp-layout-color3: var(--colab-primary-surface-color, white);\n",
       "                }\n",
       "            </style>\n",
       "            "
      ],
      "text/plain": [
       "<IPython.core.display.HTML object>"
      ]
     },
     "metadata": {},
     "output_type": "display_data"
    },
    {
     "data": {
      "text/plain": [
       "ee.image.Image"
      ]
     },
     "execution_count": 17,
     "metadata": {},
     "output_type": "execute_result"
    }
   ],
   "source": [
    "# Function to calculate LST uisng tier 2 correct images\n",
    "def calculate_LST(tier2_image, region):\n",
    "    LST = tier2_image.expression(\n",
    "        '(ST_B10 * 0.00341802 + 149.0) - 273.15',  # convert to Celsius\n",
    "        {'ST_B10': tier2_image.select('ST_B10')}\n",
    "    ).rename('Landsat_LST')\n",
    "    return LST\n",
    "\n",
    "# Function to calculate Soil Moisture Index (SMI)\n",
    "def calculate_SMI(LST, lst_min, lst_max):\n",
    "    # Calculate Soil Moisture Index (SMI)\n",
    "    SMI = LST.subtract(lst_min).divide(lst_max.subtract(lst_min)).rename('SMI')\n",
    "    return SMI\n",
    "\n",
    "# Example of getting the TOA image\n",
    "sr_image = ee.ImageCollection(\"LANDSAT/LC08/C02/T1_L2\")\\\n",
    "    .filterBounds(feature_cls) \\\n",
    "    .filterDate('2021-01-01', '2023-12-31') \\\n",
    "    .select('ST_B10')\\\n",
    "    .sort('CLOUD_COVER').median() \\\n",
    "\n",
    "# Calculate LST\n",
    "LST_image = calculate_LST(sr_image,feature_cls)\n",
    "type(LST_image)\n",
    "\n",
    "# # Define minimum and maximum values for LST\n",
    "# lst_min = min(LST_image) # get the LST mimimum value\n",
    "# lst_max = max(LST_image)  # Example value, you may replace it with appropriate value\n",
    "\n",
    "# # Calculate SMI\n",
    "# SMI_image = calculate_SMI(LST_image, lst_min, lst_max)\n",
    "\n",
    "# # Print SMI image\n",
    "# print(\"SMI Image:\", SMI_image)"
   ]
  },
  {
   "cell_type": "markdown",
   "metadata": {},
   "source": [
    "Generate Temperature and Rainfall data"
   ]
  },
  {
   "cell_type": "code",
   "execution_count": 18,
   "metadata": {
    "tags": []
   },
   "outputs": [
    {
     "data": {
      "text/html": [
       "\n",
       "            <style>\n",
       "                .geemap-dark {\n",
       "                    --jp-widgets-color: white;\n",
       "                    --jp-widgets-label-color: white;\n",
       "                    --jp-ui-font-color1: white;\n",
       "                    --jp-layout-color2: #454545;\n",
       "                    background-color: #383838;\n",
       "                }\n",
       "                    \n",
       "                .geemap-dark .jupyter-button {\n",
       "                    --jp-layout-color3: #383838;\n",
       "                }\n",
       "                \n",
       "                .geemap-colab {\n",
       "                    background-color: var(--colab-primary-surface-color, white);\n",
       "                }\n",
       "                    \n",
       "                .geemap-colab .jupyter-button {\n",
       "                    --jp-layout-color3: var(--colab-primary-surface-color, white);\n",
       "                }\n",
       "            </style>\n",
       "            "
      ],
      "text/plain": [
       "<IPython.core.display.HTML object>"
      ]
     },
     "metadata": {},
     "output_type": "display_data"
    }
   ],
   "source": [
    "# Define date range\n",
    "start_date = '2012-01-01'\n",
    "end_date = '2022-12-31'\n",
    "\n",
    "# Load CHIRP precipitation data\n",
    "rainfall = ee.ImageCollection('UCSB-CHG/CHIRPS/DAILY') \\\n",
    "    .filterBounds(feature_cls) \\\n",
    "    .filterDate(start_date, end_date) \\\n",
    "    .select('precipitation') \\\n",
    "    .sum()\n",
    "\n",
    "# Load average temperature data\n",
    "temp = ee.ImageCollection('NOAA/CFSV2/FOR6H') \\\n",
    "    .filterBounds(feature_cls) \\\n",
    "    .filterDate(start_date, end_date) \\\n",
    "    .select('Temperature_height_above_ground') \\\n",
    "    .mean()"
   ]
  },
  {
   "cell_type": "markdown",
   "metadata": {},
   "source": [
    "Topographic wetness Index"
   ]
  },
  {
   "cell_type": "code",
   "execution_count": null,
   "metadata": {},
   "outputs": [],
   "source": [
    "// //GENERATE DATASET\n",
    "\n",
    "// //Elevation\n",
    "// Import the dataset and select the elevation band.\n",
    "var dataset = ee.Image(\"CGIAR/SRTM90_V4\");\n",
    "var elevation = dataset.select('elevation').clip(AOI);\n",
    "\n",
    "\n",
    "// //Slope\n",
    "var slope = ee.Terrain.slope(elevation);\n",
    "\n",
    "\n",
    "\n",
    "// Load the flow accumulation dataset\n",
    "var dataset = ee.Image('WWF/HydroSHEDS/15ACC');\n",
    "var flowAccumulation = dataset.select('b1').clip(AOI);\n",
    "\n",
    "// ge the cell size\n",
    "var cell_size = flowAccumulation.projection().nominalScale().getInfo();\n",
    "\n",
    "// Calculate the slope in radians\n",
    "var slopeRad = (slope.multiply(1.570756)).divide(90);\n",
    "\n",
    "// Calculate slope in tan by removing zero value\n",
    "var tan_slope = slopeRad.gt(0).multiply(slopeRad.tan()).where(slopeRad.gt(0), 0.001);\n",
    "\n",
    "// Calculate Upslope\n",
    "var up_slope = flowAccumulation.add(1).multiply(cell_size);\n",
    "\n",
    "// Calculate the TWI\n",
    "var twi = up_slope.divide(tan_slope).log()\n",
    "// Print the result\n",
    "print('TWI', twi);\n"
   ]
  },
  {
   "cell_type": "markdown",
   "metadata": {},
   "source": [
    "soil Type"
   ]
  },
  {
   "cell_type": "code",
   "execution_count": 20,
   "metadata": {},
   "outputs": [
    {
     "data": {
      "text/html": [
       "\n",
       "            <style>\n",
       "                .geemap-dark {\n",
       "                    --jp-widgets-color: white;\n",
       "                    --jp-widgets-label-color: white;\n",
       "                    --jp-ui-font-color1: white;\n",
       "                    --jp-layout-color2: #454545;\n",
       "                    background-color: #383838;\n",
       "                }\n",
       "                    \n",
       "                .geemap-dark .jupyter-button {\n",
       "                    --jp-layout-color3: #383838;\n",
       "                }\n",
       "                \n",
       "                .geemap-colab {\n",
       "                    background-color: var(--colab-primary-surface-color, white);\n",
       "                }\n",
       "                    \n",
       "                .geemap-colab .jupyter-button {\n",
       "                    --jp-layout-color3: var(--colab-primary-surface-color, white);\n",
       "                }\n",
       "            </style>\n",
       "            "
      ],
      "text/plain": [
       "<IPython.core.display.HTML object>"
      ]
     },
     "metadata": {},
     "output_type": "display_data"
    }
   ],
   "source": [
    "# # Load openland global soil texture data\n",
    "# soil_texture = ee.Image(\"OpenLandMap/SOL/SOL_TEXTURE-CLASS_USDA-TT_M/v02\")  \\\n",
    "#     .filterBounds(feature_cls) \\\n",
    "#     .filterDate(2018-01-01, 2018-01-01) \\\n",
    "#     .mean()\n",
    "\n",
    "# # b0\t42*\t110*\t10\tSoil pH in H2O at 0 cm depth\n",
    "# texture_depth_0cm = soil_texture.select('b0').mean().clip(feature_cls)\n",
    "# # b10\t42*\t110*\t10\tSoil pH in H2O at 10 cm depth\n",
    "# texture_depth_10cm = soil_texture.select('b10').mean().clip(feature_cls)\n",
    "# # b30\t42*\t110*\t10\tSoil pH in H2O at 30 cm depth\n",
    "# texture_depth_30cm = soil_texture.select('b30').mean().clip(feature_cls)\n",
    "# # b60\t42*\t110*\t10\tSoil pH in H2O at 60 cm depth\n",
    "# texture_depth_60cm = soil_texture.select('b60').mean().clip(feature_cls)\n",
    "# # b100\t42*\t110*\t10\tSoil pH in H2O at 100 cm depth\n",
    "# texture_depth_100cm = soil_texture.select('b100').mean().clip(feature_cls)\n",
    "# # b200\t42*\t110*\t10\tSoil pH in H2O at 200 cm depth\n",
    "# texture_depth_200cm = soil_texture.select('b200').mean().clip(feature_cls)"
   ]
  },
  {
   "cell_type": "markdown",
   "metadata": {},
   "source": [
    "Soil pH"
   ]
  },
  {
   "cell_type": "code",
   "execution_count": 21,
   "metadata": {},
   "outputs": [
    {
     "data": {
      "text/html": [
       "\n",
       "            <style>\n",
       "                .geemap-dark {\n",
       "                    --jp-widgets-color: white;\n",
       "                    --jp-widgets-label-color: white;\n",
       "                    --jp-ui-font-color1: white;\n",
       "                    --jp-layout-color2: #454545;\n",
       "                    background-color: #383838;\n",
       "                }\n",
       "                    \n",
       "                .geemap-dark .jupyter-button {\n",
       "                    --jp-layout-color3: #383838;\n",
       "                }\n",
       "                \n",
       "                .geemap-colab {\n",
       "                    background-color: var(--colab-primary-surface-color, white);\n",
       "                }\n",
       "                    \n",
       "                .geemap-colab .jupyter-button {\n",
       "                    --jp-layout-color3: var(--colab-primary-surface-color, white);\n",
       "                }\n",
       "            </style>\n",
       "            "
      ],
      "text/plain": [
       "<IPython.core.display.HTML object>"
      ]
     },
     "metadata": {},
     "output_type": "display_data"
    }
   ],
   "source": [
    "# # Load openland global soil ph data\n",
    "# soil_ph = ee.Image(\"OpenLandMap/SOL/SOL_PH-H2O_USDA-4C1A2A_M/v02\") \\\n",
    "#     .filterBounds(feature_cls) \\\n",
    "#     .filterDate(2018-01-01, 2018-01-01) \\\n",
    "#     .mean()\n",
    "\n",
    "# # b0\t42*\t110*\t10\tSoil pH in H2O at 0 cm depth\n",
    "# ph_depth_0cm = soil_ph.select('b0').mean().clip(feature_cls)\n",
    "# # b10\t42*\t110*\t10\tSoil pH in H2O at 10 cm depth\n",
    "# ph_depth_10cm = soil_ph.select('b10').mean().clip(feature_cls)\n",
    "# # b30\t42*\t110*\t10\tSoil pH in H2O at 30 cm depth\n",
    "# ph_depth_30cm = soil_ph.select('b30').mean().clip(feature_cls)\n",
    "# # b60\t42*\t110*\t10\tSoil pH in H2O at 60 cm depth\n",
    "# ph_depth_60cm = soil_ph.select('b60').mean().clip(feature_cls)\n",
    "# # b100\t42*\t110*\t10\tSoil pH in H2O at 100 cm depth\n",
    "# ph_depth_100cm = soil_ph.select('b100').mean().clip(feature_cls)\n",
    "# # b200\t42*\t110*\t10\tSoil pH in H2O at 200 cm depth\n",
    "# ph_depth_200cm = soil_ph.select('b200').mean().clip(feature_cls)"
   ]
  },
  {
   "cell_type": "markdown",
   "metadata": {},
   "source": [
    "Get Global SOC datasets"
   ]
  },
  {
   "cell_type": "code",
   "execution_count": 22,
   "metadata": {
    "tags": []
   },
   "outputs": [
    {
     "data": {
      "text/html": [
       "\n",
       "            <style>\n",
       "                .geemap-dark {\n",
       "                    --jp-widgets-color: white;\n",
       "                    --jp-widgets-label-color: white;\n",
       "                    --jp-ui-font-color1: white;\n",
       "                    --jp-layout-color2: #454545;\n",
       "                    background-color: #383838;\n",
       "                }\n",
       "                    \n",
       "                .geemap-dark .jupyter-button {\n",
       "                    --jp-layout-color3: #383838;\n",
       "                }\n",
       "                \n",
       "                .geemap-colab {\n",
       "                    background-color: var(--colab-primary-surface-color, white);\n",
       "                }\n",
       "                    \n",
       "                .geemap-colab .jupyter-button {\n",
       "                    --jp-layout-color3: var(--colab-primary-surface-color, white);\n",
       "                }\n",
       "            </style>\n",
       "            "
      ],
      "text/plain": [
       "<IPython.core.display.HTML object>"
      ]
     },
     "metadata": {},
     "output_type": "display_data"
    }
   ],
   "source": [
    "# Global SOC soc dataset\n",
    "soc= ee.Image(\"OpenLandMap/SOL/SOL_ORGANIC-CARBON_USDA-6A1C_M/v02\")\\\n",
    "        .select('b30')\n",
    "\n",
    "# refactor the soc data\n",
    "soc = soc.multiply(0.005)"
   ]
  },
  {
   "cell_type": "markdown",
   "metadata": {},
   "source": [
    "clip all images to features"
   ]
  },
  {
   "cell_type": "code",
   "execution_count": 23,
   "metadata": {
    "tags": []
   },
   "outputs": [
    {
     "data": {
      "text/html": [
       "\n",
       "            <style>\n",
       "                .geemap-dark {\n",
       "                    --jp-widgets-color: white;\n",
       "                    --jp-widgets-label-color: white;\n",
       "                    --jp-ui-font-color1: white;\n",
       "                    --jp-layout-color2: #454545;\n",
       "                    background-color: #383838;\n",
       "                }\n",
       "                    \n",
       "                .geemap-dark .jupyter-button {\n",
       "                    --jp-layout-color3: #383838;\n",
       "                }\n",
       "                \n",
       "                .geemap-colab {\n",
       "                    background-color: var(--colab-primary-surface-color, white);\n",
       "                }\n",
       "                    \n",
       "                .geemap-colab .jupyter-button {\n",
       "                    --jp-layout-color3: var(--colab-primary-surface-color, white);\n",
       "                }\n",
       "            </style>\n",
       "            "
      ],
      "text/plain": [
       "<IPython.core.display.HTML object>"
      ]
     },
     "metadata": {},
     "output_type": "display_data"
    }
   ],
   "source": [
    "# clip all the images load to the study area\n",
    "elevation_clip  = elevation.clip(feature_cls)\n",
    "slope_clip = slope.clip(feature_cls)\n",
    "landcover_clip = landcover.clip(feature_cls)\n",
    "rainfall_clip = rainfall.clip(feature_cls)\n",
    "temp_clip = temp.clip(feature_cls)\n",
    "ndvi_clip = ndvi.clip(feature_cls)\n",
    "# bsi_clip = bsi.clip(feature_cls)\n",
    "soc_clip = soc.clip(feature_cls)\n",
    "lst_clip = LST_image.clip(feature_cls)"
   ]
  },
  {
   "cell_type": "markdown",
   "metadata": {},
   "source": [
    "set Visualization Parameters"
   ]
  },
  {
   "cell_type": "code",
   "execution_count": 24,
   "metadata": {
    "tags": []
   },
   "outputs": [
    {
     "data": {
      "text/html": [
       "\n",
       "            <style>\n",
       "                .geemap-dark {\n",
       "                    --jp-widgets-color: white;\n",
       "                    --jp-widgets-label-color: white;\n",
       "                    --jp-ui-font-color1: white;\n",
       "                    --jp-layout-color2: #454545;\n",
       "                    background-color: #383838;\n",
       "                }\n",
       "                    \n",
       "                .geemap-dark .jupyter-button {\n",
       "                    --jp-layout-color3: #383838;\n",
       "                }\n",
       "                \n",
       "                .geemap-colab {\n",
       "                    background-color: var(--colab-primary-surface-color, white);\n",
       "                }\n",
       "                    \n",
       "                .geemap-colab .jupyter-button {\n",
       "                    --jp-layout-color3: var(--colab-primary-surface-color, white);\n",
       "                }\n",
       "            </style>\n",
       "            "
      ],
      "text/plain": [
       "<IPython.core.display.HTML object>"
      ]
     },
     "metadata": {},
     "output_type": "display_data"
    }
   ],
   "source": [
    "# visualization parameters\n",
    "elevation_viz = {\n",
    "    'min': 0,\n",
    "    'max': 4000,\n",
    "    'palette': ['006633', 'E5FFCC', '662A00', 'D8D8D8', 'F5F5F5']\n",
    "}\n",
    "\n",
    "slope_viz = {\n",
    "    'min': 0,\n",
    "    'max': 60,\n",
    "    'palette': ['brown', 'yellow', 'green']\n",
    "}\n",
    "\n",
    "landcover_viz = {\n",
    "  'min': 0,\n",
    "  'max': 100,\n",
    "  'palette': [\n",
    "      'FC6D26', 'FCAF17', 'E8EB45', '34B334', '4C7EAF',\n",
    "      'B05AFF', 'A56F37', '914D25', 'BFC0C3', 'FFFFFF',\n",
    "  ]\n",
    "}\n",
    "\n",
    "rainfall_viz = {\n",
    "    'min': 0,\n",
    "    'max': 300,\n",
    "    'palette': ['006633', 'E5FFCC', '662A00', 'D8D8D8', 'F5F5F5']\n",
    "}\n",
    "\n",
    "\n",
    "temp_viz = {\n",
    "    'min': 0,\n",
    "    'max': 50,\n",
    "    'palette': ['#0000ff', '#800080', '#00ffff', '#008000', '#ffff00', '#ff0000']\n",
    "}\n",
    "\n",
    "ndvi_viz = {\n",
    "    'min': -1,\n",
    "    'max': 1,\n",
    "    'palette': ['red', 'yellow', 'green']\n",
    "}\n",
    "\n",
    "\n",
    "# bsi_viz = {\n",
    "#     'min': -1,\n",
    "#     'max': 1,\n",
    "#     'palette': ['red', 'yellow', 'green']\n",
    "# }\n",
    "\n",
    "\n",
    "soc_viz = {\n",
    "  'min': 0.0,\n",
    "  'max': 120.0,\n",
    "  'palette': [\n",
    "    \"ffffa0\",\"f7fcb9\",\"d9f0a3\",\"addd8e\",\"78c679\",\"41ab5d\",\n",
    "    \"238443\",\"005b29\",\"004b29\",\"012b13\",\"00120b\",\n",
    "  ]\n",
    "}"
   ]
  },
  {
   "cell_type": "markdown",
   "metadata": {},
   "source": [
    "Add Data to Map layer to visualize all data"
   ]
  },
  {
   "cell_type": "code",
   "execution_count": 25,
   "metadata": {
    "tags": []
   },
   "outputs": [
    {
     "data": {
      "text/html": [
       "\n",
       "            <style>\n",
       "                .geemap-dark {\n",
       "                    --jp-widgets-color: white;\n",
       "                    --jp-widgets-label-color: white;\n",
       "                    --jp-ui-font-color1: white;\n",
       "                    --jp-layout-color2: #454545;\n",
       "                    background-color: #383838;\n",
       "                }\n",
       "                    \n",
       "                .geemap-dark .jupyter-button {\n",
       "                    --jp-layout-color3: #383838;\n",
       "                }\n",
       "                \n",
       "                .geemap-colab {\n",
       "                    background-color: var(--colab-primary-surface-color, white);\n",
       "                }\n",
       "                    \n",
       "                .geemap-colab .jupyter-button {\n",
       "                    --jp-layout-color3: var(--colab-primary-surface-color, white);\n",
       "                }\n",
       "            </style>\n",
       "            "
      ],
      "text/plain": [
       "<IPython.core.display.HTML object>"
      ]
     },
     "metadata": {},
     "output_type": "display_data"
    },
    {
     "data": {
      "application/vnd.jupyter.widget-view+json": {
       "model_id": "eff30fd9203b46c9864bc1b65208d857",
       "version_major": 2,
       "version_minor": 0
      },
      "text/plain": [
       "Map(center=[-10.14095118527972, -48.32883664541774], controls=(WidgetControl(options=['position', 'transparent…"
      ]
     },
     "execution_count": 25,
     "metadata": {},
     "output_type": "execute_result"
    }
   ],
   "source": [
    "#instatiate Map()\n",
    "Map = geemap.Map()\n",
    "# Add all image layer to a basemap\n",
    "Map.addLayer(elevation_clip, elevation_viz, 'Elevation')\n",
    "Map.addLayer(slope_clip, slope_viz, 'Slope')\n",
    "Map.addLayer(landcover_clip, landcover_viz, 'Landcover')\n",
    "Map.addLayer(rainfall_clip, rainfall_viz, 'Rainfall')\n",
    "Map.addLayer(temp_clip, temp_viz, 'Temperature')\n",
    "Map.addLayer(ndvi_clip, ndvi_viz, 'NDVI')\n",
    "# Map.addLayer(bsi_clip, bsi_viz, 'BSI')\n",
    "Map.addLayer(soc_clip, soc_viz,'soc organic carbon content in x 5 g / kg')\n",
    "Map.addLayer(lst_clip, temp_viz, 'LST')\n",
    "\n",
    "# set map center object\n",
    "Map.centerObject(elevation_clip, 5)\n",
    "\n",
    "# call the geemap Map object\n",
    "Map"
   ]
  },
  {
   "cell_type": "markdown",
   "metadata": {},
   "source": [
    "Save imageries locally so that it can be used to create maps"
   ]
  },
  {
   "cell_type": "code",
   "execution_count": 26,
   "metadata": {},
   "outputs": [
    {
     "data": {
      "text/html": [
       "\n",
       "            <style>\n",
       "                .geemap-dark {\n",
       "                    --jp-widgets-color: white;\n",
       "                    --jp-widgets-label-color: white;\n",
       "                    --jp-ui-font-color1: white;\n",
       "                    --jp-layout-color2: #454545;\n",
       "                    background-color: #383838;\n",
       "                }\n",
       "                    \n",
       "                .geemap-dark .jupyter-button {\n",
       "                    --jp-layout-color3: #383838;\n",
       "                }\n",
       "                \n",
       "                .geemap-colab {\n",
       "                    background-color: var(--colab-primary-surface-color, white);\n",
       "                }\n",
       "                    \n",
       "                .geemap-colab .jupyter-button {\n",
       "                    --jp-layout-color3: var(--colab-primary-surface-color, white);\n",
       "                }\n",
       "            </style>\n",
       "            "
      ],
      "text/plain": [
       "<IPython.core.display.HTML object>"
      ]
     },
     "metadata": {},
     "output_type": "display_data"
    },
    {
     "name": "stdout",
     "output_type": "stream",
     "text": [
      "Exporting elevation...\n",
      "output_images\\elevation.tif already exists.\n",
      "Exporting slope...\n",
      "output_images\\slope.tif already exists.\n",
      "Exporting landcover...\n",
      "output_images\\landcover.tif already exists.\n",
      "Exporting rainfall...\n",
      "output_images\\rainfall.tif already exists.\n",
      "Exporting lst...\n",
      "output_images\\lst.tif already exists.\n",
      "Exporting ndvi...\n",
      "output_images\\ndvi.tif already exists.\n",
      "Exporting soc...\n",
      "output_images\\soc.tif already exists.\n"
     ]
    }
   ],
   "source": [
    "from utils.export_ee_image import export_ee_image_list\n",
    "\n",
    "raster_list = [\n",
    "    elevation_clip,slope_clip, landcover_clip,\n",
    "    rainfall_clip, lst_clip,\n",
    "    ndvi_clip, soc_clip,\n",
    "]\n",
    "\n",
    "output_list = [\n",
    "    \"elevation\",\"slope\", \"landcover\",\n",
    "    \"rainfall\", \"lst\",\n",
    "    \"ndvi\", \"soc\",\n",
    "]\n",
    "\n",
    "# checking if the directory \n",
    "if not os.path.exists(\"output_images\"):      \n",
    "    # if the directory is not present, then create it. \n",
    "    os.makedirs(\"output_images\") \n",
    "    \n",
    "out_folder='output_images'\n",
    "scale = 5000\n",
    "region=feature_cls\n",
    "\n",
    "export_ee_image_list(raster_list,output_list,\n",
    "                      out_folder,scale,feature_cls)"
   ]
  },
  {
   "cell_type": "markdown",
   "metadata": {},
   "source": [
    "Geneare random smapling points within the aoi"
   ]
  },
  {
   "cell_type": "code",
   "execution_count": 27,
   "metadata": {},
   "outputs": [
    {
     "data": {
      "text/html": [
       "\n",
       "            <style>\n",
       "                .geemap-dark {\n",
       "                    --jp-widgets-color: white;\n",
       "                    --jp-widgets-label-color: white;\n",
       "                    --jp-ui-font-color1: white;\n",
       "                    --jp-layout-color2: #454545;\n",
       "                    background-color: #383838;\n",
       "                }\n",
       "                    \n",
       "                .geemap-dark .jupyter-button {\n",
       "                    --jp-layout-color3: #383838;\n",
       "                }\n",
       "                \n",
       "                .geemap-colab {\n",
       "                    background-color: var(--colab-primary-surface-color, white);\n",
       "                }\n",
       "                    \n",
       "                .geemap-colab .jupyter-button {\n",
       "                    --jp-layout-color3: var(--colab-primary-surface-color, white);\n",
       "                }\n",
       "            </style>\n",
       "            "
      ],
      "text/plain": [
       "<IPython.core.display.HTML object>"
      ]
     },
     "metadata": {},
     "output_type": "display_data"
    },
    {
     "data": {
      "text/html": [
       "<div>\n",
       "<style scoped>\n",
       "    .dataframe tbody tr th:only-of-type {\n",
       "        vertical-align: middle;\n",
       "    }\n",
       "\n",
       "    .dataframe tbody tr th {\n",
       "        vertical-align: top;\n",
       "    }\n",
       "\n",
       "    .dataframe thead th {\n",
       "        text-align: right;\n",
       "    }\n",
       "</style>\n",
       "<table border=\"1\" class=\"dataframe\">\n",
       "  <thead>\n",
       "    <tr style=\"text-align: right;\">\n",
       "      <th></th>\n",
       "      <th>Year</th>\n",
       "      <th>Layer</th>\n",
       "      <th>X</th>\n",
       "      <th>Y</th>\n",
       "      <th>Upper_dept</th>\n",
       "      <th>Lower_dept</th>\n",
       "      <th>Municipali</th>\n",
       "      <th>State</th>\n",
       "      <th>State_UF</th>\n",
       "      <th>Eng_Veg</th>\n",
       "      <th>...</th>\n",
       "      <th>pH_H2O</th>\n",
       "      <th>pH_KCl</th>\n",
       "      <th>K_mmolkg</th>\n",
       "      <th>Na_mmolkg</th>\n",
       "      <th>Al_mmolkg</th>\n",
       "      <th>CEC_Ph7_mm</th>\n",
       "      <th>SB_mmolkg</th>\n",
       "      <th>V</th>\n",
       "      <th>m</th>\n",
       "      <th>geometry</th>\n",
       "    </tr>\n",
       "  </thead>\n",
       "  <tbody>\n",
       "    <tr>\n",
       "      <th>0</th>\n",
       "      <td>1983</td>\n",
       "      <td>B</td>\n",
       "      <td>-46.933330</td>\n",
       "      <td>-12.600000</td>\n",
       "      <td>80</td>\n",
       "      <td>100</td>\n",
       "      <td>Arraias</td>\n",
       "      <td>None</td>\n",
       "      <td>TO</td>\n",
       "      <td>None</td>\n",
       "      <td>...</td>\n",
       "      <td>4.4</td>\n",
       "      <td>0.0</td>\n",
       "      <td>0.5</td>\n",
       "      <td>0.2</td>\n",
       "      <td>37.0</td>\n",
       "      <td>81.000004</td>\n",
       "      <td>10.000000</td>\n",
       "      <td>12</td>\n",
       "      <td>0</td>\n",
       "      <td>POINT (-46.93333 -12.60000)</td>\n",
       "    </tr>\n",
       "    <tr>\n",
       "      <th>1</th>\n",
       "      <td>1983</td>\n",
       "      <td>A</td>\n",
       "      <td>-46.933330</td>\n",
       "      <td>-12.600000</td>\n",
       "      <td>0</td>\n",
       "      <td>20</td>\n",
       "      <td>Arraias</td>\n",
       "      <td>None</td>\n",
       "      <td>TO</td>\n",
       "      <td>None</td>\n",
       "      <td>...</td>\n",
       "      <td>4.7</td>\n",
       "      <td>0.0</td>\n",
       "      <td>2.9</td>\n",
       "      <td>1.9</td>\n",
       "      <td>17.0</td>\n",
       "      <td>81.000004</td>\n",
       "      <td>22.000000</td>\n",
       "      <td>27</td>\n",
       "      <td>0</td>\n",
       "      <td>POINT (-46.93333 -12.60000)</td>\n",
       "    </tr>\n",
       "    <tr>\n",
       "      <th>2</th>\n",
       "      <td>1983</td>\n",
       "      <td>A3</td>\n",
       "      <td>-47.047838</td>\n",
       "      <td>-12.817077</td>\n",
       "      <td>25</td>\n",
       "      <td>38</td>\n",
       "      <td>Arraias</td>\n",
       "      <td>None</td>\n",
       "      <td>TO</td>\n",
       "      <td>None</td>\n",
       "      <td>...</td>\n",
       "      <td>6.0</td>\n",
       "      <td>4.7</td>\n",
       "      <td>2.3</td>\n",
       "      <td>0.3</td>\n",
       "      <td>0.0</td>\n",
       "      <td>156.999998</td>\n",
       "      <td>101.999998</td>\n",
       "      <td>65</td>\n",
       "      <td>0</td>\n",
       "      <td>POINT (-47.04784 -12.81708)</td>\n",
       "    </tr>\n",
       "    <tr>\n",
       "      <th>3</th>\n",
       "      <td>1983</td>\n",
       "      <td>B1t</td>\n",
       "      <td>-47.047838</td>\n",
       "      <td>-12.817077</td>\n",
       "      <td>38</td>\n",
       "      <td>60</td>\n",
       "      <td>Arraias</td>\n",
       "      <td>None</td>\n",
       "      <td>TO</td>\n",
       "      <td>None</td>\n",
       "      <td>...</td>\n",
       "      <td>6.2</td>\n",
       "      <td>4.7</td>\n",
       "      <td>1.7</td>\n",
       "      <td>0.3</td>\n",
       "      <td>0.0</td>\n",
       "      <td>128.999996</td>\n",
       "      <td>91.000004</td>\n",
       "      <td>71</td>\n",
       "      <td>0</td>\n",
       "      <td>POINT (-47.04784 -12.81708)</td>\n",
       "    </tr>\n",
       "    <tr>\n",
       "      <th>4</th>\n",
       "      <td>1983</td>\n",
       "      <td>B22t</td>\n",
       "      <td>-47.047838</td>\n",
       "      <td>-12.817077</td>\n",
       "      <td>80</td>\n",
       "      <td>120</td>\n",
       "      <td>Arraias</td>\n",
       "      <td>None</td>\n",
       "      <td>TO</td>\n",
       "      <td>None</td>\n",
       "      <td>...</td>\n",
       "      <td>6.3</td>\n",
       "      <td>4.7</td>\n",
       "      <td>1.5</td>\n",
       "      <td>0.3</td>\n",
       "      <td>1.0</td>\n",
       "      <td>116.999998</td>\n",
       "      <td>86.999998</td>\n",
       "      <td>74</td>\n",
       "      <td>1</td>\n",
       "      <td>POINT (-47.04784 -12.81708)</td>\n",
       "    </tr>\n",
       "  </tbody>\n",
       "</table>\n",
       "<p>5 rows × 29 columns</p>\n",
       "</div>"
      ],
      "text/plain": [
       "   Year Layer          X          Y Upper_dept  Lower_dept Municipali State  \\\n",
       "0  1983     B -46.933330 -12.600000         80         100    Arraias  None   \n",
       "1  1983     A -46.933330 -12.600000          0          20    Arraias  None   \n",
       "2  1983    A3 -47.047838 -12.817077         25          38    Arraias  None   \n",
       "3  1983   B1t -47.047838 -12.817077         38          60    Arraias  None   \n",
       "4  1983  B22t -47.047838 -12.817077         80         120    Arraias  None   \n",
       "\n",
       "  State_UF Eng_Veg  ... pH_H2O pH_KCl  K_mmolkg  Na_mmolkg  Al_mmolkg  \\\n",
       "0       TO    None  ...    4.4    0.0       0.5        0.2       37.0   \n",
       "1       TO    None  ...    4.7    0.0       2.9        1.9       17.0   \n",
       "2       TO    None  ...    6.0    4.7       2.3        0.3        0.0   \n",
       "3       TO    None  ...    6.2    4.7       1.7        0.3        0.0   \n",
       "4       TO    None  ...    6.3    4.7       1.5        0.3        1.0   \n",
       "\n",
       "   CEC_Ph7_mm   SB_mmolkg   V  m                     geometry  \n",
       "0   81.000004   10.000000  12  0  POINT (-46.93333 -12.60000)  \n",
       "1   81.000004   22.000000  27  0  POINT (-46.93333 -12.60000)  \n",
       "2  156.999998  101.999998  65  0  POINT (-47.04784 -12.81708)  \n",
       "3  128.999996   91.000004  71  0  POINT (-47.04784 -12.81708)  \n",
       "4  116.999998   86.999998  74  1  POINT (-47.04784 -12.81708)  \n",
       "\n",
       "[5 rows x 29 columns]"
      ]
     },
     "execution_count": 27,
     "metadata": {},
     "output_type": "execute_result"
    }
   ],
   "source": [
    "# load tsampling point data collected on the field\n",
    "point_data = gpd.read_file('data/tocantin_sampling_points.shp')\n",
    "point_data.head()"
   ]
  },
  {
   "cell_type": "code",
   "execution_count": 28,
   "metadata": {},
   "outputs": [
    {
     "data": {
      "text/html": [
       "\n",
       "            <style>\n",
       "                .geemap-dark {\n",
       "                    --jp-widgets-color: white;\n",
       "                    --jp-widgets-label-color: white;\n",
       "                    --jp-ui-font-color1: white;\n",
       "                    --jp-layout-color2: #454545;\n",
       "                    background-color: #383838;\n",
       "                }\n",
       "                    \n",
       "                .geemap-dark .jupyter-button {\n",
       "                    --jp-layout-color3: #383838;\n",
       "                }\n",
       "                \n",
       "                .geemap-colab {\n",
       "                    background-color: var(--colab-primary-surface-color, white);\n",
       "                }\n",
       "                    \n",
       "                .geemap-colab .jupyter-button {\n",
       "                    --jp-layout-color3: var(--colab-primary-surface-color, white);\n",
       "                }\n",
       "            </style>\n",
       "            "
      ],
      "text/plain": [
       "<IPython.core.display.HTML object>"
      ]
     },
     "metadata": {},
     "output_type": "display_data"
    },
    {
     "data": {
      "image/png": "[encoded data removed]",
      "text/plain": [
       "<Figure size 1000x1200 with 1 Axes>"
      ]
     },
     "metadata": {},
     "output_type": "display_data"
    }
   ],
   "source": [
    "# plot the random points to see the distribution\n",
    "fig = plt.figure(figsize=(10, 12))\n",
    "ax = fig.add_subplot(1, 1, 1)\n",
    "ax = boundary.plot(ax=ax, linewidth=2, color='white', edgecolor='0.8')\n",
    "point_data.plot(ax=ax, markersize=5, color='green');"
   ]
  },
  {
   "cell_type": "markdown",
   "metadata": {},
   "source": [
    "#### Extract the dependent raster varibale data to the sampling points "
   ]
  },
  {
   "cell_type": "code",
   "execution_count": 29,
   "metadata": {},
   "outputs": [
    {
     "data": {
      "text/html": [
       "\n",
       "            <style>\n",
       "                .geemap-dark {\n",
       "                    --jp-widgets-color: white;\n",
       "                    --jp-widgets-label-color: white;\n",
       "                    --jp-ui-font-color1: white;\n",
       "                    --jp-layout-color2: #454545;\n",
       "                    background-color: #383838;\n",
       "                }\n",
       "                    \n",
       "                .geemap-dark .jupyter-button {\n",
       "                    --jp-layout-color3: #383838;\n",
       "                }\n",
       "                \n",
       "                .geemap-colab {\n",
       "                    background-color: var(--colab-primary-surface-color, white);\n",
       "                }\n",
       "                    \n",
       "                .geemap-colab .jupyter-button {\n",
       "                    --jp-layout-color3: var(--colab-primary-surface-color, white);\n",
       "                }\n",
       "            </style>\n",
       "            "
      ],
      "text/plain": [
       "<IPython.core.display.HTML object>"
      ]
     },
     "metadata": {},
     "output_type": "display_data"
    }
   ],
   "source": [
    "from utils.extract_raster_values import get_value_to_point\n",
    "import rasterio as rio\n",
    "\n",
    "# use raterio to load all the data\n",
    "def open_image(image_path:str):\n",
    "    image =  rio.open(image_path)\n",
    "    return image\n",
    "     \n",
    "elevation = open_image('output_images/elevation.tif') \n",
    "slope = open_image('output_images/slope.tif') \n",
    "landcover = open_image('output_images/landcover.tif') \n",
    "ndvi = open_image('output_images/ndvi.tif') \n",
    "lst = open_image('output_images/lst.tif') \n",
    "soc = open_image('output_images/soc.tif') \n",
    "\n",
    "raster_list = [elevation, slope, landcover,ndvi,lst,soc]\n",
    "\n",
    "point_data = get_value_to_point(point_data, raster_list) \n",
    "\n",
    "# Rename Fields\n",
    "# cols = ['geometry','elevation','slope','landcover','ndvi','lst','soc']\n",
    "# point_data.columns=cols"
   ]
  },
  {
   "cell_type": "code",
   "execution_count": 30,
   "metadata": {},
   "outputs": [
    {
     "data": {
      "text/html": [
       "\n",
       "            <style>\n",
       "                .geemap-dark {\n",
       "                    --jp-widgets-color: white;\n",
       "                    --jp-widgets-label-color: white;\n",
       "                    --jp-ui-font-color1: white;\n",
       "                    --jp-layout-color2: #454545;\n",
       "                    background-color: #383838;\n",
       "                }\n",
       "                    \n",
       "                .geemap-dark .jupyter-button {\n",
       "                    --jp-layout-color3: #383838;\n",
       "                }\n",
       "                \n",
       "                .geemap-colab {\n",
       "                    background-color: var(--colab-primary-surface-color, white);\n",
       "                }\n",
       "                    \n",
       "                .geemap-colab .jupyter-button {\n",
       "                    --jp-layout-color3: var(--colab-primary-surface-color, white);\n",
       "                }\n",
       "            </style>\n",
       "            "
      ],
      "text/plain": [
       "<IPython.core.display.HTML object>"
      ]
     },
     "metadata": {},
     "output_type": "display_data"
    },
    {
     "data": {
      "text/html": [
       "<div>\n",
       "<style scoped>\n",
       "    .dataframe tbody tr th:only-of-type {\n",
       "        vertical-align: middle;\n",
       "    }\n",
       "\n",
       "    .dataframe tbody tr th {\n",
       "        vertical-align: top;\n",
       "    }\n",
       "\n",
       "    .dataframe thead th {\n",
       "        text-align: right;\n",
       "    }\n",
       "</style>\n",
       "<table border=\"1\" class=\"dataframe\">\n",
       "  <thead>\n",
       "    <tr style=\"text-align: right;\">\n",
       "      <th></th>\n",
       "      <th>Year</th>\n",
       "      <th>Layer</th>\n",
       "      <th>X</th>\n",
       "      <th>Y</th>\n",
       "      <th>Upper_dept</th>\n",
       "      <th>Lower_dept</th>\n",
       "      <th>Municipali</th>\n",
       "      <th>State</th>\n",
       "      <th>State_UF</th>\n",
       "      <th>Eng_Veg</th>\n",
       "      <th>...</th>\n",
       "      <th>SB_mmolkg</th>\n",
       "      <th>V</th>\n",
       "      <th>m</th>\n",
       "      <th>geometry</th>\n",
       "      <th>output_images/elevation.tif</th>\n",
       "      <th>output_images/slope.tif</th>\n",
       "      <th>output_images/landcover.tif</th>\n",
       "      <th>output_images/ndvi.tif</th>\n",
       "      <th>output_images/lst.tif</th>\n",
       "      <th>output_images/soc.tif</th>\n",
       "    </tr>\n",
       "  </thead>\n",
       "  <tbody>\n",
       "    <tr>\n",
       "      <th>0</th>\n",
       "      <td>1983</td>\n",
       "      <td>B</td>\n",
       "      <td>-46.933330</td>\n",
       "      <td>-12.600000</td>\n",
       "      <td>80</td>\n",
       "      <td>100</td>\n",
       "      <td>Arraias</td>\n",
       "      <td>None</td>\n",
       "      <td>TO</td>\n",
       "      <td>None</td>\n",
       "      <td>...</td>\n",
       "      <td>10.000000</td>\n",
       "      <td>12</td>\n",
       "      <td>0</td>\n",
       "      <td>POINT (-46.93333 -12.60000)</td>\n",
       "      <td>610</td>\n",
       "      <td>2.062893</td>\n",
       "      <td>10</td>\n",
       "      <td>0.554293</td>\n",
       "      <td>31.268737</td>\n",
       "      <td>0.01</td>\n",
       "    </tr>\n",
       "    <tr>\n",
       "      <th>1</th>\n",
       "      <td>1983</td>\n",
       "      <td>A</td>\n",
       "      <td>-46.933330</td>\n",
       "      <td>-12.600000</td>\n",
       "      <td>0</td>\n",
       "      <td>20</td>\n",
       "      <td>Arraias</td>\n",
       "      <td>None</td>\n",
       "      <td>TO</td>\n",
       "      <td>None</td>\n",
       "      <td>...</td>\n",
       "      <td>22.000000</td>\n",
       "      <td>27</td>\n",
       "      <td>0</td>\n",
       "      <td>POINT (-46.93333 -12.60000)</td>\n",
       "      <td>610</td>\n",
       "      <td>2.062893</td>\n",
       "      <td>10</td>\n",
       "      <td>0.554293</td>\n",
       "      <td>31.268737</td>\n",
       "      <td>0.01</td>\n",
       "    </tr>\n",
       "    <tr>\n",
       "      <th>2</th>\n",
       "      <td>1983</td>\n",
       "      <td>A3</td>\n",
       "      <td>-47.047838</td>\n",
       "      <td>-12.817077</td>\n",
       "      <td>25</td>\n",
       "      <td>38</td>\n",
       "      <td>Arraias</td>\n",
       "      <td>None</td>\n",
       "      <td>TO</td>\n",
       "      <td>None</td>\n",
       "      <td>...</td>\n",
       "      <td>101.999998</td>\n",
       "      <td>65</td>\n",
       "      <td>0</td>\n",
       "      <td>POINT (-47.04784 -12.81708)</td>\n",
       "      <td>422</td>\n",
       "      <td>0.493767</td>\n",
       "      <td>20</td>\n",
       "      <td>0.456475</td>\n",
       "      <td>31.438270</td>\n",
       "      <td>0.01</td>\n",
       "    </tr>\n",
       "    <tr>\n",
       "      <th>3</th>\n",
       "      <td>1983</td>\n",
       "      <td>B1t</td>\n",
       "      <td>-47.047838</td>\n",
       "      <td>-12.817077</td>\n",
       "      <td>38</td>\n",
       "      <td>60</td>\n",
       "      <td>Arraias</td>\n",
       "      <td>None</td>\n",
       "      <td>TO</td>\n",
       "      <td>None</td>\n",
       "      <td>...</td>\n",
       "      <td>91.000004</td>\n",
       "      <td>71</td>\n",
       "      <td>0</td>\n",
       "      <td>POINT (-47.04784 -12.81708)</td>\n",
       "      <td>422</td>\n",
       "      <td>0.493767</td>\n",
       "      <td>20</td>\n",
       "      <td>0.456475</td>\n",
       "      <td>31.438270</td>\n",
       "      <td>0.01</td>\n",
       "    </tr>\n",
       "    <tr>\n",
       "      <th>4</th>\n",
       "      <td>1983</td>\n",
       "      <td>B22t</td>\n",
       "      <td>-47.047838</td>\n",
       "      <td>-12.817077</td>\n",
       "      <td>80</td>\n",
       "      <td>120</td>\n",
       "      <td>Arraias</td>\n",
       "      <td>None</td>\n",
       "      <td>TO</td>\n",
       "      <td>None</td>\n",
       "      <td>...</td>\n",
       "      <td>86.999998</td>\n",
       "      <td>74</td>\n",
       "      <td>1</td>\n",
       "      <td>POINT (-47.04784 -12.81708)</td>\n",
       "      <td>422</td>\n",
       "      <td>0.493767</td>\n",
       "      <td>20</td>\n",
       "      <td>0.456475</td>\n",
       "      <td>31.438270</td>\n",
       "      <td>0.01</td>\n",
       "    </tr>\n",
       "  </tbody>\n",
       "</table>\n",
       "<p>5 rows × 35 columns</p>\n",
       "</div>"
      ],
      "text/plain": [
       "   Year Layer          X          Y Upper_dept  Lower_dept Municipali State  \\\n",
       "0  1983     B -46.933330 -12.600000         80         100    Arraias  None   \n",
       "1  1983     A -46.933330 -12.600000          0          20    Arraias  None   \n",
       "2  1983    A3 -47.047838 -12.817077         25          38    Arraias  None   \n",
       "3  1983   B1t -47.047838 -12.817077         38          60    Arraias  None   \n",
       "4  1983  B22t -47.047838 -12.817077         80         120    Arraias  None   \n",
       "\n",
       "  State_UF Eng_Veg  ...   SB_mmolkg   V  m                     geometry  \\\n",
       "0       TO    None  ...   10.000000  12  0  POINT (-46.93333 -12.60000)   \n",
       "1       TO    None  ...   22.000000  27  0  POINT (-46.93333 -12.60000)   \n",
       "2       TO    None  ...  101.999998  65  0  POINT (-47.04784 -12.81708)   \n",
       "3       TO    None  ...   91.000004  71  0  POINT (-47.04784 -12.81708)   \n",
       "4       TO    None  ...   86.999998  74  1  POINT (-47.04784 -12.81708)   \n",
       "\n",
       "   output_images/elevation.tif  output_images/slope.tif  \\\n",
       "0                          610                 2.062893   \n",
       "1                          610                 2.062893   \n",
       "2                          422                 0.493767   \n",
       "3                          422                 0.493767   \n",
       "4                          422                 0.493767   \n",
       "\n",
       "   output_images/landcover.tif  output_images/ndvi.tif  output_images/lst.tif  \\\n",
       "0                           10                0.554293              31.268737   \n",
       "1                           10                0.554293              31.268737   \n",
       "2                           20                0.456475              31.438270   \n",
       "3                           20                0.456475              31.438270   \n",
       "4                           20                0.456475              31.438270   \n",
       "\n",
       "   output_images/soc.tif  \n",
       "0                   0.01  \n",
       "1                   0.01  \n",
       "2                   0.01  \n",
       "3                   0.01  \n",
       "4                   0.01  \n",
       "\n",
       "[5 rows x 35 columns]"
      ]
     },
     "execution_count": 30,
     "metadata": {},
     "output_type": "execute_result"
    }
   ],
   "source": [
    "# read the dataset to view the addeded columns\n",
    "point_data.head()"
   ]
  },
  {
   "cell_type": "markdown",
   "metadata": {
    "id": "2BvOFp7bIDja"
   },
   "source": [
    "### Exploratory Data Analysis\n",
    "- Now lets explore our dataset, we will check for missing value, plot our data and also check the correlation between the dataset\n",
    "- Examine the relattion among the various varaible that will be sued to build our model\n",
    "- perform OLS and correlelation analysis to understand the data better"
   ]
  },
  {
   "cell_type": "code",
   "execution_count": 31,
   "metadata": {
    "colab": {
     "base_uri": "https://localhost:8080/"
    },
    "id": "o_e7QNltIDjc",
    "outputId": "31a05799-4c06-49f0-c017-6aa4909fcfe0"
   },
   "outputs": [
    {
     "data": {
      "text/html": [
       "\n",
       "            <style>\n",
       "                .geemap-dark {\n",
       "                    --jp-widgets-color: white;\n",
       "                    --jp-widgets-label-color: white;\n",
       "                    --jp-ui-font-color1: white;\n",
       "                    --jp-layout-color2: #454545;\n",
       "                    background-color: #383838;\n",
       "                }\n",
       "                    \n",
       "                .geemap-dark .jupyter-button {\n",
       "                    --jp-layout-color3: #383838;\n",
       "                }\n",
       "                \n",
       "                .geemap-colab {\n",
       "                    background-color: var(--colab-primary-surface-color, white);\n",
       "                }\n",
       "                    \n",
       "                .geemap-colab .jupyter-button {\n",
       "                    --jp-layout-color3: var(--colab-primary-surface-color, white);\n",
       "                }\n",
       "            </style>\n",
       "            "
      ],
      "text/plain": [
       "<IPython.core.display.HTML object>"
      ]
     },
     "metadata": {},
     "output_type": "display_data"
    },
    {
     "name": "stdout",
     "output_type": "stream",
     "text": [
      "Year                           0\n",
      "Layer                          0\n",
      "X                              0\n",
      "Y                              0\n",
      "Upper_dept                     0\n",
      "Lower_dept                     0\n",
      "Municipali                     0\n",
      "State                          5\n",
      "State_UF                       0\n",
      "Eng_Veg                        5\n",
      "Vegetation                     0\n",
      "Bioma                          5\n",
      "Coarse_San                     0\n",
      "Fine_Sand_                     0\n",
      "Sand_gkg                       0\n",
      "Silt_gkg                       0\n",
      "Clay_gkg                       0\n",
      "SOC_gkg                        0\n",
      "OM_gkg                         0\n",
      "pH_H2O                         0\n",
      "pH_KCl                         0\n",
      "K_mmolkg                       0\n",
      "Na_mmolkg                      0\n",
      "Al_mmolkg                      0\n",
      "CEC_Ph7_mm                     0\n",
      "SB_mmolkg                      0\n",
      "V                              0\n",
      "m                              0\n",
      "geometry                       0\n",
      "output_images/elevation.tif    0\n",
      "output_images/slope.tif        0\n",
      "output_images/landcover.tif    0\n",
      "output_images/ndvi.tif         0\n",
      "output_images/lst.tif          0\n",
      "output_images/soc.tif          0\n",
      "dtype: int64\n"
     ]
    }
   ],
   "source": [
    "#check that there is no no data values in the dataset\n",
    "print(point_data.head().isnull().sum())"
   ]
  },
  {
   "cell_type": "code",
   "execution_count": 32,
   "metadata": {
    "colab": {
     "base_uri": "https://localhost:8080/",
     "height": 300
    },
    "id": "NIY6YLcpG0j-",
    "outputId": "4dcc6314-dc3d-46eb-d869-158f8bd0b8ec"
   },
   "outputs": [
    {
     "data": {
      "text/html": [
       "\n",
       "            <style>\n",
       "                .geemap-dark {\n",
       "                    --jp-widgets-color: white;\n",
       "                    --jp-widgets-label-color: white;\n",
       "                    --jp-ui-font-color1: white;\n",
       "                    --jp-layout-color2: #454545;\n",
       "                    background-color: #383838;\n",
       "                }\n",
       "                    \n",
       "                .geemap-dark .jupyter-button {\n",
       "                    --jp-layout-color3: #383838;\n",
       "                }\n",
       "                \n",
       "                .geemap-colab {\n",
       "                    background-color: var(--colab-primary-surface-color, white);\n",
       "                }\n",
       "                    \n",
       "                .geemap-colab .jupyter-button {\n",
       "                    --jp-layout-color3: var(--colab-primary-surface-color, white);\n",
       "                }\n",
       "            </style>\n",
       "            "
      ],
      "text/plain": [
       "<IPython.core.display.HTML object>"
      ]
     },
     "metadata": {},
     "output_type": "display_data"
    },
    {
     "data": {
      "text/html": [
       "<div>\n",
       "<style scoped>\n",
       "    .dataframe tbody tr th:only-of-type {\n",
       "        vertical-align: middle;\n",
       "    }\n",
       "\n",
       "    .dataframe tbody tr th {\n",
       "        vertical-align: top;\n",
       "    }\n",
       "\n",
       "    .dataframe thead th {\n",
       "        text-align: right;\n",
       "    }\n",
       "</style>\n",
       "<table border=\"1\" class=\"dataframe\">\n",
       "  <thead>\n",
       "    <tr style=\"text-align: right;\">\n",
       "      <th></th>\n",
       "      <th>Year</th>\n",
       "      <th>X</th>\n",
       "      <th>Y</th>\n",
       "      <th>Lower_dept</th>\n",
       "      <th>Coarse_San</th>\n",
       "      <th>Fine_Sand_</th>\n",
       "      <th>Sand_gkg</th>\n",
       "      <th>Silt_gkg</th>\n",
       "      <th>Clay_gkg</th>\n",
       "      <th>SOC_gkg</th>\n",
       "      <th>...</th>\n",
       "      <th>CEC_Ph7_mm</th>\n",
       "      <th>SB_mmolkg</th>\n",
       "      <th>V</th>\n",
       "      <th>m</th>\n",
       "      <th>output_images/elevation.tif</th>\n",
       "      <th>output_images/slope.tif</th>\n",
       "      <th>output_images/landcover.tif</th>\n",
       "      <th>output_images/ndvi.tif</th>\n",
       "      <th>output_images/lst.tif</th>\n",
       "      <th>output_images/soc.tif</th>\n",
       "    </tr>\n",
       "  </thead>\n",
       "  <tbody>\n",
       "    <tr>\n",
       "      <th>count</th>\n",
       "      <td>471.000000</td>\n",
       "      <td>471.000000</td>\n",
       "      <td>471.000000</td>\n",
       "      <td>471.000000</td>\n",
       "      <td>471.000000</td>\n",
       "      <td>471.000000</td>\n",
       "      <td>471.000000</td>\n",
       "      <td>471.000000</td>\n",
       "      <td>471.000000</td>\n",
       "      <td>471.000000</td>\n",
       "      <td>...</td>\n",
       "      <td>471.000000</td>\n",
       "      <td>471.000000</td>\n",
       "      <td>471.000000</td>\n",
       "      <td>471.000000</td>\n",
       "      <td>471.000000</td>\n",
       "      <td>471.000000</td>\n",
       "      <td>471.000000</td>\n",
       "      <td>471.000000</td>\n",
       "      <td>471.000000</td>\n",
       "      <td>471.000000</td>\n",
       "    </tr>\n",
       "    <tr>\n",
       "      <th>mean</th>\n",
       "      <td>991.908705</td>\n",
       "      <td>-48.338499</td>\n",
       "      <td>-10.850269</td>\n",
       "      <td>62.658174</td>\n",
       "      <td>112.329087</td>\n",
       "      <td>98.142251</td>\n",
       "      <td>439.329087</td>\n",
       "      <td>207.445860</td>\n",
       "      <td>297.231423</td>\n",
       "      <td>10.299788</td>\n",
       "      <td>...</td>\n",
       "      <td>76.264544</td>\n",
       "      <td>21.203822</td>\n",
       "      <td>30.696391</td>\n",
       "      <td>31.872611</td>\n",
       "      <td>317.394904</td>\n",
       "      <td>0.844248</td>\n",
       "      <td>24.543524</td>\n",
       "      <td>0.460365</td>\n",
       "      <td>33.026143</td>\n",
       "      <td>0.009321</td>\n",
       "    </tr>\n",
       "    <tr>\n",
       "      <th>std</th>\n",
       "      <td>990.860854</td>\n",
       "      <td>1.188245</td>\n",
       "      <td>2.160043</td>\n",
       "      <td>50.780419</td>\n",
       "      <td>172.059799</td>\n",
       "      <td>162.598772</td>\n",
       "      <td>290.401725</td>\n",
       "      <td>152.291367</td>\n",
       "      <td>206.495561</td>\n",
       "      <td>12.456217</td>\n",
       "      <td>...</td>\n",
       "      <td>75.720635</td>\n",
       "      <td>51.986136</td>\n",
       "      <td>29.698613</td>\n",
       "      <td>32.385391</td>\n",
       "      <td>140.425179</td>\n",
       "      <td>1.023857</td>\n",
       "      <td>12.228051</td>\n",
       "      <td>0.071265</td>\n",
       "      <td>2.222517</td>\n",
       "      <td>0.002433</td>\n",
       "    </tr>\n",
       "    <tr>\n",
       "      <th>min</th>\n",
       "      <td>0.000000</td>\n",
       "      <td>-50.650000</td>\n",
       "      <td>-13.400000</td>\n",
       "      <td>0.000000</td>\n",
       "      <td>0.000000</td>\n",
       "      <td>0.000000</td>\n",
       "      <td>0.000000</td>\n",
       "      <td>0.000000</td>\n",
       "      <td>0.000000</td>\n",
       "      <td>0.000000</td>\n",
       "      <td>...</td>\n",
       "      <td>0.000000</td>\n",
       "      <td>0.000000</td>\n",
       "      <td>0.000000</td>\n",
       "      <td>0.000000</td>\n",
       "      <td>117.000000</td>\n",
       "      <td>0.000000</td>\n",
       "      <td>10.000000</td>\n",
       "      <td>0.289625</td>\n",
       "      <td>27.302466</td>\n",
       "      <td>0.005000</td>\n",
       "    </tr>\n",
       "    <tr>\n",
       "      <th>25%</th>\n",
       "      <td>0.000000</td>\n",
       "      <td>-49.150000</td>\n",
       "      <td>-12.600000</td>\n",
       "      <td>20.000000</td>\n",
       "      <td>0.000000</td>\n",
       "      <td>0.000000</td>\n",
       "      <td>170.000000</td>\n",
       "      <td>82.000000</td>\n",
       "      <td>120.000000</td>\n",
       "      <td>3.000000</td>\n",
       "      <td>...</td>\n",
       "      <td>21.550000</td>\n",
       "      <td>0.000000</td>\n",
       "      <td>7.000000</td>\n",
       "      <td>0.000000</td>\n",
       "      <td>209.000000</td>\n",
       "      <td>0.231871</td>\n",
       "      <td>10.000000</td>\n",
       "      <td>0.413880</td>\n",
       "      <td>31.442543</td>\n",
       "      <td>0.010000</td>\n",
       "    </tr>\n",
       "    <tr>\n",
       "      <th>50%</th>\n",
       "      <td>1972.000000</td>\n",
       "      <td>-48.383300</td>\n",
       "      <td>-11.700000</td>\n",
       "      <td>50.000000</td>\n",
       "      <td>0.000000</td>\n",
       "      <td>0.000000</td>\n",
       "      <td>430.000000</td>\n",
       "      <td>180.000000</td>\n",
       "      <td>261.000000</td>\n",
       "      <td>6.000000</td>\n",
       "      <td>...</td>\n",
       "      <td>49.500000</td>\n",
       "      <td>0.000000</td>\n",
       "      <td>18.000000</td>\n",
       "      <td>25.000000</td>\n",
       "      <td>280.000000</td>\n",
       "      <td>0.540118</td>\n",
       "      <td>30.000000</td>\n",
       "      <td>0.456475</td>\n",
       "      <td>32.937072</td>\n",
       "      <td>0.010000</td>\n",
       "    </tr>\n",
       "    <tr>\n",
       "      <th>75%</th>\n",
       "      <td>1981.000000</td>\n",
       "      <td>-47.050000</td>\n",
       "      <td>-9.616650</td>\n",
       "      <td>100.000000</td>\n",
       "      <td>171.000000</td>\n",
       "      <td>140.000000</td>\n",
       "      <td>685.000000</td>\n",
       "      <td>310.000000</td>\n",
       "      <td>460.000000</td>\n",
       "      <td>12.250000</td>\n",
       "      <td>...</td>\n",
       "      <td>104.149998</td>\n",
       "      <td>7.000000</td>\n",
       "      <td>53.500000</td>\n",
       "      <td>60.000000</td>\n",
       "      <td>400.500000</td>\n",
       "      <td>0.985849</td>\n",
       "      <td>30.000000</td>\n",
       "      <td>0.513541</td>\n",
       "      <td>34.528160</td>\n",
       "      <td>0.010000</td>\n",
       "    </tr>\n",
       "    <tr>\n",
       "      <th>max</th>\n",
       "      <td>1983.000000</td>\n",
       "      <td>-46.400000</td>\n",
       "      <td>-5.633333</td>\n",
       "      <td>320.000000</td>\n",
       "      <td>710.000000</td>\n",
       "      <td>870.000000</td>\n",
       "      <td>970.000000</td>\n",
       "      <td>860.000000</td>\n",
       "      <td>900.000000</td>\n",
       "      <td>86.000000</td>\n",
       "      <td>...</td>\n",
       "      <td>469.799995</td>\n",
       "      <td>390.000000</td>\n",
       "      <td>100.000000</td>\n",
       "      <td>98.000000</td>\n",
       "      <td>1130.000000</td>\n",
       "      <td>7.104389</td>\n",
       "      <td>90.000000</td>\n",
       "      <td>0.691722</td>\n",
       "      <td>40.396901</td>\n",
       "      <td>0.015000</td>\n",
       "    </tr>\n",
       "  </tbody>\n",
       "</table>\n",
       "<p>8 rows × 26 columns</p>\n",
       "</div>"
      ],
      "text/plain": [
       "              Year           X           Y  Lower_dept  Coarse_San  \\\n",
       "count   471.000000  471.000000  471.000000  471.000000  471.000000   \n",
       "mean    991.908705  -48.338499  -10.850269   62.658174  112.329087   \n",
       "std     990.860854    1.188245    2.160043   50.780419  172.059799   \n",
       "min       0.000000  -50.650000  -13.400000    0.000000    0.000000   \n",
       "25%       0.000000  -49.150000  -12.600000   20.000000    0.000000   \n",
       "50%    1972.000000  -48.383300  -11.700000   50.000000    0.000000   \n",
       "75%    1981.000000  -47.050000   -9.616650  100.000000  171.000000   \n",
       "max    1983.000000  -46.400000   -5.633333  320.000000  710.000000   \n",
       "\n",
       "       Fine_Sand_    Sand_gkg    Silt_gkg    Clay_gkg     SOC_gkg  ...  \\\n",
       "count  471.000000  471.000000  471.000000  471.000000  471.000000  ...   \n",
       "mean    98.142251  439.329087  207.445860  297.231423   10.299788  ...   \n",
       "std    162.598772  290.401725  152.291367  206.495561   12.456217  ...   \n",
       "min      0.000000    0.000000    0.000000    0.000000    0.000000  ...   \n",
       "25%      0.000000  170.000000   82.000000  120.000000    3.000000  ...   \n",
       "50%      0.000000  430.000000  180.000000  261.000000    6.000000  ...   \n",
       "75%    140.000000  685.000000  310.000000  460.000000   12.250000  ...   \n",
       "max    870.000000  970.000000  860.000000  900.000000   86.000000  ...   \n",
       "\n",
       "       CEC_Ph7_mm   SB_mmolkg           V           m  \\\n",
       "count  471.000000  471.000000  471.000000  471.000000   \n",
       "mean    76.264544   21.203822   30.696391   31.872611   \n",
       "std     75.720635   51.986136   29.698613   32.385391   \n",
       "min      0.000000    0.000000    0.000000    0.000000   \n",
       "25%     21.550000    0.000000    7.000000    0.000000   \n",
       "50%     49.500000    0.000000   18.000000   25.000000   \n",
       "75%    104.149998    7.000000   53.500000   60.000000   \n",
       "max    469.799995  390.000000  100.000000   98.000000   \n",
       "\n",
       "       output_images/elevation.tif  output_images/slope.tif  \\\n",
       "count                   471.000000               471.000000   \n",
       "mean                    317.394904                 0.844248   \n",
       "std                     140.425179                 1.023857   \n",
       "min                     117.000000                 0.000000   \n",
       "25%                     209.000000                 0.231871   \n",
       "50%                     280.000000                 0.540118   \n",
       "75%                     400.500000                 0.985849   \n",
       "max                    1130.000000                 7.104389   \n",
       "\n",
       "       output_images/landcover.tif  output_images/ndvi.tif  \\\n",
       "count                   471.000000              471.000000   \n",
       "mean                     24.543524                0.460365   \n",
       "std                      12.228051                0.071265   \n",
       "min                      10.000000                0.289625   \n",
       "25%                      10.000000                0.413880   \n",
       "50%                      30.000000                0.456475   \n",
       "75%                      30.000000                0.513541   \n",
       "max                      90.000000                0.691722   \n",
       "\n",
       "       output_images/lst.tif  output_images/soc.tif  \n",
       "count             471.000000             471.000000  \n",
       "mean               33.026143               0.009321  \n",
       "std                 2.222517               0.002433  \n",
       "min                27.302466               0.005000  \n",
       "25%                31.442543               0.010000  \n",
       "50%                32.937072               0.010000  \n",
       "75%                34.528160               0.010000  \n",
       "max                40.396901               0.015000  \n",
       "\n",
       "[8 rows x 26 columns]"
      ]
     },
     "execution_count": 32,
     "metadata": {},
     "output_type": "execute_result"
    }
   ],
   "source": [
    "#describe the dataset\n",
    "point_data.describe()"
   ]
  },
  {
   "cell_type": "code",
   "execution_count": 33,
   "metadata": {},
   "outputs": [
    {
     "data": {
      "text/html": [
       "\n",
       "            <style>\n",
       "                .geemap-dark {\n",
       "                    --jp-widgets-color: white;\n",
       "                    --jp-widgets-label-color: white;\n",
       "                    --jp-ui-font-color1: white;\n",
       "                    --jp-layout-color2: #454545;\n",
       "                    background-color: #383838;\n",
       "                }\n",
       "                    \n",
       "                .geemap-dark .jupyter-button {\n",
       "                    --jp-layout-color3: #383838;\n",
       "                }\n",
       "                \n",
       "                .geemap-colab {\n",
       "                    background-color: var(--colab-primary-surface-color, white);\n",
       "                }\n",
       "                    \n",
       "                .geemap-colab .jupyter-button {\n",
       "                    --jp-layout-color3: var(--colab-primary-surface-color, white);\n",
       "                }\n",
       "            </style>\n",
       "            "
      ],
      "text/plain": [
       "<IPython.core.display.HTML object>"
      ]
     },
     "metadata": {},
     "output_type": "display_data"
    },
    {
     "data": {
      "text/html": [
       "<div>\n",
       "<style scoped>\n",
       "    .dataframe tbody tr th:only-of-type {\n",
       "        vertical-align: middle;\n",
       "    }\n",
       "\n",
       "    .dataframe tbody tr th {\n",
       "        vertical-align: top;\n",
       "    }\n",
       "\n",
       "    .dataframe thead th {\n",
       "        text-align: right;\n",
       "    }\n",
       "</style>\n",
       "<table border=\"1\" class=\"dataframe\">\n",
       "  <thead>\n",
       "    <tr style=\"text-align: right;\">\n",
       "      <th></th>\n",
       "      <th>Year</th>\n",
       "      <th>X</th>\n",
       "      <th>Y</th>\n",
       "      <th>Lower_dept</th>\n",
       "      <th>Coarse_San</th>\n",
       "      <th>Fine_Sand_</th>\n",
       "      <th>Sand_gkg</th>\n",
       "      <th>Silt_gkg</th>\n",
       "      <th>Clay_gkg</th>\n",
       "      <th>SOC_gkg</th>\n",
       "      <th>...</th>\n",
       "      <th>CEC_Ph7_mm</th>\n",
       "      <th>SB_mmolkg</th>\n",
       "      <th>V</th>\n",
       "      <th>m</th>\n",
       "      <th>output_images/elevation.tif</th>\n",
       "      <th>output_images/slope.tif</th>\n",
       "      <th>output_images/landcover.tif</th>\n",
       "      <th>output_images/ndvi.tif</th>\n",
       "      <th>output_images/lst.tif</th>\n",
       "      <th>output_images/soc.tif</th>\n",
       "    </tr>\n",
       "  </thead>\n",
       "  <tbody>\n",
       "    <tr>\n",
       "      <th>count</th>\n",
       "      <td>450.000000</td>\n",
       "      <td>450.000000</td>\n",
       "      <td>450.000000</td>\n",
       "      <td>450.000000</td>\n",
       "      <td>450.000000</td>\n",
       "      <td>450.000000</td>\n",
       "      <td>450.000000</td>\n",
       "      <td>450.000000</td>\n",
       "      <td>450.000000</td>\n",
       "      <td>450.000000</td>\n",
       "      <td>...</td>\n",
       "      <td>450.000000</td>\n",
       "      <td>450.00000</td>\n",
       "      <td>450.000000</td>\n",
       "      <td>450.000000</td>\n",
       "      <td>450.000000</td>\n",
       "      <td>450.000000</td>\n",
       "      <td>450.000000</td>\n",
       "      <td>450.000000</td>\n",
       "      <td>450.000000</td>\n",
       "      <td>450.000000</td>\n",
       "    </tr>\n",
       "    <tr>\n",
       "      <th>mean</th>\n",
       "      <td>972.226667</td>\n",
       "      <td>-48.390547</td>\n",
       "      <td>-10.857363</td>\n",
       "      <td>63.451111</td>\n",
       "      <td>116.926667</td>\n",
       "      <td>102.411111</td>\n",
       "      <td>458.875556</td>\n",
       "      <td>216.726667</td>\n",
       "      <td>310.235556</td>\n",
       "      <td>10.780444</td>\n",
       "      <td>...</td>\n",
       "      <td>77.867556</td>\n",
       "      <td>21.02000</td>\n",
       "      <td>31.084444</td>\n",
       "      <td>33.295556</td>\n",
       "      <td>313.122222</td>\n",
       "      <td>0.811842</td>\n",
       "      <td>24.555556</td>\n",
       "      <td>0.459255</td>\n",
       "      <td>33.055194</td>\n",
       "      <td>0.009267</td>\n",
       "    </tr>\n",
       "    <tr>\n",
       "      <th>std</th>\n",
       "      <td>990.771892</td>\n",
       "      <td>1.175278</td>\n",
       "      <td>2.116945</td>\n",
       "      <td>51.050903</td>\n",
       "      <td>174.171373</td>\n",
       "      <td>164.996045</td>\n",
       "      <td>281.597293</td>\n",
       "      <td>149.239806</td>\n",
       "      <td>201.273014</td>\n",
       "      <td>12.538776</td>\n",
       "      <td>...</td>\n",
       "      <td>76.062135</td>\n",
       "      <td>52.40983</td>\n",
       "      <td>29.596198</td>\n",
       "      <td>32.419635</td>\n",
       "      <td>136.364720</td>\n",
       "      <td>0.959095</td>\n",
       "      <td>12.357077</td>\n",
       "      <td>0.071594</td>\n",
       "      <td>2.208932</td>\n",
       "      <td>0.002363</td>\n",
       "    </tr>\n",
       "    <tr>\n",
       "      <th>min</th>\n",
       "      <td>0.000000</td>\n",
       "      <td>-50.650000</td>\n",
       "      <td>-13.400000</td>\n",
       "      <td>2.000000</td>\n",
       "      <td>0.000000</td>\n",
       "      <td>0.000000</td>\n",
       "      <td>0.000000</td>\n",
       "      <td>0.000000</td>\n",
       "      <td>0.000000</td>\n",
       "      <td>0.200000</td>\n",
       "      <td>...</td>\n",
       "      <td>0.000000</td>\n",
       "      <td>0.00000</td>\n",
       "      <td>0.000000</td>\n",
       "      <td>0.000000</td>\n",
       "      <td>117.000000</td>\n",
       "      <td>0.000000</td>\n",
       "      <td>10.000000</td>\n",
       "      <td>0.289625</td>\n",
       "      <td>27.302466</td>\n",
       "      <td>0.005000</td>\n",
       "    </tr>\n",
       "    <tr>\n",
       "      <th>25%</th>\n",
       "      <td>0.000000</td>\n",
       "      <td>-49.254200</td>\n",
       "      <td>-12.600000</td>\n",
       "      <td>20.000000</td>\n",
       "      <td>0.000000</td>\n",
       "      <td>0.000000</td>\n",
       "      <td>191.500000</td>\n",
       "      <td>91.500000</td>\n",
       "      <td>141.000000</td>\n",
       "      <td>3.000000</td>\n",
       "      <td>...</td>\n",
       "      <td>23.250000</td>\n",
       "      <td>0.00000</td>\n",
       "      <td>8.000000</td>\n",
       "      <td>0.000000</td>\n",
       "      <td>209.000000</td>\n",
       "      <td>0.226812</td>\n",
       "      <td>10.000000</td>\n",
       "      <td>0.413927</td>\n",
       "      <td>31.604044</td>\n",
       "      <td>0.010000</td>\n",
       "    </tr>\n",
       "    <tr>\n",
       "      <th>50%</th>\n",
       "      <td>0.000000</td>\n",
       "      <td>-48.383333</td>\n",
       "      <td>-11.650000</td>\n",
       "      <td>50.000000</td>\n",
       "      <td>0.000000</td>\n",
       "      <td>0.000000</td>\n",
       "      <td>445.000000</td>\n",
       "      <td>192.000000</td>\n",
       "      <td>273.000000</td>\n",
       "      <td>6.000000</td>\n",
       "      <td>...</td>\n",
       "      <td>50.100000</td>\n",
       "      <td>0.00000</td>\n",
       "      <td>19.000000</td>\n",
       "      <td>28.500000</td>\n",
       "      <td>280.000000</td>\n",
       "      <td>0.540043</td>\n",
       "      <td>30.000000</td>\n",
       "      <td>0.454480</td>\n",
       "      <td>32.939636</td>\n",
       "      <td>0.010000</td>\n",
       "    </tr>\n",
       "    <tr>\n",
       "      <th>75%</th>\n",
       "      <td>1981.000000</td>\n",
       "      <td>-47.537793</td>\n",
       "      <td>-9.649975</td>\n",
       "      <td>100.000000</td>\n",
       "      <td>200.500000</td>\n",
       "      <td>155.250000</td>\n",
       "      <td>702.250000</td>\n",
       "      <td>314.250000</td>\n",
       "      <td>470.000000</td>\n",
       "      <td>13.000000</td>\n",
       "      <td>...</td>\n",
       "      <td>107.899997</td>\n",
       "      <td>7.00000</td>\n",
       "      <td>53.750000</td>\n",
       "      <td>61.750000</td>\n",
       "      <td>395.000000</td>\n",
       "      <td>0.978045</td>\n",
       "      <td>30.000000</td>\n",
       "      <td>0.511310</td>\n",
       "      <td>34.543542</td>\n",
       "      <td>0.010000</td>\n",
       "    </tr>\n",
       "    <tr>\n",
       "      <th>max</th>\n",
       "      <td>1983.000000</td>\n",
       "      <td>-46.400000</td>\n",
       "      <td>-5.633333</td>\n",
       "      <td>320.000000</td>\n",
       "      <td>710.000000</td>\n",
       "      <td>870.000000</td>\n",
       "      <td>970.000000</td>\n",
       "      <td>860.000000</td>\n",
       "      <td>900.000000</td>\n",
       "      <td>86.000000</td>\n",
       "      <td>...</td>\n",
       "      <td>469.799995</td>\n",
       "      <td>390.00000</td>\n",
       "      <td>100.000000</td>\n",
       "      <td>98.000000</td>\n",
       "      <td>1130.000000</td>\n",
       "      <td>7.104389</td>\n",
       "      <td>90.000000</td>\n",
       "      <td>0.691722</td>\n",
       "      <td>40.396901</td>\n",
       "      <td>0.015000</td>\n",
       "    </tr>\n",
       "  </tbody>\n",
       "</table>\n",
       "<p>8 rows × 26 columns</p>\n",
       "</div>"
      ],
      "text/plain": [
       "              Year           X           Y  Lower_dept  Coarse_San  \\\n",
       "count   450.000000  450.000000  450.000000  450.000000  450.000000   \n",
       "mean    972.226667  -48.390547  -10.857363   63.451111  116.926667   \n",
       "std     990.771892    1.175278    2.116945   51.050903  174.171373   \n",
       "min       0.000000  -50.650000  -13.400000    2.000000    0.000000   \n",
       "25%       0.000000  -49.254200  -12.600000   20.000000    0.000000   \n",
       "50%       0.000000  -48.383333  -11.650000   50.000000    0.000000   \n",
       "75%    1981.000000  -47.537793   -9.649975  100.000000  200.500000   \n",
       "max    1983.000000  -46.400000   -5.633333  320.000000  710.000000   \n",
       "\n",
       "       Fine_Sand_    Sand_gkg    Silt_gkg    Clay_gkg     SOC_gkg  ...  \\\n",
       "count  450.000000  450.000000  450.000000  450.000000  450.000000  ...   \n",
       "mean   102.411111  458.875556  216.726667  310.235556   10.780444  ...   \n",
       "std    164.996045  281.597293  149.239806  201.273014   12.538776  ...   \n",
       "min      0.000000    0.000000    0.000000    0.000000    0.200000  ...   \n",
       "25%      0.000000  191.500000   91.500000  141.000000    3.000000  ...   \n",
       "50%      0.000000  445.000000  192.000000  273.000000    6.000000  ...   \n",
       "75%    155.250000  702.250000  314.250000  470.000000   13.000000  ...   \n",
       "max    870.000000  970.000000  860.000000  900.000000   86.000000  ...   \n",
       "\n",
       "       CEC_Ph7_mm  SB_mmolkg           V           m  \\\n",
       "count  450.000000  450.00000  450.000000  450.000000   \n",
       "mean    77.867556   21.02000   31.084444   33.295556   \n",
       "std     76.062135   52.40983   29.596198   32.419635   \n",
       "min      0.000000    0.00000    0.000000    0.000000   \n",
       "25%     23.250000    0.00000    8.000000    0.000000   \n",
       "50%     50.100000    0.00000   19.000000   28.500000   \n",
       "75%    107.899997    7.00000   53.750000   61.750000   \n",
       "max    469.799995  390.00000  100.000000   98.000000   \n",
       "\n",
       "       output_images/elevation.tif  output_images/slope.tif  \\\n",
       "count                   450.000000               450.000000   \n",
       "mean                    313.122222                 0.811842   \n",
       "std                     136.364720                 0.959095   \n",
       "min                     117.000000                 0.000000   \n",
       "25%                     209.000000                 0.226812   \n",
       "50%                     280.000000                 0.540043   \n",
       "75%                     395.000000                 0.978045   \n",
       "max                    1130.000000                 7.104389   \n",
       "\n",
       "       output_images/landcover.tif  output_images/ndvi.tif  \\\n",
       "count                   450.000000              450.000000   \n",
       "mean                     24.555556                0.459255   \n",
       "std                      12.357077                0.071594   \n",
       "min                      10.000000                0.289625   \n",
       "25%                      10.000000                0.413927   \n",
       "50%                      30.000000                0.454480   \n",
       "75%                      30.000000                0.511310   \n",
       "max                      90.000000                0.691722   \n",
       "\n",
       "       output_images/lst.tif  output_images/soc.tif  \n",
       "count             450.000000             450.000000  \n",
       "mean               33.055194               0.009267  \n",
       "std                 2.208932               0.002363  \n",
       "min                27.302466               0.005000  \n",
       "25%                31.604044               0.010000  \n",
       "50%                32.939636               0.010000  \n",
       "75%                34.543542               0.010000  \n",
       "max                40.396901               0.015000  \n",
       "\n",
       "[8 rows x 26 columns]"
      ]
     },
     "execution_count": 33,
     "metadata": {},
     "output_type": "execute_result"
    }
   ],
   "source": [
    "point_data = point_data [point_data.SOC_gkg>0]\n",
    "point_data.describe()"
   ]
  },
  {
   "cell_type": "code",
   "execution_count": 34,
   "metadata": {
    "colab": {
     "base_uri": "https://localhost:8080/",
     "height": 343
    },
    "id": "CSYDTYV1IDje",
    "outputId": "20c00e42-e7ed-48be-ef07-5bd8acc42b63"
   },
   "outputs": [
    {
     "data": {
      "text/html": [
       "\n",
       "            <style>\n",
       "                .geemap-dark {\n",
       "                    --jp-widgets-color: white;\n",
       "                    --jp-widgets-label-color: white;\n",
       "                    --jp-ui-font-color1: white;\n",
       "                    --jp-layout-color2: #454545;\n",
       "                    background-color: #383838;\n",
       "                }\n",
       "                    \n",
       "                .geemap-dark .jupyter-button {\n",
       "                    --jp-layout-color3: #383838;\n",
       "                }\n",
       "                \n",
       "                .geemap-colab {\n",
       "                    background-color: var(--colab-primary-surface-color, white);\n",
       "                }\n",
       "                    \n",
       "                .geemap-colab .jupyter-button {\n",
       "                    --jp-layout-color3: var(--colab-primary-surface-color, white);\n",
       "                }\n",
       "            </style>\n",
       "            "
      ],
      "text/plain": [
       "<IPython.core.display.HTML object>"
      ]
     },
     "metadata": {},
     "output_type": "display_data"
    },
    {
     "data": {
      "text/plain": [
       "<AxesSubplot: >"
      ]
     },
     "execution_count": 34,
     "metadata": {},
     "output_type": "execute_result"
    },
    {
     "data": {
      "image/png": "[encoded data removed]",
      "text/plain": [
       "<Figure size 600x500 with 2 Axes>"
      ]
     },
     "metadata": {},
     "output_type": "display_data"
    }
   ],
   "source": [
    "# show the correlation matric for the dataset\n",
    "corrMatrix = point_data.corr()\n",
    "fig, ax = plt.subplots(figsize=(6,5))         # Sample figsize in inches\n",
    "#sns.heatmap(df.iloc[:, 1:6:], annot=True, linewidths=.5, ax=ax)\n",
    "sns.heatmap(corrMatrix, annot=True, linewidths=.5, ax=ax)"
   ]
  },
  {
   "cell_type": "code",
   "execution_count": 35,
   "metadata": {},
   "outputs": [
    {
     "data": {
      "text/html": [
       "\n",
       "            <style>\n",
       "                .geemap-dark {\n",
       "                    --jp-widgets-color: white;\n",
       "                    --jp-widgets-label-color: white;\n",
       "                    --jp-ui-font-color1: white;\n",
       "                    --jp-layout-color2: #454545;\n",
       "                    background-color: #383838;\n",
       "                }\n",
       "                    \n",
       "                .geemap-dark .jupyter-button {\n",
       "                    --jp-layout-color3: #383838;\n",
       "                }\n",
       "                \n",
       "                .geemap-colab {\n",
       "                    background-color: var(--colab-primary-surface-color, white);\n",
       "                }\n",
       "                    \n",
       "                .geemap-colab .jupyter-button {\n",
       "                    --jp-layout-color3: var(--colab-primary-surface-color, white);\n",
       "                }\n",
       "            </style>\n",
       "            "
      ],
      "text/plain": [
       "<IPython.core.display.HTML object>"
      ]
     },
     "metadata": {},
     "output_type": "display_data"
    },
    {
     "data": {
      "text/plain": [
       "Year                          -0.067060\n",
       "X                             -0.030115\n",
       "Y                             -0.112267\n",
       "Lower_dept                    -0.508403\n",
       "Coarse_San                    -0.178682\n",
       "Fine_Sand_                    -0.213977\n",
       "Sand_gkg                      -0.256572\n",
       "Silt_gkg                       0.406505\n",
       "Clay_gkg                       0.066026\n",
       "SOC_gkg                        1.000000\n",
       "OM_gkg                         0.999778\n",
       "pH_H2O                        -0.010318\n",
       "pH_KCl                         0.074800\n",
       "K_mmolkg                       0.253532\n",
       "Na_mmolkg                      0.012521\n",
       "Al_mmolkg                      0.111586\n",
       "CEC_Ph7_mm                     0.570977\n",
       "SB_mmolkg                      0.267347\n",
       "V                              0.089156\n",
       "m                             -0.082456\n",
       "output_images/elevation.tif    0.018421\n",
       "output_images/slope.tif       -0.039158\n",
       "output_images/landcover.tif    0.028405\n",
       "output_images/ndvi.tif         0.003082\n",
       "output_images/lst.tif          0.028076\n",
       "output_images/soc.tif          0.075722\n",
       "Name: SOC_gkg, dtype: float64"
      ]
     },
     "execution_count": 35,
     "metadata": {},
     "output_type": "execute_result"
    }
   ],
   "source": [
    "corrMatrix['SOC_gkg']"
   ]
  },
  {
   "cell_type": "code",
   "execution_count": 44,
   "metadata": {},
   "outputs": [
    {
     "data": {
      "text/html": [
       "\n",
       "            <style>\n",
       "                .geemap-dark {\n",
       "                    --jp-widgets-color: white;\n",
       "                    --jp-widgets-label-color: white;\n",
       "                    --jp-ui-font-color1: white;\n",
       "                    --jp-layout-color2: #454545;\n",
       "                    background-color: #383838;\n",
       "                }\n",
       "                    \n",
       "                .geemap-dark .jupyter-button {\n",
       "                    --jp-layout-color3: #383838;\n",
       "                }\n",
       "                \n",
       "                .geemap-colab {\n",
       "                    background-color: var(--colab-primary-surface-color, white);\n",
       "                }\n",
       "                    \n",
       "                .geemap-colab .jupyter-button {\n",
       "                    --jp-layout-color3: var(--colab-primary-surface-color, white);\n",
       "                }\n",
       "            </style>\n",
       "            "
      ],
      "text/plain": [
       "<IPython.core.display.HTML object>"
      ]
     },
     "metadata": {},
     "output_type": "display_data"
    }
   ],
   "source": [
    "columns = [\n",
    "    \"Year\",\n",
    "    \"X\",\n",
    "    \"Y\",\n",
    "    \"Lower_dept\",\n",
    "    \"Coarse_San\",\n",
    "    \"Fine_Sand_\",\n",
    "    \"Sand_gkg\",\n",
    "    \"Silt_gkg\",\n",
    "    \"Clay_gkg\",\n",
    "    \"SOC_gkg\",\n",
    "    \"OM_gkg\",\n",
    "    \"pH_H2O\",\n",
    "    \"pH_KCl\",\n",
    "    \"K_mmolkg\",\n",
    "    \"Na_mmolkg\",\n",
    "    \"Al_mmolkg\",\n",
    "    \"CEC_Ph7_mm\",\n",
    "    \"SB_mmolkg\",\n",
    "    \"V\",\n",
    "    \"m\",\n",
    "    \"output_images/elevation.tif\",\n",
    "    \"output_images/slope.tif\",\n",
    "    \"output_images/landcover.tif\",\n",
    "    \"output_images/ndvi.tif\",\n",
    "    \"output_images/lst.tif\",\n",
    "    \"output_images/soc.tif\"\n",
    "]\n",
    "\n",
    "point_data = point_data[columns]"
   ]
  },
  {
   "cell_type": "markdown",
   "metadata": {
    "id": "xbfWduNoIDjf"
   },
   "source": [
    "###  MACHINE LEARNING MODEL\n",
    "\n",
    "* import the ML libaries\n",
    "* load the data\n",
    "* split the data into dependent and independent variable\n",
    "* splitt the dataset into training and test test\n",
    "* Build our model uisng Random Forest Machine Learning Algorithm\n",
    "* Check the accureacy of our model uisng differernt accracy metrics\n",
    "* Plot the Predicted data\n",
    "* Use the prediction  Probabaility output to create a raster map that shows probability of floodding across the study area"
   ]
  },
  {
   "cell_type": "code",
   "execution_count": 62,
   "metadata": {
    "id": "EbZhxDj4HaI5"
   },
   "outputs": [
    {
     "data": {
      "text/html": [
       "\n",
       "            <style>\n",
       "                .geemap-dark {\n",
       "                    --jp-widgets-color: white;\n",
       "                    --jp-widgets-label-color: white;\n",
       "                    --jp-ui-font-color1: white;\n",
       "                    --jp-layout-color2: #454545;\n",
       "                    background-color: #383838;\n",
       "                }\n",
       "                    \n",
       "                .geemap-dark .jupyter-button {\n",
       "                    --jp-layout-color3: #383838;\n",
       "                }\n",
       "                \n",
       "                .geemap-colab {\n",
       "                    background-color: var(--colab-primary-surface-color, white);\n",
       "                }\n",
       "                    \n",
       "                .geemap-colab .jupyter-button {\n",
       "                    --jp-layout-color3: var(--colab-primary-surface-color, white);\n",
       "                }\n",
       "            </style>\n",
       "            "
      ],
      "text/plain": [
       "<IPython.core.display.HTML object>"
      ]
     },
     "metadata": {},
     "output_type": "display_data"
    }
   ],
   "source": [
    "# import require libaries\n",
    "from sklearn.ensemble import RandomForestRegressor\n",
    "from sklearn.svm import SVR\n",
    "from sklearn.tree import DecisionTreeRegressor\n",
    "from sklearn.ensemble import GradientBoostingRegressor\n",
    "from sklearn.linear_model import LinearRegression\n",
    "\n",
    "from sklearn.metrics import (r2_score, accuracy_score, mean_squared_error,\n",
    "                                    mean_absolute_error)\n",
    "\n",
    "from sklearn.model_selection import (train_test_split, cross_val_score,\n",
    "                                            GridSearchCV)"
   ]
  },
  {
   "cell_type": "code",
   "execution_count": 46,
   "metadata": {
    "colab": {
     "base_uri": "https://localhost:8080/",
     "height": 206
    },
    "id": "juuGxMq8Gsbu",
    "outputId": "e6b15dce-b298-44ee-a395-20369eda0236"
   },
   "outputs": [
    {
     "data": {
      "text/html": [
       "\n",
       "            <style>\n",
       "                .geemap-dark {\n",
       "                    --jp-widgets-color: white;\n",
       "                    --jp-widgets-label-color: white;\n",
       "                    --jp-ui-font-color1: white;\n",
       "                    --jp-layout-color2: #454545;\n",
       "                    background-color: #383838;\n",
       "                }\n",
       "                    \n",
       "                .geemap-dark .jupyter-button {\n",
       "                    --jp-layout-color3: #383838;\n",
       "                }\n",
       "                \n",
       "                .geemap-colab {\n",
       "                    background-color: var(--colab-primary-surface-color, white);\n",
       "                }\n",
       "                    \n",
       "                .geemap-colab .jupyter-button {\n",
       "                    --jp-layout-color3: var(--colab-primary-surface-color, white);\n",
       "                }\n",
       "            </style>\n",
       "            "
      ],
      "text/plain": [
       "<IPython.core.display.HTML object>"
      ]
     },
     "metadata": {},
     "output_type": "display_data"
    },
    {
     "data": {
      "text/html": [
       "<div>\n",
       "<style scoped>\n",
       "    .dataframe tbody tr th:only-of-type {\n",
       "        vertical-align: middle;\n",
       "    }\n",
       "\n",
       "    .dataframe tbody tr th {\n",
       "        vertical-align: top;\n",
       "    }\n",
       "\n",
       "    .dataframe thead th {\n",
       "        text-align: right;\n",
       "    }\n",
       "</style>\n",
       "<table border=\"1\" class=\"dataframe\">\n",
       "  <thead>\n",
       "    <tr style=\"text-align: right;\">\n",
       "      <th></th>\n",
       "      <th>Year</th>\n",
       "      <th>X</th>\n",
       "      <th>Y</th>\n",
       "      <th>Lower_dept</th>\n",
       "      <th>Coarse_San</th>\n",
       "      <th>Fine_Sand_</th>\n",
       "      <th>Sand_gkg</th>\n",
       "      <th>Silt_gkg</th>\n",
       "      <th>Clay_gkg</th>\n",
       "      <th>SOC_gkg</th>\n",
       "      <th>...</th>\n",
       "      <th>CEC_Ph7_mm</th>\n",
       "      <th>SB_mmolkg</th>\n",
       "      <th>V</th>\n",
       "      <th>m</th>\n",
       "      <th>output_images/elevation.tif</th>\n",
       "      <th>output_images/slope.tif</th>\n",
       "      <th>output_images/landcover.tif</th>\n",
       "      <th>output_images/ndvi.tif</th>\n",
       "      <th>output_images/lst.tif</th>\n",
       "      <th>output_images/soc.tif</th>\n",
       "    </tr>\n",
       "  </thead>\n",
       "  <tbody>\n",
       "    <tr>\n",
       "      <th>2</th>\n",
       "      <td>1983</td>\n",
       "      <td>-47.047838</td>\n",
       "      <td>-12.817077</td>\n",
       "      <td>38</td>\n",
       "      <td>40</td>\n",
       "      <td>80</td>\n",
       "      <td>120</td>\n",
       "      <td>460</td>\n",
       "      <td>420</td>\n",
       "      <td>15.600000</td>\n",
       "      <td>...</td>\n",
       "      <td>156.999998</td>\n",
       "      <td>101.999998</td>\n",
       "      <td>65</td>\n",
       "      <td>0</td>\n",
       "      <td>422</td>\n",
       "      <td>0.493767</td>\n",
       "      <td>20</td>\n",
       "      <td>0.456475</td>\n",
       "      <td>31.43827</td>\n",
       "      <td>0.01</td>\n",
       "    </tr>\n",
       "    <tr>\n",
       "      <th>3</th>\n",
       "      <td>1983</td>\n",
       "      <td>-47.047838</td>\n",
       "      <td>-12.817077</td>\n",
       "      <td>60</td>\n",
       "      <td>40</td>\n",
       "      <td>90</td>\n",
       "      <td>130</td>\n",
       "      <td>400</td>\n",
       "      <td>470</td>\n",
       "      <td>9.400000</td>\n",
       "      <td>...</td>\n",
       "      <td>128.999996</td>\n",
       "      <td>91.000004</td>\n",
       "      <td>71</td>\n",
       "      <td>0</td>\n",
       "      <td>422</td>\n",
       "      <td>0.493767</td>\n",
       "      <td>20</td>\n",
       "      <td>0.456475</td>\n",
       "      <td>31.43827</td>\n",
       "      <td>0.01</td>\n",
       "    </tr>\n",
       "    <tr>\n",
       "      <th>4</th>\n",
       "      <td>1983</td>\n",
       "      <td>-47.047838</td>\n",
       "      <td>-12.817077</td>\n",
       "      <td>120</td>\n",
       "      <td>20</td>\n",
       "      <td>40</td>\n",
       "      <td>60</td>\n",
       "      <td>270</td>\n",
       "      <td>670</td>\n",
       "      <td>4.700000</td>\n",
       "      <td>...</td>\n",
       "      <td>116.999998</td>\n",
       "      <td>86.999998</td>\n",
       "      <td>74</td>\n",
       "      <td>1</td>\n",
       "      <td>422</td>\n",
       "      <td>0.493767</td>\n",
       "      <td>20</td>\n",
       "      <td>0.456475</td>\n",
       "      <td>31.43827</td>\n",
       "      <td>0.01</td>\n",
       "    </tr>\n",
       "    <tr>\n",
       "      <th>5</th>\n",
       "      <td>1983</td>\n",
       "      <td>-47.047838</td>\n",
       "      <td>-12.817077</td>\n",
       "      <td>15</td>\n",
       "      <td>40</td>\n",
       "      <td>70</td>\n",
       "      <td>110</td>\n",
       "      <td>470</td>\n",
       "      <td>420</td>\n",
       "      <td>44.299999</td>\n",
       "      <td>...</td>\n",
       "      <td>282.999992</td>\n",
       "      <td>172.000008</td>\n",
       "      <td>61</td>\n",
       "      <td>0</td>\n",
       "      <td>422</td>\n",
       "      <td>0.493767</td>\n",
       "      <td>20</td>\n",
       "      <td>0.456475</td>\n",
       "      <td>31.43827</td>\n",
       "      <td>0.01</td>\n",
       "    </tr>\n",
       "    <tr>\n",
       "      <th>6</th>\n",
       "      <td>1983</td>\n",
       "      <td>-47.047838</td>\n",
       "      <td>-12.817077</td>\n",
       "      <td>25</td>\n",
       "      <td>30</td>\n",
       "      <td>80</td>\n",
       "      <td>110</td>\n",
       "      <td>470</td>\n",
       "      <td>420</td>\n",
       "      <td>23.900000</td>\n",
       "      <td>...</td>\n",
       "      <td>201.000004</td>\n",
       "      <td>126.000004</td>\n",
       "      <td>63</td>\n",
       "      <td>0</td>\n",
       "      <td>422</td>\n",
       "      <td>0.493767</td>\n",
       "      <td>20</td>\n",
       "      <td>0.456475</td>\n",
       "      <td>31.43827</td>\n",
       "      <td>0.01</td>\n",
       "    </tr>\n",
       "  </tbody>\n",
       "</table>\n",
       "<p>5 rows × 26 columns</p>\n",
       "</div>"
      ],
      "text/plain": [
       "   Year          X          Y  Lower_dept  Coarse_San  Fine_Sand_  Sand_gkg  \\\n",
       "2  1983 -47.047838 -12.817077          38          40          80       120   \n",
       "3  1983 -47.047838 -12.817077          60          40          90       130   \n",
       "4  1983 -47.047838 -12.817077         120          20          40        60   \n",
       "5  1983 -47.047838 -12.817077          15          40          70       110   \n",
       "6  1983 -47.047838 -12.817077          25          30          80       110   \n",
       "\n",
       "   Silt_gkg  Clay_gkg    SOC_gkg  ...  CEC_Ph7_mm   SB_mmolkg   V  m  \\\n",
       "2       460       420  15.600000  ...  156.999998  101.999998  65  0   \n",
       "3       400       470   9.400000  ...  128.999996   91.000004  71  0   \n",
       "4       270       670   4.700000  ...  116.999998   86.999998  74  1   \n",
       "5       470       420  44.299999  ...  282.999992  172.000008  61  0   \n",
       "6       470       420  23.900000  ...  201.000004  126.000004  63  0   \n",
       "\n",
       "   output_images/elevation.tif  output_images/slope.tif  \\\n",
       "2                          422                 0.493767   \n",
       "3                          422                 0.493767   \n",
       "4                          422                 0.493767   \n",
       "5                          422                 0.493767   \n",
       "6                          422                 0.493767   \n",
       "\n",
       "   output_images/landcover.tif  output_images/ndvi.tif  output_images/lst.tif  \\\n",
       "2                           20                0.456475               31.43827   \n",
       "3                           20                0.456475               31.43827   \n",
       "4                           20                0.456475               31.43827   \n",
       "5                           20                0.456475               31.43827   \n",
       "6                           20                0.456475               31.43827   \n",
       "\n",
       "   output_images/soc.tif  \n",
       "2                   0.01  \n",
       "3                   0.01  \n",
       "4                   0.01  \n",
       "5                   0.01  \n",
       "6                   0.01  \n",
       "\n",
       "[5 rows x 26 columns]"
      ]
     },
     "execution_count": 46,
     "metadata": {},
     "output_type": "execute_result"
    }
   ],
   "source": [
    "#load the dataset \n",
    "point_data.head()"
   ]
  },
  {
   "cell_type": "markdown",
   "metadata": {},
   "source": [
    "Split data into label and predictor"
   ]
  },
  {
   "cell_type": "code",
   "execution_count": 48,
   "metadata": {
    "id": "DD3T-sLaIDjg"
   },
   "outputs": [
    {
     "data": {
      "text/html": [
       "\n",
       "            <style>\n",
       "                .geemap-dark {\n",
       "                    --jp-widgets-color: white;\n",
       "                    --jp-widgets-label-color: white;\n",
       "                    --jp-ui-font-color1: white;\n",
       "                    --jp-layout-color2: #454545;\n",
       "                    background-color: #383838;\n",
       "                }\n",
       "                    \n",
       "                .geemap-dark .jupyter-button {\n",
       "                    --jp-layout-color3: #383838;\n",
       "                }\n",
       "                \n",
       "                .geemap-colab {\n",
       "                    background-color: var(--colab-primary-surface-color, white);\n",
       "                }\n",
       "                    \n",
       "                .geemap-colab .jupyter-button {\n",
       "                    --jp-layout-color3: var(--colab-primary-surface-color, white);\n",
       "                }\n",
       "            </style>\n",
       "            "
      ],
      "text/plain": [
       "<IPython.core.display.HTML object>"
      ]
     },
     "metadata": {},
     "output_type": "display_data"
    }
   ],
   "source": [
    "# Define the dependent variable that needs to be predicted (labels)\n",
    "y = point_data[\"SOC_gkg\"].values\n",
    "# Define the independent variables. Let's also drop gemotry and label\n",
    "x = point_data.drop(labels = [\"SOC_gkg\"], axis=1) # \"geometry\"\n",
    "features_list = list(x.columns)  #List features so we can rank their importance later "
   ]
  },
  {
   "cell_type": "markdown",
   "metadata": {},
   "source": [
    "Split Data into training and test sets\n",
    "\n",
    "* Split data into train (60%), validate (20 %) and test (20%) to verify accuracy after fitting the model.\n",
    "* training data is used to train the model\n",
    "* validation data is used for hyperparameter tuning\n",
    "* testing data is used to test the model"
   ]
  },
  {
   "cell_type": "code",
   "execution_count": 49,
   "metadata": {
    "id": "f6dUxdeNHAv7"
   },
   "outputs": [
    {
     "data": {
      "text/html": [
       "\n",
       "            <style>\n",
       "                .geemap-dark {\n",
       "                    --jp-widgets-color: white;\n",
       "                    --jp-widgets-label-color: white;\n",
       "                    --jp-ui-font-color1: white;\n",
       "                    --jp-layout-color2: #454545;\n",
       "                    background-color: #383838;\n",
       "                }\n",
       "                    \n",
       "                .geemap-dark .jupyter-button {\n",
       "                    --jp-layout-color3: #383838;\n",
       "                }\n",
       "                \n",
       "                .geemap-colab {\n",
       "                    background-color: var(--colab-primary-surface-color, white);\n",
       "                }\n",
       "                    \n",
       "                .geemap-colab .jupyter-button {\n",
       "                    --jp-layout-color3: var(--colab-primary-surface-color, white);\n",
       "                }\n",
       "            </style>\n",
       "            "
      ],
      "text/plain": [
       "<IPython.core.display.HTML object>"
      ]
     },
     "metadata": {},
     "output_type": "display_data"
    }
   ],
   "source": [
    "import random\n",
    "random.seed(42)\n",
    "X_train_val, X_test, y_train_val, y_test = train_test_split(x, y, test_size=0.2,shuffle=True, random_state=42)\n",
    "X_train, X_val, y_train, y_val = train_test_split(X_train_val, y_train_val, test_size=0.25,shuffle=True, random_state=42)"
   ]
  },
  {
   "cell_type": "markdown",
   "metadata": {},
   "source": [
    "## Training and Evaluation on the Training set"
   ]
  },
  {
   "cell_type": "markdown",
   "metadata": {
    "id": "UHA1JCayIJzw"
   },
   "source": [
    "Random Forest Regressor Model"
   ]
  },
  {
   "cell_type": "code",
   "execution_count": 50,
   "metadata": {
    "colab": {
     "base_uri": "https://localhost:8080/"
    },
    "id": "GTO4gxjWIDjg",
    "outputId": "0342788b-985b-4955-9459-8519c37843c1"
   },
   "outputs": [
    {
     "data": {
      "text/html": [
       "\n",
       "            <style>\n",
       "                .geemap-dark {\n",
       "                    --jp-widgets-color: white;\n",
       "                    --jp-widgets-label-color: white;\n",
       "                    --jp-ui-font-color1: white;\n",
       "                    --jp-layout-color2: #454545;\n",
       "                    background-color: #383838;\n",
       "                }\n",
       "                    \n",
       "                .geemap-dark .jupyter-button {\n",
       "                    --jp-layout-color3: #383838;\n",
       "                }\n",
       "                \n",
       "                .geemap-colab {\n",
       "                    background-color: var(--colab-primary-surface-color, white);\n",
       "                }\n",
       "                    \n",
       "                .geemap-colab .jupyter-button {\n",
       "                    --jp-layout-color3: var(--colab-primary-surface-color, white);\n",
       "                }\n",
       "            </style>\n",
       "            "
      ],
      "text/plain": [
       "<IPython.core.display.HTML object>"
      ]
     },
     "metadata": {},
     "output_type": "display_data"
    },
    {
     "data": {
      "text/plain": [
       "array([60.21999998, 15.93979991,  0.975     ,  1.3485    ,  8.02599999,\n",
       "        3.99149999,  4.9965    , 14.94589999,  6.75239999, 40.12709998])"
      ]
     },
     "execution_count": 50,
     "metadata": {},
     "output_type": "execute_result"
    }
   ],
   "source": [
    "# instantiate the Random Forest Model\n",
    "rf_model = RandomForestRegressor(n_estimators =1000, random_state = 42)\n",
    "# Train the model on training data\n",
    "rf_model.fit(X_train, y_train)\n",
    "# make prediction for the test dataset.\n",
    "rf_prediction = rf_model.predict(X_test)\n",
    "# The prediction SOC value\n",
    "rf_prediction[:10]"
   ]
  },
  {
   "cell_type": "markdown",
   "metadata": {},
   "source": [
    "Suporting Vector Regressor"
   ]
  },
  {
   "cell_type": "code",
   "execution_count": 53,
   "metadata": {},
   "outputs": [
    {
     "data": {
      "text/html": [
       "\n",
       "            <style>\n",
       "                .geemap-dark {\n",
       "                    --jp-widgets-color: white;\n",
       "                    --jp-widgets-label-color: white;\n",
       "                    --jp-ui-font-color1: white;\n",
       "                    --jp-layout-color2: #454545;\n",
       "                    background-color: #383838;\n",
       "                }\n",
       "                    \n",
       "                .geemap-dark .jupyter-button {\n",
       "                    --jp-layout-color3: #383838;\n",
       "                }\n",
       "                \n",
       "                .geemap-colab {\n",
       "                    background-color: var(--colab-primary-surface-color, white);\n",
       "                }\n",
       "                    \n",
       "                .geemap-colab .jupyter-button {\n",
       "                    --jp-layout-color3: var(--colab-primary-surface-color, white);\n",
       "                }\n",
       "            </style>\n",
       "            "
      ],
      "text/plain": [
       "<IPython.core.display.HTML object>"
      ]
     },
     "metadata": {},
     "output_type": "display_data"
    },
    {
     "data": {
      "text/plain": [
       "array([7.63232561, 8.11910422, 3.5355151 , 8.61484764, 6.75713436,\n",
       "       2.82155339, 6.9107394 , 8.04330087, 6.73811544, 7.52229159])"
      ]
     },
     "execution_count": 53,
     "metadata": {},
     "output_type": "execute_result"
    }
   ],
   "source": [
    "# instantiate the SVR\n",
    "svr_model = SVR()\n",
    "# Train the model on training data\n",
    "svr_model.fit(X_train, y_train)\n",
    "# make prediction for the test dataset.\n",
    "svr_prediction = svr_model.predict(X_test)\n",
    "# The prediction SOC value\n",
    "svr_prediction[:10]"
   ]
  },
  {
   "cell_type": "markdown",
   "metadata": {},
   "source": [
    "DecisisonTree Regressor"
   ]
  },
  {
   "cell_type": "code",
   "execution_count": 54,
   "metadata": {},
   "outputs": [
    {
     "data": {
      "text/html": [
       "\n",
       "            <style>\n",
       "                .geemap-dark {\n",
       "                    --jp-widgets-color: white;\n",
       "                    --jp-widgets-label-color: white;\n",
       "                    --jp-ui-font-color1: white;\n",
       "                    --jp-layout-color2: #454545;\n",
       "                    background-color: #383838;\n",
       "                }\n",
       "                    \n",
       "                .geemap-dark .jupyter-button {\n",
       "                    --jp-layout-color3: #383838;\n",
       "                }\n",
       "                \n",
       "                .geemap-colab {\n",
       "                    background-color: var(--colab-primary-surface-color, white);\n",
       "                }\n",
       "                    \n",
       "                .geemap-colab .jupyter-button {\n",
       "                    --jp-layout-color3: var(--colab-primary-surface-color, white);\n",
       "                }\n",
       "            </style>\n",
       "            "
      ],
      "text/plain": [
       "<IPython.core.display.HTML object>"
      ]
     },
     "metadata": {},
     "output_type": "display_data"
    },
    {
     "data": {
      "text/plain": [
       "array([56.5       , 16.        ,  0.89999998,  1.4       ,  8.        ,\n",
       "        4.        ,  5.        , 15.        ,  6.69999994, 40.        ])"
      ]
     },
     "execution_count": 54,
     "metadata": {},
     "output_type": "execute_result"
    }
   ],
   "source": [
    "# instantiate the DecisionTreeRegressor\n",
    "dtr_model = DecisionTreeRegressor(random_state = 42)\n",
    "# Train the model on training data\n",
    "dtr_model.fit(X_train, y_train)\n",
    "# make prediction for the test dataset.\n",
    "dtr_prediction = dtr_model.predict(X_test)\n",
    "# The prediction SOC value\n",
    "dtr_prediction[:10]"
   ]
  },
  {
   "cell_type": "markdown",
   "metadata": {},
   "source": [
    "GradientBoost Regressor"
   ]
  },
  {
   "cell_type": "code",
   "execution_count": 55,
   "metadata": {},
   "outputs": [
    {
     "data": {
      "text/html": [
       "\n",
       "            <style>\n",
       "                .geemap-dark {\n",
       "                    --jp-widgets-color: white;\n",
       "                    --jp-widgets-label-color: white;\n",
       "                    --jp-ui-font-color1: white;\n",
       "                    --jp-layout-color2: #454545;\n",
       "                    background-color: #383838;\n",
       "                }\n",
       "                    \n",
       "                .geemap-dark .jupyter-button {\n",
       "                    --jp-layout-color3: #383838;\n",
       "                }\n",
       "                \n",
       "                .geemap-colab {\n",
       "                    background-color: var(--colab-primary-surface-color, white);\n",
       "                }\n",
       "                    \n",
       "                .geemap-colab .jupyter-button {\n",
       "                    --jp-layout-color3: var(--colab-primary-surface-color, white);\n",
       "                }\n",
       "            </style>\n",
       "            "
      ],
      "text/plain": [
       "<IPython.core.display.HTML object>"
      ]
     },
     "metadata": {},
     "output_type": "display_data"
    },
    {
     "data": {
      "text/plain": [
       "array([56.5       , 16.        ,  0.89999998,  1.4       ,  8.        ,\n",
       "        4.        ,  5.        , 15.        ,  6.69999994, 40.        ])"
      ]
     },
     "execution_count": 55,
     "metadata": {},
     "output_type": "execute_result"
    }
   ],
   "source": [
    "from sklearn.ensemble import GradientBoostingRegressor\n",
    "# instantiate the DecisionTreeRegressor\n",
    "gbr_model = DecisionTreeRegressor(random_state = 42)\n",
    "# Train the model on training data\n",
    "gbr_model.fit(X_train, y_train)\n",
    "# make prediction for the test dataset.\n",
    "gbr_prediction = gbr_model.predict(X_test)\n",
    "# The prediction SOC value\n",
    "gbr_prediction[:10]"
   ]
  },
  {
   "cell_type": "markdown",
   "metadata": {},
   "source": [
    "Linear Regression"
   ]
  },
  {
   "cell_type": "code",
   "execution_count": 57,
   "metadata": {},
   "outputs": [
    {
     "data": {
      "text/html": [
       "\n",
       "            <style>\n",
       "                .geemap-dark {\n",
       "                    --jp-widgets-color: white;\n",
       "                    --jp-widgets-label-color: white;\n",
       "                    --jp-ui-font-color1: white;\n",
       "                    --jp-layout-color2: #454545;\n",
       "                    background-color: #383838;\n",
       "                }\n",
       "                    \n",
       "                .geemap-dark .jupyter-button {\n",
       "                    --jp-layout-color3: #383838;\n",
       "                }\n",
       "                \n",
       "                .geemap-colab {\n",
       "                    background-color: var(--colab-primary-surface-color, white);\n",
       "                }\n",
       "                    \n",
       "                .geemap-colab .jupyter-button {\n",
       "                    --jp-layout-color3: var(--colab-primary-surface-color, white);\n",
       "                }\n",
       "            </style>\n",
       "            "
      ],
      "text/plain": [
       "<IPython.core.display.HTML object>"
      ]
     },
     "metadata": {},
     "output_type": "display_data"
    },
    {
     "data": {
      "text/plain": [
       "array([55.14660868, 16.47907589,  0.92447478,  1.15691853,  7.94190717,\n",
       "        4.09783126,  5.14438998, 15.1173908 ,  6.84184482, 37.94465562])"
      ]
     },
     "execution_count": 57,
     "metadata": {},
     "output_type": "execute_result"
    }
   ],
   "source": [
    "from sklearn.linear_model import LinearRegression\n",
    "# instantiate the DecisionTreeRegressor\n",
    "lr_model = LinearRegression()\n",
    "# Train the model on training data\n",
    "lr_model.fit(X_train, y_train)\n",
    "# make prediction for the test dataset.\n",
    "lr_prediction = lr_model.predict(X_test)\n",
    "# The prediction SOC value\n",
    "lr_prediction[:10]"
   ]
  },
  {
   "cell_type": "markdown",
   "metadata": {},
   "source": [
    "#### Evaluation Using Score Accuracy"
   ]
  },
  {
   "cell_type": "code",
   "execution_count": 75,
   "metadata": {},
   "outputs": [
    {
     "data": {
      "text/html": [
       "\n",
       "            <style>\n",
       "                .geemap-dark {\n",
       "                    --jp-widgets-color: white;\n",
       "                    --jp-widgets-label-color: white;\n",
       "                    --jp-ui-font-color1: white;\n",
       "                    --jp-layout-color2: #454545;\n",
       "                    background-color: #383838;\n",
       "                }\n",
       "                    \n",
       "                .geemap-dark .jupyter-button {\n",
       "                    --jp-layout-color3: #383838;\n",
       "                }\n",
       "                \n",
       "                .geemap-colab {\n",
       "                    background-color: var(--colab-primary-surface-color, white);\n",
       "                }\n",
       "                    \n",
       "                .geemap-colab .jupyter-button {\n",
       "                    --jp-layout-color3: var(--colab-primary-surface-color, white);\n",
       "                }\n",
       "            </style>\n",
       "            "
      ],
      "text/plain": [
       "<IPython.core.display.HTML object>"
      ]
     },
     "metadata": {},
     "output_type": "display_data"
    },
    {
     "data": {
      "text/html": [
       "<div>\n",
       "<style scoped>\n",
       "    .dataframe tbody tr th:only-of-type {\n",
       "        vertical-align: middle;\n",
       "    }\n",
       "\n",
       "    .dataframe tbody tr th {\n",
       "        vertical-align: top;\n",
       "    }\n",
       "\n",
       "    .dataframe thead th {\n",
       "        text-align: right;\n",
       "    }\n",
       "</style>\n",
       "<table border=\"1\" class=\"dataframe\">\n",
       "  <thead>\n",
       "    <tr style=\"text-align: right;\">\n",
       "      <th></th>\n",
       "      <th>Name</th>\n",
       "      <th>MAE</th>\n",
       "      <th>MSE</th>\n",
       "      <th>R2</th>\n",
       "    </tr>\n",
       "  </thead>\n",
       "  <tbody>\n",
       "    <tr>\n",
       "      <th>0</th>\n",
       "      <td>RF</td>\n",
       "      <td>0.3105</td>\n",
       "      <td>0.7164</td>\n",
       "      <td>0.9943</td>\n",
       "    </tr>\n",
       "    <tr>\n",
       "      <th>1</th>\n",
       "      <td>SVR</td>\n",
       "      <td>6.8316</td>\n",
       "      <td>126.8612</td>\n",
       "      <td>-0.0101</td>\n",
       "    </tr>\n",
       "    <tr>\n",
       "      <th>2</th>\n",
       "      <td>GBC</td>\n",
       "      <td>0.1927</td>\n",
       "      <td>0.1723</td>\n",
       "      <td>0.9986</td>\n",
       "    </tr>\n",
       "    <tr>\n",
       "      <th>3</th>\n",
       "      <td>DT</td>\n",
       "      <td>0.4789</td>\n",
       "      <td>1.7159</td>\n",
       "      <td>0.9863</td>\n",
       "    </tr>\n",
       "    <tr>\n",
       "      <th>4</th>\n",
       "      <td>LR</td>\n",
       "      <td>0.1277</td>\n",
       "      <td>0.0323</td>\n",
       "      <td>0.9997</td>\n",
       "    </tr>\n",
       "  </tbody>\n",
       "</table>\n",
       "</div>"
      ],
      "text/plain": [
       "  Name     MAE       MSE      R2\n",
       "0   RF  0.3105    0.7164  0.9943\n",
       "1  SVR  6.8316  126.8612 -0.0101\n",
       "2  GBC  0.1927    0.1723  0.9986\n",
       "3   DT  0.4789    1.7159  0.9863\n",
       "4   LR  0.1277    0.0323  0.9997"
      ]
     },
     "execution_count": 75,
     "metadata": {},
     "output_type": "execute_result"
    }
   ],
   "source": [
    "models = []\n",
    "models.append(('RF', RandomForestRegressor()))\n",
    "models.append(('SVR', SVR()))\n",
    "models.append(('GBC', GradientBoostingRegressor()))\n",
    "models.append(('DT', DecisionTreeRegressor()))\n",
    "models.append(('LR', LinearRegression()))\n",
    "\n",
    "names = []\n",
    "mae_scores = []\n",
    "mse_scores = []\n",
    "r2_scores = []\n",
    "\n",
    "for name, model in models:\n",
    "    model.fit(X_train, y_train)\n",
    "    y_pred = model.predict(X_test)\n",
    "    mae_scores.append(round(mean_absolute_error(y_test, y_pred), 4))\n",
    "    mse_scores.append(round(mean_squared_error(y_test, y_pred), 4))\n",
    "    r2_scores.append(round(r2_score(y_test, y_pred), 4))\n",
    "    names.append(name)\n",
    "\n",
    "# Create a DataFrame to display the results\n",
    "accuracy_scores = pd.DataFrame({\n",
    "    'Name': names,\n",
    "    'MAE': mae_scores,\n",
    "    'MSE': mse_scores,\n",
    "    'R2': r2_scores\n",
    "})\n",
    "\n",
    "accuracy_scores"
   ]
  },
  {
   "cell_type": "code",
   "execution_count": 81,
   "metadata": {},
   "outputs": [
    {
     "data": {
      "text/html": [
       "\n",
       "            <style>\n",
       "                .geemap-dark {\n",
       "                    --jp-widgets-color: white;\n",
       "                    --jp-widgets-label-color: white;\n",
       "                    --jp-ui-font-color1: white;\n",
       "                    --jp-layout-color2: #454545;\n",
       "                    background-color: #383838;\n",
       "                }\n",
       "                    \n",
       "                .geemap-dark .jupyter-button {\n",
       "                    --jp-layout-color3: #383838;\n",
       "                }\n",
       "                \n",
       "                .geemap-colab {\n",
       "                    background-color: var(--colab-primary-surface-color, white);\n",
       "                }\n",
       "                    \n",
       "                .geemap-colab .jupyter-button {\n",
       "                    --jp-layout-color3: var(--colab-primary-surface-color, white);\n",
       "                }\n",
       "            </style>\n",
       "            "
      ],
      "text/plain": [
       "<IPython.core.display.HTML object>"
      ]
     },
     "metadata": {},
     "output_type": "display_data"
    },
    {
     "data": {
      "image/png": "[encoded data removed]",
      "text/plain": [
       "<Figure size 640x480 with 1 Axes>"
      ]
     },
     "metadata": {},
     "output_type": "display_data"
    }
   ],
   "source": [
    "import seaborn as sns\n",
    "axis = sns.barplot(x = 'Name', y = 'R2', data=accuracy_scores)\n",
    "axis.set(xlabel='Regressor Models', ylabel='Accuracy of the Model')\n",
    "for p in axis.patches:\n",
    "    height = p.get_height()\n",
    "    axis.text(p.get_x() + p.get_width()/2, height + 0.01, '{:1.2f}'.format(height), ha=\"center\") \n",
    "plt.show()"
   ]
  },
  {
   "cell_type": "markdown",
   "metadata": {},
   "source": [
    "#### Evaluation Using Cross Validation"
   ]
  },
  {
   "cell_type": "code",
   "execution_count": 83,
   "metadata": {},
   "outputs": [
    {
     "data": {
      "text/html": [
       "\n",
       "            <style>\n",
       "                .geemap-dark {\n",
       "                    --jp-widgets-color: white;\n",
       "                    --jp-widgets-label-color: white;\n",
       "                    --jp-ui-font-color1: white;\n",
       "                    --jp-layout-color2: #454545;\n",
       "                    background-color: #383838;\n",
       "                }\n",
       "                    \n",
       "                .geemap-dark .jupyter-button {\n",
       "                    --jp-layout-color3: #383838;\n",
       "                }\n",
       "                \n",
       "                .geemap-colab {\n",
       "                    background-color: var(--colab-primary-surface-color, white);\n",
       "                }\n",
       "                    \n",
       "                .geemap-colab .jupyter-button {\n",
       "                    --jp-layout-color3: var(--colab-primary-surface-color, white);\n",
       "                }\n",
       "            </style>\n",
       "            "
      ],
      "text/plain": [
       "<IPython.core.display.HTML object>"
      ]
     },
     "metadata": {},
     "output_type": "display_data"
    },
    {
     "data": {
      "text/html": [
       "<div>\n",
       "<style scoped>\n",
       "    .dataframe tbody tr th:only-of-type {\n",
       "        vertical-align: middle;\n",
       "    }\n",
       "\n",
       "    .dataframe tbody tr th {\n",
       "        vertical-align: top;\n",
       "    }\n",
       "\n",
       "    .dataframe thead th {\n",
       "        text-align: right;\n",
       "    }\n",
       "</style>\n",
       "<table border=\"1\" class=\"dataframe\">\n",
       "  <thead>\n",
       "    <tr style=\"text-align: right;\">\n",
       "      <th></th>\n",
       "      <th>Name</th>\n",
       "      <th>Score</th>\n",
       "    </tr>\n",
       "  </thead>\n",
       "  <tbody>\n",
       "    <tr>\n",
       "      <th>0</th>\n",
       "      <td>RF</td>\n",
       "      <td>5</td>\n",
       "    </tr>\n",
       "    <tr>\n",
       "      <th>1</th>\n",
       "      <td>SVR</td>\n",
       "      <td>12</td>\n",
       "    </tr>\n",
       "    <tr>\n",
       "      <th>2</th>\n",
       "      <td>GBC</td>\n",
       "      <td>6</td>\n",
       "    </tr>\n",
       "    <tr>\n",
       "      <th>3</th>\n",
       "      <td>DT</td>\n",
       "      <td>10</td>\n",
       "    </tr>\n",
       "    <tr>\n",
       "      <th>4</th>\n",
       "      <td>LR</td>\n",
       "      <td>0</td>\n",
       "    </tr>\n",
       "  </tbody>\n",
       "</table>\n",
       "</div>"
      ],
      "text/plain": [
       "  Name  Score\n",
       "0   RF      5\n",
       "1  SVR     12\n",
       "2  GBC      6\n",
       "3   DT     10\n",
       "4   LR      0"
      ]
     },
     "execution_count": 83,
     "metadata": {},
     "output_type": "execute_result"
    }
   ],
   "source": [
    "models = []\n",
    "models.append(('RF', RandomForestRegressor()))\n",
    "models.append(('SVR', SVR()))  # Fixed model name\n",
    "models.append(('GBC', GradientBoostingRegressor()))\n",
    "models.append(('DT', DecisionTreeRegressor()))\n",
    "models.append(('LR', LinearRegression()))\n",
    "\n",
    "names = []\n",
    "scores = []\n",
    "for name, model in models:\n",
    "    cross_val_results = cross_val_score(model, X_val, y_val,\n",
    "                                        scoring=\"neg_mean_squared_error\", cv=10)\n",
    "    scores.append(round(np.sqrt(-cross_val_results.mean())))  # Negate the scores and round\n",
    "    names.append(name)\n",
    "\n",
    "validation = pd.DataFrame({'Name': names, 'Score': scores})\n",
    "validation"
   ]
  },
  {
   "cell_type": "markdown",
   "metadata": {},
   "source": [
    "#### Hyperparameter Tunnning"
   ]
  },
  {
   "cell_type": "markdown",
   "metadata": {},
   "source": [
    "Grid Search"
   ]
  },
  {
   "cell_type": "code",
   "execution_count": null,
   "metadata": {},
   "outputs": [
    {
     "data": {
      "text/html": [
       "\n",
       "            <style>\n",
       "                .geemap-dark {\n",
       "                    --jp-widgets-color: white;\n",
       "                    --jp-widgets-label-color: white;\n",
       "                    --jp-ui-font-color1: white;\n",
       "                    --jp-layout-color2: #454545;\n",
       "                    background-color: #383838;\n",
       "                }\n",
       "                    \n",
       "                .geemap-dark .jupyter-button {\n",
       "                    --jp-layout-color3: #383838;\n",
       "                }\n",
       "                \n",
       "                .geemap-colab {\n",
       "                    background-color: var(--colab-primary-surface-color, white);\n",
       "                }\n",
       "                    \n",
       "                .geemap-colab .jupyter-button {\n",
       "                    --jp-layout-color3: var(--colab-primary-surface-color, white);\n",
       "                }\n",
       "            </style>\n",
       "            "
      ],
      "text/plain": [
       "<IPython.core.display.HTML object>"
      ]
     },
     "metadata": {},
     "output_type": "display_data"
    }
   ],
   "source": [
    "# Define hyperparameter grids with explanations\n",
    "param_grid_random_forest = {\n",
    "    # Number of trees in the forest\n",
    "    'n_estimators': [50, 100, 200],  # More trees usually give better performance but increase computation time\n",
    "    # Maximum depth of the tree\n",
    "    'max_depth': [None, 10, 20, 30],  # None means nodes are expanded until all leaves are pure or contain less than min_samples_split samples\n",
    "    # Minimum number of samples required to split an internal node\n",
    "    'min_samples_split': [2, 5, 10]  # The minimum number of samples required to split an internal node\n",
    "}\n",
    "\n",
    "param_grid_svr = {\n",
    "    # Penalty parameter C of the error term\n",
    "    'C': [0.1, 1, 10],  # Regularization parameter, with lower values leading to stronger regularization\n",
    "    # Kernel coefficient for 'rbf', 'poly', and 'sigmoid'\n",
    "    'gamma': [1e-3, 1e-4, 'scale'],  # 'scale' is the default; 1e-3 and 1e-4 are smaller values for higher smoothness\n",
    "    # Specifies the kernel type to be used in the algorithm\n",
    "    'kernel': ['linear', 'rbf']  # Linear and Radial Basis Function kernels are commonly used\n",
    "}\n",
    "\n",
    "param_grid_decision_tree = {\n",
    "    # Maximum depth of the tree\n",
    "    'max_depth': [None, 10, 20, 30],  # None means nodes are expanded until all leaves are pure or contain less than min_samples_split samples\n",
    "    # Minimum number of samples required to split an internal node\n",
    "    'min_samples_split': [2, 5, 10]  # The minimum number of samples required to split an internal node\n",
    "}\n",
    "\n",
    "param_grid_gradient_boosting = {\n",
    "    # Number of boosting stages to be run\n",
    "    'n_estimators': [50, 100, 200],  # More stages can lead to overfitting, hence we check up to 200\n",
    "    # Learning rate shrinks the contribution of each tree\n",
    "    'learning_rate': [0.01, 0.1, 0.2],  # Lower learning rates need more stages to converge\n",
    "    # Maximum depth of the individual regression estimators\n",
    "    'max_depth': [3, 5, 7],  # Shallow trees (lower depth) often perform better in gradient boosting\n",
    "}\n",
    "\n",
    "# Linear Regression has no hyperparameters to tune, but we include it for completeness\n",
    "param_grid_linear_regression = {}  # No hyperparameters for linear regression\n",
    "\n",
    "# Initialize models\n",
    "random_forest = RandomForestRegressor()\n",
    "svr = SVR()\n",
    "decision_tree = DecisionTreeRegressor()\n",
    "gradient_boosting = GradientBoostingRegressor()\n",
    "linear_regression = LinearRegression()\n",
    "\n",
    "# Initialize GridSearchCV for each model\n",
    "grid_search_random_forest = GridSearchCV(estimator=random_forest, param_grid=param_grid_random_forest, cv=5,\n",
    "                                         n_jobs=-1, scoring='neg_mean_squared_error')\n",
    "grid_search_svr = GridSearchCV(estimator=svr, param_grid=param_grid_svr, cv=5, n_jobs=-1, \n",
    "                               scoring='neg_mean_squared_error')\n",
    "grid_search_decision_tree = GridSearchCV(estimator=decision_tree, param_grid=param_grid_decision_tree, \n",
    "                                         cv=5, n_jobs=-1, scoring='neg_mean_squared_error')\n",
    "grid_search_gradient_boosting = GridSearchCV(estimator=gradient_boosting, param_grid=param_grid_gradient_boosting,\n",
    "                                             cv=5, n_jobs=-1, scoring='neg_mean_squared_error')\n",
    "grid_search_linear_regression = GridSearchCV(estimator=linear_regression, param_grid=param_grid_linear_regression,\n",
    "                                             cv=5, n_jobs=-1, scoring='neg_mean_squared_error')\n",
    "\n",
    "# Fit the models\n",
    "grid_search_random_forest.fit(X_train, y_train)\n",
    "grid_search_svr.fit(X_train, y_train)\n",
    "grid_search_decision_tree.fit(X_train, y_train)\n",
    "grid_search_gradient_boosting.fit(X_train, y_train)\n",
    "grid_search_linear_regression.fit(X_train, y_train)\n",
    "\n",
    "# Print best parameters and scores\n",
    "print(\"Best parameters for Random Forest Regressor:\", grid_search_random_forest.best_params_)\n",
    "print(\"Best score for Random Forest Regressor:\", grid_search_random_forest.best_score_)\n",
    "\n",
    "print(\"Best parameters for SVR:\", grid_search_svr.best_params_)\n",
    "print(\"Best score for SVR:\", grid_search_svr.best_score_)\n",
    "\n",
    "print(\"Best parameters for Decision Tree Regressor:\", grid_search_decision_tree.best_params_)\n",
    "print(\"Best score for Decision Tree Regressor:\", grid_search_decision_tree.best_score_)\n",
    "\n",
    "print(\"Best parameters for Gradient Boosting Regressor:\", grid_search_gradient_boosting.best_params_)\n",
    "print(\"Best score for Gradient Boosting Regressor:\", grid_search_gradient_boosting.best_score_)\n",
    "\n",
    "print(\"Best parameters for Linear Regression:\", grid_search_linear_regression.best_params_)\n",
    "print(\"Best score for Linear Regression:\", grid_search_linear_regression.best_score_)\n"
   ]
  },
  {
   "cell_type": "code",
   "execution_count": null,
   "metadata": {},
   "outputs": [],
   "source": []
  },
  {
   "cell_type": "code",
   "execution_count": null,
   "metadata": {},
   "outputs": [],
   "source": []
  },
  {
   "cell_type": "code",
   "execution_count": null,
   "metadata": {},
   "outputs": [],
   "source": []
  },
  {
   "cell_type": "code",
   "execution_count": null,
   "metadata": {},
   "outputs": [],
   "source": []
  },
  {
   "cell_type": "markdown",
   "metadata": {
    "id": "BFeoyqwxKPyR"
   },
   "source": [
    "Features Importance"
   ]
  },
  {
   "cell_type": "code",
   "execution_count": null,
   "metadata": {
    "colab": {
     "base_uri": "https://localhost:8080/",
     "height": 393
    },
    "id": "lYChpBUbIDjh",
    "outputId": "c7896fb0-b326-4817-b3cb-1405f47da328"
   },
   "outputs": [],
   "source": [
    "# Estimate the feature importance\n",
    "feature_imp = pd.Series(model.feature_importances_, index=features_list).sort_values(ascending=False)\n",
    "print(feature_imp)\n",
    "\n",
    "# Plot the feature importance \n",
    "feature_imp.plot.bar();"
   ]
  },
  {
   "cell_type": "code",
   "execution_count": null,
   "metadata": {},
   "outputs": [],
   "source": []
  },
  {
   "cell_type": "markdown",
   "metadata": {
    "id": "FgTWXLysKjqY"
   },
   "source": [
    "Using the different Model Developed to PRedict the SOC Value for 20,000 points"
   ]
  },
  {
   "cell_type": "markdown",
   "metadata": {
    "id": "Z-vUsm40IDjr"
   },
   "source": [
    "Generate 20000 new random points predictions points within the study\n"
   ]
  },
  {
   "cell_type": "code",
   "execution_count": null,
   "metadata": {
    "colab": {
     "base_uri": "https://localhost:8080/",
     "height": 206
    },
    "id": "DaLfOLPKIDjr",
    "outputId": "83c7203c-fa0b-4323-ac9e-17f754c782c7"
   },
   "outputs": [],
   "source": [
    "# import random\n",
    "# random.seed(42)\n",
    "# from utils.generate_random_point import generate_random_points\n",
    "\n",
    "# boundary = study_area\n",
    "# num_points = 5000\n",
    "# crs = 4326\n",
    "# random_pnt = generate_random_points(boundary, num_points, crs)\n",
    "# len(random_pnt.head)"
   ]
  },
  {
   "cell_type": "code",
   "execution_count": null,
   "metadata": {},
   "outputs": [],
   "source": [
    "# # plot the random points to see the distribution\n",
    "# fig = plt.figure(figsize=(10, 12))\n",
    "# ax = fig.add_subplot(1, 1, 1)\n",
    "# ax = boundary.plot(ax=ax, linewidth=2, color='white', edgecolor='0.8')\n",
    "# random_pnt.plot(ax=ax, markersize=5, color='green');"
   ]
  },
  {
   "cell_type": "markdown",
   "metadata": {},
   "source": [
    "Extract all the values from the independent raster data to the predictive random points"
   ]
  },
  {
   "cell_type": "code",
   "execution_count": null,
   "metadata": {},
   "outputs": [],
   "source": [
    "# from utils.extract_raster_values import get_value_to_point\n",
    "\n",
    "# point_data = random_pnt\n",
    "# raster_list = [\n",
    "#     slope_clip, landcover_clip,\n",
    "#     rainfall_clip, temp_clip,\n",
    "#     ndvi_clip, bsi_clip, soc_clip,\n",
    "# ]\n",
    "# sampling_pnts = get_value_to_point(point_data, raster_list) \n",
    "# sampling_pnts.head()"
   ]
  },
  {
   "cell_type": "markdown",
   "metadata": {},
   "source": [
    " Dropall the columns except the predictive features"
   ]
  },
  {
   "cell_type": "code",
   "execution_count": null,
   "metadata": {
    "colab": {
     "base_uri": "https://localhost:8080/",
     "height": 206
    },
    "id": "k12gIK23IDjv",
    "outputId": "3ac1d609-9ff8-49ae-8ddc-b87221576820",
    "scrolled": true,
    "tags": []
   },
   "outputs": [],
   "source": [
    "# predicitve_data = predictive_points.drop(labels = [\"geometry\"], axis=1)\n",
    "# predicitve_data.head()"
   ]
  }
 ],
 "metadata": {
  "colab": {
   "provenance": []
  },
  "kernelspec": {
   "display_name": "Python 3 (ipykernel)",
   "language": "python",
   "name": "python3"
  },
  "language_info": {
   "codemirror_mode": {
    "name": "ipython",
    "version": 3
   },
   "file_extension": ".py",
   "mimetype": "text/x-python",
   "name": "python",
   "nbconvert_exporter": "python",
   "pygments_lexer": "ipython3",
   "version": "3.9.16"
  },
  "vscode": {
   "interpreter": {
    "hash": "356734b0b4e05b3af569ed06eb258f6ef66038e7268c6bdbb97ecd1a1c609e88"
   }
  },
  "widgets": {
   "application/vnd.jupyter.widget-state+json": {
    "10ca6f9780864c96b071f7ea85bcf24c": {
     "model_module": "jupyter-leaflet",
     "model_module_version": "^0.17",
     "model_name": "LeafletTileLayerModel",
     "state": {
      "_model_module": "jupyter-leaflet",
      "_model_module_version": "^0.17",
      "_model_name": "LeafletTileLayerModel",
      "_view_count": null,
      "_view_module": "jupyter-leaflet",
      "_view_module_version": "^0.17",
      "_view_name": "LeafletTileLayerView",
      "attribution": "&copy; <a href=\"https://www.openstreetmap.org/copyright\">OpenStreetMap</a> contributors",
      "base": true,
      "bottom": true,
      "bounds": null,
      "detect_retina": false,
      "loading": false,
      "max_native_zoom": null,
      "max_zoom": 19,
      "min_native_zoom": null,
      "min_zoom": 1,
      "name": "OpenStreetMap.Mapnik",
      "no_wrap": false,
      "opacity": 1,
      "options": [
       "attribution",
       "bounds",
       "detect_retina",
       "max_native_zoom",
       "max_zoom",
       "min_native_zoom",
       "min_zoom",
       "no_wrap",
       "tile_size",
       "tms",
       "zoom_offset"
      ],
      "pane": "",
      "popup": null,
      "popup_max_height": null,
      "popup_max_width": 300,
      "popup_min_width": 50,
      "show_loading": false,
      "subitems": [],
      "tile_size": 256,
      "tms": false,
      "url": "https://tile.openstreetmap.org/{z}/{x}/{y}.png",
      "visible": true,
      "zoom_offset": 0
     }
    },
    "16db167e511e47d0a54c3e23eb6ef929": {
     "model_module": "jupyter-leaflet",
     "model_module_version": "^0.17",
     "model_name": "LeafletMapStyleModel",
     "state": {
      "_model_module": "jupyter-leaflet",
      "_model_module_version": "^0.17",
      "_model_name": "LeafletMapStyleModel",
      "_view_count": null,
      "_view_module": "@jupyter-widgets/base",
      "_view_module_version": "1.2.0",
      "_view_name": "StyleView",
      "cursor": "move"
     }
    },
    "1884392ad7d74f77b22bd3afee8f25ee": {
     "model_module": "jupyter-leaflet",
     "model_module_version": "^0.17",
     "model_name": "LeafletMeasureControlModel",
     "state": {
      "_custom_units": {},
      "_model_module": "jupyter-leaflet",
      "_model_module_version": "^0.17",
      "_model_name": "LeafletMeasureControlModel",
      "_view_count": null,
      "_view_module": "jupyter-leaflet",
      "_view_module_version": "^0.17",
      "_view_name": "LeafletMeasureControlView",
      "active_color": "orange",
      "capture_z_index": 10000,
      "completed_color": "#C8F2BE",
      "options": [
       "active_color",
       "capture_z_index",
       "completed_color",
       "popup_options",
       "position",
       "primary_area_unit",
       "primary_length_unit",
       "secondary_area_unit",
       "secondary_length_unit"
      ],
      "popup_options": {
       "autoPanPadding": [
        10,
        10
       ],
       "className": "leaflet-measure-resultpopup"
      },
      "position": "bottomleft",
      "primary_area_unit": "acres",
      "primary_length_unit": "kilometers",
      "secondary_area_unit": null,
      "secondary_length_unit": null
     }
    },
    "1aafd0ead93e464b891465a8402ad980": {
     "model_module": "@jupyter-widgets/base",
     "model_module_version": "1.2.0",
     "model_name": "LayoutModel",
     "state": {
      "_model_module": "@jupyter-widgets/base",
      "_model_module_version": "1.2.0",
      "_model_name": "LayoutModel",
      "_view_count": null,
      "_view_module": "@jupyter-widgets/base",
      "_view_module_version": "1.2.0",
      "_view_name": "LayoutView",
      "align_content": null,
      "align_items": null,
      "align_self": null,
      "border": null,
      "bottom": null,
      "display": null,
      "flex": null,
      "flex_flow": null,
      "grid_area": null,
      "grid_auto_columns": null,
      "grid_auto_flow": null,
      "grid_auto_rows": null,
      "grid_column": null,
      "grid_gap": null,
      "grid_row": null,
      "grid_template_areas": null,
      "grid_template_columns": null,
      "grid_template_rows": null,
      "height": "600px",
      "justify_content": null,
      "justify_items": null,
      "left": null,
      "margin": null,
      "max_height": null,
      "max_width": null,
      "min_height": null,
      "min_width": null,
      "object_fit": null,
      "object_position": null,
      "order": null,
      "overflow": null,
      "overflow_x": null,
      "overflow_y": null,
      "padding": null,
      "right": null,
      "top": null,
      "visibility": null,
      "width": null
     }
    },
    "1beb5c098f664ab2a5b411b5836c6bed": {
     "model_module": "jupyter-leaflet",
     "model_module_version": "^0.17",
     "model_name": "LeafletTileLayerModel",
     "state": {
      "_model_module": "jupyter-leaflet",
      "_model_module_version": "^0.17",
      "_model_name": "LeafletTileLayerModel",
      "_view_count": null,
      "_view_module": "jupyter-leaflet",
      "_view_module_version": "^0.17",
      "_view_name": "LeafletTileLayerView",
      "attribution": "Google Earth Engine",
      "base": false,
      "bottom": true,
      "bounds": null,
      "detect_retina": false,
      "loading": false,
      "max_native_zoom": null,
      "max_zoom": 24,
      "min_native_zoom": null,
      "min_zoom": 0,
      "name": "Elevation",
      "no_wrap": false,
      "opacity": 1,
      "options": [
       "attribution",
       "bounds",
       "detect_retina",
       "max_native_zoom",
       "max_zoom",
       "min_native_zoom",
       "min_zoom",
       "no_wrap",
       "tile_size",
       "tms",
       "zoom_offset"
      ],
      "pane": "",
      "popup": null,
      "popup_max_height": null,
      "popup_max_width": 300,
      "popup_min_width": 50,
      "show_loading": false,
      "subitems": [],
      "tile_size": 256,
      "tms": false,
      "url": "https://earthengine.googleapis.com/v1alpha/projects/earthengine-legacy/maps/6ebf6c0b19a72db729c910549452b246-e59b0d7c9333bb05f6b3873e7e40fea5/tiles/{z}/{x}/{y}",
      "visible": true,
      "zoom_offset": 0
     }
    },
    "307f6d551b8f4c4a8055d305b9b0e9ff": {
     "model_module": "@jupyter-widgets/controls",
     "model_module_version": "1.5.0",
     "model_name": "ToggleButtonModel",
     "state": {
      "_dom_classes": [],
      "_model_module": "@jupyter-widgets/controls",
      "_model_module_version": "1.5.0",
      "_model_name": "ToggleButtonModel",
      "_view_count": null,
      "_view_module": "@jupyter-widgets/controls",
      "_view_module_version": "1.5.0",
      "_view_name": "ToggleButtonView",
      "button_style": "",
      "description": "",
      "description_tooltip": null,
      "disabled": false,
      "icon": "globe",
      "layout": "IPY_MODEL_b18a8ec1174a4b539602b041e60c5fd5",
      "style": "IPY_MODEL_91a960182e92408693450e0a4b433141",
      "tooltip": "Search location/data",
      "value": false
     }
    },
    "42a2a539a70047e0ae324ef91b79ad44": {
     "model_module": "jupyter-leaflet",
     "model_module_version": "^0.17",
     "model_name": "LeafletAttributionControlModel",
     "state": {
      "_model_module": "jupyter-leaflet",
      "_model_module_version": "^0.17",
      "_model_name": "LeafletAttributionControlModel",
      "_view_count": null,
      "_view_module": "jupyter-leaflet",
      "_view_module_version": "^0.17",
      "_view_name": "LeafletAttributionControlView",
      "options": [
       "position",
       "prefix"
      ],
      "position": "bottomright",
      "prefix": "ipyleaflet"
     }
    },
    "42dd8778b1d249e19b2ddb2cc1525b69": {
     "model_module": "@jupyter-widgets/controls",
     "model_module_version": "1.5.0",
     "model_name": "DescriptionStyleModel",
     "state": {
      "_model_module": "@jupyter-widgets/controls",
      "_model_module_version": "1.5.0",
      "_model_name": "DescriptionStyleModel",
      "_view_count": null,
      "_view_module": "@jupyter-widgets/base",
      "_view_module_version": "1.2.0",
      "_view_name": "StyleView",
      "description_width": ""
     }
    },
    "4983676c3f254ceb97baa52e361c7299": {
     "model_module": "jupyter-leaflet",
     "model_module_version": "^0.17",
     "model_name": "LeafletZoomControlModel",
     "state": {
      "_model_module": "jupyter-leaflet",
      "_model_module_version": "^0.17",
      "_model_name": "LeafletZoomControlModel",
      "_view_count": null,
      "_view_module": "jupyter-leaflet",
      "_view_module_version": "^0.17",
      "_view_name": "LeafletZoomControlView",
      "options": [
       "position",
       "zoom_in_text",
       "zoom_in_title",
       "zoom_out_text",
       "zoom_out_title"
      ],
      "position": "topleft",
      "zoom_in_text": "+",
      "zoom_in_title": "Zoom in",
      "zoom_out_text": "-",
      "zoom_out_title": "Zoom out"
     }
    },
    "50f5ad810ab24088a4aa0d7a6c3b72f6": {
     "model_module": "jupyter-leaflet",
     "model_module_version": "^0.17",
     "model_name": "LeafletWidgetControlModel",
     "state": {
      "_model_module": "jupyter-leaflet",
      "_model_module_version": "^0.17",
      "_model_name": "LeafletWidgetControlModel",
      "_view_count": null,
      "_view_module": "jupyter-leaflet",
      "_view_module_version": "^0.17",
      "_view_name": "LeafletWidgetControlView",
      "max_height": null,
      "max_width": null,
      "min_height": null,
      "min_width": null,
      "options": [
       "position",
       "transparent_bg"
      ],
      "position": "topright",
      "transparent_bg": false,
      "widget": "IPY_MODEL_57e5db41f9b34d4fb3aa640d0fc91b26"
     }
    },
    "57e5db41f9b34d4fb3aa640d0fc91b26": {
     "model_module": "@jupyter-widgets/controls",
     "model_module_version": "1.5.0",
     "model_name": "VBoxModel",
     "state": {
      "_dom_classes": [],
      "_model_module": "@jupyter-widgets/controls",
      "_model_module_version": "1.5.0",
      "_model_name": "VBoxModel",
      "_view_count": null,
      "_view_module": "@jupyter-widgets/controls",
      "_view_module_version": "1.5.0",
      "_view_name": "VBoxView",
      "box_style": "",
      "children": [
       "IPY_MODEL_cfc93a5646cd446f95f242db3e036881"
      ],
      "layout": "IPY_MODEL_5eff3a9b2d3d4ea0b93d04e2a13d5d82"
     }
    },
    "5881d01c39824298a2fa60d35c67fd5b": {
     "model_module": "jupyter-leaflet",
     "model_module_version": "^0.17",
     "model_name": "LeafletWidgetControlModel",
     "state": {
      "_model_module": "jupyter-leaflet",
      "_model_module_version": "^0.17",
      "_model_name": "LeafletWidgetControlModel",
      "_view_count": null,
      "_view_module": "jupyter-leaflet",
      "_view_module_version": "^0.17",
      "_view_name": "LeafletWidgetControlView",
      "max_height": null,
      "max_width": null,
      "min_height": null,
      "min_width": null,
      "options": [
       "position",
       "transparent_bg"
      ],
      "position": "topleft",
      "transparent_bg": false,
      "widget": "IPY_MODEL_c6b1b2f055a445c28f47154a1ffd0f5d"
     }
    },
    "5eff3a9b2d3d4ea0b93d04e2a13d5d82": {
     "model_module": "@jupyter-widgets/base",
     "model_module_version": "1.2.0",
     "model_name": "LayoutModel",
     "state": {
      "_model_module": "@jupyter-widgets/base",
      "_model_module_version": "1.2.0",
      "_model_name": "LayoutModel",
      "_view_count": null,
      "_view_module": "@jupyter-widgets/base",
      "_view_module_version": "1.2.0",
      "_view_name": "LayoutView",
      "align_content": null,
      "align_items": null,
      "align_self": null,
      "border": null,
      "bottom": null,
      "display": null,
      "flex": null,
      "flex_flow": null,
      "grid_area": null,
      "grid_auto_columns": null,
      "grid_auto_flow": null,
      "grid_auto_rows": null,
      "grid_column": null,
      "grid_gap": null,
      "grid_row": null,
      "grid_template_areas": null,
      "grid_template_columns": null,
      "grid_template_rows": null,
      "height": null,
      "justify_content": null,
      "justify_items": null,
      "left": null,
      "margin": null,
      "max_height": null,
      "max_width": null,
      "min_height": null,
      "min_width": null,
      "object_fit": null,
      "object_position": null,
      "order": null,
      "overflow": null,
      "overflow_x": null,
      "overflow_y": null,
      "padding": null,
      "right": null,
      "top": null,
      "visibility": null,
      "width": null
     }
    },
    "78b758c094c7475aab2d3a45aaaab4a3": {
     "model_module": "jupyter-leaflet",
     "model_module_version": "^0.17",
     "model_name": "LeafletTileLayerModel",
     "state": {
      "_model_module": "jupyter-leaflet",
      "_model_module_version": "^0.17",
      "_model_name": "LeafletTileLayerModel",
      "_view_count": null,
      "_view_module": "jupyter-leaflet",
      "_view_module_version": "^0.17",
      "_view_name": "LeafletTileLayerView",
      "attribution": "Google",
      "base": false,
      "bottom": true,
      "bounds": null,
      "detect_retina": false,
      "loading": false,
      "max_native_zoom": null,
      "max_zoom": 22,
      "min_native_zoom": null,
      "min_zoom": 0,
      "name": "Google Maps",
      "no_wrap": false,
      "opacity": 1,
      "options": [
       "attribution",
       "bounds",
       "detect_retina",
       "max_native_zoom",
       "max_zoom",
       "min_native_zoom",
       "min_zoom",
       "no_wrap",
       "tile_size",
       "tms",
       "zoom_offset"
      ],
      "pane": "",
      "popup": null,
      "popup_max_height": null,
      "popup_max_width": 300,
      "popup_min_width": 50,
      "show_loading": false,
      "subitems": [],
      "tile_size": 256,
      "tms": false,
      "url": "https://mt1.google.com/vt/lyrs=m&x={x}&y={y}&z={z}",
      "visible": true,
      "zoom_offset": 0
     }
    },
    "91a960182e92408693450e0a4b433141": {
     "model_module": "@jupyter-widgets/controls",
     "model_module_version": "1.5.0",
     "model_name": "DescriptionStyleModel",
     "state": {
      "_model_module": "@jupyter-widgets/controls",
      "_model_module_version": "1.5.0",
      "_model_name": "DescriptionStyleModel",
      "_view_count": null,
      "_view_module": "@jupyter-widgets/base",
      "_view_module_version": "1.2.0",
      "_view_name": "StyleView",
      "description_width": ""
     }
    },
    "923c0de069aa4e5c8abfed385abc889a": {
     "model_module": "jupyter-leaflet",
     "model_module_version": "^0.17",
     "model_name": "LeafletFullScreenControlModel",
     "state": {
      "_model_module": "jupyter-leaflet",
      "_model_module_version": "^0.17",
      "_model_name": "LeafletFullScreenControlModel",
      "_view_count": null,
      "_view_module": "jupyter-leaflet",
      "_view_module_version": "^0.17",
      "_view_name": "LeafletFullScreenControlView",
      "options": [
       "position"
      ],
      "position": "topleft"
     }
    },
    "b18a8ec1174a4b539602b041e60c5fd5": {
     "model_module": "@jupyter-widgets/base",
     "model_module_version": "1.2.0",
     "model_name": "LayoutModel",
     "state": {
      "_model_module": "@jupyter-widgets/base",
      "_model_module_version": "1.2.0",
      "_model_name": "LayoutModel",
      "_view_count": null,
      "_view_module": "@jupyter-widgets/base",
      "_view_module_version": "1.2.0",
      "_view_name": "LayoutView",
      "align_content": null,
      "align_items": null,
      "align_self": null,
      "border": null,
      "bottom": null,
      "display": null,
      "flex": null,
      "flex_flow": null,
      "grid_area": null,
      "grid_auto_columns": null,
      "grid_auto_flow": null,
      "grid_auto_rows": null,
      "grid_column": null,
      "grid_gap": null,
      "grid_row": null,
      "grid_template_areas": null,
      "grid_template_columns": null,
      "grid_template_rows": null,
      "height": "28px",
      "justify_content": null,
      "justify_items": null,
      "left": null,
      "margin": null,
      "max_height": null,
      "max_width": null,
      "min_height": null,
      "min_width": null,
      "object_fit": null,
      "object_position": null,
      "order": null,
      "overflow": null,
      "overflow_x": null,
      "overflow_y": null,
      "padding": "0px 0px 0px 4px",
      "right": null,
      "top": null,
      "visibility": null,
      "width": "28px"
     }
    },
    "b750f9e9c00645889c4224774a29a89d": {
     "model_module": "jupyter-leaflet",
     "model_module_version": "^0.17",
     "model_name": "LeafletScaleControlModel",
     "state": {
      "_model_module": "jupyter-leaflet",
      "_model_module_version": "^0.17",
      "_model_name": "LeafletScaleControlModel",
      "_view_count": null,
      "_view_module": "jupyter-leaflet",
      "_view_module_version": "^0.17",
      "_view_name": "LeafletScaleControlView",
      "imperial": true,
      "max_width": 100,
      "metric": true,
      "options": [
       "imperial",
       "max_width",
       "metric",
       "position",
       "update_when_idle"
      ],
      "position": "bottomleft",
      "update_when_idle": false
     }
    },
    "bba5d0d674f94ec0b1886e82b18e323d": {
     "model_module": "@jupyter-widgets/base",
     "model_module_version": "1.2.0",
     "model_name": "LayoutModel",
     "state": {
      "_model_module": "@jupyter-widgets/base",
      "_model_module_version": "1.2.0",
      "_model_name": "LayoutModel",
      "_view_count": null,
      "_view_module": "@jupyter-widgets/base",
      "_view_module_version": "1.2.0",
      "_view_name": "LayoutView",
      "align_content": null,
      "align_items": null,
      "align_self": null,
      "border": null,
      "bottom": null,
      "display": null,
      "flex": null,
      "flex_flow": null,
      "grid_area": null,
      "grid_auto_columns": null,
      "grid_auto_flow": null,
      "grid_auto_rows": null,
      "grid_column": null,
      "grid_gap": null,
      "grid_row": null,
      "grid_template_areas": null,
      "grid_template_columns": null,
      "grid_template_rows": null,
      "height": "28px",
      "justify_content": null,
      "justify_items": null,
      "left": null,
      "margin": null,
      "max_height": null,
      "max_width": null,
      "min_height": null,
      "min_width": null,
      "object_fit": null,
      "object_position": null,
      "order": null,
      "overflow": null,
      "overflow_x": null,
      "overflow_y": null,
      "padding": "0px 0px 0px 4px",
      "right": null,
      "top": null,
      "visibility": null,
      "width": "28px"
     }
    },
    "c610449c895f4b5a8e4009a9d6050f43": {
     "model_module": "jupyter-leaflet",
     "model_module_version": "^0.17",
     "model_name": "LeafletMapStyleModel",
     "state": {
      "_model_module": "jupyter-leaflet",
      "_model_module_version": "^0.17",
      "_model_name": "LeafletMapStyleModel",
      "_view_count": null,
      "_view_module": "@jupyter-widgets/base",
      "_view_module_version": "1.2.0",
      "_view_name": "StyleView",
      "cursor": "grab"
     }
    },
    "c6b1b2f055a445c28f47154a1ffd0f5d": {
     "model_module": "@jupyter-widgets/controls",
     "model_module_version": "1.5.0",
     "model_name": "HBoxModel",
     "state": {
      "_dom_classes": [],
      "_model_module": "@jupyter-widgets/controls",
      "_model_module_version": "1.5.0",
      "_model_name": "HBoxModel",
      "_view_count": null,
      "_view_module": "@jupyter-widgets/controls",
      "_view_module_version": "1.5.0",
      "_view_name": "HBoxView",
      "box_style": "",
      "children": [
       "IPY_MODEL_307f6d551b8f4c4a8055d305b9b0e9ff"
      ],
      "layout": "IPY_MODEL_dd94d67fc5d74011a985e70830558529"
     }
    },
    "cfc93a5646cd446f95f242db3e036881": {
     "model_module": "@jupyter-widgets/controls",
     "model_module_version": "1.5.0",
     "model_name": "ToggleButtonModel",
     "state": {
      "_dom_classes": [],
      "_model_module": "@jupyter-widgets/controls",
      "_model_module_version": "1.5.0",
      "_model_name": "ToggleButtonModel",
      "_view_count": null,
      "_view_module": "@jupyter-widgets/controls",
      "_view_module_version": "1.5.0",
      "_view_name": "ToggleButtonView",
      "button_style": "",
      "description": "",
      "description_tooltip": null,
      "disabled": false,
      "icon": "wrench",
      "layout": "IPY_MODEL_bba5d0d674f94ec0b1886e82b18e323d",
      "style": "IPY_MODEL_42dd8778b1d249e19b2ddb2cc1525b69",
      "tooltip": "Toolbar",
      "value": false
     }
    },
    "d29c37a16aba48719302a3c1d2afc93a": {
     "model_module": "jupyter-leaflet",
     "model_module_version": "^0.17",
     "model_name": "LeafletTileLayerModel",
     "state": {
      "_model_module": "jupyter-leaflet",
      "_model_module_version": "^0.17",
      "_model_name": "LeafletTileLayerModel",
      "_view_count": null,
      "_view_module": "jupyter-leaflet",
      "_view_module_version": "^0.17",
      "_view_name": "LeafletTileLayerView",
      "attribution": "Google Earth Engine",
      "base": false,
      "bottom": true,
      "bounds": null,
      "detect_retina": false,
      "loading": false,
      "max_native_zoom": null,
      "max_zoom": 24,
      "min_native_zoom": null,
      "min_zoom": 0,
      "name": "Slope",
      "no_wrap": false,
      "opacity": 1,
      "options": [
       "attribution",
       "bounds",
       "detect_retina",
       "max_native_zoom",
       "max_zoom",
       "min_native_zoom",
       "min_zoom",
       "no_wrap",
       "tile_size",
       "tms",
       "zoom_offset"
      ],
      "pane": "",
      "popup": null,
      "popup_max_height": null,
      "popup_max_width": 300,
      "popup_min_width": 50,
      "show_loading": false,
      "subitems": [],
      "tile_size": 256,
      "tms": false,
      "url": "https://earthengine.googleapis.com/v1alpha/projects/earthengine-legacy/maps/e89f4e22ae45dba2d6584b9cc11c5137-7a2381d30506c51e94f7ed151f999e08/tiles/{z}/{x}/{y}",
      "visible": true,
      "zoom_offset": 0
     }
    },
    "d5f0101a43164b608f55211f7f9b8441": {
     "model_module": "jupyter-leaflet",
     "model_module_version": "^0.17",
     "model_name": "LeafletMapModel",
     "state": {
      "_dom_classes": [],
      "_model_module": "jupyter-leaflet",
      "_model_module_version": "^0.17",
      "_model_name": "LeafletMapModel",
      "_view_count": null,
      "_view_module": "jupyter-leaflet",
      "_view_module_version": "^0.17",
      "_view_name": "LeafletMapView",
      "bottom": 91240,
      "bounce_at_zoom_limits": true,
      "box_zoom": true,
      "center": [
       48.16974908365419,
       -65.59249877929689
      ],
      "close_popup_on_click": true,
      "controls": [
       "IPY_MODEL_5881d01c39824298a2fa60d35c67fd5b",
       "IPY_MODEL_4983676c3f254ceb97baa52e361c7299",
       "IPY_MODEL_b750f9e9c00645889c4224774a29a89d",
       "IPY_MODEL_923c0de069aa4e5c8abfed385abc889a",
       "IPY_MODEL_1884392ad7d74f77b22bd3afee8f25ee",
       "IPY_MODEL_42a2a539a70047e0ae324ef91b79ad44",
       "IPY_MODEL_f4ba9d69d03643218c55a9090cb7bc02",
       "IPY_MODEL_50f5ad810ab24088a4aa0d7a6c3b72f6"
      ],
      "crs": {
       "custom": false,
       "name": "EPSG3857"
      },
      "default_style": "IPY_MODEL_c610449c895f4b5a8e4009a9d6050f43",
      "double_click_zoom": true,
      "dragging": true,
      "dragging_style": "IPY_MODEL_16db167e511e47d0a54c3e23eb6ef929",
      "east": -64.71359252929689,
      "fullscreen": false,
      "inertia": true,
      "inertia_deceleration": 3000,
      "inertia_max_speed": 1500,
      "interpolation": "bilinear",
      "keyboard": true,
      "keyboard_pan_offset": 80,
      "keyboard_zoom_offset": 1,
      "layers": [
       "IPY_MODEL_10ca6f9780864c96b071f7ea85bcf24c",
       "IPY_MODEL_78b758c094c7475aab2d3a45aaaab4a3",
       "IPY_MODEL_1beb5c098f664ab2a5b411b5836c6bed",
       "IPY_MODEL_d29c37a16aba48719302a3c1d2afc93a",
       "IPY_MODEL_de6d7ad177c74d33b585d5b3b89033db"
      ],
      "layout": "IPY_MODEL_1aafd0ead93e464b891465a8402ad980",
      "left": 82669,
      "max_zoom": 24,
      "min_zoom": null,
      "modisdate": "2023-02-25",
      "north": 48.44377831058805,
      "options": [
       "bounce_at_zoom_limits",
       "box_zoom",
       "center",
       "close_popup_on_click",
       "double_click_zoom",
       "dragging",
       "fullscreen",
       "inertia",
       "inertia_deceleration",
       "inertia_max_speed",
       "interpolation",
       "keyboard",
       "keyboard_pan_offset",
       "keyboard_zoom_offset",
       "max_zoom",
       "min_zoom",
       "prefer_canvas",
       "scroll_wheel_zoom",
       "tap",
       "tap_tolerance",
       "touch_zoom",
       "world_copy_jump",
       "zoom",
       "zoom_animation_threshold",
       "zoom_delta",
       "zoom_snap"
      ],
      "panes": {},
      "prefer_canvas": false,
      "right": 83949,
      "scroll_wheel_zoom": true,
      "south": 47.89424772020999,
      "style": "IPY_MODEL_c610449c895f4b5a8e4009a9d6050f43",
      "tap": true,
      "tap_tolerance": 15,
      "top": 90640,
      "touch_zoom": true,
      "west": -66.47140502929689,
      "window_url": "https://f0cowfpanwr-496ff2e9c6d22116-0-colab.googleusercontent.com/outputframe.html?vrz=colab-20230223-060147-RC00_511737765",
      "world_copy_jump": false,
      "zoom": 10,
      "zoom_animation_threshold": 4,
      "zoom_delta": 1,
      "zoom_snap": 1
     }
    },
    "dd94d67fc5d74011a985e70830558529": {
     "model_module": "@jupyter-widgets/base",
     "model_module_version": "1.2.0",
     "model_name": "LayoutModel",
     "state": {
      "_model_module": "@jupyter-widgets/base",
      "_model_module_version": "1.2.0",
      "_model_name": "LayoutModel",
      "_view_count": null,
      "_view_module": "@jupyter-widgets/base",
      "_view_module_version": "1.2.0",
      "_view_name": "LayoutView",
      "align_content": null,
      "align_items": null,
      "align_self": null,
      "border": null,
      "bottom": null,
      "display": null,
      "flex": null,
      "flex_flow": null,
      "grid_area": null,
      "grid_auto_columns": null,
      "grid_auto_flow": null,
      "grid_auto_rows": null,
      "grid_column": null,
      "grid_gap": null,
      "grid_row": null,
      "grid_template_areas": null,
      "grid_template_columns": null,
      "grid_template_rows": null,
      "height": null,
      "justify_content": null,
      "justify_items": null,
      "left": null,
      "margin": null,
      "max_height": null,
      "max_width": null,
      "min_height": null,
      "min_width": null,
      "object_fit": null,
      "object_position": null,
      "order": null,
      "overflow": null,
      "overflow_x": null,
      "overflow_y": null,
      "padding": null,
      "right": null,
      "top": null,
      "visibility": null,
      "width": null
     }
    },
    "de6d7ad177c74d33b585d5b3b89033db": {
     "model_module": "jupyter-leaflet",
     "model_module_version": "^0.17",
     "model_name": "LeafletTileLayerModel",
     "state": {
      "_model_module": "jupyter-leaflet",
      "_model_module_version": "^0.17",
      "_model_name": "LeafletTileLayerModel",
      "_view_count": null,
      "_view_module": "jupyter-leaflet",
      "_view_module_version": "^0.17",
      "_view_name": "LeafletTileLayerView",
      "attribution": "Google Earth Engine",
      "base": false,
      "bottom": true,
      "bounds": null,
      "detect_retina": false,
      "loading": false,
      "max_native_zoom": null,
      "max_zoom": 24,
      "min_native_zoom": null,
      "min_zoom": 0,
      "name": "Landcover",
      "no_wrap": false,
      "opacity": 1,
      "options": [
       "attribution",
       "bounds",
       "detect_retina",
       "max_native_zoom",
       "max_zoom",
       "min_native_zoom",
       "min_zoom",
       "no_wrap",
       "tile_size",
       "tms",
       "zoom_offset"
      ],
      "pane": "",
      "popup": null,
      "popup_max_height": null,
      "popup_max_width": 300,
      "popup_min_width": 50,
      "show_loading": false,
      "subitems": [],
      "tile_size": 256,
      "tms": false,
      "url": "https://earthengine.googleapis.com/v1alpha/projects/earthengine-legacy/maps/10c28fbfd15570a9e83dc07e44bbd78f-f796080c7a745d3bd17fe907809c63eb/tiles/{z}/{x}/{y}",
      "visible": true,
      "zoom_offset": 0
     }
    },
    "ec250e271ee442e69f89b424ea546e3d": {
     "model_module": "jupyter-leaflet",
     "model_module_version": "^0.17",
     "model_name": "LeafletMapStyleModel",
     "state": {
      "_model_module": "jupyter-leaflet",
      "_model_module_version": "^0.17",
      "_model_name": "LeafletMapStyleModel",
      "_view_count": null,
      "_view_module": "@jupyter-widgets/base",
      "_view_module_version": "1.2.0",
      "_view_name": "StyleView",
      "cursor": "grab"
     }
    },
    "f4ba9d69d03643218c55a9090cb7bc02": {
     "model_module": "jupyter-leaflet",
     "model_module_version": "^0.17",
     "model_name": "LeafletDrawControlModel",
     "state": {
      "_model_module": "jupyter-leaflet",
      "_model_module_version": "^0.17",
      "_model_name": "LeafletDrawControlModel",
      "_view_count": null,
      "_view_module": "jupyter-leaflet",
      "_view_module_version": "^0.17",
      "_view_name": "LeafletDrawControlView",
      "circle": {
       "shapeOptions": {
        "color": "#3388ff"
       }
      },
      "circlemarker": {},
      "data": [],
      "edit": true,
      "marker": {
       "shapeOptions": {
        "color": "#3388ff"
       }
      },
      "options": [
       "position"
      ],
      "polygon": {
       "shapeOptions": {}
      },
      "polyline": {
       "shapeOptions": {}
      },
      "position": "topleft",
      "rectangle": {
       "shapeOptions": {
        "color": "#3388ff"
       }
      },
      "remove": true
     }
    }
   }
  }
 },
 "nbformat": 4,
 "nbformat_minor": 4
}
