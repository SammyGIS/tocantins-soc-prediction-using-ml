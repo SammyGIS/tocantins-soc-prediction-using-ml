{
 "cells": [
  {
   "cell_type": "code",
   "execution_count": 12,
   "metadata": {
    "id": "TEhnjpdMNOJi",
    "tags": []
   },
   "outputs": [
    {
     "data": {
      "text/html": [
       "\n",
       "            <style>\n",
       "                .geemap-dark {\n",
       "                    --jp-widgets-color: white;\n",
       "                    --jp-widgets-label-color: white;\n",
       "                    --jp-ui-font-color1: white;\n",
       "                    --jp-layout-color2: #454545;\n",
       "                    background-color: #383838;\n",
       "                }\n",
       "\n",
       "                .geemap-dark .jupyter-button {\n",
       "                    --jp-layout-color3: #383838;\n",
       "                }\n",
       "\n",
       "                .geemap-colab {\n",
       "                    background-color: var(--colab-primary-surface-color, white);\n",
       "                }\n",
       "\n",
       "                .geemap-colab .jupyter-button {\n",
       "                    --jp-layout-color3: var(--colab-primary-surface-color, white);\n",
       "                }\n",
       "            </style>\n",
       "            "
      ],
      "text/plain": [
       "<IPython.core.display.HTML object>"
      ]
     },
     "metadata": {},
     "output_type": "display_data"
    }
   ],
   "source": [
    "# import subprocess\n",
    "\n",
    "# packages = ['geemap', 'geopandas',\n",
    "#             'shapely', 'requests', \n",
    "#             'osgeo', 'rasterio', 'numpy',\n",
    "#             'sklearn', 'fiona', 'pyproj',\n",
    "#             'matplotlib', 'pandas',\n",
    "#             'seaborn','geocube', 'os']\n",
    "\n",
    "# for package in packages:\n",
    "#     try:\n",
    "#         __import__(package)\n",
    "#     except ImportError:\n",
    "#         subprocess.check_call(['pip', 'install', package])"
   ]
  },
  {
   "cell_type": "markdown",
   "metadata": {},
   "source": [
    "import neccessary libaries"
   ]
  },
  {
   "cell_type": "code",
   "execution_count": 13,
   "metadata": {
    "tags": []
   },
   "outputs": [
    {
     "data": {
      "text/html": [
       "\n",
       "            <style>\n",
       "                .geemap-dark {\n",
       "                    --jp-widgets-color: white;\n",
       "                    --jp-widgets-label-color: white;\n",
       "                    --jp-ui-font-color1: white;\n",
       "                    --jp-layout-color2: #454545;\n",
       "                    background-color: #383838;\n",
       "                }\n",
       "\n",
       "                .geemap-dark .jupyter-button {\n",
       "                    --jp-layout-color3: #383838;\n",
       "                }\n",
       "\n",
       "                .geemap-colab {\n",
       "                    background-color: var(--colab-primary-surface-color, white);\n",
       "                }\n",
       "\n",
       "                .geemap-colab .jupyter-button {\n",
       "                    --jp-layout-color3: var(--colab-primary-surface-color, white);\n",
       "                }\n",
       "            </style>\n",
       "            "
      ],
      "text/plain": [
       "<IPython.core.display.HTML object>"
      ]
     },
     "metadata": {},
     "output_type": "display_data"
    }
   ],
   "source": [
    "import pandas as pd\n",
    "import numpy as np\n",
    "import geopandas as gpd\n",
    "import matplotlib.pyplot as plt\n",
    "import seaborn as sns\n",
    "import os\n",
    "import sklearn\n",
    "import json\n",
    "import rasterio as rio\n",
    "import shapely\n",
    "import fiona\n",
    "import warnings\n",
    "\n",
    "warnings.filterwarnings('ignore')"
   ]
  },
  {
   "cell_type": "code",
   "execution_count": 14,
   "metadata": {
    "colab": {
     "base_uri": "https://localhost:8080/"
    },
    "id": "8v9FcrcQIDiK",
    "outputId": "524c8570-ccf1-4115-d650-af93ced37109",
    "tags": []
   },
   "outputs": [
    {
     "data": {
      "text/html": [
       "\n",
       "            <style>\n",
       "                .geemap-dark {\n",
       "                    --jp-widgets-color: white;\n",
       "                    --jp-widgets-label-color: white;\n",
       "                    --jp-ui-font-color1: white;\n",
       "                    --jp-layout-color2: #454545;\n",
       "                    background-color: #383838;\n",
       "                }\n",
       "\n",
       "                .geemap-dark .jupyter-button {\n",
       "                    --jp-layout-color3: #383838;\n",
       "                }\n",
       "\n",
       "                .geemap-colab {\n",
       "                    background-color: var(--colab-primary-surface-color, white);\n",
       "                }\n",
       "\n",
       "                .geemap-colab .jupyter-button {\n",
       "                    --jp-layout-color3: var(--colab-primary-surface-color, white);\n",
       "                }\n",
       "            </style>\n",
       "            "
      ],
      "text/plain": [
       "<IPython.core.display.HTML object>"
      ]
     },
     "metadata": {},
     "output_type": "display_data"
    },
    {
     "data": {
      "text/html": [
       "<div>\n",
       "<style scoped>\n",
       "    .dataframe tbody tr th:only-of-type {\n",
       "        vertical-align: middle;\n",
       "    }\n",
       "\n",
       "    .dataframe tbody tr th {\n",
       "        vertical-align: top;\n",
       "    }\n",
       "\n",
       "    .dataframe thead th {\n",
       "        text-align: right;\n",
       "    }\n",
       "</style>\n",
       "<table border=\"1\" class=\"dataframe\">\n",
       "  <thead>\n",
       "    <tr style=\"text-align: right;\">\n",
       "      <th></th>\n",
       "      <th>ID_0</th>\n",
       "      <th>ISO</th>\n",
       "      <th>NAME_0</th>\n",
       "      <th>ID_1</th>\n",
       "      <th>NAME_1</th>\n",
       "      <th>TYPE_1</th>\n",
       "      <th>ENGTYPE_1</th>\n",
       "      <th>NL_NAME_1</th>\n",
       "      <th>VARNAME_1</th>\n",
       "      <th>geometry</th>\n",
       "    </tr>\n",
       "  </thead>\n",
       "  <tbody>\n",
       "    <tr>\n",
       "      <th>0</th>\n",
       "      <td>33</td>\n",
       "      <td>BRA</td>\n",
       "      <td>Brazil</td>\n",
       "      <td>27</td>\n",
       "      <td>TO</td>\n",
       "      <td>Estado</td>\n",
       "      <td>State</td>\n",
       "      <td>None</td>\n",
       "      <td>None</td>\n",
       "      <td>POLYGON ((-48.35310 -5.17391, -48.32085 -5.201...</td>\n",
       "    </tr>\n",
       "  </tbody>\n",
       "</table>\n",
       "</div>"
      ],
      "text/plain": [
       "   ID_0  ISO  NAME_0  ID_1 NAME_1  TYPE_1 ENGTYPE_1 NL_NAME_1 VARNAME_1  \\\n",
       "0    33  BRA  Brazil    27     TO  Estado     State      None      None   \n",
       "\n",
       "                                            geometry  \n",
       "0  POLYGON ((-48.35310 -5.17391, -48.32085 -5.201...  "
      ]
     },
     "execution_count": 14,
     "metadata": {},
     "output_type": "execute_result"
    }
   ],
   "source": [
    "# load the boundary shapefile for Area of Intrest (AOI)\n",
    "study_area = gpd.read_file('data/tocantins.shp')\n",
    "study_area.head()"
   ]
  },
  {
   "cell_type": "code",
   "execution_count": 15,
   "metadata": {
    "tags": []
   },
   "outputs": [
    {
     "data": {
      "text/html": [
       "\n",
       "            <style>\n",
       "                .geemap-dark {\n",
       "                    --jp-widgets-color: white;\n",
       "                    --jp-widgets-label-color: white;\n",
       "                    --jp-ui-font-color1: white;\n",
       "                    --jp-layout-color2: #454545;\n",
       "                    background-color: #383838;\n",
       "                }\n",
       "\n",
       "                .geemap-dark .jupyter-button {\n",
       "                    --jp-layout-color3: #383838;\n",
       "                }\n",
       "\n",
       "                .geemap-colab {\n",
       "                    background-color: var(--colab-primary-surface-color, white);\n",
       "                }\n",
       "\n",
       "                .geemap-colab .jupyter-button {\n",
       "                    --jp-layout-color3: var(--colab-primary-surface-color, white);\n",
       "                }\n",
       "            </style>\n",
       "            "
      ],
      "text/plain": [
       "<IPython.core.display.HTML object>"
      ]
     },
     "metadata": {},
     "output_type": "display_data"
    },
    {
     "data": {
      "image/png": "[encoded data removed]",
      "text/plain": [
       "<Figure size 640x480 with 1 Axes>"
      ]
     },
     "metadata": {},
     "output_type": "display_data"
    }
   ],
   "source": [
    "study_area.plot( linewidth=2, color='white', edgecolor='0.8');"
   ]
  },
  {
   "cell_type": "markdown",
   "metadata": {},
   "source": [
    "The independent variables that will be use in building this model are in raster format, they will be extracted from google earth engine and downloaded uisng geemap and ee API."
   ]
  },
  {
   "cell_type": "code",
   "execution_count": 16,
   "metadata": {
    "tags": []
   },
   "outputs": [
    {
     "data": {
      "text/html": [
       "\n",
       "            <style>\n",
       "                .geemap-dark {\n",
       "                    --jp-widgets-color: white;\n",
       "                    --jp-widgets-label-color: white;\n",
       "                    --jp-ui-font-color1: white;\n",
       "                    --jp-layout-color2: #454545;\n",
       "                    background-color: #383838;\n",
       "                }\n",
       "\n",
       "                .geemap-dark .jupyter-button {\n",
       "                    --jp-layout-color3: #383838;\n",
       "                }\n",
       "\n",
       "                .geemap-colab {\n",
       "                    background-color: var(--colab-primary-surface-color, white);\n",
       "                }\n",
       "\n",
       "                .geemap-colab .jupyter-button {\n",
       "                    --jp-layout-color3: var(--colab-primary-surface-color, white);\n",
       "                }\n",
       "            </style>\n",
       "            "
      ],
      "text/plain": [
       "<IPython.core.display.HTML object>"
      ]
     },
     "metadata": {},
     "output_type": "display_data"
    }
   ],
   "source": [
    "# import google eath enigne libary for python\n",
    "import io\n",
    "import geemap\n",
    "import ee"
   ]
  },
  {
   "cell_type": "code",
   "execution_count": 17,
   "metadata": {
    "tags": []
   },
   "outputs": [
    {
     "data": {
      "text/html": [
       "\n",
       "            <style>\n",
       "                .geemap-dark {\n",
       "                    --jp-widgets-color: white;\n",
       "                    --jp-widgets-label-color: white;\n",
       "                    --jp-ui-font-color1: white;\n",
       "                    --jp-layout-color2: #454545;\n",
       "                    background-color: #383838;\n",
       "                }\n",
       "\n",
       "                .geemap-dark .jupyter-button {\n",
       "                    --jp-layout-color3: #383838;\n",
       "                }\n",
       "\n",
       "                .geemap-colab {\n",
       "                    background-color: var(--colab-primary-surface-color, white);\n",
       "                }\n",
       "\n",
       "                .geemap-colab .jupyter-button {\n",
       "                    --jp-layout-color3: var(--colab-primary-surface-color, white);\n",
       "                }\n",
       "            </style>\n",
       "            "
      ],
      "text/plain": [
       "<IPython.core.display.HTML object>"
      ]
     },
     "metadata": {},
     "output_type": "display_data"
    }
   ],
   "source": [
    "# Autheticate the Google earth engine ee login\n",
    "key_file = './keys/data-enginerring-zoomcamp-b8719aa4a43e.json'\n",
    "email = 'farm-watch-project@data-enginerring-zoomcamp.iam.gserviceaccount.com'\n",
    "try:\n",
    "    credentials = ee.ServiceAccountCredentials(email=email, key_file=key_file)\n",
    "    ee.Initialize(credentials)\n",
    "except Exception as e:\n",
    "    ee.Authenticate()\n",
    "    ee.Initialize()"
   ]
  },
  {
   "cell_type": "markdown",
   "metadata": {},
   "source": [
    "### Data Extraction and Transformation"
   ]
  },
  {
   "cell_type": "markdown",
   "metadata": {},
   "source": [
    "Define ee boundary"
   ]
  },
  {
   "cell_type": "code",
   "execution_count": 18,
   "metadata": {
    "tags": []
   },
   "outputs": [
    {
     "data": {
      "text/html": [
       "\n",
       "            <style>\n",
       "                .geemap-dark {\n",
       "                    --jp-widgets-color: white;\n",
       "                    --jp-widgets-label-color: white;\n",
       "                    --jp-ui-font-color1: white;\n",
       "                    --jp-layout-color2: #454545;\n",
       "                    background-color: #383838;\n",
       "                }\n",
       "\n",
       "                .geemap-dark .jupyter-button {\n",
       "                    --jp-layout-color3: #383838;\n",
       "                }\n",
       "\n",
       "                .geemap-colab {\n",
       "                    background-color: var(--colab-primary-surface-color, white);\n",
       "                }\n",
       "\n",
       "                .geemap-colab .jupyter-button {\n",
       "                    --jp-layout-color3: var(--colab-primary-surface-color, white);\n",
       "                }\n",
       "            </style>\n",
       "            "
      ],
      "text/plain": [
       "<IPython.core.display.HTML object>"
      ]
     },
     "metadata": {},
     "output_type": "display_data"
    }
   ],
   "source": [
    "# convert the boundary shapefile to ESPG 4326\n",
    "boundary = study_area\n",
    "\n",
    "# define a helper function to put the geodataframe in the right format for constructing an ee object\n",
    "def shp_to_ee_fmt(geodf):\n",
    "    data = json.loads(geodf.to_json())\n",
    "    return data['features'][0]['geometry']['coordinates']\n",
    "\n",
    "# create the ee object\n",
    "feature_cls = ee.Geometry.MultiPolygon(shp_to_ee_fmt(boundary))"
   ]
  },
  {
   "cell_type": "markdown",
   "metadata": {},
   "source": [
    "Generate Slope, DEM , and TWI"
   ]
  },
  {
   "cell_type": "code",
   "execution_count": 19,
   "metadata": {
    "tags": []
   },
   "outputs": [
    {
     "data": {
      "text/html": [
       "\n",
       "            <style>\n",
       "                .geemap-dark {\n",
       "                    --jp-widgets-color: white;\n",
       "                    --jp-widgets-label-color: white;\n",
       "                    --jp-ui-font-color1: white;\n",
       "                    --jp-layout-color2: #454545;\n",
       "                    background-color: #383838;\n",
       "                }\n",
       "\n",
       "                .geemap-dark .jupyter-button {\n",
       "                    --jp-layout-color3: #383838;\n",
       "                }\n",
       "\n",
       "                .geemap-colab {\n",
       "                    background-color: var(--colab-primary-surface-color, white);\n",
       "                }\n",
       "\n",
       "                .geemap-colab .jupyter-button {\n",
       "                    --jp-layout-color3: var(--colab-primary-surface-color, white);\n",
       "                }\n",
       "            </style>\n",
       "            "
      ],
      "text/plain": [
       "<IPython.core.display.HTML object>"
      ]
     },
     "metadata": {},
     "output_type": "display_data"
    }
   ],
   "source": [
    "#load SRTM data from google earth engine\n",
    "srtm = ee.Image('CGIAR/SRTM90_V4')\n",
    "\n",
    "# Generate individual raster data\n",
    "elevation = srtm.select('elevation')\n",
    "slope = ee.Terrain.slope(elevation)\n",
    "\n",
    "\n",
    "# Generate TWI\n",
    "def create_twi(image,slope):\n",
    "    # get the cell size\n",
    "    cell_size = image.projection().nominalScale().getInfo();\n",
    "    \n",
    "    # Calculate the slope in radians\n",
    "    slopeRad = (slope.multiply(1.570756)).divide(90);\n",
    "    \n",
    "    #  Calculate slope in tan by removing zero value\n",
    "    tan_slope = slopeRad.gt(0).multiply(slopeRad.tan()).where(slopeRad.gt(0), 0.001);\n",
    "    \n",
    "    #  Calculate Upslope\n",
    "    up_slope = flowAccumulation.add(1).multiply(cell_size);\n",
    "    \n",
    "    # Calculate the TWI\n",
    "    twi = up_slope.divide(tan_slope).log()\n",
    "    return twi\n",
    "\n",
    "# Load the flow accumulation dataset\n",
    "dataset = ee.Image('WWF/HydroSHEDS/15ACC')\n",
    "flowAccumulation = dataset.select('b1').clip(feature_cls)\n",
    "twi_image = create_twi(flowAccumulation,slope)"
   ]
  },
  {
   "cell_type": "markdown",
   "metadata": {},
   "source": [
    "Generate LULC"
   ]
  },
  {
   "cell_type": "code",
   "execution_count": 20,
   "metadata": {
    "tags": []
   },
   "outputs": [
    {
     "data": {
      "text/html": [
       "\n",
       "            <style>\n",
       "                .geemap-dark {\n",
       "                    --jp-widgets-color: white;\n",
       "                    --jp-widgets-label-color: white;\n",
       "                    --jp-ui-font-color1: white;\n",
       "                    --jp-layout-color2: #454545;\n",
       "                    background-color: #383838;\n",
       "                }\n",
       "\n",
       "                .geemap-dark .jupyter-button {\n",
       "                    --jp-layout-color3: #383838;\n",
       "                }\n",
       "\n",
       "                .geemap-colab {\n",
       "                    background-color: var(--colab-primary-surface-color, white);\n",
       "                }\n",
       "\n",
       "                .geemap-colab .jupyter-button {\n",
       "                    --jp-layout-color3: var(--colab-primary-surface-color, white);\n",
       "                }\n",
       "            </style>\n",
       "            "
      ],
      "text/plain": [
       "<IPython.core.display.HTML object>"
      ]
     },
     "metadata": {},
     "output_type": "display_data"
    }
   ],
   "source": [
    "# load ESA 2020 World wide 10m land cover  data form google earth\n",
    "collection = (\n",
    "    ee.ImageCollection('ESA/WorldCover/v200')\n",
    "    .filterBounds(feature_cls)\n",
    ")\n",
    "\n",
    "landcover = collection.first()\n",
    "\n",
    "# collection.aggregate_array('system:index').getInfo()"
   ]
  },
  {
   "cell_type": "markdown",
   "metadata": {},
   "source": [
    "Generate NDVI, NDMI and BSI"
   ]
  },
  {
   "cell_type": "code",
   "execution_count": 21,
   "metadata": {
    "tags": []
   },
   "outputs": [
    {
     "data": {
      "text/html": [
       "\n",
       "            <style>\n",
       "                .geemap-dark {\n",
       "                    --jp-widgets-color: white;\n",
       "                    --jp-widgets-label-color: white;\n",
       "                    --jp-ui-font-color1: white;\n",
       "                    --jp-layout-color2: #454545;\n",
       "                    background-color: #383838;\n",
       "                }\n",
       "\n",
       "                .geemap-dark .jupyter-button {\n",
       "                    --jp-layout-color3: #383838;\n",
       "                }\n",
       "\n",
       "                .geemap-colab {\n",
       "                    background-color: var(--colab-primary-surface-color, white);\n",
       "                }\n",
       "\n",
       "                .geemap-colab .jupyter-button {\n",
       "                    --jp-layout-color3: var(--colab-primary-surface-color, white);\n",
       "                }\n",
       "            </style>\n",
       "            "
      ],
      "text/plain": [
       "<IPython.core.display.HTML object>"
      ]
     },
     "metadata": {},
     "output_type": "display_data"
    }
   ],
   "source": [
    "# select Landsat 8 collection for the spectal indices\n",
    "l8 = ee.ImageCollection(\"LANDSAT/LC08/C02/T1_TOA\") \\\n",
    "    .filterBounds(feature_cls) \\\n",
    "    .filterDate('2021-01-01', '2022-12-31') \\\n",
    "    .sort('CLOUD_COVER') \\\n",
    "    .median()\n",
    "\n",
    "\n",
    "# Calculate NDVI\n",
    "ndvi = l8.normalizedDifference(['B5', 'B4']).rename('NDVI')\n",
    "                               \n",
    "# # Calculate NDMI\n",
    "# ndmi = l8.normalizedDifference(['B5', 'B6']).rename('NDMI')\n",
    "\n",
    "# # Calculate BSI\n",
    "# bsi = l8.expression(\n",
    "#     '((SWIR2 + RED) - (SWIR1 + NIR)) / ((SWIR2 + RED) + (SWIR1 + NIR))',\n",
    "#     {\n",
    "#         'SWIR1': l8.select('B6'),\n",
    "#         'SWIR2': l8.select('B6'),\n",
    "#         'NIR': l8.select('B5'),\n",
    "#         'RED': l8.select('B4')\n",
    "#     }\n",
    "# ).rename('BSI')"
   ]
  },
  {
   "cell_type": "markdown",
   "metadata": {},
   "source": [
    "Generate LST and SMI"
   ]
  },
  {
   "cell_type": "code",
   "execution_count": 46,
   "metadata": {
    "tags": []
   },
   "outputs": [
    {
     "data": {
      "text/html": [
       "\n",
       "            <style>\n",
       "                .geemap-dark {\n",
       "                    --jp-widgets-color: white;\n",
       "                    --jp-widgets-label-color: white;\n",
       "                    --jp-ui-font-color1: white;\n",
       "                    --jp-layout-color2: #454545;\n",
       "                    background-color: #383838;\n",
       "                }\n",
       "\n",
       "                .geemap-dark .jupyter-button {\n",
       "                    --jp-layout-color3: #383838;\n",
       "                }\n",
       "\n",
       "                .geemap-colab {\n",
       "                    background-color: var(--colab-primary-surface-color, white);\n",
       "                }\n",
       "\n",
       "                .geemap-colab .jupyter-button {\n",
       "                    --jp-layout-color3: var(--colab-primary-surface-color, white);\n",
       "                }\n",
       "            </style>\n",
       "            "
      ],
      "text/plain": [
       "<IPython.core.display.HTML object>"
      ]
     },
     "metadata": {},
     "output_type": "display_data"
    },
    {
     "name": "stdout",
     "output_type": "stream",
     "text": [
      "-83.93357667999999\n",
      "50.879968159999976\n",
      "134.81354483999996\n"
     ]
    }
   ],
   "source": [
    "# Function to calculate LST uisng tier 2 correct images\n",
    "def calculate_LST(tier2_image, region):\n",
    "    LST = tier2_image.expression(\n",
    "        '(ST_B10 * 0.00341802 + 149.0) - 273.15',  # convert to Celsius\n",
    "        {'ST_B10': tier2_image.select('ST_B10')}\n",
    "    ).rename('Landsat_LST')\n",
    "    return LST\n",
    "\n",
    "# Function to calculate Soil Moisture Index (SMI)\n",
    "def calculate_SMI(LST, lst_min, lst_max):\n",
    "    # Calculate Soil Moisture Index (SMI)\n",
    "    print(lst_max-lst_min)\n",
    "    SMI = LST.subtract(lst_min).divide(lst_max-lst_min).rename('SMI')\n",
    "    return SMI\n",
    "\n",
    "# Example of getting the TOA image\n",
    "sr_image = ee.ImageCollection(\"LANDSAT/LC08/C02/T1_L2\")\\\n",
    "    .filterBounds(feature_cls) \\\n",
    "    .filterDate('2021-01-01', '2023-12-31') \\\n",
    "    .select('ST_B10')\\\n",
    "    .sort('CLOUD_COVER').median() \\\n",
    "\n",
    "# Calculate LST\n",
    "lst_image = calculate_LST(sr_image,feature_cls)\n",
    "type(LST_image)\n",
    "\n",
    "# Define minimum and maximum values for LST\n",
    "lst_min = lst_image.reduceRegion(reducer=ee.Reducer.min(), geometry=feature_cls, scale=1000,maxPixels=28397913).get('Landsat_LST').getInfo()\n",
    "lst_max = lst_image.reduceRegion(reducer=ee.Reducer.max(), geometry=feature_cls, scale=1000,maxPixels=28397913).get('Landsat_LST').getInfo()\n",
    "\n",
    "print(lst_min)\n",
    "print(lst_max)\n",
    "# Calculate SMI\n",
    "smi_image = calculate_SMI(lst_image, lst_min, lst_max)"
   ]
  },
  {
   "cell_type": "code",
   "execution_count": 32,
   "metadata": {},
   "outputs": [
    {
     "data": {
      "text/html": [
       "\n",
       "            <style>\n",
       "                .geemap-dark {\n",
       "                    --jp-widgets-color: white;\n",
       "                    --jp-widgets-label-color: white;\n",
       "                    --jp-ui-font-color1: white;\n",
       "                    --jp-layout-color2: #454545;\n",
       "                    background-color: #383838;\n",
       "                }\n",
       "\n",
       "                .geemap-dark .jupyter-button {\n",
       "                    --jp-layout-color3: #383838;\n",
       "                }\n",
       "\n",
       "                .geemap-colab {\n",
       "                    background-color: var(--colab-primary-surface-color, white);\n",
       "                }\n",
       "\n",
       "                .geemap-colab .jupyter-button {\n",
       "                    --jp-layout-color3: var(--colab-primary-surface-color, white);\n",
       "                }\n",
       "            </style>\n",
       "            "
      ],
      "text/plain": [
       "<IPython.core.display.HTML object>"
      ]
     },
     "metadata": {},
     "output_type": "display_data"
    },
    {
     "name": "stdout",
     "output_type": "stream",
     "text": [
      "{'type': 'Image', 'bands': [{'id': 'SMI', 'data_type': {'type': 'PixelType', 'precision': 'double', 'min': -0.2983114446529081, 'max': 1.3632422290958883}, 'crs': 'EPSG:4326', 'crs_transform': [1, 0, 0, 0, 1, 0]}]}\n"
     ]
    }
   ],
   "source": [
    "print(smi_image.getInfo())"
   ]
  },
  {
   "cell_type": "markdown",
   "metadata": {},
   "source": [
    "Generate Rainfall data"
   ]
  },
  {
   "cell_type": "code",
   "execution_count": 33,
   "metadata": {
    "tags": []
   },
   "outputs": [
    {
     "data": {
      "text/html": [
       "\n",
       "            <style>\n",
       "                .geemap-dark {\n",
       "                    --jp-widgets-color: white;\n",
       "                    --jp-widgets-label-color: white;\n",
       "                    --jp-ui-font-color1: white;\n",
       "                    --jp-layout-color2: #454545;\n",
       "                    background-color: #383838;\n",
       "                }\n",
       "\n",
       "                .geemap-dark .jupyter-button {\n",
       "                    --jp-layout-color3: #383838;\n",
       "                }\n",
       "\n",
       "                .geemap-colab {\n",
       "                    background-color: var(--colab-primary-surface-color, white);\n",
       "                }\n",
       "\n",
       "                .geemap-colab .jupyter-button {\n",
       "                    --jp-layout-color3: var(--colab-primary-surface-color, white);\n",
       "                }\n",
       "            </style>\n",
       "            "
      ],
      "text/plain": [
       "<IPython.core.display.HTML object>"
      ]
     },
     "metadata": {},
     "output_type": "display_data"
    }
   ],
   "source": [
    "# Define date range\n",
    "start_date = '2012-01-01'\n",
    "end_date = '2022-12-31'\n",
    "\n",
    "# Load CHIRP precipitation data\n",
    "rainfall = ee.ImageCollection('UCSB-CHG/CHIRPS/DAILY') \\\n",
    "    .filterBounds(feature_cls) \\\n",
    "    .filterDate(start_date, end_date) \\\n",
    "    .select('precipitation') \\\n",
    "    .sum()\n",
    "\n",
    "# # Load average temperature data\n",
    "# temp = ee.ImageCollection('NOAA/CFSV2/FOR6H') \\\n",
    "#     .filterBounds(feature_cls) \\\n",
    "#     .filterDate(start_date, end_date) \\\n",
    "#     .select('Temperature_height_above_ground') \\\n",
    "#     .mean()"
   ]
  },
  {
   "cell_type": "markdown",
   "metadata": {},
   "source": [
    "Soil Texture"
   ]
  },
  {
   "cell_type": "code",
   "execution_count": 41,
   "metadata": {},
   "outputs": [
    {
     "data": {
      "text/html": [
       "\n",
       "            <style>\n",
       "                .geemap-dark {\n",
       "                    --jp-widgets-color: white;\n",
       "                    --jp-widgets-label-color: white;\n",
       "                    --jp-ui-font-color1: white;\n",
       "                    --jp-layout-color2: #454545;\n",
       "                    background-color: #383838;\n",
       "                }\n",
       "\n",
       "                .geemap-dark .jupyter-button {\n",
       "                    --jp-layout-color3: #383838;\n",
       "                }\n",
       "\n",
       "                .geemap-colab {\n",
       "                    background-color: var(--colab-primary-surface-color, white);\n",
       "                }\n",
       "\n",
       "                .geemap-colab .jupyter-button {\n",
       "                    --jp-layout-color3: var(--colab-primary-surface-color, white);\n",
       "                }\n",
       "            </style>\n",
       "            "
      ],
      "text/plain": [
       "<IPython.core.display.HTML object>"
      ]
     },
     "metadata": {},
     "output_type": "display_data"
    }
   ],
   "source": [
    "# Load openland global soil texture data\n",
    "soil_texture = ee.Image(\"OpenLandMap/SOL/SOL_TEXTURE-CLASS_USDA-TT_M/v02\")\\\n",
    "\n",
    "# b30 42 110 10 Soil pH in H2O at 30 cm depth\n",
    "texture_depth_30cm = soil_texture.select('b30').clip(feature_cls)"
   ]
  },
  {
   "cell_type": "markdown",
   "metadata": {},
   "source": [
    "Soil pH"
   ]
  },
  {
   "cell_type": "code",
   "execution_count": 62,
   "metadata": {},
   "outputs": [
    {
     "data": {
      "text/html": [
       "\n",
       "            <style>\n",
       "                .geemap-dark {\n",
       "                    --jp-widgets-color: white;\n",
       "                    --jp-widgets-label-color: white;\n",
       "                    --jp-ui-font-color1: white;\n",
       "                    --jp-layout-color2: #454545;\n",
       "                    background-color: #383838;\n",
       "                }\n",
       "\n",
       "                .geemap-dark .jupyter-button {\n",
       "                    --jp-layout-color3: #383838;\n",
       "                }\n",
       "\n",
       "                .geemap-colab {\n",
       "                    background-color: var(--colab-primary-surface-color, white);\n",
       "                }\n",
       "\n",
       "                .geemap-colab .jupyter-button {\n",
       "                    --jp-layout-color3: var(--colab-primary-surface-color, white);\n",
       "                }\n",
       "            </style>\n",
       "            "
      ],
      "text/plain": [
       "<IPython.core.display.HTML object>"
      ]
     },
     "metadata": {},
     "output_type": "display_data"
    }
   ],
   "source": [
    "# Load openland global soil ph data\n",
    "soil_ph = ee.Image(\"OpenLandMap/SOL/SOL_PH-H2O_USDA-4C1A2A_M/v02\") \\\n",
    "\n",
    "# Soil pH in H2O at 30 cm depth and scale itdown by 10\n",
    "ph_depth_30cm = soil_ph.select('b30').clip(feature_cls).divide(10)"
   ]
  },
  {
   "cell_type": "markdown",
   "metadata": {},
   "source": [
    "Get Global SOC datasets"
   ]
  },
  {
   "cell_type": "code",
   "execution_count": 63,
   "metadata": {
    "tags": []
   },
   "outputs": [
    {
     "data": {
      "text/html": [
       "\n",
       "            <style>\n",
       "                .geemap-dark {\n",
       "                    --jp-widgets-color: white;\n",
       "                    --jp-widgets-label-color: white;\n",
       "                    --jp-ui-font-color1: white;\n",
       "                    --jp-layout-color2: #454545;\n",
       "                    background-color: #383838;\n",
       "                }\n",
       "\n",
       "                .geemap-dark .jupyter-button {\n",
       "                    --jp-layout-color3: #383838;\n",
       "                }\n",
       "\n",
       "                .geemap-colab {\n",
       "                    background-color: var(--colab-primary-surface-color, white);\n",
       "                }\n",
       "\n",
       "                .geemap-colab .jupyter-button {\n",
       "                    --jp-layout-color3: var(--colab-primary-surface-color, white);\n",
       "                }\n",
       "            </style>\n",
       "            "
      ],
      "text/plain": [
       "<IPython.core.display.HTML object>"
      ]
     },
     "metadata": {},
     "output_type": "display_data"
    }
   ],
   "source": [
    "# # Global SOC soc dataset\n",
    "# soc= ee.Image(\"OpenLandMap/SOL/SOL_ORGANIC-CARBON_USDA-6A1C_M/v02\")\\\n",
    "#         .select('b0')\n",
    "\n",
    "# # refactor the soc data\n",
    "# soc = soc.multiply(0.005)"
   ]
  },
  {
   "cell_type": "markdown",
   "metadata": {},
   "source": [
    "Clip all images to features"
   ]
  },
  {
   "cell_type": "code",
   "execution_count": 64,
   "metadata": {
    "tags": []
   },
   "outputs": [
    {
     "data": {
      "text/html": [
       "\n",
       "            <style>\n",
       "                .geemap-dark {\n",
       "                    --jp-widgets-color: white;\n",
       "                    --jp-widgets-label-color: white;\n",
       "                    --jp-ui-font-color1: white;\n",
       "                    --jp-layout-color2: #454545;\n",
       "                    background-color: #383838;\n",
       "                }\n",
       "\n",
       "                .geemap-dark .jupyter-button {\n",
       "                    --jp-layout-color3: #383838;\n",
       "                }\n",
       "\n",
       "                .geemap-colab {\n",
       "                    background-color: var(--colab-primary-surface-color, white);\n",
       "                }\n",
       "\n",
       "                .geemap-colab .jupyter-button {\n",
       "                    --jp-layout-color3: var(--colab-primary-surface-color, white);\n",
       "                }\n",
       "            </style>\n",
       "            "
      ],
      "text/plain": [
       "<IPython.core.display.HTML object>"
      ]
     },
     "metadata": {},
     "output_type": "display_data"
    }
   ],
   "source": [
    "# clip all the images load to the study area\n",
    "# elevation data model image 30m\n",
    "elevation_clip  = elevation.clip(feature_cls)\n",
    "# slope data generated from elevation data\n",
    "slope_clip = slope.clip(feature_cls)\n",
    "# landcover image\n",
    "landcover_clip = landcover.clip(feature_cls)\n",
    "#rainfall data fro chirps datasets\n",
    "rainfall_clip = rainfall.clip(feature_cls)\n",
    "# vegetation index\n",
    "ndvi_clip = ndvi.clip(feature_cls)\n",
    "# topographic wetness index\n",
    "twi_clip = twi_image.clip(feature_cls)\n",
    "# soil ph\n",
    "soil_ph = ph_depth_30cm.clip(feature_cls)\n",
    "# soil texture\n",
    "soil_texture = texture_depth_30cm.clip(feature_cls)\n",
    "# land surface temperature\n",
    "lst_clip = lst_image.clip(feature_cls)\n",
    "# soil moisture index\n",
    "smi_clip = smi_image.clip(feature_cls)\n",
    "\n",
    "\n",
    "# bsi_clip = bsi.clip(feature_cls)\n",
    "# ndmi_clip = ndmi.clip(feature_cls)\n",
    "# temp_clip = temp.clip(feature_cls)\n",
    "# soc_clip = soc.clip(feature_cls)"
   ]
  },
  {
   "cell_type": "markdown",
   "metadata": {},
   "source": [
    "Set Visualization Parameters"
   ]
  },
  {
   "cell_type": "code",
   "execution_count": 65,
   "metadata": {
    "tags": []
   },
   "outputs": [
    {
     "data": {
      "text/html": [
       "\n",
       "            <style>\n",
       "                .geemap-dark {\n",
       "                    --jp-widgets-color: white;\n",
       "                    --jp-widgets-label-color: white;\n",
       "                    --jp-ui-font-color1: white;\n",
       "                    --jp-layout-color2: #454545;\n",
       "                    background-color: #383838;\n",
       "                }\n",
       "\n",
       "                .geemap-dark .jupyter-button {\n",
       "                    --jp-layout-color3: #383838;\n",
       "                }\n",
       "\n",
       "                .geemap-colab {\n",
       "                    background-color: var(--colab-primary-surface-color, white);\n",
       "                }\n",
       "\n",
       "                .geemap-colab .jupyter-button {\n",
       "                    --jp-layout-color3: var(--colab-primary-surface-color, white);\n",
       "                }\n",
       "            </style>\n",
       "            "
      ],
      "text/plain": [
       "<IPython.core.display.HTML object>"
      ]
     },
     "metadata": {},
     "output_type": "display_data"
    }
   ],
   "source": [
    "# visualization parameters\n",
    "elevation_viz = {\n",
    "    'min': 0,\n",
    "    'max': 4000,\n",
    "    'palette': ['006633', 'E5FFCC', '662A00', 'D8D8D8', 'F5F5F5']\n",
    "}\n",
    "\n",
    "slope_viz = {\n",
    "    'min': 0,\n",
    "    'max': 60,\n",
    "    'palette': ['brown', 'yellow', 'green']\n",
    "}\n",
    "\n",
    "landcover_viz = {\n",
    "  'min': 0,\n",
    "  'max': 100,\n",
    "  'palette': [\n",
    "      'FC6D26', 'FCAF17', 'E8EB45', '34B334', '4C7EAF',\n",
    "      'B05AFF', 'A56F37', '914D25', 'BFC0C3', 'FFFFFF',\n",
    "  ]\n",
    "}\n",
    "\n",
    "rainfall_viz = {\n",
    "    'min': 0,\n",
    "    'max': 300000,\n",
    "    'palette': ['006633', 'E5FFCC', '662A00', 'D8D8D8', 'F5F5F5']\n",
    "}\n",
    "\n",
    "\n",
    "temp_viz = {\n",
    "    'min': 0,\n",
    "    'max': 50,\n",
    "    'palette': ['#0000ff', '#800080', '#00ffff', '#008000', '#ffff00', '#ff0000']\n",
    "}\n",
    "\n",
    "ndvi_viz = {\n",
    "    'min': -1,\n",
    "    'max': 1,\n",
    "    'palette': ['red', 'yellow', 'green']\n",
    "}\n",
    "\n",
    "\n",
    "\n",
    "soil_texture_viz = {\n",
    "    'min': 1,\n",
    "    'max': 12,\n",
    "    'palette': ['#ff0000', ' #ffff00', '#008000']\n",
    "}\n",
    "\n",
    "twi_viz = {\n",
    "    'min': 10,\n",
    "    'max': 30,\n",
    "    'palette': ['#ff0000', ' #ffff00', '#008000']\n",
    "}\n",
    "\n",
    "\n",
    "\n",
    "\n",
    "\n",
    "# bsi_viz = {\n",
    "#     'min': -1,\n",
    "#     'max': 1,\n",
    "#     'palette': ['red', 'yellow', 'green']\n",
    "# }\n",
    "\n",
    "\n",
    "# soc_viz = {\n",
    "#   'min': 0.0,\n",
    "#   'max': 120.0,\n",
    "#   'palette': [\n",
    "#     \"ffffa0\",\"f7fcb9\",\"d9f0a3\",\"addd8e\",\"78c679\",\"41ab5d\",\n",
    "#     \"238443\",\"005b29\",\"004b29\",\"012b13\",\"00120b\",\n",
    "#   ]\n",
    "# }"
   ]
  },
  {
   "cell_type": "markdown",
   "metadata": {},
   "source": [
    "Add Data to Map layer to visualize all data"
   ]
  },
  {
   "cell_type": "code",
   "execution_count": 66,
   "metadata": {
    "tags": []
   },
   "outputs": [
    {
     "data": {
      "text/html": [
       "\n",
       "            <style>\n",
       "                .geemap-dark {\n",
       "                    --jp-widgets-color: white;\n",
       "                    --jp-widgets-label-color: white;\n",
       "                    --jp-ui-font-color1: white;\n",
       "                    --jp-layout-color2: #454545;\n",
       "                    background-color: #383838;\n",
       "                }\n",
       "\n",
       "                .geemap-dark .jupyter-button {\n",
       "                    --jp-layout-color3: #383838;\n",
       "                }\n",
       "\n",
       "                .geemap-colab {\n",
       "                    background-color: var(--colab-primary-surface-color, white);\n",
       "                }\n",
       "\n",
       "                .geemap-colab .jupyter-button {\n",
       "                    --jp-layout-color3: var(--colab-primary-surface-color, white);\n",
       "                }\n",
       "            </style>\n",
       "            "
      ],
      "text/plain": [
       "<IPython.core.display.HTML object>"
      ]
     },
     "metadata": {},
     "output_type": "display_data"
    },
    {
     "data": {
      "application/vnd.jupyter.widget-view+json": {
       "model_id": "fd64eb4493f0473c8efec369b024ff93",
       "version_major": 2,
       "version_minor": 0
      },
      "text/plain": [
       "Map(center=[-10.14095118527972, -48.32883664541774], controls=(WidgetControl(options=['position', 'transparent…"
      ]
     },
     "metadata": {},
     "output_type": "display_data"
    }
   ],
   "source": [
    "# instatiate Map()\n",
    "Map = geemap.Map()\n",
    "\n",
    "# add the boundary layer to the viz\n",
    "Map.addLayer(feature_cls,{},\"Study Area\")\n",
    "\n",
    "# Add all image layer to a basemap\n",
    "Map.addLayer(elevation_clip, elevation_viz, 'Elevation')\n",
    "Map.addLayer(slope_clip, slope_viz, 'Slope')\n",
    "Map.addLayer(landcover_clip, landcover_viz, 'Landcover')\n",
    "Map.addLayer(rainfall_clip, rainfall_viz, 'Rainfall')\n",
    "Map.addLayer(ndvi_clip, ndvi_viz, 'NDVI')\n",
    "Map.addLayer(lst_clip, temp_viz, 'LST')\n",
    "Map.addLayer(smi_clip, ndvi_viz, 'SMI')\n",
    "Map.addLayer(twi_clip, twi_viz, 'TWI')\n",
    "Map.addLayer(soil_ph, soil_texture_viz, 'PH')\n",
    "Map.addLayer(soil_texture, soil_texture_viz , 'Texture')\n",
    "\n",
    "\n",
    "# set map center object\n",
    "Map.centerObject(feature_cls, 5)\n",
    "\n",
    "# call the geemap Map object\n",
    "Map\n",
    "\n",
    "# Map.addLayer(temp_clip, temp_viz, 'Temperature')\n",
    "# Map.addLayer(bsi_clip, bsi_viz, 'BSI')\n",
    "# Map.addLayer(soc_clip, soc_viz,'soc organic carbon content in x 5 g / kg')"
   ]
  },
  {
   "cell_type": "markdown",
   "metadata": {},
   "source": [
    "Save imageries locally so that it can be used to create maps"
   ]
  },
  {
   "cell_type": "code",
   "execution_count": 69,
   "metadata": {},
   "outputs": [
    {
     "data": {
      "text/html": [
       "\n",
       "            <style>\n",
       "                .geemap-dark {\n",
       "                    --jp-widgets-color: white;\n",
       "                    --jp-widgets-label-color: white;\n",
       "                    --jp-ui-font-color1: white;\n",
       "                    --jp-layout-color2: #454545;\n",
       "                    background-color: #383838;\n",
       "                }\n",
       "\n",
       "                .geemap-dark .jupyter-button {\n",
       "                    --jp-layout-color3: #383838;\n",
       "                }\n",
       "\n",
       "                .geemap-colab {\n",
       "                    background-color: var(--colab-primary-surface-color, white);\n",
       "                }\n",
       "\n",
       "                .geemap-colab .jupyter-button {\n",
       "                    --jp-layout-color3: var(--colab-primary-surface-color, white);\n",
       "                }\n",
       "            </style>\n",
       "            "
      ],
      "text/plain": [
       "<IPython.core.display.HTML object>"
      ]
     },
     "metadata": {},
     "output_type": "display_data"
    },
    {
     "name": "stdout",
     "output_type": "stream",
     "text": [
      "Exporting elevation...\n",
      "output_images\\elevation.tif already exists.\n",
      "Exporting slope...\n",
      "output_images\\slope.tif already exists.\n",
      "Exporting landcover...\n",
      "output_images\\landcover.tif already exists.\n",
      "Exporting rainfall...\n",
      "output_images\\rainfall.tif already exists.\n",
      "Exporting lst...\n",
      "Generating URL ...\n",
      "Downloading data from https://earthengine.googleapis.com/v1/projects/earthengine-legacy/thumbnails/52a4463f24792e70a216a51c97370c9f-070f57e27f9dfa6ae01814ed5b61091b:getPixels\n",
      "Please wait ...\n",
      "Data downloaded to C:\\Users\\Admin\\Desktop\\Dr Chu\\tocantins-soc-prediction\\output_images\\lst.tif\n",
      "lst downloaded successfully to output_images\\lst.tif.\n",
      "Exporting ndvi...\n",
      "output_images\\ndvi.tif already exists.\n",
      "Exporting twi...\n",
      "Generating URL ...\n",
      "Downloading data from https://earthengine.googleapis.com/v1/projects/earthengine-legacy/thumbnails/8ca976187cd577447eff95f0f622b0e4-f97061992ac0d64af2c9651f552f1ce1:getPixels\n",
      "Please wait ...\n",
      "Data downloaded to C:\\Users\\Admin\\Desktop\\Dr Chu\\tocantins-soc-prediction\\output_images\\twi.tif\n",
      "twi downloaded successfully to output_images\\twi.tif.\n",
      "Exporting smi...\n",
      "Generating URL ...\n",
      "Downloading data from https://earthengine.googleapis.com/v1/projects/earthengine-legacy/thumbnails/6c659f6f5ed7d48442110395f163d2a7-c4b3f4868c6948cd9f8cfaf4ca510892:getPixels\n",
      "Please wait ...\n",
      "Data downloaded to C:\\Users\\Admin\\Desktop\\Dr Chu\\tocantins-soc-prediction\\output_images\\smi.tif\n",
      "smi downloaded successfully to output_images\\smi.tif.\n",
      "Exporting soil_ph...\n",
      "Generating URL ...\n",
      "Downloading data from https://earthengine.googleapis.com/v1/projects/earthengine-legacy/thumbnails/0a2072279d83a1cef13db34875ba0724-0c5fd66b34e753456b674f41b8110e34:getPixels\n",
      "Please wait ...\n",
      "Data downloaded to C:\\Users\\Admin\\Desktop\\Dr Chu\\tocantins-soc-prediction\\output_images\\soil_ph.tif\n",
      "soil_ph downloaded successfully to output_images\\soil_ph.tif.\n",
      "Exporting soil_texture...\n",
      "Generating URL ...\n",
      "Downloading data from https://earthengine.googleapis.com/v1/projects/earthengine-legacy/thumbnails/102c95f2bc26ea02cce75d5593820c3f-7994f0993158e62343b4cd7d19fdebef:getPixels\n",
      "Please wait ...\n",
      "Data downloaded to C:\\Users\\Admin\\Desktop\\Dr Chu\\tocantins-soc-prediction\\output_images\\soil_texture.tif\n",
      "soil_texture downloaded successfully to output_images\\soil_texture.tif.\n"
     ]
    }
   ],
   "source": [
    "from utils.export_ee_image import export_ee_image_list\n",
    "\n",
    "raster_list = [\n",
    "    elevation_clip,slope_clip, landcover_clip,\n",
    "    rainfall_clip, lst_clip,\n",
    "    ndvi_clip,twi_clip,smi_clip,soil_ph,soil_texture\n",
    "]\n",
    "\n",
    "output_list = [\n",
    "    \"elevation\",\"slope\", \"landcover\",\n",
    "    \"rainfall\", \"lst\",\n",
    "    \"ndvi\",\"twi\",\"smi\",\"soil_ph\",\"soil_texture\"\n",
    "]\n",
    "\n",
    "# checking if the directory \n",
    "if not os.path.exists(\"output_images\"):      \n",
    "    # if the directory is not present, then create it. \n",
    "    os.makedirs(\"output_images\") \n",
    "    \n",
    "out_folder='output_images'\n",
    "scale = 5000\n",
    "region=feature_cls\n",
    "\n",
    "export_ee_image_list(raster_list,output_list,\n",
    "                      out_folder,scale,feature_cls)"
   ]
  },
  {
   "cell_type": "markdown",
   "metadata": {},
   "source": [
    "Geneare random smapling points within the aoi"
   ]
  },
  {
   "cell_type": "code",
   "execution_count": 85,
   "metadata": {},
   "outputs": [
    {
     "data": {
      "text/html": [
       "\n",
       "            <style>\n",
       "                .geemap-dark {\n",
       "                    --jp-widgets-color: white;\n",
       "                    --jp-widgets-label-color: white;\n",
       "                    --jp-ui-font-color1: white;\n",
       "                    --jp-layout-color2: #454545;\n",
       "                    background-color: #383838;\n",
       "                }\n",
       "\n",
       "                .geemap-dark .jupyter-button {\n",
       "                    --jp-layout-color3: #383838;\n",
       "                }\n",
       "\n",
       "                .geemap-colab {\n",
       "                    background-color: var(--colab-primary-surface-color, white);\n",
       "                }\n",
       "\n",
       "                .geemap-colab .jupyter-button {\n",
       "                    --jp-layout-color3: var(--colab-primary-surface-color, white);\n",
       "                }\n",
       "            </style>\n",
       "            "
      ],
      "text/plain": [
       "<IPython.core.display.HTML object>"
      ]
     },
     "metadata": {},
     "output_type": "display_data"
    },
    {
     "data": {
      "text/html": [
       "<div>\n",
       "<style scoped>\n",
       "    .dataframe tbody tr th:only-of-type {\n",
       "        vertical-align: middle;\n",
       "    }\n",
       "\n",
       "    .dataframe tbody tr th {\n",
       "        vertical-align: top;\n",
       "    }\n",
       "\n",
       "    .dataframe thead th {\n",
       "        text-align: right;\n",
       "    }\n",
       "</style>\n",
       "<table border=\"1\" class=\"dataframe\">\n",
       "  <thead>\n",
       "    <tr style=\"text-align: right;\">\n",
       "      <th></th>\n",
       "      <th>geometry</th>\n",
       "      <th>SOC_gkg</th>\n",
       "    </tr>\n",
       "  </thead>\n",
       "  <tbody>\n",
       "    <tr>\n",
       "      <th>0</th>\n",
       "      <td>POINT (-46.93333 -12.60000)</td>\n",
       "      <td>0.0</td>\n",
       "    </tr>\n",
       "    <tr>\n",
       "      <th>1</th>\n",
       "      <td>POINT (-46.93333 -12.60000)</td>\n",
       "      <td>0.0</td>\n",
       "    </tr>\n",
       "    <tr>\n",
       "      <th>2</th>\n",
       "      <td>POINT (-47.04784 -12.81708)</td>\n",
       "      <td>15.6</td>\n",
       "    </tr>\n",
       "    <tr>\n",
       "      <th>3</th>\n",
       "      <td>POINT (-47.04784 -12.81708)</td>\n",
       "      <td>9.4</td>\n",
       "    </tr>\n",
       "    <tr>\n",
       "      <th>4</th>\n",
       "      <td>POINT (-47.04784 -12.81708)</td>\n",
       "      <td>4.7</td>\n",
       "    </tr>\n",
       "  </tbody>\n",
       "</table>\n",
       "</div>"
      ],
      "text/plain": [
       "                      geometry  SOC_gkg\n",
       "0  POINT (-46.93333 -12.60000)      0.0\n",
       "1  POINT (-46.93333 -12.60000)      0.0\n",
       "2  POINT (-47.04784 -12.81708)     15.6\n",
       "3  POINT (-47.04784 -12.81708)      9.4\n",
       "4  POINT (-47.04784 -12.81708)      4.7"
      ]
     },
     "execution_count": 85,
     "metadata": {},
     "output_type": "execute_result"
    }
   ],
   "source": [
    "# load tsampling point data collected on the field\n",
    "point_data = gpd.read_file('data/tocantin_sampling_points.shp')\n",
    "point_data = point_data[['geometry','SOC_gkg']]\n",
    "point_data.head()"
   ]
  },
  {
   "cell_type": "code",
   "execution_count": 86,
   "metadata": {},
   "outputs": [
    {
     "data": {
      "text/html": [
       "\n",
       "            <style>\n",
       "                .geemap-dark {\n",
       "                    --jp-widgets-color: white;\n",
       "                    --jp-widgets-label-color: white;\n",
       "                    --jp-ui-font-color1: white;\n",
       "                    --jp-layout-color2: #454545;\n",
       "                    background-color: #383838;\n",
       "                }\n",
       "\n",
       "                .geemap-dark .jupyter-button {\n",
       "                    --jp-layout-color3: #383838;\n",
       "                }\n",
       "\n",
       "                .geemap-colab {\n",
       "                    background-color: var(--colab-primary-surface-color, white);\n",
       "                }\n",
       "\n",
       "                .geemap-colab .jupyter-button {\n",
       "                    --jp-layout-color3: var(--colab-primary-surface-color, white);\n",
       "                }\n",
       "            </style>\n",
       "            "
      ],
      "text/plain": [
       "<IPython.core.display.HTML object>"
      ]
     },
     "metadata": {},
     "output_type": "display_data"
    },
    {
     "data": {
      "image/png": "[encoded data removed]",
      "text/plain": [
       "<Figure size 1000x1200 with 1 Axes>"
      ]
     },
     "metadata": {},
     "output_type": "display_data"
    }
   ],
   "source": [
    "# plot the random points to see the distribution\n",
    "fig = plt.figure(figsize=(10, 12))\n",
    "ax = fig.add_subplot(1, 1, 1)\n",
    "ax = boundary.plot(ax=ax, linewidth=2, color='white', edgecolor='0.8')\n",
    "point_data.plot(ax=ax, markersize=5, color='green');"
   ]
  },
  {
   "cell_type": "markdown",
   "metadata": {},
   "source": [
    "#### Extract the dependent raster varibale data to the sampling points "
   ]
  },
  {
   "cell_type": "code",
   "execution_count": 88,
   "metadata": {},
   "outputs": [
    {
     "data": {
      "text/html": [
       "\n",
       "            <style>\n",
       "                .geemap-dark {\n",
       "                    --jp-widgets-color: white;\n",
       "                    --jp-widgets-label-color: white;\n",
       "                    --jp-ui-font-color1: white;\n",
       "                    --jp-layout-color2: #454545;\n",
       "                    background-color: #383838;\n",
       "                }\n",
       "\n",
       "                .geemap-dark .jupyter-button {\n",
       "                    --jp-layout-color3: #383838;\n",
       "                }\n",
       "\n",
       "                .geemap-colab {\n",
       "                    background-color: var(--colab-primary-surface-color, white);\n",
       "                }\n",
       "\n",
       "                .geemap-colab .jupyter-button {\n",
       "                    --jp-layout-color3: var(--colab-primary-surface-color, white);\n",
       "                }\n",
       "            </style>\n",
       "            "
      ],
      "text/plain": [
       "<IPython.core.display.HTML object>"
      ]
     },
     "metadata": {},
     "output_type": "display_data"
    }
   ],
   "source": [
    "from utils.extract_raster_values import get_value_to_point\n",
    "import rasterio as rio\n",
    "\n",
    "# use raterio to load all the data\n",
    "def open_image(image_path:str):\n",
    "    image =  rio.open(image_path)\n",
    "    return image\n",
    "     \n",
    "elevation = open_image('output_images/elevation.tif') \n",
    "slope = open_image('output_images/slope.tif') \n",
    "landcover = open_image('output_images/landcover.tif') \n",
    "rainfall = open_image('output_images/rainfall.tif')\n",
    "lst = open_image('output_images/lst.tif')\n",
    "ndvi = open_image('output_images/ndvi.tif') \n",
    "twi = open_image('output_images/twi.tif')\n",
    "smi = open_image('output_images/smi.tif')\n",
    "soil_ph = open_image('output_images/soil_ph.tif')\n",
    "soil_texture = open_image('output_images/soil_texture.tif')\n",
    "\n",
    "raster_list = [elevation, slope, landcover,rainfall,lst, ndvi,twi,smi, soil_ph,soil_texture]\n",
    "\n",
    "point_data = get_value_to_point(point_data, raster_list) \n",
    "\n",
    "# Rename Fields\n",
    "cols = ['geometry','SOC_gkg','elevation', 'slope',\n",
    "         'landcover', 'rainfall', 'lst',\n",
    "         'ndvi','twi','smi', 'soil_ph','soil_texture']\n",
    "point_data.columns=cols"
   ]
  },
  {
   "cell_type": "code",
   "execution_count": 89,
   "metadata": {},
   "outputs": [
    {
     "data": {
      "text/html": [
       "\n",
       "            <style>\n",
       "                .geemap-dark {\n",
       "                    --jp-widgets-color: white;\n",
       "                    --jp-widgets-label-color: white;\n",
       "                    --jp-ui-font-color1: white;\n",
       "                    --jp-layout-color2: #454545;\n",
       "                    background-color: #383838;\n",
       "                }\n",
       "\n",
       "                .geemap-dark .jupyter-button {\n",
       "                    --jp-layout-color3: #383838;\n",
       "                }\n",
       "\n",
       "                .geemap-colab {\n",
       "                    background-color: var(--colab-primary-surface-color, white);\n",
       "                }\n",
       "\n",
       "                .geemap-colab .jupyter-button {\n",
       "                    --jp-layout-color3: var(--colab-primary-surface-color, white);\n",
       "                }\n",
       "            </style>\n",
       "            "
      ],
      "text/plain": [
       "<IPython.core.display.HTML object>"
      ]
     },
     "metadata": {},
     "output_type": "display_data"
    },
    {
     "data": {
      "text/html": [
       "<div>\n",
       "<style scoped>\n",
       "    .dataframe tbody tr th:only-of-type {\n",
       "        vertical-align: middle;\n",
       "    }\n",
       "\n",
       "    .dataframe tbody tr th {\n",
       "        vertical-align: top;\n",
       "    }\n",
       "\n",
       "    .dataframe thead th {\n",
       "        text-align: right;\n",
       "    }\n",
       "</style>\n",
       "<table border=\"1\" class=\"dataframe\">\n",
       "  <thead>\n",
       "    <tr style=\"text-align: right;\">\n",
       "      <th></th>\n",
       "      <th>geometry</th>\n",
       "      <th>SOC_gkg</th>\n",
       "      <th>elevation</th>\n",
       "      <th>slope</th>\n",
       "      <th>landcover</th>\n",
       "      <th>rainfall</th>\n",
       "      <th>lst</th>\n",
       "      <th>ndvi</th>\n",
       "      <th>twi</th>\n",
       "      <th>smi</th>\n",
       "      <th>soil_ph</th>\n",
       "      <th>soil_texture</th>\n",
       "    </tr>\n",
       "  </thead>\n",
       "  <tbody>\n",
       "    <tr>\n",
       "      <th>0</th>\n",
       "      <td>POINT (-46.93333 -12.60000)</td>\n",
       "      <td>0.0</td>\n",
       "      <td>610</td>\n",
       "      <td>2.062893</td>\n",
       "      <td>10</td>\n",
       "      <td>15220.092459</td>\n",
       "      <td>31.268737</td>\n",
       "      <td>0.554293</td>\n",
       "      <td>15.126718</td>\n",
       "      <td>0.854531</td>\n",
       "      <td>5.6</td>\n",
       "      <td>6</td>\n",
       "    </tr>\n",
       "    <tr>\n",
       "      <th>1</th>\n",
       "      <td>POINT (-46.93333 -12.60000)</td>\n",
       "      <td>0.0</td>\n",
       "      <td>610</td>\n",
       "      <td>2.062893</td>\n",
       "      <td>10</td>\n",
       "      <td>15220.092459</td>\n",
       "      <td>31.268737</td>\n",
       "      <td>0.554293</td>\n",
       "      <td>15.126718</td>\n",
       "      <td>0.854531</td>\n",
       "      <td>5.6</td>\n",
       "      <td>6</td>\n",
       "    </tr>\n",
       "    <tr>\n",
       "      <th>2</th>\n",
       "      <td>POINT (-47.04784 -12.81708)</td>\n",
       "      <td>15.6</td>\n",
       "      <td>422</td>\n",
       "      <td>0.493767</td>\n",
       "      <td>20</td>\n",
       "      <td>15406.665894</td>\n",
       "      <td>31.438270</td>\n",
       "      <td>0.456475</td>\n",
       "      <td>16.853938</td>\n",
       "      <td>0.855788</td>\n",
       "      <td>5.6</td>\n",
       "      <td>6</td>\n",
       "    </tr>\n",
       "    <tr>\n",
       "      <th>3</th>\n",
       "      <td>POINT (-47.04784 -12.81708)</td>\n",
       "      <td>9.4</td>\n",
       "      <td>422</td>\n",
       "      <td>0.493767</td>\n",
       "      <td>20</td>\n",
       "      <td>15406.665894</td>\n",
       "      <td>31.438270</td>\n",
       "      <td>0.456475</td>\n",
       "      <td>16.853938</td>\n",
       "      <td>0.855788</td>\n",
       "      <td>5.6</td>\n",
       "      <td>6</td>\n",
       "    </tr>\n",
       "    <tr>\n",
       "      <th>4</th>\n",
       "      <td>POINT (-47.04784 -12.81708)</td>\n",
       "      <td>4.7</td>\n",
       "      <td>422</td>\n",
       "      <td>0.493767</td>\n",
       "      <td>20</td>\n",
       "      <td>15406.665894</td>\n",
       "      <td>31.438270</td>\n",
       "      <td>0.456475</td>\n",
       "      <td>16.853938</td>\n",
       "      <td>0.855788</td>\n",
       "      <td>5.6</td>\n",
       "      <td>6</td>\n",
       "    </tr>\n",
       "  </tbody>\n",
       "</table>\n",
       "</div>"
      ],
      "text/plain": [
       "                      geometry  SOC_gkg  elevation     slope  landcover  \\\n",
       "0  POINT (-46.93333 -12.60000)      0.0        610  2.062893         10   \n",
       "1  POINT (-46.93333 -12.60000)      0.0        610  2.062893         10   \n",
       "2  POINT (-47.04784 -12.81708)     15.6        422  0.493767         20   \n",
       "3  POINT (-47.04784 -12.81708)      9.4        422  0.493767         20   \n",
       "4  POINT (-47.04784 -12.81708)      4.7        422  0.493767         20   \n",
       "\n",
       "       rainfall        lst      ndvi        twi       smi  soil_ph  \\\n",
       "0  15220.092459  31.268737  0.554293  15.126718  0.854531      5.6   \n",
       "1  15220.092459  31.268737  0.554293  15.126718  0.854531      5.6   \n",
       "2  15406.665894  31.438270  0.456475  16.853938  0.855788      5.6   \n",
       "3  15406.665894  31.438270  0.456475  16.853938  0.855788      5.6   \n",
       "4  15406.665894  31.438270  0.456475  16.853938  0.855788      5.6   \n",
       "\n",
       "   soil_texture  \n",
       "0             6  \n",
       "1             6  \n",
       "2             6  \n",
       "3             6  \n",
       "4             6  "
      ]
     },
     "execution_count": 89,
     "metadata": {},
     "output_type": "execute_result"
    }
   ],
   "source": [
    "# read the dataset to view the addeded columns\n",
    "point_data.head()"
   ]
  },
  {
   "cell_type": "markdown",
   "metadata": {},
   "source": [
    "Extract Longitude and Latitude and Svae file as csv"
   ]
  },
  {
   "cell_type": "code",
   "execution_count": 90,
   "metadata": {},
   "outputs": [
    {
     "data": {
      "text/html": [
       "\n",
       "            <style>\n",
       "                .geemap-dark {\n",
       "                    --jp-widgets-color: white;\n",
       "                    --jp-widgets-label-color: white;\n",
       "                    --jp-ui-font-color1: white;\n",
       "                    --jp-layout-color2: #454545;\n",
       "                    background-color: #383838;\n",
       "                }\n",
       "\n",
       "                .geemap-dark .jupyter-button {\n",
       "                    --jp-layout-color3: #383838;\n",
       "                }\n",
       "\n",
       "                .geemap-colab {\n",
       "                    background-color: var(--colab-primary-surface-color, white);\n",
       "                }\n",
       "\n",
       "                .geemap-colab .jupyter-button {\n",
       "                    --jp-layout-color3: var(--colab-primary-surface-color, white);\n",
       "                }\n",
       "            </style>\n",
       "            "
      ],
      "text/plain": [
       "<IPython.core.display.HTML object>"
      ]
     },
     "metadata": {},
     "output_type": "display_data"
    },
    {
     "data": {
      "text/html": [
       "<div>\n",
       "<style scoped>\n",
       "    .dataframe tbody tr th:only-of-type {\n",
       "        vertical-align: middle;\n",
       "    }\n",
       "\n",
       "    .dataframe tbody tr th {\n",
       "        vertical-align: top;\n",
       "    }\n",
       "\n",
       "    .dataframe thead th {\n",
       "        text-align: right;\n",
       "    }\n",
       "</style>\n",
       "<table border=\"1\" class=\"dataframe\">\n",
       "  <thead>\n",
       "    <tr style=\"text-align: right;\">\n",
       "      <th></th>\n",
       "      <th>SOC_gkg</th>\n",
       "      <th>elevation</th>\n",
       "      <th>slope</th>\n",
       "      <th>landcover</th>\n",
       "      <th>rainfall</th>\n",
       "      <th>lst</th>\n",
       "      <th>ndvi</th>\n",
       "      <th>twi</th>\n",
       "      <th>smi</th>\n",
       "      <th>soil_ph</th>\n",
       "      <th>soil_texture</th>\n",
       "      <th>longitude</th>\n",
       "      <th>latitude</th>\n",
       "    </tr>\n",
       "  </thead>\n",
       "  <tbody>\n",
       "    <tr>\n",
       "      <th>0</th>\n",
       "      <td>0.0</td>\n",
       "      <td>610</td>\n",
       "      <td>2.062893</td>\n",
       "      <td>10</td>\n",
       "      <td>15220.092459</td>\n",
       "      <td>31.268737</td>\n",
       "      <td>0.554293</td>\n",
       "      <td>15.126718</td>\n",
       "      <td>0.854531</td>\n",
       "      <td>5.6</td>\n",
       "      <td>6</td>\n",
       "      <td>-46.933330</td>\n",
       "      <td>-46.933330</td>\n",
       "    </tr>\n",
       "    <tr>\n",
       "      <th>1</th>\n",
       "      <td>0.0</td>\n",
       "      <td>610</td>\n",
       "      <td>2.062893</td>\n",
       "      <td>10</td>\n",
       "      <td>15220.092459</td>\n",
       "      <td>31.268737</td>\n",
       "      <td>0.554293</td>\n",
       "      <td>15.126718</td>\n",
       "      <td>0.854531</td>\n",
       "      <td>5.6</td>\n",
       "      <td>6</td>\n",
       "      <td>-46.933330</td>\n",
       "      <td>-46.933330</td>\n",
       "    </tr>\n",
       "    <tr>\n",
       "      <th>2</th>\n",
       "      <td>15.6</td>\n",
       "      <td>422</td>\n",
       "      <td>0.493767</td>\n",
       "      <td>20</td>\n",
       "      <td>15406.665894</td>\n",
       "      <td>31.438270</td>\n",
       "      <td>0.456475</td>\n",
       "      <td>16.853938</td>\n",
       "      <td>0.855788</td>\n",
       "      <td>5.6</td>\n",
       "      <td>6</td>\n",
       "      <td>-47.047838</td>\n",
       "      <td>-47.047838</td>\n",
       "    </tr>\n",
       "    <tr>\n",
       "      <th>3</th>\n",
       "      <td>9.4</td>\n",
       "      <td>422</td>\n",
       "      <td>0.493767</td>\n",
       "      <td>20</td>\n",
       "      <td>15406.665894</td>\n",
       "      <td>31.438270</td>\n",
       "      <td>0.456475</td>\n",
       "      <td>16.853938</td>\n",
       "      <td>0.855788</td>\n",
       "      <td>5.6</td>\n",
       "      <td>6</td>\n",
       "      <td>-47.047838</td>\n",
       "      <td>-47.047838</td>\n",
       "    </tr>\n",
       "    <tr>\n",
       "      <th>4</th>\n",
       "      <td>4.7</td>\n",
       "      <td>422</td>\n",
       "      <td>0.493767</td>\n",
       "      <td>20</td>\n",
       "      <td>15406.665894</td>\n",
       "      <td>31.438270</td>\n",
       "      <td>0.456475</td>\n",
       "      <td>16.853938</td>\n",
       "      <td>0.855788</td>\n",
       "      <td>5.6</td>\n",
       "      <td>6</td>\n",
       "      <td>-47.047838</td>\n",
       "      <td>-47.047838</td>\n",
       "    </tr>\n",
       "    <tr>\n",
       "      <th>...</th>\n",
       "      <td>...</td>\n",
       "      <td>...</td>\n",
       "      <td>...</td>\n",
       "      <td>...</td>\n",
       "      <td>...</td>\n",
       "      <td>...</td>\n",
       "      <td>...</td>\n",
       "      <td>...</td>\n",
       "      <td>...</td>\n",
       "      <td>...</td>\n",
       "      <td>...</td>\n",
       "      <td>...</td>\n",
       "      <td>...</td>\n",
       "    </tr>\n",
       "    <tr>\n",
       "      <th>466</th>\n",
       "      <td>7.3</td>\n",
       "      <td>194</td>\n",
       "      <td>0.055229</td>\n",
       "      <td>30</td>\n",
       "      <td>17296.059790</td>\n",
       "      <td>35.539894</td>\n",
       "      <td>0.427401</td>\n",
       "      <td>14.433570</td>\n",
       "      <td>0.886213</td>\n",
       "      <td>5.2</td>\n",
       "      <td>4</td>\n",
       "      <td>-50.616700</td>\n",
       "      <td>-50.616700</td>\n",
       "    </tr>\n",
       "    <tr>\n",
       "      <th>467</th>\n",
       "      <td>3.7</td>\n",
       "      <td>194</td>\n",
       "      <td>0.055229</td>\n",
       "      <td>30</td>\n",
       "      <td>17296.059790</td>\n",
       "      <td>35.539894</td>\n",
       "      <td>0.427401</td>\n",
       "      <td>14.433570</td>\n",
       "      <td>0.886213</td>\n",
       "      <td>5.2</td>\n",
       "      <td>4</td>\n",
       "      <td>-50.616700</td>\n",
       "      <td>-50.616700</td>\n",
       "    </tr>\n",
       "    <tr>\n",
       "      <th>468</th>\n",
       "      <td>15.0</td>\n",
       "      <td>492</td>\n",
       "      <td>2.690819</td>\n",
       "      <td>10</td>\n",
       "      <td>15655.838346</td>\n",
       "      <td>34.724127</td>\n",
       "      <td>0.434534</td>\n",
       "      <td>18.436348</td>\n",
       "      <td>0.880162</td>\n",
       "      <td>5.8</td>\n",
       "      <td>4</td>\n",
       "      <td>-46.433300</td>\n",
       "      <td>-46.433300</td>\n",
       "    </tr>\n",
       "    <tr>\n",
       "      <th>469</th>\n",
       "      <td>1.2</td>\n",
       "      <td>582</td>\n",
       "      <td>2.456891</td>\n",
       "      <td>10</td>\n",
       "      <td>14985.424553</td>\n",
       "      <td>33.815162</td>\n",
       "      <td>0.399245</td>\n",
       "      <td>15.126718</td>\n",
       "      <td>0.873419</td>\n",
       "      <td>6.1</td>\n",
       "      <td>4</td>\n",
       "      <td>-46.616700</td>\n",
       "      <td>-46.616700</td>\n",
       "    </tr>\n",
       "    <tr>\n",
       "      <th>470</th>\n",
       "      <td>15.0</td>\n",
       "      <td>256</td>\n",
       "      <td>0.675463</td>\n",
       "      <td>30</td>\n",
       "      <td>19219.059834</td>\n",
       "      <td>38.622948</td>\n",
       "      <td>0.359090</td>\n",
       "      <td>15.532183</td>\n",
       "      <td>0.909082</td>\n",
       "      <td>5.1</td>\n",
       "      <td>6</td>\n",
       "      <td>-49.300000</td>\n",
       "      <td>-49.300000</td>\n",
       "    </tr>\n",
       "  </tbody>\n",
       "</table>\n",
       "<p>471 rows × 13 columns</p>\n",
       "</div>"
      ],
      "text/plain": [
       "     SOC_gkg  elevation     slope  landcover      rainfall        lst  \\\n",
       "0        0.0        610  2.062893         10  15220.092459  31.268737   \n",
       "1        0.0        610  2.062893         10  15220.092459  31.268737   \n",
       "2       15.6        422  0.493767         20  15406.665894  31.438270   \n",
       "3        9.4        422  0.493767         20  15406.665894  31.438270   \n",
       "4        4.7        422  0.493767         20  15406.665894  31.438270   \n",
       "..       ...        ...       ...        ...           ...        ...   \n",
       "466      7.3        194  0.055229         30  17296.059790  35.539894   \n",
       "467      3.7        194  0.055229         30  17296.059790  35.539894   \n",
       "468     15.0        492  2.690819         10  15655.838346  34.724127   \n",
       "469      1.2        582  2.456891         10  14985.424553  33.815162   \n",
       "470     15.0        256  0.675463         30  19219.059834  38.622948   \n",
       "\n",
       "         ndvi        twi       smi  soil_ph  soil_texture  longitude  \\\n",
       "0    0.554293  15.126718  0.854531      5.6             6 -46.933330   \n",
       "1    0.554293  15.126718  0.854531      5.6             6 -46.933330   \n",
       "2    0.456475  16.853938  0.855788      5.6             6 -47.047838   \n",
       "3    0.456475  16.853938  0.855788      5.6             6 -47.047838   \n",
       "4    0.456475  16.853938  0.855788      5.6             6 -47.047838   \n",
       "..        ...        ...       ...      ...           ...        ...   \n",
       "466  0.427401  14.433570  0.886213      5.2             4 -50.616700   \n",
       "467  0.427401  14.433570  0.886213      5.2             4 -50.616700   \n",
       "468  0.434534  18.436348  0.880162      5.8             4 -46.433300   \n",
       "469  0.399245  15.126718  0.873419      6.1             4 -46.616700   \n",
       "470  0.359090  15.532183  0.909082      5.1             6 -49.300000   \n",
       "\n",
       "      latitude  \n",
       "0   -46.933330  \n",
       "1   -46.933330  \n",
       "2   -47.047838  \n",
       "3   -47.047838  \n",
       "4   -47.047838  \n",
       "..         ...  \n",
       "466 -50.616700  \n",
       "467 -50.616700  \n",
       "468 -46.433300  \n",
       "469 -46.616700  \n",
       "470 -49.300000  \n",
       "\n",
       "[471 rows x 13 columns]"
      ]
     },
     "execution_count": 90,
     "metadata": {},
     "output_type": "execute_result"
    }
   ],
   "source": [
    "# extract lat and long\n",
    "point_data['longitude'] = point_data.geometry.x\n",
    "point_data['latitude'] = point_data.geometry.x\n",
    "\n",
    "# drop geomerty field\n",
    "point_data.drop(columns='geometry',inplace=True)\n",
    "\n",
    "# show\n",
    "point_data"
   ]
  },
  {
   "cell_type": "code",
   "execution_count": 91,
   "metadata": {},
   "outputs": [
    {
     "data": {
      "text/html": [
       "\n",
       "            <style>\n",
       "                .geemap-dark {\n",
       "                    --jp-widgets-color: white;\n",
       "                    --jp-widgets-label-color: white;\n",
       "                    --jp-ui-font-color1: white;\n",
       "                    --jp-layout-color2: #454545;\n",
       "                    background-color: #383838;\n",
       "                }\n",
       "\n",
       "                .geemap-dark .jupyter-button {\n",
       "                    --jp-layout-color3: #383838;\n",
       "                }\n",
       "\n",
       "                .geemap-colab {\n",
       "                    background-color: var(--colab-primary-surface-color, white);\n",
       "                }\n",
       "\n",
       "                .geemap-colab .jupyter-button {\n",
       "                    --jp-layout-color3: var(--colab-primary-surface-color, white);\n",
       "                }\n",
       "            </style>\n",
       "            "
      ],
      "text/plain": [
       "<IPython.core.display.HTML object>"
      ]
     },
     "metadata": {},
     "output_type": "display_data"
    }
   ],
   "source": [
    "# Save data to csv\n",
    "point_data.to_csv('training_dataset.csv',index=False)"
   ]
  }
 ],
 "metadata": {
  "colab": {
   "provenance": []
  },
  "kernelspec": {
   "display_name": "Python 3 (ipykernel)",
   "language": "python",
   "name": "python3"
  },
  "language_info": {
   "codemirror_mode": {
    "name": "ipython",
    "version": 3
   },
   "file_extension": ".py",
   "mimetype": "text/x-python",
   "name": "python",
   "nbconvert_exporter": "python",
   "pygments_lexer": "ipython3",
   "version": "3.11.8"
  },
  "vscode": {
   "interpreter": {
    "hash": "356734b0b4e05b3af569ed06eb258f6ef66038e7268c6bdbb97ecd1a1c609e88"
   }
  },
  "widgets": {
   "application/vnd.jupyter.widget-state+json": {
    "10ca6f9780864c96b071f7ea85bcf24c": {
     "model_module": "jupyter-leaflet",
     "model_module_version": "^0.17",
     "model_name": "LeafletTileLayerModel",
     "state": {
      "_model_module": "jupyter-leaflet",
      "_model_module_version": "^0.17",
      "_model_name": "LeafletTileLayerModel",
      "_view_count": null,
      "_view_module": "jupyter-leaflet",
      "_view_module_version": "^0.17",
      "_view_name": "LeafletTileLayerView",
      "attribution": "&copy; <a href=\"https://www.openstreetmap.org/copyright\">OpenStreetMap</a> contributors",
      "base": true,
      "bottom": true,
      "bounds": null,
      "detect_retina": false,
      "loading": false,
      "max_native_zoom": null,
      "max_zoom": 19,
      "min_native_zoom": null,
      "min_zoom": 1,
      "name": "OpenStreetMap.Mapnik",
      "no_wrap": false,
      "opacity": 1,
      "options": [
       "attribution",
       "bounds",
       "detect_retina",
       "max_native_zoom",
       "max_zoom",
       "min_native_zoom",
       "min_zoom",
       "no_wrap",
       "tile_size",
       "tms",
       "zoom_offset"
      ],
      "pane": "",
      "popup": null,
      "popup_max_height": null,
      "popup_max_width": 300,
      "popup_min_width": 50,
      "show_loading": false,
      "subitems": [],
      "tile_size": 256,
      "tms": false,
      "url": "https://tile.openstreetmap.org/{z}/{x}/{y}.png",
      "visible": true,
      "zoom_offset": 0
     }
    },
    "16db167e511e47d0a54c3e23eb6ef929": {
     "model_module": "jupyter-leaflet",
     "model_module_version": "^0.17",
     "model_name": "LeafletMapStyleModel",
     "state": {
      "_model_module": "jupyter-leaflet",
      "_model_module_version": "^0.17",
      "_model_name": "LeafletMapStyleModel",
      "_view_count": null,
      "_view_module": "@jupyter-widgets/base",
      "_view_module_version": "1.2.0",
      "_view_name": "StyleView",
      "cursor": "move"
     }
    },
    "1884392ad7d74f77b22bd3afee8f25ee": {
     "model_module": "jupyter-leaflet",
     "model_module_version": "^0.17",
     "model_name": "LeafletMeasureControlModel",
     "state": {
      "_custom_units": {},
      "_model_module": "jupyter-leaflet",
      "_model_module_version": "^0.17",
      "_model_name": "LeafletMeasureControlModel",
      "_view_count": null,
      "_view_module": "jupyter-leaflet",
      "_view_module_version": "^0.17",
      "_view_name": "LeafletMeasureControlView",
      "active_color": "orange",
      "capture_z_index": 10000,
      "completed_color": "#C8F2BE",
      "options": [
       "active_color",
       "capture_z_index",
       "completed_color",
       "popup_options",
       "position",
       "primary_area_unit",
       "primary_length_unit",
       "secondary_area_unit",
       "secondary_length_unit"
      ],
      "popup_options": {
       "autoPanPadding": [
        10,
        10
       ],
       "className": "leaflet-measure-resultpopup"
      },
      "position": "bottomleft",
      "primary_area_unit": "acres",
      "primary_length_unit": "kilometers",
      "secondary_area_unit": null,
      "secondary_length_unit": null
     }
    },
    "1aafd0ead93e464b891465a8402ad980": {
     "model_module": "@jupyter-widgets/base",
     "model_module_version": "1.2.0",
     "model_name": "LayoutModel",
     "state": {
      "_model_module": "@jupyter-widgets/base",
      "_model_module_version": "1.2.0",
      "_model_name": "LayoutModel",
      "_view_count": null,
      "_view_module": "@jupyter-widgets/base",
      "_view_module_version": "1.2.0",
      "_view_name": "LayoutView",
      "align_content": null,
      "align_items": null,
      "align_self": null,
      "border": null,
      "bottom": null,
      "display": null,
      "flex": null,
      "flex_flow": null,
      "grid_area": null,
      "grid_auto_columns": null,
      "grid_auto_flow": null,
      "grid_auto_rows": null,
      "grid_column": null,
      "grid_gap": null,
      "grid_row": null,
      "grid_template_areas": null,
      "grid_template_columns": null,
      "grid_template_rows": null,
      "height": "600px",
      "justify_content": null,
      "justify_items": null,
      "left": null,
      "margin": null,
      "max_height": null,
      "max_width": null,
      "min_height": null,
      "min_width": null,
      "object_fit": null,
      "object_position": null,
      "order": null,
      "overflow": null,
      "overflow_x": null,
      "overflow_y": null,
      "padding": null,
      "right": null,
      "top": null,
      "visibility": null,
      "width": null
     }
    },
    "1beb5c098f664ab2a5b411b5836c6bed": {
     "model_module": "jupyter-leaflet",
     "model_module_version": "^0.17",
     "model_name": "LeafletTileLayerModel",
     "state": {
      "_model_module": "jupyter-leaflet",
      "_model_module_version": "^0.17",
      "_model_name": "LeafletTileLayerModel",
      "_view_count": null,
      "_view_module": "jupyter-leaflet",
      "_view_module_version": "^0.17",
      "_view_name": "LeafletTileLayerView",
      "attribution": "Google Earth Engine",
      "base": false,
      "bottom": true,
      "bounds": null,
      "detect_retina": false,
      "loading": false,
      "max_native_zoom": null,
      "max_zoom": 24,
      "min_native_zoom": null,
      "min_zoom": 0,
      "name": "Elevation",
      "no_wrap": false,
      "opacity": 1,
      "options": [
       "attribution",
       "bounds",
       "detect_retina",
       "max_native_zoom",
       "max_zoom",
       "min_native_zoom",
       "min_zoom",
       "no_wrap",
       "tile_size",
       "tms",
       "zoom_offset"
      ],
      "pane": "",
      "popup": null,
      "popup_max_height": null,
      "popup_max_width": 300,
      "popup_min_width": 50,
      "show_loading": false,
      "subitems": [],
      "tile_size": 256,
      "tms": false,
      "url": "https://earthengine.googleapis.com/v1alpha/projects/earthengine-legacy/maps/6ebf6c0b19a72db729c910549452b246-e59b0d7c9333bb05f6b3873e7e40fea5/tiles/{z}/{x}/{y}",
      "visible": true,
      "zoom_offset": 0
     }
    },
    "307f6d551b8f4c4a8055d305b9b0e9ff": {
     "model_module": "@jupyter-widgets/controls",
     "model_module_version": "1.5.0",
     "model_name": "ToggleButtonModel",
     "state": {
      "_dom_classes": [],
      "_model_module": "@jupyter-widgets/controls",
      "_model_module_version": "1.5.0",
      "_model_name": "ToggleButtonModel",
      "_view_count": null,
      "_view_module": "@jupyter-widgets/controls",
      "_view_module_version": "1.5.0",
      "_view_name": "ToggleButtonView",
      "button_style": "",
      "description": "",
      "description_tooltip": null,
      "disabled": false,
      "icon": "globe",
      "layout": "IPY_MODEL_b18a8ec1174a4b539602b041e60c5fd5",
      "style": "IPY_MODEL_91a960182e92408693450e0a4b433141",
      "tooltip": "Search location/data",
      "value": false
     }
    },
    "42a2a539a70047e0ae324ef91b79ad44": {
     "model_module": "jupyter-leaflet",
     "model_module_version": "^0.17",
     "model_name": "LeafletAttributionControlModel",
     "state": {
      "_model_module": "jupyter-leaflet",
      "_model_module_version": "^0.17",
      "_model_name": "LeafletAttributionControlModel",
      "_view_count": null,
      "_view_module": "jupyter-leaflet",
      "_view_module_version": "^0.17",
      "_view_name": "LeafletAttributionControlView",
      "options": [
       "position",
       "prefix"
      ],
      "position": "bottomright",
      "prefix": "ipyleaflet"
     }
    },
    "42dd8778b1d249e19b2ddb2cc1525b69": {
     "model_module": "@jupyter-widgets/controls",
     "model_module_version": "1.5.0",
     "model_name": "DescriptionStyleModel",
     "state": {
      "_model_module": "@jupyter-widgets/controls",
      "_model_module_version": "1.5.0",
      "_model_name": "DescriptionStyleModel",
      "_view_count": null,
      "_view_module": "@jupyter-widgets/base",
      "_view_module_version": "1.2.0",
      "_view_name": "StyleView",
      "description_width": ""
     }
    },
    "4983676c3f254ceb97baa52e361c7299": {
     "model_module": "jupyter-leaflet",
     "model_module_version": "^0.17",
     "model_name": "LeafletZoomControlModel",
     "state": {
      "_model_module": "jupyter-leaflet",
      "_model_module_version": "^0.17",
      "_model_name": "LeafletZoomControlModel",
      "_view_count": null,
      "_view_module": "jupyter-leaflet",
      "_view_module_version": "^0.17",
      "_view_name": "LeafletZoomControlView",
      "options": [
       "position",
       "zoom_in_text",
       "zoom_in_title",
       "zoom_out_text",
       "zoom_out_title"
      ],
      "position": "topleft",
      "zoom_in_text": "+",
      "zoom_in_title": "Zoom in",
      "zoom_out_text": "-",
      "zoom_out_title": "Zoom out"
     }
    },
    "50f5ad810ab24088a4aa0d7a6c3b72f6": {
     "model_module": "jupyter-leaflet",
     "model_module_version": "^0.17",
     "model_name": "LeafletWidgetControlModel",
     "state": {
      "_model_module": "jupyter-leaflet",
      "_model_module_version": "^0.17",
      "_model_name": "LeafletWidgetControlModel",
      "_view_count": null,
      "_view_module": "jupyter-leaflet",
      "_view_module_version": "^0.17",
      "_view_name": "LeafletWidgetControlView",
      "max_height": null,
      "max_width": null,
      "min_height": null,
      "min_width": null,
      "options": [
       "position",
       "transparent_bg"
      ],
      "position": "topright",
      "transparent_bg": false,
      "widget": "IPY_MODEL_57e5db41f9b34d4fb3aa640d0fc91b26"
     }
    },
    "57e5db41f9b34d4fb3aa640d0fc91b26": {
     "model_module": "@jupyter-widgets/controls",
     "model_module_version": "1.5.0",
     "model_name": "VBoxModel",
     "state": {
      "_dom_classes": [],
      "_model_module": "@jupyter-widgets/controls",
      "_model_module_version": "1.5.0",
      "_model_name": "VBoxModel",
      "_view_count": null,
      "_view_module": "@jupyter-widgets/controls",
      "_view_module_version": "1.5.0",
      "_view_name": "VBoxView",
      "box_style": "",
      "children": [
       "IPY_MODEL_cfc93a5646cd446f95f242db3e036881"
      ],
      "layout": "IPY_MODEL_5eff3a9b2d3d4ea0b93d04e2a13d5d82"
     }
    },
    "5881d01c39824298a2fa60d35c67fd5b": {
     "model_module": "jupyter-leaflet",
     "model_module_version": "^0.17",
     "model_name": "LeafletWidgetControlModel",
     "state": {
      "_model_module": "jupyter-leaflet",
      "_model_module_version": "^0.17",
      "_model_name": "LeafletWidgetControlModel",
      "_view_count": null,
      "_view_module": "jupyter-leaflet",
      "_view_module_version": "^0.17",
      "_view_name": "LeafletWidgetControlView",
      "max_height": null,
      "max_width": null,
      "min_height": null,
      "min_width": null,
      "options": [
       "position",
       "transparent_bg"
      ],
      "position": "topleft",
      "transparent_bg": false,
      "widget": "IPY_MODEL_c6b1b2f055a445c28f47154a1ffd0f5d"
     }
    },
    "5eff3a9b2d3d4ea0b93d04e2a13d5d82": {
     "model_module": "@jupyter-widgets/base",
     "model_module_version": "1.2.0",
     "model_name": "LayoutModel",
     "state": {
      "_model_module": "@jupyter-widgets/base",
      "_model_module_version": "1.2.0",
      "_model_name": "LayoutModel",
      "_view_count": null,
      "_view_module": "@jupyter-widgets/base",
      "_view_module_version": "1.2.0",
      "_view_name": "LayoutView",
      "align_content": null,
      "align_items": null,
      "align_self": null,
      "border": null,
      "bottom": null,
      "display": null,
      "flex": null,
      "flex_flow": null,
      "grid_area": null,
      "grid_auto_columns": null,
      "grid_auto_flow": null,
      "grid_auto_rows": null,
      "grid_column": null,
      "grid_gap": null,
      "grid_row": null,
      "grid_template_areas": null,
      "grid_template_columns": null,
      "grid_template_rows": null,
      "height": null,
      "justify_content": null,
      "justify_items": null,
      "left": null,
      "margin": null,
      "max_height": null,
      "max_width": null,
      "min_height": null,
      "min_width": null,
      "object_fit": null,
      "object_position": null,
      "order": null,
      "overflow": null,
      "overflow_x": null,
      "overflow_y": null,
      "padding": null,
      "right": null,
      "top": null,
      "visibility": null,
      "width": null
     }
    },
    "78b758c094c7475aab2d3a45aaaab4a3": {
     "model_module": "jupyter-leaflet",
     "model_module_version": "^0.17",
     "model_name": "LeafletTileLayerModel",
     "state": {
      "_model_module": "jupyter-leaflet",
      "_model_module_version": "^0.17",
      "_model_name": "LeafletTileLayerModel",
      "_view_count": null,
      "_view_module": "jupyter-leaflet",
      "_view_module_version": "^0.17",
      "_view_name": "LeafletTileLayerView",
      "attribution": "Google",
      "base": false,
      "bottom": true,
      "bounds": null,
      "detect_retina": false,
      "loading": false,
      "max_native_zoom": null,
      "max_zoom": 22,
      "min_native_zoom": null,
      "min_zoom": 0,
      "name": "Google Maps",
      "no_wrap": false,
      "opacity": 1,
      "options": [
       "attribution",
       "bounds",
       "detect_retina",
       "max_native_zoom",
       "max_zoom",
       "min_native_zoom",
       "min_zoom",
       "no_wrap",
       "tile_size",
       "tms",
       "zoom_offset"
      ],
      "pane": "",
      "popup": null,
      "popup_max_height": null,
      "popup_max_width": 300,
      "popup_min_width": 50,
      "show_loading": false,
      "subitems": [],
      "tile_size": 256,
      "tms": false,
      "url": "https://mt1.google.com/vt/lyrs=m&x={x}&y={y}&z={z}",
      "visible": true,
      "zoom_offset": 0
     }
    },
    "91a960182e92408693450e0a4b433141": {
     "model_module": "@jupyter-widgets/controls",
     "model_module_version": "1.5.0",
     "model_name": "DescriptionStyleModel",
     "state": {
      "_model_module": "@jupyter-widgets/controls",
      "_model_module_version": "1.5.0",
      "_model_name": "DescriptionStyleModel",
      "_view_count": null,
      "_view_module": "@jupyter-widgets/base",
      "_view_module_version": "1.2.0",
      "_view_name": "StyleView",
      "description_width": ""
     }
    },
    "923c0de069aa4e5c8abfed385abc889a": {
     "model_module": "jupyter-leaflet",
     "model_module_version": "^0.17",
     "model_name": "LeafletFullScreenControlModel",
     "state": {
      "_model_module": "jupyter-leaflet",
      "_model_module_version": "^0.17",
      "_model_name": "LeafletFullScreenControlModel",
      "_view_count": null,
      "_view_module": "jupyter-leaflet",
      "_view_module_version": "^0.17",
      "_view_name": "LeafletFullScreenControlView",
      "options": [
       "position"
      ],
      "position": "topleft"
     }
    },
    "b18a8ec1174a4b539602b041e60c5fd5": {
     "model_module": "@jupyter-widgets/base",
     "model_module_version": "1.2.0",
     "model_name": "LayoutModel",
     "state": {
      "_model_module": "@jupyter-widgets/base",
      "_model_module_version": "1.2.0",
      "_model_name": "LayoutModel",
      "_view_count": null,
      "_view_module": "@jupyter-widgets/base",
      "_view_module_version": "1.2.0",
      "_view_name": "LayoutView",
      "align_content": null,
      "align_items": null,
      "align_self": null,
      "border": null,
      "bottom": null,
      "display": null,
      "flex": null,
      "flex_flow": null,
      "grid_area": null,
      "grid_auto_columns": null,
      "grid_auto_flow": null,
      "grid_auto_rows": null,
      "grid_column": null,
      "grid_gap": null,
      "grid_row": null,
      "grid_template_areas": null,
      "grid_template_columns": null,
      "grid_template_rows": null,
      "height": "28px",
      "justify_content": null,
      "justify_items": null,
      "left": null,
      "margin": null,
      "max_height": null,
      "max_width": null,
      "min_height": null,
      "min_width": null,
      "object_fit": null,
      "object_position": null,
      "order": null,
      "overflow": null,
      "overflow_x": null,
      "overflow_y": null,
      "padding": "0px 0px 0px 4px",
      "right": null,
      "top": null,
      "visibility": null,
      "width": "28px"
     }
    },
    "b750f9e9c00645889c4224774a29a89d": {
     "model_module": "jupyter-leaflet",
     "model_module_version": "^0.17",
     "model_name": "LeafletScaleControlModel",
     "state": {
      "_model_module": "jupyter-leaflet",
      "_model_module_version": "^0.17",
      "_model_name": "LeafletScaleControlModel",
      "_view_count": null,
      "_view_module": "jupyter-leaflet",
      "_view_module_version": "^0.17",
      "_view_name": "LeafletScaleControlView",
      "imperial": true,
      "max_width": 100,
      "metric": true,
      "options": [
       "imperial",
       "max_width",
       "metric",
       "position",
       "update_when_idle"
      ],
      "position": "bottomleft",
      "update_when_idle": false
     }
    },
    "bba5d0d674f94ec0b1886e82b18e323d": {
     "model_module": "@jupyter-widgets/base",
     "model_module_version": "1.2.0",
     "model_name": "LayoutModel",
     "state": {
      "_model_module": "@jupyter-widgets/base",
      "_model_module_version": "1.2.0",
      "_model_name": "LayoutModel",
      "_view_count": null,
      "_view_module": "@jupyter-widgets/base",
      "_view_module_version": "1.2.0",
      "_view_name": "LayoutView",
      "align_content": null,
      "align_items": null,
      "align_self": null,
      "border": null,
      "bottom": null,
      "display": null,
      "flex": null,
      "flex_flow": null,
      "grid_area": null,
      "grid_auto_columns": null,
      "grid_auto_flow": null,
      "grid_auto_rows": null,
      "grid_column": null,
      "grid_gap": null,
      "grid_row": null,
      "grid_template_areas": null,
      "grid_template_columns": null,
      "grid_template_rows": null,
      "height": "28px",
      "justify_content": null,
      "justify_items": null,
      "left": null,
      "margin": null,
      "max_height": null,
      "max_width": null,
      "min_height": null,
      "min_width": null,
      "object_fit": null,
      "object_position": null,
      "order": null,
      "overflow": null,
      "overflow_x": null,
      "overflow_y": null,
      "padding": "0px 0px 0px 4px",
      "right": null,
      "top": null,
      "visibility": null,
      "width": "28px"
     }
    },
    "c610449c895f4b5a8e4009a9d6050f43": {
     "model_module": "jupyter-leaflet",
     "model_module_version": "^0.17",
     "model_name": "LeafletMapStyleModel",
     "state": {
      "_model_module": "jupyter-leaflet",
      "_model_module_version": "^0.17",
      "_model_name": "LeafletMapStyleModel",
      "_view_count": null,
      "_view_module": "@jupyter-widgets/base",
      "_view_module_version": "1.2.0",
      "_view_name": "StyleView",
      "cursor": "grab"
     }
    },
    "c6b1b2f055a445c28f47154a1ffd0f5d": {
     "model_module": "@jupyter-widgets/controls",
     "model_module_version": "1.5.0",
     "model_name": "HBoxModel",
     "state": {
      "_dom_classes": [],
      "_model_module": "@jupyter-widgets/controls",
      "_model_module_version": "1.5.0",
      "_model_name": "HBoxModel",
      "_view_count": null,
      "_view_module": "@jupyter-widgets/controls",
      "_view_module_version": "1.5.0",
      "_view_name": "HBoxView",
      "box_style": "",
      "children": [
       "IPY_MODEL_307f6d551b8f4c4a8055d305b9b0e9ff"
      ],
      "layout": "IPY_MODEL_dd94d67fc5d74011a985e70830558529"
     }
    },
    "cfc93a5646cd446f95f242db3e036881": {
     "model_module": "@jupyter-widgets/controls",
     "model_module_version": "1.5.0",
     "model_name": "ToggleButtonModel",
     "state": {
      "_dom_classes": [],
      "_model_module": "@jupyter-widgets/controls",
      "_model_module_version": "1.5.0",
      "_model_name": "ToggleButtonModel",
      "_view_count": null,
      "_view_module": "@jupyter-widgets/controls",
      "_view_module_version": "1.5.0",
      "_view_name": "ToggleButtonView",
      "button_style": "",
      "description": "",
      "description_tooltip": null,
      "disabled": false,
      "icon": "wrench",
      "layout": "IPY_MODEL_bba5d0d674f94ec0b1886e82b18e323d",
      "style": "IPY_MODEL_42dd8778b1d249e19b2ddb2cc1525b69",
      "tooltip": "Toolbar",
      "value": false
     }
    },
    "d29c37a16aba48719302a3c1d2afc93a": {
     "model_module": "jupyter-leaflet",
     "model_module_version": "^0.17",
     "model_name": "LeafletTileLayerModel",
     "state": {
      "_model_module": "jupyter-leaflet",
      "_model_module_version": "^0.17",
      "_model_name": "LeafletTileLayerModel",
      "_view_count": null,
      "_view_module": "jupyter-leaflet",
      "_view_module_version": "^0.17",
      "_view_name": "LeafletTileLayerView",
      "attribution": "Google Earth Engine",
      "base": false,
      "bottom": true,
      "bounds": null,
      "detect_retina": false,
      "loading": false,
      "max_native_zoom": null,
      "max_zoom": 24,
      "min_native_zoom": null,
      "min_zoom": 0,
      "name": "Slope",
      "no_wrap": false,
      "opacity": 1,
      "options": [
       "attribution",
       "bounds",
       "detect_retina",
       "max_native_zoom",
       "max_zoom",
       "min_native_zoom",
       "min_zoom",
       "no_wrap",
       "tile_size",
       "tms",
       "zoom_offset"
      ],
      "pane": "",
      "popup": null,
      "popup_max_height": null,
      "popup_max_width": 300,
      "popup_min_width": 50,
      "show_loading": false,
      "subitems": [],
      "tile_size": 256,
      "tms": false,
      "url": "https://earthengine.googleapis.com/v1alpha/projects/earthengine-legacy/maps/e89f4e22ae45dba2d6584b9cc11c5137-7a2381d30506c51e94f7ed151f999e08/tiles/{z}/{x}/{y}",
      "visible": true,
      "zoom_offset": 0
     }
    },
    "d5f0101a43164b608f55211f7f9b8441": {
     "model_module": "jupyter-leaflet",
     "model_module_version": "^0.17",
     "model_name": "LeafletMapModel",
     "state": {
      "_dom_classes": [],
      "_model_module": "jupyter-leaflet",
      "_model_module_version": "^0.17",
      "_model_name": "LeafletMapModel",
      "_view_count": null,
      "_view_module": "jupyter-leaflet",
      "_view_module_version": "^0.17",
      "_view_name": "LeafletMapView",
      "bottom": 91240,
      "bounce_at_zoom_limits": true,
      "box_zoom": true,
      "center": [
       48.16974908365419,
       -65.59249877929689
      ],
      "close_popup_on_click": true,
      "controls": [
       "IPY_MODEL_5881d01c39824298a2fa60d35c67fd5b",
       "IPY_MODEL_4983676c3f254ceb97baa52e361c7299",
       "IPY_MODEL_b750f9e9c00645889c4224774a29a89d",
       "IPY_MODEL_923c0de069aa4e5c8abfed385abc889a",
       "IPY_MODEL_1884392ad7d74f77b22bd3afee8f25ee",
       "IPY_MODEL_42a2a539a70047e0ae324ef91b79ad44",
       "IPY_MODEL_f4ba9d69d03643218c55a9090cb7bc02",
       "IPY_MODEL_50f5ad810ab24088a4aa0d7a6c3b72f6"
      ],
      "crs": {
       "custom": false,
       "name": "EPSG3857"
      },
      "default_style": "IPY_MODEL_c610449c895f4b5a8e4009a9d6050f43",
      "double_click_zoom": true,
      "dragging": true,
      "dragging_style": "IPY_MODEL_16db167e511e47d0a54c3e23eb6ef929",
      "east": -64.71359252929689,
      "fullscreen": false,
      "inertia": true,
      "inertia_deceleration": 3000,
      "inertia_max_speed": 1500,
      "interpolation": "bilinear",
      "keyboard": true,
      "keyboard_pan_offset": 80,
      "keyboard_zoom_offset": 1,
      "layers": [
       "IPY_MODEL_10ca6f9780864c96b071f7ea85bcf24c",
       "IPY_MODEL_78b758c094c7475aab2d3a45aaaab4a3",
       "IPY_MODEL_1beb5c098f664ab2a5b411b5836c6bed",
       "IPY_MODEL_d29c37a16aba48719302a3c1d2afc93a",
       "IPY_MODEL_de6d7ad177c74d33b585d5b3b89033db"
      ],
      "layout": "IPY_MODEL_1aafd0ead93e464b891465a8402ad980",
      "left": 82669,
      "max_zoom": 24,
      "min_zoom": null,
      "modisdate": "2023-02-25",
      "north": 48.44377831058805,
      "options": [
       "bounce_at_zoom_limits",
       "box_zoom",
       "center",
       "close_popup_on_click",
       "double_click_zoom",
       "dragging",
       "fullscreen",
       "inertia",
       "inertia_deceleration",
       "inertia_max_speed",
       "interpolation",
       "keyboard",
       "keyboard_pan_offset",
       "keyboard_zoom_offset",
       "max_zoom",
       "min_zoom",
       "prefer_canvas",
       "scroll_wheel_zoom",
       "tap",
       "tap_tolerance",
       "touch_zoom",
       "world_copy_jump",
       "zoom",
       "zoom_animation_threshold",
       "zoom_delta",
       "zoom_snap"
      ],
      "panes": {},
      "prefer_canvas": false,
      "right": 83949,
      "scroll_wheel_zoom": true,
      "south": 47.89424772020999,
      "style": "IPY_MODEL_c610449c895f4b5a8e4009a9d6050f43",
      "tap": true,
      "tap_tolerance": 15,
      "top": 90640,
      "touch_zoom": true,
      "west": -66.47140502929689,
      "window_url": "https://f0cowfpanwr-496ff2e9c6d22116-0-colab.googleusercontent.com/outputframe.html?vrz=colab-20230223-060147-RC00_511737765",
      "world_copy_jump": false,
      "zoom": 10,
      "zoom_animation_threshold": 4,
      "zoom_delta": 1,
      "zoom_snap": 1
     }
    },
    "dd94d67fc5d74011a985e70830558529": {
     "model_module": "@jupyter-widgets/base",
     "model_module_version": "1.2.0",
     "model_name": "LayoutModel",
     "state": {
      "_model_module": "@jupyter-widgets/base",
      "_model_module_version": "1.2.0",
      "_model_name": "LayoutModel",
      "_view_count": null,
      "_view_module": "@jupyter-widgets/base",
      "_view_module_version": "1.2.0",
      "_view_name": "LayoutView",
      "align_content": null,
      "align_items": null,
      "align_self": null,
      "border": null,
      "bottom": null,
      "display": null,
      "flex": null,
      "flex_flow": null,
      "grid_area": null,
      "grid_auto_columns": null,
      "grid_auto_flow": null,
      "grid_auto_rows": null,
      "grid_column": null,
      "grid_gap": null,
      "grid_row": null,
      "grid_template_areas": null,
      "grid_template_columns": null,
      "grid_template_rows": null,
      "height": null,
      "justify_content": null,
      "justify_items": null,
      "left": null,
      "margin": null,
      "max_height": null,
      "max_width": null,
      "min_height": null,
      "min_width": null,
      "object_fit": null,
      "object_position": null,
      "order": null,
      "overflow": null,
      "overflow_x": null,
      "overflow_y": null,
      "padding": null,
      "right": null,
      "top": null,
      "visibility": null,
      "width": null
     }
    },
    "de6d7ad177c74d33b585d5b3b89033db": {
     "model_module": "jupyter-leaflet",
     "model_module_version": "^0.17",
     "model_name": "LeafletTileLayerModel",
     "state": {
      "_model_module": "jupyter-leaflet",
      "_model_module_version": "^0.17",
      "_model_name": "LeafletTileLayerModel",
      "_view_count": null,
      "_view_module": "jupyter-leaflet",
      "_view_module_version": "^0.17",
      "_view_name": "LeafletTileLayerView",
      "attribution": "Google Earth Engine",
      "base": false,
      "bottom": true,
      "bounds": null,
      "detect_retina": false,
      "loading": false,
      "max_native_zoom": null,
      "max_zoom": 24,
      "min_native_zoom": null,
      "min_zoom": 0,
      "name": "Landcover",
      "no_wrap": false,
      "opacity": 1,
      "options": [
       "attribution",
       "bounds",
       "detect_retina",
       "max_native_zoom",
       "max_zoom",
       "min_native_zoom",
       "min_zoom",
       "no_wrap",
       "tile_size",
       "tms",
       "zoom_offset"
      ],
      "pane": "",
      "popup": null,
      "popup_max_height": null,
      "popup_max_width": 300,
      "popup_min_width": 50,
      "show_loading": false,
      "subitems": [],
      "tile_size": 256,
      "tms": false,
      "url": "https://earthengine.googleapis.com/v1alpha/projects/earthengine-legacy/maps/10c28fbfd15570a9e83dc07e44bbd78f-f796080c7a745d3bd17fe907809c63eb/tiles/{z}/{x}/{y}",
      "visible": true,
      "zoom_offset": 0
     }
    },
    "ec250e271ee442e69f89b424ea546e3d": {
     "model_module": "jupyter-leaflet",
     "model_module_version": "^0.17",
     "model_name": "LeafletMapStyleModel",
     "state": {
      "_model_module": "jupyter-leaflet",
      "_model_module_version": "^0.17",
      "_model_name": "LeafletMapStyleModel",
      "_view_count": null,
      "_view_module": "@jupyter-widgets/base",
      "_view_module_version": "1.2.0",
      "_view_name": "StyleView",
      "cursor": "grab"
     }
    },
    "f4ba9d69d03643218c55a9090cb7bc02": {
     "model_module": "jupyter-leaflet",
     "model_module_version": "^0.17",
     "model_name": "LeafletDrawControlModel",
     "state": {
      "_model_module": "jupyter-leaflet",
      "_model_module_version": "^0.17",
      "_model_name": "LeafletDrawControlModel",
      "_view_count": null,
      "_view_module": "jupyter-leaflet",
      "_view_module_version": "^0.17",
      "_view_name": "LeafletDrawControlView",
      "circle": {
       "shapeOptions": {
        "color": "#3388ff"
       }
      },
      "circlemarker": {},
      "data": [],
      "edit": true,
      "marker": {
       "shapeOptions": {
        "color": "#3388ff"
       }
      },
      "options": [
       "position"
      ],
      "polygon": {
       "shapeOptions": {}
      },
      "polyline": {
       "shapeOptions": {}
      },
      "position": "topleft",
      "rectangle": {
       "shapeOptions": {
        "color": "#3388ff"
       }
      },
      "remove": true
     }
    }
   }
  }
 },
 "nbformat": 4,
 "nbformat_minor": 4
}
