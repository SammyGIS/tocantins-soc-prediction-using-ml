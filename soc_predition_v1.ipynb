{
 "cells": [
  {
   "cell_type": "code",
   "execution_count": 35,
   "metadata": {
    "id": "TEhnjpdMNOJi",
    "tags": []
   },
   "outputs": [
    {
     "data": {
      "text/html": [
       "\n",
       "            <style>\n",
       "                .geemap-dark {\n",
       "                    --jp-widgets-color: white;\n",
       "                    --jp-widgets-label-color: white;\n",
       "                    --jp-ui-font-color1: white;\n",
       "                    --jp-layout-color2: #454545;\n",
       "                    background-color: #383838;\n",
       "                }\n",
       "                    \n",
       "                .geemap-dark .jupyter-button {\n",
       "                    --jp-layout-color3: #383838;\n",
       "                }\n",
       "                \n",
       "                .geemap-colab {\n",
       "                    background-color: var(--colab-primary-surface-color, white);\n",
       "                }\n",
       "                    \n",
       "                .geemap-colab .jupyter-button {\n",
       "                    --jp-layout-color3: var(--colab-primary-surface-color, white);\n",
       "                }\n",
       "            </style>\n",
       "            "
      ],
      "text/plain": [
       "<IPython.core.display.HTML object>"
      ]
     },
     "metadata": {},
     "output_type": "display_data"
    }
   ],
   "source": [
    "# import subprocess\n",
    "\n",
    "# packages = ['geemap', 'geopandas',\n",
    "#             'shapely', 'requests', \n",
    "#             'osgeo', 'rasterio', 'numpy',\n",
    "#             'sklearn', 'fiona', 'pyproj',\n",
    "#             'matplotlib', 'pandas',\n",
    "#             'seaborn','geocube', 'os']\n",
    "\n",
    "# for package in packages:\n",
    "#     try:\n",
    "#         __import__(package)\n",
    "#     except ImportError:\n",
    "#         subprocess.check_call(['pip', 'install', package])"
   ]
  },
  {
   "cell_type": "markdown",
   "metadata": {},
   "source": [
    "import neccessary libaries"
   ]
  },
  {
   "cell_type": "code",
   "execution_count": 36,
   "metadata": {
    "tags": []
   },
   "outputs": [
    {
     "data": {
      "text/html": [
       "\n",
       "            <style>\n",
       "                .geemap-dark {\n",
       "                    --jp-widgets-color: white;\n",
       "                    --jp-widgets-label-color: white;\n",
       "                    --jp-ui-font-color1: white;\n",
       "                    --jp-layout-color2: #454545;\n",
       "                    background-color: #383838;\n",
       "                }\n",
       "                    \n",
       "                .geemap-dark .jupyter-button {\n",
       "                    --jp-layout-color3: #383838;\n",
       "                }\n",
       "                \n",
       "                .geemap-colab {\n",
       "                    background-color: var(--colab-primary-surface-color, white);\n",
       "                }\n",
       "                    \n",
       "                .geemap-colab .jupyter-button {\n",
       "                    --jp-layout-color3: var(--colab-primary-surface-color, white);\n",
       "                }\n",
       "            </style>\n",
       "            "
      ],
      "text/plain": [
       "<IPython.core.display.HTML object>"
      ]
     },
     "metadata": {},
     "output_type": "display_data"
    }
   ],
   "source": [
    "import pandas as pd\n",
    "import numpy as np\n",
    "import geopandas as gpd\n",
    "import matplotlib.pyplot as plt\n",
    "import seaborn as sns\n",
    "import os\n",
    "import sklearn\n",
    "import json\n",
    "import rasterio as rio\n",
    "import shapely\n",
    "import fiona\n",
    "import warnings\n",
    "\n",
    "warnings.filterwarnings('ignore')"
   ]
  },
  {
   "cell_type": "code",
   "execution_count": 37,
   "metadata": {
    "colab": {
     "base_uri": "https://localhost:8080/"
    },
    "id": "8v9FcrcQIDiK",
    "outputId": "524c8570-ccf1-4115-d650-af93ced37109",
    "tags": []
   },
   "outputs": [
    {
     "data": {
      "text/html": [
       "\n",
       "            <style>\n",
       "                .geemap-dark {\n",
       "                    --jp-widgets-color: white;\n",
       "                    --jp-widgets-label-color: white;\n",
       "                    --jp-ui-font-color1: white;\n",
       "                    --jp-layout-color2: #454545;\n",
       "                    background-color: #383838;\n",
       "                }\n",
       "                    \n",
       "                .geemap-dark .jupyter-button {\n",
       "                    --jp-layout-color3: #383838;\n",
       "                }\n",
       "                \n",
       "                .geemap-colab {\n",
       "                    background-color: var(--colab-primary-surface-color, white);\n",
       "                }\n",
       "                    \n",
       "                .geemap-colab .jupyter-button {\n",
       "                    --jp-layout-color3: var(--colab-primary-surface-color, white);\n",
       "                }\n",
       "            </style>\n",
       "            "
      ],
      "text/plain": [
       "<IPython.core.display.HTML object>"
      ]
     },
     "metadata": {},
     "output_type": "display_data"
    },
    {
     "data": {
      "text/html": [
       "<div>\n",
       "<style scoped>\n",
       "    .dataframe tbody tr th:only-of-type {\n",
       "        vertical-align: middle;\n",
       "    }\n",
       "\n",
       "    .dataframe tbody tr th {\n",
       "        vertical-align: top;\n",
       "    }\n",
       "\n",
       "    .dataframe thead th {\n",
       "        text-align: right;\n",
       "    }\n",
       "</style>\n",
       "<table border=\"1\" class=\"dataframe\">\n",
       "  <thead>\n",
       "    <tr style=\"text-align: right;\">\n",
       "      <th></th>\n",
       "      <th>ID_0</th>\n",
       "      <th>ISO</th>\n",
       "      <th>NAME_0</th>\n",
       "      <th>ID_1</th>\n",
       "      <th>NAME_1</th>\n",
       "      <th>TYPE_1</th>\n",
       "      <th>ENGTYPE_1</th>\n",
       "      <th>NL_NAME_1</th>\n",
       "      <th>VARNAME_1</th>\n",
       "      <th>geometry</th>\n",
       "    </tr>\n",
       "  </thead>\n",
       "  <tbody>\n",
       "    <tr>\n",
       "      <th>0</th>\n",
       "      <td>33</td>\n",
       "      <td>BRA</td>\n",
       "      <td>Brazil</td>\n",
       "      <td>27</td>\n",
       "      <td>TO</td>\n",
       "      <td>Estado</td>\n",
       "      <td>State</td>\n",
       "      <td>None</td>\n",
       "      <td>None</td>\n",
       "      <td>POLYGON ((-48.35310 -5.17391, -48.32085 -5.201...</td>\n",
       "    </tr>\n",
       "  </tbody>\n",
       "</table>\n",
       "</div>"
      ],
      "text/plain": [
       "   ID_0  ISO  NAME_0  ID_1 NAME_1  TYPE_1 ENGTYPE_1 NL_NAME_1 VARNAME_1  \\\n",
       "0    33  BRA  Brazil    27     TO  Estado     State      None      None   \n",
       "\n",
       "                                            geometry  \n",
       "0  POLYGON ((-48.35310 -5.17391, -48.32085 -5.201...  "
      ]
     },
     "execution_count": 37,
     "metadata": {},
     "output_type": "execute_result"
    }
   ],
   "source": [
    "# load the boundary shapefile for Area of Intrest (AOI)\n",
    "study_area = gpd.read_file('data/tocantins.shp')\n",
    "study_area.head()"
   ]
  },
  {
   "cell_type": "code",
   "execution_count": 38,
   "metadata": {
    "tags": []
   },
   "outputs": [
    {
     "data": {
      "text/html": [
       "\n",
       "            <style>\n",
       "                .geemap-dark {\n",
       "                    --jp-widgets-color: white;\n",
       "                    --jp-widgets-label-color: white;\n",
       "                    --jp-ui-font-color1: white;\n",
       "                    --jp-layout-color2: #454545;\n",
       "                    background-color: #383838;\n",
       "                }\n",
       "                    \n",
       "                .geemap-dark .jupyter-button {\n",
       "                    --jp-layout-color3: #383838;\n",
       "                }\n",
       "                \n",
       "                .geemap-colab {\n",
       "                    background-color: var(--colab-primary-surface-color, white);\n",
       "                }\n",
       "                    \n",
       "                .geemap-colab .jupyter-button {\n",
       "                    --jp-layout-color3: var(--colab-primary-surface-color, white);\n",
       "                }\n",
       "            </style>\n",
       "            "
      ],
      "text/plain": [
       "<IPython.core.display.HTML object>"
      ]
     },
     "metadata": {},
     "output_type": "display_data"
    },
    {
     "data": {
      "image/png": "[encoded data removed]",
      "text/plain": [
       "<Figure size 640x480 with 1 Axes>"
      ]
     },
     "metadata": {},
     "output_type": "display_data"
    }
   ],
   "source": [
    "study_area.plot( linewidth=2, color='white', edgecolor='0.8');"
   ]
  },
  {
   "cell_type": "markdown",
   "metadata": {},
   "source": [
    "The independent variables that will be use in building this model are in raster format, they will be extracted from google earth engine and downloaded uisng geemap and ee API."
   ]
  },
  {
   "cell_type": "code",
   "execution_count": 39,
   "metadata": {
    "tags": []
   },
   "outputs": [
    {
     "data": {
      "text/html": [
       "\n",
       "            <style>\n",
       "                .geemap-dark {\n",
       "                    --jp-widgets-color: white;\n",
       "                    --jp-widgets-label-color: white;\n",
       "                    --jp-ui-font-color1: white;\n",
       "                    --jp-layout-color2: #454545;\n",
       "                    background-color: #383838;\n",
       "                }\n",
       "                    \n",
       "                .geemap-dark .jupyter-button {\n",
       "                    --jp-layout-color3: #383838;\n",
       "                }\n",
       "                \n",
       "                .geemap-colab {\n",
       "                    background-color: var(--colab-primary-surface-color, white);\n",
       "                }\n",
       "                    \n",
       "                .geemap-colab .jupyter-button {\n",
       "                    --jp-layout-color3: var(--colab-primary-surface-color, white);\n",
       "                }\n",
       "            </style>\n",
       "            "
      ],
      "text/plain": [
       "<IPython.core.display.HTML object>"
      ]
     },
     "metadata": {},
     "output_type": "display_data"
    }
   ],
   "source": [
    "# import google eath enigne libary for python\n",
    "import io\n",
    "import geemap\n",
    "import ee"
   ]
  },
  {
   "cell_type": "code",
   "execution_count": 40,
   "metadata": {
    "tags": []
   },
   "outputs": [
    {
     "data": {
      "text/html": [
       "\n",
       "            <style>\n",
       "                .geemap-dark {\n",
       "                    --jp-widgets-color: white;\n",
       "                    --jp-widgets-label-color: white;\n",
       "                    --jp-ui-font-color1: white;\n",
       "                    --jp-layout-color2: #454545;\n",
       "                    background-color: #383838;\n",
       "                }\n",
       "                    \n",
       "                .geemap-dark .jupyter-button {\n",
       "                    --jp-layout-color3: #383838;\n",
       "                }\n",
       "                \n",
       "                .geemap-colab {\n",
       "                    background-color: var(--colab-primary-surface-color, white);\n",
       "                }\n",
       "                    \n",
       "                .geemap-colab .jupyter-button {\n",
       "                    --jp-layout-color3: var(--colab-primary-surface-color, white);\n",
       "                }\n",
       "            </style>\n",
       "            "
      ],
      "text/plain": [
       "<IPython.core.display.HTML object>"
      ]
     },
     "metadata": {},
     "output_type": "display_data"
    }
   ],
   "source": [
    "# Autheticate the Google earth engine ee login\n",
    "try:\n",
    "    ee.Initialize()\n",
    "except Exception as e:\n",
    "    ee.Authenticate()\n",
    "    ee.Initialize()"
   ]
  },
  {
   "cell_type": "markdown",
   "metadata": {},
   "source": [
    "Define ee boundary"
   ]
  },
  {
   "cell_type": "code",
   "execution_count": 41,
   "metadata": {
    "tags": []
   },
   "outputs": [
    {
     "data": {
      "text/html": [
       "\n",
       "            <style>\n",
       "                .geemap-dark {\n",
       "                    --jp-widgets-color: white;\n",
       "                    --jp-widgets-label-color: white;\n",
       "                    --jp-ui-font-color1: white;\n",
       "                    --jp-layout-color2: #454545;\n",
       "                    background-color: #383838;\n",
       "                }\n",
       "                    \n",
       "                .geemap-dark .jupyter-button {\n",
       "                    --jp-layout-color3: #383838;\n",
       "                }\n",
       "                \n",
       "                .geemap-colab {\n",
       "                    background-color: var(--colab-primary-surface-color, white);\n",
       "                }\n",
       "                    \n",
       "                .geemap-colab .jupyter-button {\n",
       "                    --jp-layout-color3: var(--colab-primary-surface-color, white);\n",
       "                }\n",
       "            </style>\n",
       "            "
      ],
      "text/plain": [
       "<IPython.core.display.HTML object>"
      ]
     },
     "metadata": {},
     "output_type": "display_data"
    }
   ],
   "source": [
    "# convert the boundary shapefile to ESPG 4326\n",
    "boundary = study_area\n",
    "\n",
    "# define a helper function to put the geodataframe in the right format for constructing an ee object\n",
    "def shp_to_ee_fmt(geodf):\n",
    "    data = json.loads(geodf.to_json())\n",
    "    return data['features'][0]['geometry']['coordinates']\n",
    "\n",
    "# create the ee object\n",
    "feature_cls = ee.Geometry.MultiPolygon(shp_to_ee_fmt(boundary))"
   ]
  },
  {
   "cell_type": "markdown",
   "metadata": {},
   "source": [
    "Generate Slope and DEM"
   ]
  },
  {
   "cell_type": "code",
   "execution_count": 42,
   "metadata": {
    "tags": []
   },
   "outputs": [
    {
     "data": {
      "text/html": [
       "\n",
       "            <style>\n",
       "                .geemap-dark {\n",
       "                    --jp-widgets-color: white;\n",
       "                    --jp-widgets-label-color: white;\n",
       "                    --jp-ui-font-color1: white;\n",
       "                    --jp-layout-color2: #454545;\n",
       "                    background-color: #383838;\n",
       "                }\n",
       "                    \n",
       "                .geemap-dark .jupyter-button {\n",
       "                    --jp-layout-color3: #383838;\n",
       "                }\n",
       "                \n",
       "                .geemap-colab {\n",
       "                    background-color: var(--colab-primary-surface-color, white);\n",
       "                }\n",
       "                    \n",
       "                .geemap-colab .jupyter-button {\n",
       "                    --jp-layout-color3: var(--colab-primary-surface-color, white);\n",
       "                }\n",
       "            </style>\n",
       "            "
      ],
      "text/plain": [
       "<IPython.core.display.HTML object>"
      ]
     },
     "metadata": {},
     "output_type": "display_data"
    }
   ],
   "source": [
    "#load SRTM data from google earth engine\n",
    "srtm = ee.Image('CGIAR/SRTM90_V4')\n",
    "\n",
    "# Generate individual raster data\n",
    "elevation = srtm.select('elevation')\n",
    "slope = ee.Terrain.slope(elevation)"
   ]
  },
  {
   "cell_type": "markdown",
   "metadata": {},
   "source": [
    "Generate LULC"
   ]
  },
  {
   "cell_type": "code",
   "execution_count": 43,
   "metadata": {
    "tags": []
   },
   "outputs": [
    {
     "data": {
      "text/html": [
       "\n",
       "            <style>\n",
       "                .geemap-dark {\n",
       "                    --jp-widgets-color: white;\n",
       "                    --jp-widgets-label-color: white;\n",
       "                    --jp-ui-font-color1: white;\n",
       "                    --jp-layout-color2: #454545;\n",
       "                    background-color: #383838;\n",
       "                }\n",
       "                    \n",
       "                .geemap-dark .jupyter-button {\n",
       "                    --jp-layout-color3: #383838;\n",
       "                }\n",
       "                \n",
       "                .geemap-colab {\n",
       "                    background-color: var(--colab-primary-surface-color, white);\n",
       "                }\n",
       "                    \n",
       "                .geemap-colab .jupyter-button {\n",
       "                    --jp-layout-color3: var(--colab-primary-surface-color, white);\n",
       "                }\n",
       "            </style>\n",
       "            "
      ],
      "text/plain": [
       "<IPython.core.display.HTML object>"
      ]
     },
     "metadata": {},
     "output_type": "display_data"
    }
   ],
   "source": [
    "# load ESA 2020 World wide 10m land cover  data form google earth\n",
    "collection = (\n",
    "    ee.ImageCollection('ESA/WorldCover/v200')\n",
    "    .filterBounds(feature_cls)\n",
    ")\n",
    "\n",
    "landcover = collection.first()\n",
    "\n",
    "# collection.aggregate_array('system:index').getInfo()"
   ]
  },
  {
   "cell_type": "markdown",
   "metadata": {},
   "source": [
    "Generate NDVI, NDMI BSI"
   ]
  },
  {
   "cell_type": "code",
   "execution_count": 44,
   "metadata": {
    "tags": []
   },
   "outputs": [
    {
     "data": {
      "text/html": [
       "\n",
       "            <style>\n",
       "                .geemap-dark {\n",
       "                    --jp-widgets-color: white;\n",
       "                    --jp-widgets-label-color: white;\n",
       "                    --jp-ui-font-color1: white;\n",
       "                    --jp-layout-color2: #454545;\n",
       "                    background-color: #383838;\n",
       "                }\n",
       "                    \n",
       "                .geemap-dark .jupyter-button {\n",
       "                    --jp-layout-color3: #383838;\n",
       "                }\n",
       "                \n",
       "                .geemap-colab {\n",
       "                    background-color: var(--colab-primary-surface-color, white);\n",
       "                }\n",
       "                    \n",
       "                .geemap-colab .jupyter-button {\n",
       "                    --jp-layout-color3: var(--colab-primary-surface-color, white);\n",
       "                }\n",
       "            </style>\n",
       "            "
      ],
      "text/plain": [
       "<IPython.core.display.HTML object>"
      ]
     },
     "metadata": {},
     "output_type": "display_data"
    }
   ],
   "source": [
    "# select Landsat 8 collection for the spectal indices\n",
    "l8 = ee.ImageCollection(\"LANDSAT/LC08/C02/T1_TOA\") \\\n",
    "    .filterBounds(feature_cls) \\\n",
    "    .filterDate('2021-01-01', '2022-12-31') \\\n",
    "    .sort('CLOUD_COVER') \\\n",
    "    .median()\n",
    "\n",
    "\n",
    "# Calculate NDVI\n",
    "ndvi = l8.normalizedDifference(['B5', 'B4'])\n",
    "\n",
    "# Calculate NDMI\n",
    "ndmi = l8.normalizedDifference(['B5', 'B6'])\n",
    "\n",
    "# Calculate BSI\n",
    "bsi = l8.expression(\n",
    "    '((SWIR2 + RED) - (SWIR1 + NIR)) / ((SWIR2 + RED) + (SWIR1 + NIR))',\n",
    "    {\n",
    "        'SWIR1': l8.select('B6'),\n",
    "        'SWIR2': l8.select('B6'),\n",
    "        'NIR': l8.select('B5'),\n",
    "        'RED': l8.select('B4')\n",
    "    }\n",
    ")"
   ]
  },
  {
   "cell_type": "markdown",
   "metadata": {},
   "source": [
    "Generate LST and SMI"
   ]
  },
  {
   "cell_type": "code",
   "execution_count": null,
   "metadata": {},
   "outputs": [],
   "source": []
  },
  {
   "cell_type": "markdown",
   "metadata": {},
   "source": [
    "Generate Temperature and Rainfall data"
   ]
  },
  {
   "cell_type": "code",
   "execution_count": 45,
   "metadata": {
    "tags": []
   },
   "outputs": [
    {
     "data": {
      "text/html": [
       "\n",
       "            <style>\n",
       "                .geemap-dark {\n",
       "                    --jp-widgets-color: white;\n",
       "                    --jp-widgets-label-color: white;\n",
       "                    --jp-ui-font-color1: white;\n",
       "                    --jp-layout-color2: #454545;\n",
       "                    background-color: #383838;\n",
       "                }\n",
       "                    \n",
       "                .geemap-dark .jupyter-button {\n",
       "                    --jp-layout-color3: #383838;\n",
       "                }\n",
       "                \n",
       "                .geemap-colab {\n",
       "                    background-color: var(--colab-primary-surface-color, white);\n",
       "                }\n",
       "                    \n",
       "                .geemap-colab .jupyter-button {\n",
       "                    --jp-layout-color3: var(--colab-primary-surface-color, white);\n",
       "                }\n",
       "            </style>\n",
       "            "
      ],
      "text/plain": [
       "<IPython.core.display.HTML object>"
      ]
     },
     "metadata": {},
     "output_type": "display_data"
    }
   ],
   "source": [
    "# Define date range\n",
    "start_date = '2012-01-01'\n",
    "end_date = '2022-12-31'\n",
    "\n",
    "# Load CHIRP precipitation data\n",
    "rainfall = ee.ImageCollection('UCSB-CHG/CHIRPS/DAILY') \\\n",
    "    .filterBounds(feature_cls) \\\n",
    "    .filterDate(start_date, end_date) \\\n",
    "    .select('precipitation') \\\n",
    "    .sum()\n",
    "\n",
    "# Load average temperature data\n",
    "temp = ee.ImageCollection('NOAA/CFSV2/FOR6H') \\\n",
    "    .filterBounds(feature_cls) \\\n",
    "    .filterDate(start_date, end_date) \\\n",
    "    .select('Temperature_height_above_ground') \\\n",
    "    .mean()"
   ]
  },
  {
   "cell_type": "markdown",
   "metadata": {},
   "source": [
    "soil Type"
   ]
  },
  {
   "cell_type": "code",
   "execution_count": null,
   "metadata": {},
   "outputs": [],
   "source": []
  },
  {
   "cell_type": "markdown",
   "metadata": {},
   "source": [
    "Get Global SOC datasets"
   ]
  },
  {
   "cell_type": "code",
   "execution_count": 46,
   "metadata": {
    "tags": []
   },
   "outputs": [
    {
     "data": {
      "text/html": [
       "\n",
       "            <style>\n",
       "                .geemap-dark {\n",
       "                    --jp-widgets-color: white;\n",
       "                    --jp-widgets-label-color: white;\n",
       "                    --jp-ui-font-color1: white;\n",
       "                    --jp-layout-color2: #454545;\n",
       "                    background-color: #383838;\n",
       "                }\n",
       "                    \n",
       "                .geemap-dark .jupyter-button {\n",
       "                    --jp-layout-color3: #383838;\n",
       "                }\n",
       "                \n",
       "                .geemap-colab {\n",
       "                    background-color: var(--colab-primary-surface-color, white);\n",
       "                }\n",
       "                    \n",
       "                .geemap-colab .jupyter-button {\n",
       "                    --jp-layout-color3: var(--colab-primary-surface-color, white);\n",
       "                }\n",
       "            </style>\n",
       "            "
      ],
      "text/plain": [
       "<IPython.core.display.HTML object>"
      ]
     },
     "metadata": {},
     "output_type": "display_data"
    }
   ],
   "source": [
    "# Global SOC soc dataset\n",
    "soc= ee.Image(\"OpenLandMap/SOL/SOL_ORGANIC-CARBON_USDA-6A1C_M/v02\")\\\n",
    "        .select('b30')\n",
    "\n",
    "soc = soc.multiply(0.005)"
   ]
  },
  {
   "cell_type": "markdown",
   "metadata": {},
   "source": [
    "clip all images to features"
   ]
  },
  {
   "cell_type": "code",
   "execution_count": 47,
   "metadata": {
    "tags": []
   },
   "outputs": [
    {
     "data": {
      "text/html": [
       "\n",
       "            <style>\n",
       "                .geemap-dark {\n",
       "                    --jp-widgets-color: white;\n",
       "                    --jp-widgets-label-color: white;\n",
       "                    --jp-ui-font-color1: white;\n",
       "                    --jp-layout-color2: #454545;\n",
       "                    background-color: #383838;\n",
       "                }\n",
       "                    \n",
       "                .geemap-dark .jupyter-button {\n",
       "                    --jp-layout-color3: #383838;\n",
       "                }\n",
       "                \n",
       "                .geemap-colab {\n",
       "                    background-color: var(--colab-primary-surface-color, white);\n",
       "                }\n",
       "                    \n",
       "                .geemap-colab .jupyter-button {\n",
       "                    --jp-layout-color3: var(--colab-primary-surface-color, white);\n",
       "                }\n",
       "            </style>\n",
       "            "
      ],
      "text/plain": [
       "<IPython.core.display.HTML object>"
      ]
     },
     "metadata": {},
     "output_type": "display_data"
    }
   ],
   "source": [
    "# clip all the images load to the study area\n",
    "elevation_clip  = elevation.clip(feature_cls)\n",
    "slope_clip = slope.clip(feature_cls)\n",
    "landcover_clip = landcover.clip(feature_cls)\n",
    "rainfall_clip = rainfall.clip(feature_cls)\n",
    "temp_clip = temp.clip(feature_cls)\n",
    "ndvi_clip = ndvi.clip(feature_cls)\n",
    "bsi_clip = bsi.clip(feature_cls)\n",
    "soc_clip = soc.clip(feature_cls)"
   ]
  },
  {
   "cell_type": "markdown",
   "metadata": {},
   "source": [
    "set Visualization Parameters"
   ]
  },
  {
   "cell_type": "code",
   "execution_count": 48,
   "metadata": {
    "tags": []
   },
   "outputs": [
    {
     "data": {
      "text/html": [
       "\n",
       "            <style>\n",
       "                .geemap-dark {\n",
       "                    --jp-widgets-color: white;\n",
       "                    --jp-widgets-label-color: white;\n",
       "                    --jp-ui-font-color1: white;\n",
       "                    --jp-layout-color2: #454545;\n",
       "                    background-color: #383838;\n",
       "                }\n",
       "                    \n",
       "                .geemap-dark .jupyter-button {\n",
       "                    --jp-layout-color3: #383838;\n",
       "                }\n",
       "                \n",
       "                .geemap-colab {\n",
       "                    background-color: var(--colab-primary-surface-color, white);\n",
       "                }\n",
       "                    \n",
       "                .geemap-colab .jupyter-button {\n",
       "                    --jp-layout-color3: var(--colab-primary-surface-color, white);\n",
       "                }\n",
       "            </style>\n",
       "            "
      ],
      "text/plain": [
       "<IPython.core.display.HTML object>"
      ]
     },
     "metadata": {},
     "output_type": "display_data"
    }
   ],
   "source": [
    "# visualization parameters\n",
    "elevation_viz = {\n",
    "    'min': 0,\n",
    "    'max': 4000,\n",
    "    'palette': ['006633', 'E5FFCC', '662A00', 'D8D8D8', 'F5F5F5']\n",
    "}\n",
    "\n",
    "slope_viz = {\n",
    "    'min': 0,\n",
    "    'max': 60,\n",
    "    'palette': ['brown', 'yellow', 'green']\n",
    "}\n",
    "\n",
    "landcover_viz = {\n",
    "  'min': 0,\n",
    "  'max': 100,\n",
    "  'palette': [\n",
    "      'FC6D26', 'FCAF17', 'E8EB45', '34B334', '4C7EAF',\n",
    "      'B05AFF', 'A56F37', '914D25', 'BFC0C3', 'FFFFFF',\n",
    "  ]\n",
    "}\n",
    "\n",
    "rainfall_viz = {\n",
    "    'min': 0,\n",
    "    'max': 300,\n",
    "    'palette': ['006633', 'E5FFCC', '662A00', 'D8D8D8', 'F5F5F5']\n",
    "}\n",
    "\n",
    "\n",
    "temp_viz = {\n",
    "    'min': 0,\n",
    "    'max': 310.0,\n",
    "    'palette': ['blue', 'purple', 'cyan', 'green', 'yellow', 'red']\n",
    "}\n",
    "\n",
    "ndvi_viz = {\n",
    "    'min': -1,\n",
    "    'max': 1,\n",
    "    'palette': ['red', 'yellow', 'green']\n",
    "}\n",
    "\n",
    "\n",
    "bsi_viz = {\n",
    "    'min': -1,\n",
    "    'max': 1,\n",
    "    'palette': ['red', 'yellow', 'green']\n",
    "}\n",
    "\n",
    "\n",
    "soc_viz = {\n",
    "  'min': 0.0,\n",
    "  'max': 120.0,\n",
    "  'palette': [\n",
    "    \"ffffa0\",\"f7fcb9\",\"d9f0a3\",\"addd8e\",\"78c679\",\"41ab5d\",\n",
    "    \"238443\",\"005b29\",\"004b29\",\"012b13\",\"00120b\",\n",
    "  ]\n",
    "}"
   ]
  },
  {
   "cell_type": "markdown",
   "metadata": {},
   "source": [
    "Add Data to Map layer to visualize all data"
   ]
  },
  {
   "cell_type": "code",
   "execution_count": null,
   "metadata": {
    "tags": []
   },
   "outputs": [],
   "source": [
    "#instatiate Map()\n",
    "Map = geemap.Map()\n",
    "# Add all image layer to a basemap\n",
    "Map.addLayer(elevation_clip, elevation_viz, 'Elevation')\n",
    "Map.addLayer(slope_clip, slope_viz, 'Slope')\n",
    "Map.addLayer(landcover_clip, landcover_viz, 'Landcover')\n",
    "Map.addLayer(rainfall_clip, rainfall_viz, 'Rainfall')\n",
    "Map.addLayer(temp_clip, temp_viz, 'Temperature')\n",
    "Map.addLayer(ndvi_clip, ndvi_viz, 'NDVI')\n",
    "Map.addLayer(bsi_clip, bsi_viz, 'BSI')\n",
    "Map.addLayer(soc_clip, soc_viz,'soc organic carbon content in x 5 g / kg')\n",
    "\n",
    "# set map center object\n",
    "Map.centerObject(elevation_clip, 8)\n",
    "\n",
    "# call the geemap Map object\n",
    "Map"
   ]
  },
  {
   "cell_type": "markdown",
   "metadata": {},
   "source": [
    "Display the imaegs in subplots"
   ]
  },
  {
   "cell_type": "code",
   "execution_count": null,
   "metadata": {},
   "outputs": [],
   "source": [
    "from matplotlib.colors import ListedColormap\n",
    "\n",
    "# Get the raster data arrays and the coordinate reference systems (CRS) for each dataset\n",
    "slope_data = slope.read(1)\n",
    "elevation_data = elevation.read(1)\n",
    "landuse_data = land_use.read(1)\n",
    "ndvi_data = ndvi.read(1)\n",
    "bsi_data = bsi.read(1)\n",
    "soc_data = soc.read(1)\n",
    "\n",
    "# Create a figure object and add three subplots\n",
    "fig, axs = plt.subplots(1,6, figsize=(25, 10))\n",
    "\n",
    "# Plot each raster dataset on a subplot\n",
    "axs[0].imshow(slope_data, cmap='Greys_r')\n",
    "axs[0].set_title('Slope')\n",
    "axs[1].imshow(elevation_data, cmap='Greys_r')\n",
    "axs[1].set_title('Elevation')\n",
    "axs[2].imshow(landuse_data, cmap=ListedColormap([\n",
    "      'yellow', 'green', 'red', 'orange', 'blue',\n",
    "      'purple', 'pink', 'black', 'green', 'brown',\n",
    "  ]))\n",
    "axs[2].set_title('Land Use')\n",
    "axs[3].imshow(ndvi_data, cmap=ListedColormap(['red', 'yellow', 'green']))\n",
    "axs[3].set_title('NDVI')\n",
    "axs[4].imshow(bsi_data, cmap=ListedColormap(['green', 'yellow', 'brown']))\n",
    "axs[4].set_title('BSI')\n",
    "\n",
    "axs[5].imshow(soc_data, cmap=ListedColormap(['green', 'yellow', 'brown']))\n",
    "axs[5].set_title('soc Organic Carbon')\n",
    "\n",
    "# Adjust the spacing between subplots\n",
    "plt.subplots_adjust(wspace=0.2)\n",
    "\n",
    "# Show the plot\n",
    "plt.show()"
   ]
  },
  {
   "cell_type": "markdown",
   "metadata": {},
   "source": [
    "Save imageries locally so that it can be used to create maps"
   ]
  },
  {
   "cell_type": "code",
   "execution_count": 50,
   "metadata": {},
   "outputs": [
    {
     "data": {
      "text/html": [
       "\n",
       "            <style>\n",
       "                .geemap-dark {\n",
       "                    --jp-widgets-color: white;\n",
       "                    --jp-widgets-label-color: white;\n",
       "                    --jp-ui-font-color1: white;\n",
       "                    --jp-layout-color2: #454545;\n",
       "                    background-color: #383838;\n",
       "                }\n",
       "                    \n",
       "                .geemap-dark .jupyter-button {\n",
       "                    --jp-layout-color3: #383838;\n",
       "                }\n",
       "                \n",
       "                .geemap-colab {\n",
       "                    background-color: var(--colab-primary-surface-color, white);\n",
       "                }\n",
       "                    \n",
       "                .geemap-colab .jupyter-button {\n",
       "                    --jp-layout-color3: var(--colab-primary-surface-color, white);\n",
       "                }\n",
       "            </style>\n",
       "            "
      ],
      "text/plain": [
       "<IPython.core.display.HTML object>"
      ]
     },
     "metadata": {},
     "output_type": "display_data"
    }
   ],
   "source": [
    "# from utils import export_ee_image\n",
    "\n",
    "# export_ee_image_list(image_list, image_name,out_folder,region,scale)\n"
   ]
  },
  {
   "cell_type": "markdown",
   "metadata": {},
   "source": [
    "Geneare random smapling points within the aoi"
   ]
  },
  {
   "cell_type": "code",
   "execution_count": null,
   "metadata": {},
   "outputs": [],
   "source": [
    "import random\n",
    "random.seed(42)\n",
    "from utils.generate_random_point import generate_random_points\n",
    "\n",
    "boundary = study_area\n",
    "num_points = 5000\n",
    "crs = 4326\n",
    "random_pnt = generate_random_points(boundary, num_points, crs)\n",
    "len(random_pnt.head)"
   ]
  },
  {
   "cell_type": "code",
   "execution_count": null,
   "metadata": {},
   "outputs": [
    {
     "data": {
      "text/html": [
       "\n",
       "            <style>\n",
       "                .geemap-dark {\n",
       "                    --jp-widgets-color: white;\n",
       "                    --jp-widgets-label-color: white;\n",
       "                    --jp-ui-font-color1: white;\n",
       "                    --jp-layout-color2: #454545;\n",
       "                    background-color: #383838;\n",
       "                }\n",
       "                    \n",
       "                .geemap-dark .jupyter-button {\n",
       "                    --jp-layout-color3: #383838;\n",
       "                }\n",
       "                \n",
       "                .geemap-colab {\n",
       "                    background-color: var(--colab-primary-surface-color, white);\n",
       "                }\n",
       "                    \n",
       "                .geemap-colab .jupyter-button {\n",
       "                    --jp-layout-color3: var(--colab-primary-surface-color, white);\n",
       "                }\n",
       "            </style>\n",
       "            "
      ],
      "text/plain": [
       "<IPython.core.display.HTML object>"
      ]
     },
     "metadata": {},
     "output_type": "display_data"
    },
    {
     "data": {
      "image/png": "[encoded data removed]",
      "text/plain": [
       "<Figure size 1000x1200 with 1 Axes>"
      ]
     },
     "metadata": {},
     "output_type": "display_data"
    }
   ],
   "source": [
    "# plot the random points to see the distribution\n",
    "fig = plt.figure(figsize=(10, 12))\n",
    "ax = fig.add_subplot(1, 1, 1)\n",
    "ax = boundary.plot(ax=ax, linewidth=2, color='white', edgecolor='0.8')\n",
    "random_pnt.plot(ax=ax, markersize=5, color='green');"
   ]
  },
  {
   "cell_type": "markdown",
   "metadata": {},
   "source": [
    "Extract the raster value to the random points to create a sampling_points"
   ]
  },
  {
   "cell_type": "code",
   "execution_count": 70,
   "metadata": {},
   "outputs": [
    {
     "data": {
      "text/html": [
       "\n",
       "            <style>\n",
       "                .geemap-dark {\n",
       "                    --jp-widgets-color: white;\n",
       "                    --jp-widgets-label-color: white;\n",
       "                    --jp-ui-font-color1: white;\n",
       "                    --jp-layout-color2: #454545;\n",
       "                    background-color: #383838;\n",
       "                }\n",
       "                    \n",
       "                .geemap-dark .jupyter-button {\n",
       "                    --jp-layout-color3: #383838;\n",
       "                }\n",
       "                \n",
       "                .geemap-colab {\n",
       "                    background-color: var(--colab-primary-surface-color, white);\n",
       "                }\n",
       "                    \n",
       "                .geemap-colab .jupyter-button {\n",
       "                    --jp-layout-color3: var(--colab-primary-surface-color, white);\n",
       "                }\n",
       "            </style>\n",
       "            "
      ],
      "text/plain": [
       "<IPython.core.display.HTML object>"
      ]
     },
     "metadata": {},
     "output_type": "display_data"
    },
    {
     "data": {
      "text/plain": [
       "ee.image.Image"
      ]
     },
     "execution_count": 70,
     "metadata": {},
     "output_type": "execute_result"
    }
   ],
   "source": [
    "type(landcover_clip)"
   ]
  },
  {
   "cell_type": "code",
   "execution_count": 71,
   "metadata": {},
   "outputs": [
    {
     "data": {
      "text/html": [
       "\n",
       "            <style>\n",
       "                .geemap-dark {\n",
       "                    --jp-widgets-color: white;\n",
       "                    --jp-widgets-label-color: white;\n",
       "                    --jp-ui-font-color1: white;\n",
       "                    --jp-layout-color2: #454545;\n",
       "                    background-color: #383838;\n",
       "                }\n",
       "                    \n",
       "                .geemap-dark .jupyter-button {\n",
       "                    --jp-layout-color3: #383838;\n",
       "                }\n",
       "                \n",
       "                .geemap-colab {\n",
       "                    background-color: var(--colab-primary-surface-color, white);\n",
       "                }\n",
       "                    \n",
       "                .geemap-colab .jupyter-button {\n",
       "                    --jp-layout-color3: var(--colab-primary-surface-color, white);\n",
       "                }\n",
       "            </style>\n",
       "            "
      ],
      "text/plain": [
       "<IPython.core.display.HTML object>"
      ]
     },
     "metadata": {},
     "output_type": "display_data"
    },
    {
     "data": {
      "text/plain": [
       "False"
      ]
     },
     "execution_count": 71,
     "metadata": {},
     "output_type": "execute_result"
    }
   ],
   "source": [
    "type(landcover_clip) == \"ee.image.Image\""
   ]
  },
  {
   "cell_type": "code",
   "execution_count": null,
   "metadata": {},
   "outputs": [],
   "source": [
    "from utils.extract_raster_values import get_value_to_point\n",
    "\n",
    "point_data = random_pnt\n",
    "raster_list = [\n",
    "    slope_clip, landcover_clip,\n",
    "    rainfall_clip, temp_clip,\n",
    "    ndvi_clip, bsi_clip, soc_clip,\n",
    "]\n",
    "sampling_pnts = get_value_to_point(point_data, raster_list) \n",
    "sampling_pnts.head()"
   ]
  },
  {
   "cell_type": "code",
   "execution_count": null,
   "metadata": {},
   "outputs": [],
   "source": []
  },
  {
   "cell_type": "code",
   "execution_count": null,
   "metadata": {},
   "outputs": [],
   "source": []
  },
  {
   "cell_type": "code",
   "execution_count": null,
   "metadata": {},
   "outputs": [],
   "source": []
  },
  {
   "cell_type": "code",
   "execution_count": null,
   "metadata": {},
   "outputs": [],
   "source": []
  },
  {
   "cell_type": "code",
   "execution_count": null,
   "metadata": {},
   "outputs": [],
   "source": []
  },
  {
   "cell_type": "markdown",
   "metadata": {
    "id": "-_YBGLyr1Zu7"
   },
   "source": [
    "Extract all the values from each raster dataset to the flood dataset\n",
    " To understand what each values of LULC represent got to https://developers.google.com/earth-engine/datasets/catalog/ESA_WorldCover_v200#bands"
   ]
  },
  {
   "cell_type": "markdown",
   "metadata": {
    "id": "2BvOFp7bIDja"
   },
   "source": [
    "### Exploratory Data Analysis"
   ]
  },
  {
   "cell_type": "markdown",
   "metadata": {
    "id": "LA-zxvDVEszE"
   },
   "source": [
    "Now lets explore our dataset, we will check for missing value, plor our data and also check the correlation between the dataset"
   ]
  },
  {
   "cell_type": "code",
   "execution_count": null,
   "metadata": {
    "colab": {
     "base_uri": "https://localhost:8080/",
     "height": 206
    },
    "id": "sXWovgrdIDjb",
    "outputId": "e4ae9a9a-4849-4603-8242-8be7a8608d87"
   },
   "outputs": [
    {
     "data": {
      "text/html": [
       "<div>\n",
       "<style scoped>\n",
       "    .dataframe tbody tr th:only-of-type {\n",
       "        vertical-align: middle;\n",
       "    }\n",
       "\n",
       "    .dataframe tbody tr th {\n",
       "        vertical-align: top;\n",
       "    }\n",
       "\n",
       "    .dataframe thead th {\n",
       "        text-align: right;\n",
       "    }\n",
       "</style>\n",
       "<table border=\"1\" class=\"dataframe\">\n",
       "  <thead>\n",
       "    <tr style=\"text-align: right;\">\n",
       "      <th></th>\n",
       "      <th>SOC_gkg</th>\n",
       "      <th>slope</th>\n",
       "      <th>elevation</th>\n",
       "      <th>land_use</th>\n",
       "      <th>ndvi</th>\n",
       "      <th>bsi</th>\n",
       "      <th>geometry</th>\n",
       "      <th>SOC</th>\n",
       "    </tr>\n",
       "  </thead>\n",
       "  <tbody>\n",
       "    <tr>\n",
       "      <th>0</th>\n",
       "      <td>1.3</td>\n",
       "      <td>0.222091</td>\n",
       "      <td>241.0</td>\n",
       "      <td>10.0</td>\n",
       "      <td>0.068141</td>\n",
       "      <td>-0.035617</td>\n",
       "      <td>POINT (-51.30944 -14.21444)</td>\n",
       "      <td>1.0</td>\n",
       "    </tr>\n",
       "    <tr>\n",
       "      <th>2</th>\n",
       "      <td>0.5</td>\n",
       "      <td>0.222091</td>\n",
       "      <td>241.0</td>\n",
       "      <td>10.0</td>\n",
       "      <td>0.068141</td>\n",
       "      <td>-0.035617</td>\n",
       "      <td>POINT (-51.30944 -14.21444)</td>\n",
       "      <td>1.0</td>\n",
       "    </tr>\n",
       "    <tr>\n",
       "      <th>3</th>\n",
       "      <td>2.0</td>\n",
       "      <td>0.222091</td>\n",
       "      <td>241.0</td>\n",
       "      <td>10.0</td>\n",
       "      <td>0.068141</td>\n",
       "      <td>-0.035617</td>\n",
       "      <td>POINT (-51.30944 -14.21444)</td>\n",
       "      <td>1.0</td>\n",
       "    </tr>\n",
       "    <tr>\n",
       "      <th>4</th>\n",
       "      <td>5.5</td>\n",
       "      <td>0.222091</td>\n",
       "      <td>241.0</td>\n",
       "      <td>10.0</td>\n",
       "      <td>0.068141</td>\n",
       "      <td>-0.035617</td>\n",
       "      <td>POINT (-51.30944 -14.21444)</td>\n",
       "      <td>1.0</td>\n",
       "    </tr>\n",
       "    <tr>\n",
       "      <th>5</th>\n",
       "      <td>20.0</td>\n",
       "      <td>2.585801</td>\n",
       "      <td>468.0</td>\n",
       "      <td>30.0</td>\n",
       "      <td>0.477742</td>\n",
       "      <td>-0.393338</td>\n",
       "      <td>POINT (-52.80306 -14.51194)</td>\n",
       "      <td>3.0</td>\n",
       "    </tr>\n",
       "  </tbody>\n",
       "</table>\n",
       "</div>"
      ],
      "text/plain": [
       "   SOC_gkg     slope  elevation  land_use      ndvi       bsi  \\\n",
       "0      1.3  0.222091      241.0      10.0  0.068141 -0.035617   \n",
       "2      0.5  0.222091      241.0      10.0  0.068141 -0.035617   \n",
       "3      2.0  0.222091      241.0      10.0  0.068141 -0.035617   \n",
       "4      5.5  0.222091      241.0      10.0  0.068141 -0.035617   \n",
       "5     20.0  2.585801      468.0      30.0  0.477742 -0.393338   \n",
       "\n",
       "                      geometry  SOC  \n",
       "0  POINT (-51.30944 -14.21444)  1.0  \n",
       "2  POINT (-51.30944 -14.21444)  1.0  \n",
       "3  POINT (-51.30944 -14.21444)  1.0  \n",
       "4  POINT (-51.30944 -14.21444)  1.0  \n",
       "5  POINT (-52.80306 -14.51194)  3.0  "
      ]
     },
     "execution_count": 220,
     "metadata": {},
     "output_type": "execute_result"
    }
   ],
   "source": [
    "# read the dataset to view the addeded columns\n",
    "sampling_points.head()"
   ]
  },
  {
   "cell_type": "code",
   "execution_count": null,
   "metadata": {
    "colab": {
     "base_uri": "https://localhost:8080/"
    },
    "id": "o_e7QNltIDjc",
    "outputId": "31a05799-4c06-49f0-c017-6aa4909fcfe0"
   },
   "outputs": [
    {
     "name": "stdout",
     "output_type": "stream",
     "text": [
      "SOC_gkg      0\n",
      "slope        0\n",
      "elevation    0\n",
      "land_use     0\n",
      "ndvi         0\n",
      "bsi          0\n",
      "geometry     0\n",
      "SOC          0\n",
      "dtype: int64\n"
     ]
    }
   ],
   "source": [
    "#check that there is no no data values in the dataset\n",
    "print(sampling_points.head().isnull().sum())"
   ]
  },
  {
   "cell_type": "code",
   "execution_count": null,
   "metadata": {
    "colab": {
     "base_uri": "https://localhost:8080/",
     "height": 300
    },
    "id": "NIY6YLcpG0j-",
    "outputId": "4dcc6314-dc3d-46eb-d869-158f8bd0b8ec"
   },
   "outputs": [
    {
     "data": {
      "text/html": [
       "<div>\n",
       "<style scoped>\n",
       "    .dataframe tbody tr th:only-of-type {\n",
       "        vertical-align: middle;\n",
       "    }\n",
       "\n",
       "    .dataframe tbody tr th {\n",
       "        vertical-align: top;\n",
       "    }\n",
       "\n",
       "    .dataframe thead th {\n",
       "        text-align: right;\n",
       "    }\n",
       "</style>\n",
       "<table border=\"1\" class=\"dataframe\">\n",
       "  <thead>\n",
       "    <tr style=\"text-align: right;\">\n",
       "      <th></th>\n",
       "      <th>SOC_gkg</th>\n",
       "      <th>slope</th>\n",
       "      <th>elevation</th>\n",
       "      <th>ndvi</th>\n",
       "      <th>bsi</th>\n",
       "      <th>SOC</th>\n",
       "    </tr>\n",
       "  </thead>\n",
       "  <tbody>\n",
       "    <tr>\n",
       "      <th>count</th>\n",
       "      <td>2566.000000</td>\n",
       "      <td>2566.000000</td>\n",
       "      <td>2566.000000</td>\n",
       "      <td>2566.000000</td>\n",
       "      <td>2566.000000</td>\n",
       "      <td>2566.000000</td>\n",
       "    </tr>\n",
       "    <tr>\n",
       "      <th>mean</th>\n",
       "      <td>9.710639</td>\n",
       "      <td>1.027890</td>\n",
       "      <td>302.930242</td>\n",
       "      <td>0.188505</td>\n",
       "      <td>-0.165431</td>\n",
       "      <td>2.044817</td>\n",
       "    </tr>\n",
       "    <tr>\n",
       "      <th>std</th>\n",
       "      <td>11.171494</td>\n",
       "      <td>1.304667</td>\n",
       "      <td>134.114918</td>\n",
       "      <td>0.155726</td>\n",
       "      <td>0.128735</td>\n",
       "      <td>0.751307</td>\n",
       "    </tr>\n",
       "    <tr>\n",
       "      <th>min</th>\n",
       "      <td>0.100000</td>\n",
       "      <td>0.000000</td>\n",
       "      <td>97.000000</td>\n",
       "      <td>-0.014922</td>\n",
       "      <td>-0.669856</td>\n",
       "      <td>0.000000</td>\n",
       "    </tr>\n",
       "    <tr>\n",
       "      <th>25%</th>\n",
       "      <td>3.000000</td>\n",
       "      <td>0.314477</td>\n",
       "      <td>211.000000</td>\n",
       "      <td>0.059455</td>\n",
       "      <td>-0.238349</td>\n",
       "      <td>2.000000</td>\n",
       "    </tr>\n",
       "    <tr>\n",
       "      <th>50%</th>\n",
       "      <td>6.000000</td>\n",
       "      <td>0.697998</td>\n",
       "      <td>279.000000</td>\n",
       "      <td>0.150451</td>\n",
       "      <td>-0.138097</td>\n",
       "      <td>2.000000</td>\n",
       "    </tr>\n",
       "    <tr>\n",
       "      <th>75%</th>\n",
       "      <td>12.575000</td>\n",
       "      <td>1.203847</td>\n",
       "      <td>369.000000</td>\n",
       "      <td>0.280983</td>\n",
       "      <td>-0.082701</td>\n",
       "      <td>2.000000</td>\n",
       "    </tr>\n",
       "    <tr>\n",
       "      <th>max</th>\n",
       "      <td>122.400000</td>\n",
       "      <td>15.156256</td>\n",
       "      <td>864.000000</td>\n",
       "      <td>0.770654</td>\n",
       "      <td>0.031722</td>\n",
       "      <td>8.000000</td>\n",
       "    </tr>\n",
       "  </tbody>\n",
       "</table>\n",
       "</div>"
      ],
      "text/plain": [
       "           SOC_gkg        slope    elevation         ndvi          bsi  \\\n",
       "count  2566.000000  2566.000000  2566.000000  2566.000000  2566.000000   \n",
       "mean      9.710639     1.027890   302.930242     0.188505    -0.165431   \n",
       "std      11.171494     1.304667   134.114918     0.155726     0.128735   \n",
       "min       0.100000     0.000000    97.000000    -0.014922    -0.669856   \n",
       "25%       3.000000     0.314477   211.000000     0.059455    -0.238349   \n",
       "50%       6.000000     0.697998   279.000000     0.150451    -0.138097   \n",
       "75%      12.575000     1.203847   369.000000     0.280983    -0.082701   \n",
       "max     122.400000    15.156256   864.000000     0.770654     0.031722   \n",
       "\n",
       "               SOC  \n",
       "count  2566.000000  \n",
       "mean      2.044817  \n",
       "std       0.751307  \n",
       "min       0.000000  \n",
       "25%       2.000000  \n",
       "50%       2.000000  \n",
       "75%       2.000000  \n",
       "max       8.000000  "
      ]
     },
     "execution_count": 239,
     "metadata": {},
     "output_type": "execute_result"
    }
   ],
   "source": [
    "#describe the dataset\n",
    "sampling_points.describe()"
   ]
  },
  {
   "cell_type": "code",
   "execution_count": null,
   "metadata": {},
   "outputs": [
    {
     "data": {
      "text/html": [
       "<div>\n",
       "<style scoped>\n",
       "    .dataframe tbody tr th:only-of-type {\n",
       "        vertical-align: middle;\n",
       "    }\n",
       "\n",
       "    .dataframe tbody tr th {\n",
       "        vertical-align: top;\n",
       "    }\n",
       "\n",
       "    .dataframe thead th {\n",
       "        text-align: right;\n",
       "    }\n",
       "</style>\n",
       "<table border=\"1\" class=\"dataframe\">\n",
       "  <thead>\n",
       "    <tr style=\"text-align: right;\">\n",
       "      <th></th>\n",
       "      <th>SOC_gkg</th>\n",
       "      <th>slope</th>\n",
       "      <th>elevation</th>\n",
       "      <th>ndvi</th>\n",
       "      <th>bsi</th>\n",
       "      <th>SOC</th>\n",
       "    </tr>\n",
       "  </thead>\n",
       "  <tbody>\n",
       "    <tr>\n",
       "      <th>count</th>\n",
       "      <td>2566.000000</td>\n",
       "      <td>2566.000000</td>\n",
       "      <td>2566.000000</td>\n",
       "      <td>2566.000000</td>\n",
       "      <td>2566.000000</td>\n",
       "      <td>2566.000000</td>\n",
       "    </tr>\n",
       "    <tr>\n",
       "      <th>mean</th>\n",
       "      <td>9.710639</td>\n",
       "      <td>1.027890</td>\n",
       "      <td>302.930242</td>\n",
       "      <td>0.188505</td>\n",
       "      <td>-0.165431</td>\n",
       "      <td>2.044817</td>\n",
       "    </tr>\n",
       "    <tr>\n",
       "      <th>std</th>\n",
       "      <td>11.171494</td>\n",
       "      <td>1.304667</td>\n",
       "      <td>134.114918</td>\n",
       "      <td>0.155726</td>\n",
       "      <td>0.128735</td>\n",
       "      <td>0.751307</td>\n",
       "    </tr>\n",
       "    <tr>\n",
       "      <th>min</th>\n",
       "      <td>0.100000</td>\n",
       "      <td>0.000000</td>\n",
       "      <td>97.000000</td>\n",
       "      <td>-0.014922</td>\n",
       "      <td>-0.669856</td>\n",
       "      <td>0.000000</td>\n",
       "    </tr>\n",
       "    <tr>\n",
       "      <th>25%</th>\n",
       "      <td>3.000000</td>\n",
       "      <td>0.314477</td>\n",
       "      <td>211.000000</td>\n",
       "      <td>0.059455</td>\n",
       "      <td>-0.238349</td>\n",
       "      <td>2.000000</td>\n",
       "    </tr>\n",
       "    <tr>\n",
       "      <th>50%</th>\n",
       "      <td>6.000000</td>\n",
       "      <td>0.697998</td>\n",
       "      <td>279.000000</td>\n",
       "      <td>0.150451</td>\n",
       "      <td>-0.138097</td>\n",
       "      <td>2.000000</td>\n",
       "    </tr>\n",
       "    <tr>\n",
       "      <th>75%</th>\n",
       "      <td>12.575000</td>\n",
       "      <td>1.203847</td>\n",
       "      <td>369.000000</td>\n",
       "      <td>0.280983</td>\n",
       "      <td>-0.082701</td>\n",
       "      <td>2.000000</td>\n",
       "    </tr>\n",
       "    <tr>\n",
       "      <th>max</th>\n",
       "      <td>122.400000</td>\n",
       "      <td>15.156256</td>\n",
       "      <td>864.000000</td>\n",
       "      <td>0.770654</td>\n",
       "      <td>0.031722</td>\n",
       "      <td>8.000000</td>\n",
       "    </tr>\n",
       "  </tbody>\n",
       "</table>\n",
       "</div>"
      ],
      "text/plain": [
       "           SOC_gkg        slope    elevation         ndvi          bsi  \\\n",
       "count  2566.000000  2566.000000  2566.000000  2566.000000  2566.000000   \n",
       "mean      9.710639     1.027890   302.930242     0.188505    -0.165431   \n",
       "std      11.171494     1.304667   134.114918     0.155726     0.128735   \n",
       "min       0.100000     0.000000    97.000000    -0.014922    -0.669856   \n",
       "25%       3.000000     0.314477   211.000000     0.059455    -0.238349   \n",
       "50%       6.000000     0.697998   279.000000     0.150451    -0.138097   \n",
       "75%      12.575000     1.203847   369.000000     0.280983    -0.082701   \n",
       "max     122.400000    15.156256   864.000000     0.770654     0.031722   \n",
       "\n",
       "               SOC  \n",
       "count  2566.000000  \n",
       "mean      2.044817  \n",
       "std       0.751307  \n",
       "min       0.000000  \n",
       "25%       2.000000  \n",
       "50%       2.000000  \n",
       "75%       2.000000  \n",
       "max       8.000000  "
      ]
     },
     "execution_count": 240,
     "metadata": {},
     "output_type": "execute_result"
    }
   ],
   "source": [
    "sampling_points_2 = sampling_points[sampling_points.SOC_gkg>0]\n",
    "sampling_points_2.describe()"
   ]
  },
  {
   "cell_type": "code",
   "execution_count": null,
   "metadata": {
    "colab": {
     "base_uri": "https://localhost:8080/",
     "height": 343
    },
    "id": "CSYDTYV1IDje",
    "outputId": "20c00e42-e7ed-48be-ef07-5bd8acc42b63"
   },
   "outputs": [
    {
     "data": {
      "text/plain": [
       "<AxesSubplot:>"
      ]
     },
     "execution_count": 241,
     "metadata": {},
     "output_type": "execute_result"
    },
    {
     "data": {
      "image/png": "[encoded data removed]",
      "text/plain": [
       "<Figure size 432x360 with 2 Axes>"
      ]
     },
     "metadata": {
      "needs_background": "light"
     },
     "output_type": "display_data"
    }
   ],
   "source": [
    "# show the correlation matric for the dataset\n",
    "corrMatrix = sampling_points.corr()\n",
    "fig, ax = plt.subplots(figsize=(6,5))         # Sample figsize in inches\n",
    "#sns.heatmap(df.iloc[:, 1:6:], annot=True, linewidths=.5, ax=ax)\n",
    "sns.heatmap(corrMatrix, annot=True, linewidths=.5, ax=ax)"
   ]
  },
  {
   "cell_type": "code",
   "execution_count": null,
   "metadata": {},
   "outputs": [
    {
     "data": {
      "text/plain": [
       "array([[-0.75301283, -0.6177487 , -0.46185998, ..., -0.77307322,\n",
       "         1.00857998, -1.39093647],\n",
       "       [-0.82463762, -0.6177487 , -0.46185998, ..., -0.77307322,\n",
       "         1.00857998, -1.39093647],\n",
       "       [-0.69034113, -0.6177487 , -0.46185998, ..., -0.77307322,\n",
       "         1.00857998, -1.39093647],\n",
       "       ...,\n",
       "       [ 2.52382131, -0.23611265, -1.03610637, ..., -0.82966933,\n",
       "         1.00888554, -1.39093647],\n",
       "       [-0.78882522, -0.19564765, -0.46931772, ..., -0.04309957,\n",
       "         0.1342108 , -1.39093647],\n",
       "       [-0.64557564, -0.68022264, -0.59609939, ...,  1.44779882,\n",
       "        -1.34246167,  1.27160958]])"
      ]
     },
     "execution_count": 230,
     "metadata": {},
     "output_type": "execute_result"
    }
   ],
   "source": [
    "from sklearn.preprocessing import StandardScaler\n",
    "scaler = StandardScaler()\n",
    "data2 = scaler.fit_transform(sampling_points_2.drop('geometry', axis=1))\n",
    "data2"
   ]
  },
  {
   "cell_type": "code",
   "execution_count": null,
   "metadata": {},
   "outputs": [
    {
     "data": {
      "text/html": [
       "<div>\n",
       "<style scoped>\n",
       "    .dataframe tbody tr th:only-of-type {\n",
       "        vertical-align: middle;\n",
       "    }\n",
       "\n",
       "    .dataframe tbody tr th {\n",
       "        vertical-align: top;\n",
       "    }\n",
       "\n",
       "    .dataframe thead th {\n",
       "        text-align: right;\n",
       "    }\n",
       "</style>\n",
       "<table border=\"1\" class=\"dataframe\">\n",
       "  <thead>\n",
       "    <tr style=\"text-align: right;\">\n",
       "      <th></th>\n",
       "      <th>SOC_gkg</th>\n",
       "      <th>slope</th>\n",
       "      <th>elevation</th>\n",
       "      <th>land_use</th>\n",
       "      <th>ndvi</th>\n",
       "      <th>bsi</th>\n",
       "      <th>SOC</th>\n",
       "    </tr>\n",
       "  </thead>\n",
       "  <tbody>\n",
       "    <tr>\n",
       "      <th>0</th>\n",
       "      <td>-0.753013</td>\n",
       "      <td>-0.617749</td>\n",
       "      <td>-0.461860</td>\n",
       "      <td>-0.819564</td>\n",
       "      <td>-0.773073</td>\n",
       "      <td>1.008580</td>\n",
       "      <td>-1.390936</td>\n",
       "    </tr>\n",
       "    <tr>\n",
       "      <th>1</th>\n",
       "      <td>-0.824638</td>\n",
       "      <td>-0.617749</td>\n",
       "      <td>-0.461860</td>\n",
       "      <td>-0.819564</td>\n",
       "      <td>-0.773073</td>\n",
       "      <td>1.008580</td>\n",
       "      <td>-1.390936</td>\n",
       "    </tr>\n",
       "    <tr>\n",
       "      <th>2</th>\n",
       "      <td>-0.690341</td>\n",
       "      <td>-0.617749</td>\n",
       "      <td>-0.461860</td>\n",
       "      <td>-0.819564</td>\n",
       "      <td>-0.773073</td>\n",
       "      <td>1.008580</td>\n",
       "      <td>-1.390936</td>\n",
       "    </tr>\n",
       "    <tr>\n",
       "      <th>3</th>\n",
       "      <td>-0.376983</td>\n",
       "      <td>-0.617749</td>\n",
       "      <td>-0.461860</td>\n",
       "      <td>-0.819564</td>\n",
       "      <td>-0.773073</td>\n",
       "      <td>1.008580</td>\n",
       "      <td>-1.390936</td>\n",
       "    </tr>\n",
       "    <tr>\n",
       "      <th>4</th>\n",
       "      <td>0.921217</td>\n",
       "      <td>1.194339</td>\n",
       "      <td>1.231048</td>\n",
       "      <td>0.344566</td>\n",
       "      <td>1.857708</td>\n",
       "      <td>-1.770702</td>\n",
       "      <td>1.271610</td>\n",
       "    </tr>\n",
       "  </tbody>\n",
       "</table>\n",
       "</div>"
      ],
      "text/plain": [
       "    SOC_gkg     slope  elevation  land_use      ndvi       bsi       SOC\n",
       "0 -0.753013 -0.617749  -0.461860 -0.819564 -0.773073  1.008580 -1.390936\n",
       "1 -0.824638 -0.617749  -0.461860 -0.819564 -0.773073  1.008580 -1.390936\n",
       "2 -0.690341 -0.617749  -0.461860 -0.819564 -0.773073  1.008580 -1.390936\n",
       "3 -0.376983 -0.617749  -0.461860 -0.819564 -0.773073  1.008580 -1.390936\n",
       "4  0.921217  1.194339   1.231048  0.344566  1.857708 -1.770702  1.271610"
      ]
     },
     "execution_count": 234,
     "metadata": {},
     "output_type": "execute_result"
    }
   ],
   "source": [
    "df1 = pd.DataFrame(data=data2, columns=['SOC_gkg','slope','elevation','land_use','ndvi','bsi','SOC'])\n",
    "df1.head()"
   ]
  },
  {
   "cell_type": "code",
   "execution_count": null,
   "metadata": {},
   "outputs": [
    {
     "data": {
      "text/plain": [
       "<AxesSubplot:>"
      ]
     },
     "execution_count": 235,
     "metadata": {},
     "output_type": "execute_result"
    },
    {
     "data": {
      "image/png": "[encoded data removed]",
      "text/plain": [
       "<Figure size 432x360 with 2 Axes>"
      ]
     },
     "metadata": {
      "needs_background": "light"
     },
     "output_type": "display_data"
    }
   ],
   "source": [
    "# show the correlation matric for the dataset\n",
    "corrMatrix = df1.corr()\n",
    "fig, ax = plt.subplots(figsize=(6,5))         # Sample figsize in inches\n",
    "#sns.heatmap(df.iloc[:, 1:6:], annot=True, linewidths=.5, ax=ax)\n",
    "sns.heatmap(corrMatrix, annot=True, linewidths=.5, ax=ax)"
   ]
  },
  {
   "cell_type": "markdown",
   "metadata": {
    "id": "xbfWduNoIDjf"
   },
   "source": [
    "###  MACHINE LEARNING MODEL\n",
    "\n",
    "* import the Ml libaries\n",
    "* load the data\n",
    "* split the data into dependent and independent variable\n",
    "* splitt the dataset into training and test test\n",
    "* Build our model uisng Random Forest Machine Learning Algorithm\n",
    "* Check the accureacy of our model uisng differernt accracy metrics\n",
    "* Plot the Predicted data\n",
    "* Use the prediction  Probabaility output to create a raster map that shows probability of floodding across the study area"
   ]
  },
  {
   "cell_type": "code",
   "execution_count": null,
   "metadata": {
    "id": "EbZhxDj4HaI5"
   },
   "outputs": [],
   "source": [
    "# import require libaries\n",
    "from sklearn.model_selection import train_test_split\n",
    "from sklearn.ensemble import RandomForestRegressor\n",
    "from sklearn.metrics import r2_score\n",
    "from sklearn.metrics import mean_absolute_error"
   ]
  },
  {
   "cell_type": "code",
   "execution_count": null,
   "metadata": {
    "colab": {
     "base_uri": "https://localhost:8080/",
     "height": 206
    },
    "id": "juuGxMq8Gsbu",
    "outputId": "e6b15dce-b298-44ee-a395-20369eda0236"
   },
   "outputs": [
    {
     "data": {
      "text/html": [
       "<div>\n",
       "<style scoped>\n",
       "    .dataframe tbody tr th:only-of-type {\n",
       "        vertical-align: middle;\n",
       "    }\n",
       "\n",
       "    .dataframe tbody tr th {\n",
       "        vertical-align: top;\n",
       "    }\n",
       "\n",
       "    .dataframe thead th {\n",
       "        text-align: right;\n",
       "    }\n",
       "</style>\n",
       "<table border=\"1\" class=\"dataframe\">\n",
       "  <thead>\n",
       "    <tr style=\"text-align: right;\">\n",
       "      <th></th>\n",
       "      <th>SOC_gkg</th>\n",
       "      <th>slope</th>\n",
       "      <th>elevation</th>\n",
       "      <th>ndvi</th>\n",
       "      <th>bsi</th>\n",
       "      <th>SOC</th>\n",
       "      <th>geometry</th>\n",
       "    </tr>\n",
       "  </thead>\n",
       "  <tbody>\n",
       "    <tr>\n",
       "      <th>0</th>\n",
       "      <td>1.3</td>\n",
       "      <td>0.222091</td>\n",
       "      <td>241.0</td>\n",
       "      <td>0.068141</td>\n",
       "      <td>-0.035617</td>\n",
       "      <td>1.0</td>\n",
       "      <td>POINT (-51.30944 -14.21444)</td>\n",
       "    </tr>\n",
       "    <tr>\n",
       "      <th>2</th>\n",
       "      <td>0.5</td>\n",
       "      <td>0.222091</td>\n",
       "      <td>241.0</td>\n",
       "      <td>0.068141</td>\n",
       "      <td>-0.035617</td>\n",
       "      <td>1.0</td>\n",
       "      <td>POINT (-51.30944 -14.21444)</td>\n",
       "    </tr>\n",
       "    <tr>\n",
       "      <th>3</th>\n",
       "      <td>2.0</td>\n",
       "      <td>0.222091</td>\n",
       "      <td>241.0</td>\n",
       "      <td>0.068141</td>\n",
       "      <td>-0.035617</td>\n",
       "      <td>1.0</td>\n",
       "      <td>POINT (-51.30944 -14.21444)</td>\n",
       "    </tr>\n",
       "    <tr>\n",
       "      <th>4</th>\n",
       "      <td>5.5</td>\n",
       "      <td>0.222091</td>\n",
       "      <td>241.0</td>\n",
       "      <td>0.068141</td>\n",
       "      <td>-0.035617</td>\n",
       "      <td>1.0</td>\n",
       "      <td>POINT (-51.30944 -14.21444)</td>\n",
       "    </tr>\n",
       "    <tr>\n",
       "      <th>5</th>\n",
       "      <td>20.0</td>\n",
       "      <td>2.585801</td>\n",
       "      <td>468.0</td>\n",
       "      <td>0.477742</td>\n",
       "      <td>-0.393338</td>\n",
       "      <td>3.0</td>\n",
       "      <td>POINT (-52.80306 -14.51194)</td>\n",
       "    </tr>\n",
       "  </tbody>\n",
       "</table>\n",
       "</div>"
      ],
      "text/plain": [
       "   SOC_gkg     slope  elevation      ndvi       bsi  SOC  \\\n",
       "0      1.3  0.222091      241.0  0.068141 -0.035617  1.0   \n",
       "2      0.5  0.222091      241.0  0.068141 -0.035617  1.0   \n",
       "3      2.0  0.222091      241.0  0.068141 -0.035617  1.0   \n",
       "4      5.5  0.222091      241.0  0.068141 -0.035617  1.0   \n",
       "5     20.0  2.585801      468.0  0.477742 -0.393338  3.0   \n",
       "\n",
       "                      geometry  \n",
       "0  POINT (-51.30944 -14.21444)  \n",
       "2  POINT (-51.30944 -14.21444)  \n",
       "3  POINT (-51.30944 -14.21444)  \n",
       "4  POINT (-51.30944 -14.21444)  \n",
       "5  POINT (-52.80306 -14.51194)  "
      ]
     },
     "execution_count": 243,
     "metadata": {},
     "output_type": "execute_result"
    }
   ],
   "source": [
    "#load the dataset \n",
    "sampling_points.head()"
   ]
  },
  {
   "cell_type": "code",
   "execution_count": null,
   "metadata": {},
   "outputs": [],
   "source": [
    "sampling_points.to_csv('extracted.csv',index=False)"
   ]
  },
  {
   "cell_type": "code",
   "execution_count": null,
   "metadata": {
    "id": "DD3T-sLaIDjg"
   },
   "outputs": [],
   "source": [
    "# Define the dependent variable that needs to be predicted (labels)\n",
    "y = sampling_points[\"SOC_gkg\"].values\n",
    "\n",
    "# Define the independent variables. Let's also drop gemotry and label\n",
    "x = sampling_points.drop(labels = [\"SOC_gkg\", \"geometry\"], axis=1) \n",
    "features_list = list(x.columns)  #List features so we can rank their importance later "
   ]
  },
  {
   "cell_type": "code",
   "execution_count": null,
   "metadata": {
    "id": "f6dUxdeNHAv7"
   },
   "outputs": [],
   "source": [
    "import random\n",
    "random.seed(42)\n",
    "#Split data into train (60 %), validate (20 %) and test (20%) to verify accuracy after fitting the model.\n",
    "# training data is used to train the model\n",
    "# validation data is used for hyperparameter tuning\n",
    "# testing data is used to test the model\n",
    "\n",
    "X_train_val, X_test, y_train_val, y_test = train_test_split(x, y, test_size=0.2,shuffle=True, random_state=42)\n",
    "X_train, X_val, y_train, y_val = train_test_split(X_train_val, y_train_val, test_size=0.25,shuffle=True, random_state=42)"
   ]
  },
  {
   "cell_type": "markdown",
   "metadata": {
    "id": "UHA1JCayIJzw"
   },
   "source": [
    "#### RANDOM FOREST REGRESSION"
   ]
  },
  {
   "cell_type": "code",
   "execution_count": null,
   "metadata": {
    "colab": {
     "base_uri": "https://localhost:8080/"
    },
    "id": "GTO4gxjWIDjg",
    "outputId": "0342788b-985b-4955-9459-8519c37843c1"
   },
   "outputs": [
    {
     "data": {
      "text/plain": [
       "array([ 4.59193432,  8.86288379, 12.8210996 ,  3.85309554,  5.05213776,\n",
       "       12.48945521,  2.63514694,  5.047127  , 14.02667072,  7.68878084])"
      ]
     },
     "execution_count": 246,
     "metadata": {},
     "output_type": "execute_result"
    }
   ],
   "source": [
    "# instantiate the Random Forest Model\n",
    "model = RandomForestRegressor(n_estimators =1000, random_state = 42)\n",
    "\n",
    "# Train the model on training data\n",
    "model.fit(X_train, y_train)\n",
    "\n",
    "# make prediction for the test dataset.\n",
    "prediction = model.predict(X_test)\n",
    "\n",
    "# The prediction SOC value\n",
    "prediction[:10]"
   ]
  },
  {
   "cell_type": "code",
   "execution_count": null,
   "metadata": {},
   "outputs": [
    {
     "data": {
      "text/plain": [
       "array([ 3.20000005,  2.9       ,  6.5       ,  1.29999995,  5.6       ,\n",
       "        4.        , 15.        , 10.80000019, 17.1       ,  3.1       ])"
      ]
     },
     "execution_count": 247,
     "metadata": {},
     "output_type": "execute_result"
    }
   ],
   "source": [
    "y_test[:10]"
   ]
  },
  {
   "cell_type": "code",
   "execution_count": null,
   "metadata": {},
   "outputs": [
    {
     "data": {
      "text/plain": [
       "-0.22408280175170048"
      ]
     },
     "execution_count": 248,
     "metadata": {},
     "output_type": "execute_result"
    }
   ],
   "source": [
    "model.score(X_test,y_test)"
   ]
  },
  {
   "cell_type": "markdown",
   "metadata": {
    "id": "6YywR4X0J7LL"
   },
   "source": [
    "#### Metric Evaluation"
   ]
  },
  {
   "cell_type": "markdown",
   "metadata": {
    "id": "p_Qi5zLZKGLi"
   },
   "source": [
    "R2"
   ]
  },
  {
   "cell_type": "code",
   "execution_count": null,
   "metadata": {
    "colab": {
     "base_uri": "https://localhost:8080/",
     "height": 279
    },
    "id": "DyL-mTRcJ_rI",
    "outputId": "3b2ae74b-7c72-4149-f79e-f6b7f8c2ad70"
   },
   "outputs": [],
   "source": [
    "r2_score(X_test,y_test)"
   ]
  },
  {
   "cell_type": "markdown",
   "metadata": {},
   "source": [
    "RMSE"
   ]
  },
  {
   "cell_type": "markdown",
   "metadata": {},
   "source": [
    "MAE"
   ]
  },
  {
   "cell_type": "code",
   "execution_count": null,
   "metadata": {},
   "outputs": [
    {
     "data": {
      "text/plain": [
       "7.3714412713829445"
      ]
     },
     "execution_count": 202,
     "metadata": {},
     "output_type": "execute_result"
    }
   ],
   "source": [
    "mae = mean_absolute_error(y_test,prediction)\n",
    "mae"
   ]
  },
  {
   "cell_type": "code",
   "execution_count": null,
   "metadata": {},
   "outputs": [],
   "source": []
  },
  {
   "cell_type": "markdown",
   "metadata": {
    "id": "BFeoyqwxKPyR"
   },
   "source": [
    "Features Importance"
   ]
  },
  {
   "cell_type": "code",
   "execution_count": null,
   "metadata": {
    "colab": {
     "base_uri": "https://localhost:8080/",
     "height": 393
    },
    "id": "lYChpBUbIDjh",
    "outputId": "c7896fb0-b326-4817-b3cb-1405f47da328"
   },
   "outputs": [
    {
     "name": "stdout",
     "output_type": "stream",
     "text": [
      "slope        0.263337\n",
      "bsi          0.235133\n",
      "elevation    0.234677\n",
      "ndvi         0.224342\n",
      "land_use     0.042511\n",
      "dtype: float64\n"
     ]
    },
    {
     "data": {
      "image/png": "[encoded data removed]",
      "text/plain": [
       "<Figure size 432x288 with 1 Axes>"
      ]
     },
     "metadata": {
      "needs_background": "light"
     },
     "output_type": "display_data"
    }
   ],
   "source": [
    "# Estimate the feature importance\n",
    "feature_imp = pd.Series(model.feature_importances_, index=features_list).sort_values(ascending=False)\n",
    "print(feature_imp)\n",
    "\n",
    "# Plot the feature importance \n",
    "feature_imp.plot.bar();"
   ]
  },
  {
   "cell_type": "markdown",
   "metadata": {
    "id": "4ZzGVlgIKyeD"
   },
   "source": [
    "Classification Accuracy"
   ]
  },
  {
   "cell_type": "code",
   "execution_count": null,
   "metadata": {
    "colab": {
     "base_uri": "https://localhost:8080/"
    },
    "id": "8TShWtRpK108",
    "outputId": "f1552d49-89f7-4458-a688-66857a18a87d"
   },
   "outputs": [
    {
     "name": "stdout",
     "output_type": "stream",
     "text": [
      "Accuracy: -23.07%\n"
     ]
    }
   ],
   "source": [
    "# Calculate the accuracy score\n",
    "accuracy = r2_score(y_test, prediction)\n",
    "\n",
    "# Print the accuracy as a percentage\n",
    "print(\"Accuracy: {:.2%}\".format(accuracy))"
   ]
  },
  {
   "cell_type": "markdown",
   "metadata": {
    "id": "FgTWXLysKjqY"
   },
   "source": []
  },
  {
   "cell_type": "markdown",
   "metadata": {
    "id": "Z-vUsm40IDjr"
   },
   "source": [
    "Generate 20000 new random points predictions points within the study\n",
    "Extract all the values from the independent raster data to the predictive random points"
   ]
  },
  {
   "cell_type": "code",
   "execution_count": null,
   "metadata": {
    "colab": {
     "base_uri": "https://localhost:8080/",
     "height": 206
    },
    "id": "DaLfOLPKIDjr",
    "outputId": "83c7203c-fa0b-4323-ac9e-17f754c782c7"
   },
   "outputs": [
    {
     "data": {
      "text/html": [
       "<div>\n",
       "<style scoped>\n",
       "    .dataframe tbody tr th:only-of-type {\n",
       "        vertical-align: middle;\n",
       "    }\n",
       "\n",
       "    .dataframe tbody tr th {\n",
       "        vertical-align: top;\n",
       "    }\n",
       "\n",
       "    .dataframe thead th {\n",
       "        text-align: right;\n",
       "    }\n",
       "</style>\n",
       "<table border=\"1\" class=\"dataframe\">\n",
       "  <thead>\n",
       "    <tr style=\"text-align: right;\">\n",
       "      <th></th>\n",
       "      <th>geometry</th>\n",
       "    </tr>\n",
       "  </thead>\n",
       "  <tbody>\n",
       "    <tr>\n",
       "      <th>0</th>\n",
       "      <td>POINT (-61.19297 -10.59732)</td>\n",
       "    </tr>\n",
       "    <tr>\n",
       "      <th>1</th>\n",
       "      <td>POINT (-59.99078 -13.09619)</td>\n",
       "    </tr>\n",
       "    <tr>\n",
       "      <th>2</th>\n",
       "      <td>POINT (-56.46278 -12.71402)</td>\n",
       "    </tr>\n",
       "    <tr>\n",
       "      <th>3</th>\n",
       "      <td>POINT (-57.38471 -8.92853)</td>\n",
       "    </tr>\n",
       "    <tr>\n",
       "      <th>4</th>\n",
       "      <td>POINT (-55.39277 -9.96545)</td>\n",
       "    </tr>\n",
       "  </tbody>\n",
       "</table>\n",
       "</div>"
      ],
      "text/plain": [
       "                      geometry\n",
       "0  POINT (-61.19297 -10.59732)\n",
       "1  POINT (-59.99078 -13.09619)\n",
       "2  POINT (-56.46278 -12.71402)\n",
       "3   POINT (-57.38471 -8.92853)\n",
       "4   POINT (-55.39277 -9.96545)"
      ]
     },
     "execution_count": 128,
     "metadata": {},
     "output_type": "execute_result"
    }
   ],
   "source": [
    "import random\n",
    "random.seed(43)\n"
   ]
  },
  {
   "cell_type": "code",
   "execution_count": null,
   "metadata": {
    "colab": {
     "base_uri": "https://localhost:8080/",
     "height": 206
    },
    "id": "k12gIK23IDjv",
    "outputId": "3ac1d609-9ff8-49ae-8ddc-b87221576820",
    "scrolled": true
   },
   "outputs": [
    {
     "data": {
      "text/html": [
       "<div>\n",
       "<style scoped>\n",
       "    .dataframe tbody tr th:only-of-type {\n",
       "        vertical-align: middle;\n",
       "    }\n",
       "\n",
       "    .dataframe tbody tr th {\n",
       "        vertical-align: top;\n",
       "    }\n",
       "\n",
       "    .dataframe thead th {\n",
       "        text-align: right;\n",
       "    }\n",
       "</style>\n",
       "<table border=\"1\" class=\"dataframe\">\n",
       "  <thead>\n",
       "    <tr style=\"text-align: right;\">\n",
       "      <th></th>\n",
       "      <th>slope</th>\n",
       "      <th>elevation</th>\n",
       "      <th>land_use</th>\n",
       "    </tr>\n",
       "  </thead>\n",
       "  <tbody>\n",
       "    <tr>\n",
       "      <th>0</th>\n",
       "      <td>0.523963</td>\n",
       "      <td>174.0</td>\n",
       "      <td>30.0</td>\n",
       "    </tr>\n",
       "    <tr>\n",
       "      <th>1</th>\n",
       "      <td>2.563251</td>\n",
       "      <td>599.0</td>\n",
       "      <td>40.0</td>\n",
       "    </tr>\n",
       "    <tr>\n",
       "      <th>2</th>\n",
       "      <td>0.738486</td>\n",
       "      <td>359.0</td>\n",
       "      <td>10.0</td>\n",
       "    </tr>\n",
       "    <tr>\n",
       "      <th>3</th>\n",
       "      <td>0.174526</td>\n",
       "      <td>154.0</td>\n",
       "      <td>10.0</td>\n",
       "    </tr>\n",
       "    <tr>\n",
       "      <th>4</th>\n",
       "      <td>0.678743</td>\n",
       "      <td>257.0</td>\n",
       "      <td>10.0</td>\n",
       "    </tr>\n",
       "  </tbody>\n",
       "</table>\n",
       "</div>"
      ],
      "text/plain": [
       "      slope  elevation  land_use\n",
       "0  0.523963      174.0      30.0\n",
       "1  2.563251      599.0      40.0\n",
       "2  0.738486      359.0      10.0\n",
       "3  0.174526      154.0      10.0\n",
       "4  0.678743      257.0      10.0"
      ]
     },
     "execution_count": 130,
     "metadata": {},
     "output_type": "execute_result"
    }
   ],
   "source": [
    "# we need to remove all the columns except the predictive features\n",
    "predicitve_data = predictive_points.drop(labels = [\"geometry\"], axis=1)\n",
    "predicitve_data.head()"
   ]
  },
  {
   "cell_type": "markdown",
   "metadata": {
    "id": "E1G9Z6U8TvvN"
   },
   "source": [
    "Finally, run the model on-some untrained data and present the results in a map"
   ]
  }
 ],
 "metadata": {
  "colab": {
   "provenance": []
  },
  "kernelspec": {
   "display_name": "Python 3 (ipykernel)",
   "language": "python",
   "name": "python3"
  },
  "language_info": {
   "codemirror_mode": {
    "name": "ipython",
    "version": 3
   },
   "file_extension": ".py",
   "mimetype": "text/x-python",
   "name": "python",
   "nbconvert_exporter": "python",
   "pygments_lexer": "ipython3",
   "version": "3.9.16"
  },
  "vscode": {
   "interpreter": {
    "hash": "356734b0b4e05b3af569ed06eb258f6ef66038e7268c6bdbb97ecd1a1c609e88"
   }
  },
  "widgets": {
   "application/vnd.jupyter.widget-state+json": {
    "10ca6f9780864c96b071f7ea85bcf24c": {
     "model_module": "jupyter-leaflet",
     "model_module_version": "^0.17",
     "model_name": "LeafletTileLayerModel",
     "state": {
      "_model_module": "jupyter-leaflet",
      "_model_module_version": "^0.17",
      "_model_name": "LeafletTileLayerModel",
      "_view_count": null,
      "_view_module": "jupyter-leaflet",
      "_view_module_version": "^0.17",
      "_view_name": "LeafletTileLayerView",
      "attribution": "&copy; <a href=\"https://www.openstreetmap.org/copyright\">OpenStreetMap</a> contributors",
      "base": true,
      "bottom": true,
      "bounds": null,
      "detect_retina": false,
      "loading": false,
      "max_native_zoom": null,
      "max_zoom": 19,
      "min_native_zoom": null,
      "min_zoom": 1,
      "name": "OpenStreetMap.Mapnik",
      "no_wrap": false,
      "opacity": 1,
      "options": [
       "attribution",
       "bounds",
       "detect_retina",
       "max_native_zoom",
       "max_zoom",
       "min_native_zoom",
       "min_zoom",
       "no_wrap",
       "tile_size",
       "tms",
       "zoom_offset"
      ],
      "pane": "",
      "popup": null,
      "popup_max_height": null,
      "popup_max_width": 300,
      "popup_min_width": 50,
      "show_loading": false,
      "subitems": [],
      "tile_size": 256,
      "tms": false,
      "url": "https://tile.openstreetmap.org/{z}/{x}/{y}.png",
      "visible": true,
      "zoom_offset": 0
     }
    },
    "16db167e511e47d0a54c3e23eb6ef929": {
     "model_module": "jupyter-leaflet",
     "model_module_version": "^0.17",
     "model_name": "LeafletMapStyleModel",
     "state": {
      "_model_module": "jupyter-leaflet",
      "_model_module_version": "^0.17",
      "_model_name": "LeafletMapStyleModel",
      "_view_count": null,
      "_view_module": "@jupyter-widgets/base",
      "_view_module_version": "1.2.0",
      "_view_name": "StyleView",
      "cursor": "move"
     }
    },
    "1884392ad7d74f77b22bd3afee8f25ee": {
     "model_module": "jupyter-leaflet",
     "model_module_version": "^0.17",
     "model_name": "LeafletMeasureControlModel",
     "state": {
      "_custom_units": {},
      "_model_module": "jupyter-leaflet",
      "_model_module_version": "^0.17",
      "_model_name": "LeafletMeasureControlModel",
      "_view_count": null,
      "_view_module": "jupyter-leaflet",
      "_view_module_version": "^0.17",
      "_view_name": "LeafletMeasureControlView",
      "active_color": "orange",
      "capture_z_index": 10000,
      "completed_color": "#C8F2BE",
      "options": [
       "active_color",
       "capture_z_index",
       "completed_color",
       "popup_options",
       "position",
       "primary_area_unit",
       "primary_length_unit",
       "secondary_area_unit",
       "secondary_length_unit"
      ],
      "popup_options": {
       "autoPanPadding": [
        10,
        10
       ],
       "className": "leaflet-measure-resultpopup"
      },
      "position": "bottomleft",
      "primary_area_unit": "acres",
      "primary_length_unit": "kilometers",
      "secondary_area_unit": null,
      "secondary_length_unit": null
     }
    },
    "1aafd0ead93e464b891465a8402ad980": {
     "model_module": "@jupyter-widgets/base",
     "model_module_version": "1.2.0",
     "model_name": "LayoutModel",
     "state": {
      "_model_module": "@jupyter-widgets/base",
      "_model_module_version": "1.2.0",
      "_model_name": "LayoutModel",
      "_view_count": null,
      "_view_module": "@jupyter-widgets/base",
      "_view_module_version": "1.2.0",
      "_view_name": "LayoutView",
      "align_content": null,
      "align_items": null,
      "align_self": null,
      "border": null,
      "bottom": null,
      "display": null,
      "flex": null,
      "flex_flow": null,
      "grid_area": null,
      "grid_auto_columns": null,
      "grid_auto_flow": null,
      "grid_auto_rows": null,
      "grid_column": null,
      "grid_gap": null,
      "grid_row": null,
      "grid_template_areas": null,
      "grid_template_columns": null,
      "grid_template_rows": null,
      "height": "600px",
      "justify_content": null,
      "justify_items": null,
      "left": null,
      "margin": null,
      "max_height": null,
      "max_width": null,
      "min_height": null,
      "min_width": null,
      "object_fit": null,
      "object_position": null,
      "order": null,
      "overflow": null,
      "overflow_x": null,
      "overflow_y": null,
      "padding": null,
      "right": null,
      "top": null,
      "visibility": null,
      "width": null
     }
    },
    "1beb5c098f664ab2a5b411b5836c6bed": {
     "model_module": "jupyter-leaflet",
     "model_module_version": "^0.17",
     "model_name": "LeafletTileLayerModel",
     "state": {
      "_model_module": "jupyter-leaflet",
      "_model_module_version": "^0.17",
      "_model_name": "LeafletTileLayerModel",
      "_view_count": null,
      "_view_module": "jupyter-leaflet",
      "_view_module_version": "^0.17",
      "_view_name": "LeafletTileLayerView",
      "attribution": "Google Earth Engine",
      "base": false,
      "bottom": true,
      "bounds": null,
      "detect_retina": false,
      "loading": false,
      "max_native_zoom": null,
      "max_zoom": 24,
      "min_native_zoom": null,
      "min_zoom": 0,
      "name": "Elevation",
      "no_wrap": false,
      "opacity": 1,
      "options": [
       "attribution",
       "bounds",
       "detect_retina",
       "max_native_zoom",
       "max_zoom",
       "min_native_zoom",
       "min_zoom",
       "no_wrap",
       "tile_size",
       "tms",
       "zoom_offset"
      ],
      "pane": "",
      "popup": null,
      "popup_max_height": null,
      "popup_max_width": 300,
      "popup_min_width": 50,
      "show_loading": false,
      "subitems": [],
      "tile_size": 256,
      "tms": false,
      "url": "https://earthengine.googleapis.com/v1alpha/projects/earthengine-legacy/maps/6ebf6c0b19a72db729c910549452b246-e59b0d7c9333bb05f6b3873e7e40fea5/tiles/{z}/{x}/{y}",
      "visible": true,
      "zoom_offset": 0
     }
    },
    "307f6d551b8f4c4a8055d305b9b0e9ff": {
     "model_module": "@jupyter-widgets/controls",
     "model_module_version": "1.5.0",
     "model_name": "ToggleButtonModel",
     "state": {
      "_dom_classes": [],
      "_model_module": "@jupyter-widgets/controls",
      "_model_module_version": "1.5.0",
      "_model_name": "ToggleButtonModel",
      "_view_count": null,
      "_view_module": "@jupyter-widgets/controls",
      "_view_module_version": "1.5.0",
      "_view_name": "ToggleButtonView",
      "button_style": "",
      "description": "",
      "description_tooltip": null,
      "disabled": false,
      "icon": "globe",
      "layout": "IPY_MODEL_b18a8ec1174a4b539602b041e60c5fd5",
      "style": "IPY_MODEL_91a960182e92408693450e0a4b433141",
      "tooltip": "Search location/data",
      "value": false
     }
    },
    "42a2a539a70047e0ae324ef91b79ad44": {
     "model_module": "jupyter-leaflet",
     "model_module_version": "^0.17",
     "model_name": "LeafletAttributionControlModel",
     "state": {
      "_model_module": "jupyter-leaflet",
      "_model_module_version": "^0.17",
      "_model_name": "LeafletAttributionControlModel",
      "_view_count": null,
      "_view_module": "jupyter-leaflet",
      "_view_module_version": "^0.17",
      "_view_name": "LeafletAttributionControlView",
      "options": [
       "position",
       "prefix"
      ],
      "position": "bottomright",
      "prefix": "ipyleaflet"
     }
    },
    "42dd8778b1d249e19b2ddb2cc1525b69": {
     "model_module": "@jupyter-widgets/controls",
     "model_module_version": "1.5.0",
     "model_name": "DescriptionStyleModel",
     "state": {
      "_model_module": "@jupyter-widgets/controls",
      "_model_module_version": "1.5.0",
      "_model_name": "DescriptionStyleModel",
      "_view_count": null,
      "_view_module": "@jupyter-widgets/base",
      "_view_module_version": "1.2.0",
      "_view_name": "StyleView",
      "description_width": ""
     }
    },
    "4983676c3f254ceb97baa52e361c7299": {
     "model_module": "jupyter-leaflet",
     "model_module_version": "^0.17",
     "model_name": "LeafletZoomControlModel",
     "state": {
      "_model_module": "jupyter-leaflet",
      "_model_module_version": "^0.17",
      "_model_name": "LeafletZoomControlModel",
      "_view_count": null,
      "_view_module": "jupyter-leaflet",
      "_view_module_version": "^0.17",
      "_view_name": "LeafletZoomControlView",
      "options": [
       "position",
       "zoom_in_text",
       "zoom_in_title",
       "zoom_out_text",
       "zoom_out_title"
      ],
      "position": "topleft",
      "zoom_in_text": "+",
      "zoom_in_title": "Zoom in",
      "zoom_out_text": "-",
      "zoom_out_title": "Zoom out"
     }
    },
    "50f5ad810ab24088a4aa0d7a6c3b72f6": {
     "model_module": "jupyter-leaflet",
     "model_module_version": "^0.17",
     "model_name": "LeafletWidgetControlModel",
     "state": {
      "_model_module": "jupyter-leaflet",
      "_model_module_version": "^0.17",
      "_model_name": "LeafletWidgetControlModel",
      "_view_count": null,
      "_view_module": "jupyter-leaflet",
      "_view_module_version": "^0.17",
      "_view_name": "LeafletWidgetControlView",
      "max_height": null,
      "max_width": null,
      "min_height": null,
      "min_width": null,
      "options": [
       "position",
       "transparent_bg"
      ],
      "position": "topright",
      "transparent_bg": false,
      "widget": "IPY_MODEL_57e5db41f9b34d4fb3aa640d0fc91b26"
     }
    },
    "57e5db41f9b34d4fb3aa640d0fc91b26": {
     "model_module": "@jupyter-widgets/controls",
     "model_module_version": "1.5.0",
     "model_name": "VBoxModel",
     "state": {
      "_dom_classes": [],
      "_model_module": "@jupyter-widgets/controls",
      "_model_module_version": "1.5.0",
      "_model_name": "VBoxModel",
      "_view_count": null,
      "_view_module": "@jupyter-widgets/controls",
      "_view_module_version": "1.5.0",
      "_view_name": "VBoxView",
      "box_style": "",
      "children": [
       "IPY_MODEL_cfc93a5646cd446f95f242db3e036881"
      ],
      "layout": "IPY_MODEL_5eff3a9b2d3d4ea0b93d04e2a13d5d82"
     }
    },
    "5881d01c39824298a2fa60d35c67fd5b": {
     "model_module": "jupyter-leaflet",
     "model_module_version": "^0.17",
     "model_name": "LeafletWidgetControlModel",
     "state": {
      "_model_module": "jupyter-leaflet",
      "_model_module_version": "^0.17",
      "_model_name": "LeafletWidgetControlModel",
      "_view_count": null,
      "_view_module": "jupyter-leaflet",
      "_view_module_version": "^0.17",
      "_view_name": "LeafletWidgetControlView",
      "max_height": null,
      "max_width": null,
      "min_height": null,
      "min_width": null,
      "options": [
       "position",
       "transparent_bg"
      ],
      "position": "topleft",
      "transparent_bg": false,
      "widget": "IPY_MODEL_c6b1b2f055a445c28f47154a1ffd0f5d"
     }
    },
    "5eff3a9b2d3d4ea0b93d04e2a13d5d82": {
     "model_module": "@jupyter-widgets/base",
     "model_module_version": "1.2.0",
     "model_name": "LayoutModel",
     "state": {
      "_model_module": "@jupyter-widgets/base",
      "_model_module_version": "1.2.0",
      "_model_name": "LayoutModel",
      "_view_count": null,
      "_view_module": "@jupyter-widgets/base",
      "_view_module_version": "1.2.0",
      "_view_name": "LayoutView",
      "align_content": null,
      "align_items": null,
      "align_self": null,
      "border": null,
      "bottom": null,
      "display": null,
      "flex": null,
      "flex_flow": null,
      "grid_area": null,
      "grid_auto_columns": null,
      "grid_auto_flow": null,
      "grid_auto_rows": null,
      "grid_column": null,
      "grid_gap": null,
      "grid_row": null,
      "grid_template_areas": null,
      "grid_template_columns": null,
      "grid_template_rows": null,
      "height": null,
      "justify_content": null,
      "justify_items": null,
      "left": null,
      "margin": null,
      "max_height": null,
      "max_width": null,
      "min_height": null,
      "min_width": null,
      "object_fit": null,
      "object_position": null,
      "order": null,
      "overflow": null,
      "overflow_x": null,
      "overflow_y": null,
      "padding": null,
      "right": null,
      "top": null,
      "visibility": null,
      "width": null
     }
    },
    "78b758c094c7475aab2d3a45aaaab4a3": {
     "model_module": "jupyter-leaflet",
     "model_module_version": "^0.17",
     "model_name": "LeafletTileLayerModel",
     "state": {
      "_model_module": "jupyter-leaflet",
      "_model_module_version": "^0.17",
      "_model_name": "LeafletTileLayerModel",
      "_view_count": null,
      "_view_module": "jupyter-leaflet",
      "_view_module_version": "^0.17",
      "_view_name": "LeafletTileLayerView",
      "attribution": "Google",
      "base": false,
      "bottom": true,
      "bounds": null,
      "detect_retina": false,
      "loading": false,
      "max_native_zoom": null,
      "max_zoom": 22,
      "min_native_zoom": null,
      "min_zoom": 0,
      "name": "Google Maps",
      "no_wrap": false,
      "opacity": 1,
      "options": [
       "attribution",
       "bounds",
       "detect_retina",
       "max_native_zoom",
       "max_zoom",
       "min_native_zoom",
       "min_zoom",
       "no_wrap",
       "tile_size",
       "tms",
       "zoom_offset"
      ],
      "pane": "",
      "popup": null,
      "popup_max_height": null,
      "popup_max_width": 300,
      "popup_min_width": 50,
      "show_loading": false,
      "subitems": [],
      "tile_size": 256,
      "tms": false,
      "url": "https://mt1.google.com/vt/lyrs=m&x={x}&y={y}&z={z}",
      "visible": true,
      "zoom_offset": 0
     }
    },
    "91a960182e92408693450e0a4b433141": {
     "model_module": "@jupyter-widgets/controls",
     "model_module_version": "1.5.0",
     "model_name": "DescriptionStyleModel",
     "state": {
      "_model_module": "@jupyter-widgets/controls",
      "_model_module_version": "1.5.0",
      "_model_name": "DescriptionStyleModel",
      "_view_count": null,
      "_view_module": "@jupyter-widgets/base",
      "_view_module_version": "1.2.0",
      "_view_name": "StyleView",
      "description_width": ""
     }
    },
    "923c0de069aa4e5c8abfed385abc889a": {
     "model_module": "jupyter-leaflet",
     "model_module_version": "^0.17",
     "model_name": "LeafletFullScreenControlModel",
     "state": {
      "_model_module": "jupyter-leaflet",
      "_model_module_version": "^0.17",
      "_model_name": "LeafletFullScreenControlModel",
      "_view_count": null,
      "_view_module": "jupyter-leaflet",
      "_view_module_version": "^0.17",
      "_view_name": "LeafletFullScreenControlView",
      "options": [
       "position"
      ],
      "position": "topleft"
     }
    },
    "b18a8ec1174a4b539602b041e60c5fd5": {
     "model_module": "@jupyter-widgets/base",
     "model_module_version": "1.2.0",
     "model_name": "LayoutModel",
     "state": {
      "_model_module": "@jupyter-widgets/base",
      "_model_module_version": "1.2.0",
      "_model_name": "LayoutModel",
      "_view_count": null,
      "_view_module": "@jupyter-widgets/base",
      "_view_module_version": "1.2.0",
      "_view_name": "LayoutView",
      "align_content": null,
      "align_items": null,
      "align_self": null,
      "border": null,
      "bottom": null,
      "display": null,
      "flex": null,
      "flex_flow": null,
      "grid_area": null,
      "grid_auto_columns": null,
      "grid_auto_flow": null,
      "grid_auto_rows": null,
      "grid_column": null,
      "grid_gap": null,
      "grid_row": null,
      "grid_template_areas": null,
      "grid_template_columns": null,
      "grid_template_rows": null,
      "height": "28px",
      "justify_content": null,
      "justify_items": null,
      "left": null,
      "margin": null,
      "max_height": null,
      "max_width": null,
      "min_height": null,
      "min_width": null,
      "object_fit": null,
      "object_position": null,
      "order": null,
      "overflow": null,
      "overflow_x": null,
      "overflow_y": null,
      "padding": "0px 0px 0px 4px",
      "right": null,
      "top": null,
      "visibility": null,
      "width": "28px"
     }
    },
    "b750f9e9c00645889c4224774a29a89d": {
     "model_module": "jupyter-leaflet",
     "model_module_version": "^0.17",
     "model_name": "LeafletScaleControlModel",
     "state": {
      "_model_module": "jupyter-leaflet",
      "_model_module_version": "^0.17",
      "_model_name": "LeafletScaleControlModel",
      "_view_count": null,
      "_view_module": "jupyter-leaflet",
      "_view_module_version": "^0.17",
      "_view_name": "LeafletScaleControlView",
      "imperial": true,
      "max_width": 100,
      "metric": true,
      "options": [
       "imperial",
       "max_width",
       "metric",
       "position",
       "update_when_idle"
      ],
      "position": "bottomleft",
      "update_when_idle": false
     }
    },
    "bba5d0d674f94ec0b1886e82b18e323d": {
     "model_module": "@jupyter-widgets/base",
     "model_module_version": "1.2.0",
     "model_name": "LayoutModel",
     "state": {
      "_model_module": "@jupyter-widgets/base",
      "_model_module_version": "1.2.0",
      "_model_name": "LayoutModel",
      "_view_count": null,
      "_view_module": "@jupyter-widgets/base",
      "_view_module_version": "1.2.0",
      "_view_name": "LayoutView",
      "align_content": null,
      "align_items": null,
      "align_self": null,
      "border": null,
      "bottom": null,
      "display": null,
      "flex": null,
      "flex_flow": null,
      "grid_area": null,
      "grid_auto_columns": null,
      "grid_auto_flow": null,
      "grid_auto_rows": null,
      "grid_column": null,
      "grid_gap": null,
      "grid_row": null,
      "grid_template_areas": null,
      "grid_template_columns": null,
      "grid_template_rows": null,
      "height": "28px",
      "justify_content": null,
      "justify_items": null,
      "left": null,
      "margin": null,
      "max_height": null,
      "max_width": null,
      "min_height": null,
      "min_width": null,
      "object_fit": null,
      "object_position": null,
      "order": null,
      "overflow": null,
      "overflow_x": null,
      "overflow_y": null,
      "padding": "0px 0px 0px 4px",
      "right": null,
      "top": null,
      "visibility": null,
      "width": "28px"
     }
    },
    "c610449c895f4b5a8e4009a9d6050f43": {
     "model_module": "jupyter-leaflet",
     "model_module_version": "^0.17",
     "model_name": "LeafletMapStyleModel",
     "state": {
      "_model_module": "jupyter-leaflet",
      "_model_module_version": "^0.17",
      "_model_name": "LeafletMapStyleModel",
      "_view_count": null,
      "_view_module": "@jupyter-widgets/base",
      "_view_module_version": "1.2.0",
      "_view_name": "StyleView",
      "cursor": "grab"
     }
    },
    "c6b1b2f055a445c28f47154a1ffd0f5d": {
     "model_module": "@jupyter-widgets/controls",
     "model_module_version": "1.5.0",
     "model_name": "HBoxModel",
     "state": {
      "_dom_classes": [],
      "_model_module": "@jupyter-widgets/controls",
      "_model_module_version": "1.5.0",
      "_model_name": "HBoxModel",
      "_view_count": null,
      "_view_module": "@jupyter-widgets/controls",
      "_view_module_version": "1.5.0",
      "_view_name": "HBoxView",
      "box_style": "",
      "children": [
       "IPY_MODEL_307f6d551b8f4c4a8055d305b9b0e9ff"
      ],
      "layout": "IPY_MODEL_dd94d67fc5d74011a985e70830558529"
     }
    },
    "cfc93a5646cd446f95f242db3e036881": {
     "model_module": "@jupyter-widgets/controls",
     "model_module_version": "1.5.0",
     "model_name": "ToggleButtonModel",
     "state": {
      "_dom_classes": [],
      "_model_module": "@jupyter-widgets/controls",
      "_model_module_version": "1.5.0",
      "_model_name": "ToggleButtonModel",
      "_view_count": null,
      "_view_module": "@jupyter-widgets/controls",
      "_view_module_version": "1.5.0",
      "_view_name": "ToggleButtonView",
      "button_style": "",
      "description": "",
      "description_tooltip": null,
      "disabled": false,
      "icon": "wrench",
      "layout": "IPY_MODEL_bba5d0d674f94ec0b1886e82b18e323d",
      "style": "IPY_MODEL_42dd8778b1d249e19b2ddb2cc1525b69",
      "tooltip": "Toolbar",
      "value": false
     }
    },
    "d29c37a16aba48719302a3c1d2afc93a": {
     "model_module": "jupyter-leaflet",
     "model_module_version": "^0.17",
     "model_name": "LeafletTileLayerModel",
     "state": {
      "_model_module": "jupyter-leaflet",
      "_model_module_version": "^0.17",
      "_model_name": "LeafletTileLayerModel",
      "_view_count": null,
      "_view_module": "jupyter-leaflet",
      "_view_module_version": "^0.17",
      "_view_name": "LeafletTileLayerView",
      "attribution": "Google Earth Engine",
      "base": false,
      "bottom": true,
      "bounds": null,
      "detect_retina": false,
      "loading": false,
      "max_native_zoom": null,
      "max_zoom": 24,
      "min_native_zoom": null,
      "min_zoom": 0,
      "name": "Slope",
      "no_wrap": false,
      "opacity": 1,
      "options": [
       "attribution",
       "bounds",
       "detect_retina",
       "max_native_zoom",
       "max_zoom",
       "min_native_zoom",
       "min_zoom",
       "no_wrap",
       "tile_size",
       "tms",
       "zoom_offset"
      ],
      "pane": "",
      "popup": null,
      "popup_max_height": null,
      "popup_max_width": 300,
      "popup_min_width": 50,
      "show_loading": false,
      "subitems": [],
      "tile_size": 256,
      "tms": false,
      "url": "https://earthengine.googleapis.com/v1alpha/projects/earthengine-legacy/maps/e89f4e22ae45dba2d6584b9cc11c5137-7a2381d30506c51e94f7ed151f999e08/tiles/{z}/{x}/{y}",
      "visible": true,
      "zoom_offset": 0
     }
    },
    "d5f0101a43164b608f55211f7f9b8441": {
     "model_module": "jupyter-leaflet",
     "model_module_version": "^0.17",
     "model_name": "LeafletMapModel",
     "state": {
      "_dom_classes": [],
      "_model_module": "jupyter-leaflet",
      "_model_module_version": "^0.17",
      "_model_name": "LeafletMapModel",
      "_view_count": null,
      "_view_module": "jupyter-leaflet",
      "_view_module_version": "^0.17",
      "_view_name": "LeafletMapView",
      "bottom": 91240,
      "bounce_at_zoom_limits": true,
      "box_zoom": true,
      "center": [
       48.16974908365419,
       -65.59249877929689
      ],
      "close_popup_on_click": true,
      "controls": [
       "IPY_MODEL_5881d01c39824298a2fa60d35c67fd5b",
       "IPY_MODEL_4983676c3f254ceb97baa52e361c7299",
       "IPY_MODEL_b750f9e9c00645889c4224774a29a89d",
       "IPY_MODEL_923c0de069aa4e5c8abfed385abc889a",
       "IPY_MODEL_1884392ad7d74f77b22bd3afee8f25ee",
       "IPY_MODEL_42a2a539a70047e0ae324ef91b79ad44",
       "IPY_MODEL_f4ba9d69d03643218c55a9090cb7bc02",
       "IPY_MODEL_50f5ad810ab24088a4aa0d7a6c3b72f6"
      ],
      "crs": {
       "custom": false,
       "name": "EPSG3857"
      },
      "default_style": "IPY_MODEL_c610449c895f4b5a8e4009a9d6050f43",
      "double_click_zoom": true,
      "dragging": true,
      "dragging_style": "IPY_MODEL_16db167e511e47d0a54c3e23eb6ef929",
      "east": -64.71359252929689,
      "fullscreen": false,
      "inertia": true,
      "inertia_deceleration": 3000,
      "inertia_max_speed": 1500,
      "interpolation": "bilinear",
      "keyboard": true,
      "keyboard_pan_offset": 80,
      "keyboard_zoom_offset": 1,
      "layers": [
       "IPY_MODEL_10ca6f9780864c96b071f7ea85bcf24c",
       "IPY_MODEL_78b758c094c7475aab2d3a45aaaab4a3",
       "IPY_MODEL_1beb5c098f664ab2a5b411b5836c6bed",
       "IPY_MODEL_d29c37a16aba48719302a3c1d2afc93a",
       "IPY_MODEL_de6d7ad177c74d33b585d5b3b89033db"
      ],
      "layout": "IPY_MODEL_1aafd0ead93e464b891465a8402ad980",
      "left": 82669,
      "max_zoom": 24,
      "min_zoom": null,
      "modisdate": "2023-02-25",
      "north": 48.44377831058805,
      "options": [
       "bounce_at_zoom_limits",
       "box_zoom",
       "center",
       "close_popup_on_click",
       "double_click_zoom",
       "dragging",
       "fullscreen",
       "inertia",
       "inertia_deceleration",
       "inertia_max_speed",
       "interpolation",
       "keyboard",
       "keyboard_pan_offset",
       "keyboard_zoom_offset",
       "max_zoom",
       "min_zoom",
       "prefer_canvas",
       "scroll_wheel_zoom",
       "tap",
       "tap_tolerance",
       "touch_zoom",
       "world_copy_jump",
       "zoom",
       "zoom_animation_threshold",
       "zoom_delta",
       "zoom_snap"
      ],
      "panes": {},
      "prefer_canvas": false,
      "right": 83949,
      "scroll_wheel_zoom": true,
      "south": 47.89424772020999,
      "style": "IPY_MODEL_c610449c895f4b5a8e4009a9d6050f43",
      "tap": true,
      "tap_tolerance": 15,
      "top": 90640,
      "touch_zoom": true,
      "west": -66.47140502929689,
      "window_url": "https://f0cowfpanwr-496ff2e9c6d22116-0-colab.googleusercontent.com/outputframe.html?vrz=colab-20230223-060147-RC00_511737765",
      "world_copy_jump": false,
      "zoom": 10,
      "zoom_animation_threshold": 4,
      "zoom_delta": 1,
      "zoom_snap": 1
     }
    },
    "dd94d67fc5d74011a985e70830558529": {
     "model_module": "@jupyter-widgets/base",
     "model_module_version": "1.2.0",
     "model_name": "LayoutModel",
     "state": {
      "_model_module": "@jupyter-widgets/base",
      "_model_module_version": "1.2.0",
      "_model_name": "LayoutModel",
      "_view_count": null,
      "_view_module": "@jupyter-widgets/base",
      "_view_module_version": "1.2.0",
      "_view_name": "LayoutView",
      "align_content": null,
      "align_items": null,
      "align_self": null,
      "border": null,
      "bottom": null,
      "display": null,
      "flex": null,
      "flex_flow": null,
      "grid_area": null,
      "grid_auto_columns": null,
      "grid_auto_flow": null,
      "grid_auto_rows": null,
      "grid_column": null,
      "grid_gap": null,
      "grid_row": null,
      "grid_template_areas": null,
      "grid_template_columns": null,
      "grid_template_rows": null,
      "height": null,
      "justify_content": null,
      "justify_items": null,
      "left": null,
      "margin": null,
      "max_height": null,
      "max_width": null,
      "min_height": null,
      "min_width": null,
      "object_fit": null,
      "object_position": null,
      "order": null,
      "overflow": null,
      "overflow_x": null,
      "overflow_y": null,
      "padding": null,
      "right": null,
      "top": null,
      "visibility": null,
      "width": null
     }
    },
    "de6d7ad177c74d33b585d5b3b89033db": {
     "model_module": "jupyter-leaflet",
     "model_module_version": "^0.17",
     "model_name": "LeafletTileLayerModel",
     "state": {
      "_model_module": "jupyter-leaflet",
      "_model_module_version": "^0.17",
      "_model_name": "LeafletTileLayerModel",
      "_view_count": null,
      "_view_module": "jupyter-leaflet",
      "_view_module_version": "^0.17",
      "_view_name": "LeafletTileLayerView",
      "attribution": "Google Earth Engine",
      "base": false,
      "bottom": true,
      "bounds": null,
      "detect_retina": false,
      "loading": false,
      "max_native_zoom": null,
      "max_zoom": 24,
      "min_native_zoom": null,
      "min_zoom": 0,
      "name": "Landcover",
      "no_wrap": false,
      "opacity": 1,
      "options": [
       "attribution",
       "bounds",
       "detect_retina",
       "max_native_zoom",
       "max_zoom",
       "min_native_zoom",
       "min_zoom",
       "no_wrap",
       "tile_size",
       "tms",
       "zoom_offset"
      ],
      "pane": "",
      "popup": null,
      "popup_max_height": null,
      "popup_max_width": 300,
      "popup_min_width": 50,
      "show_loading": false,
      "subitems": [],
      "tile_size": 256,
      "tms": false,
      "url": "https://earthengine.googleapis.com/v1alpha/projects/earthengine-legacy/maps/10c28fbfd15570a9e83dc07e44bbd78f-f796080c7a745d3bd17fe907809c63eb/tiles/{z}/{x}/{y}",
      "visible": true,
      "zoom_offset": 0
     }
    },
    "ec250e271ee442e69f89b424ea546e3d": {
     "model_module": "jupyter-leaflet",
     "model_module_version": "^0.17",
     "model_name": "LeafletMapStyleModel",
     "state": {
      "_model_module": "jupyter-leaflet",
      "_model_module_version": "^0.17",
      "_model_name": "LeafletMapStyleModel",
      "_view_count": null,
      "_view_module": "@jupyter-widgets/base",
      "_view_module_version": "1.2.0",
      "_view_name": "StyleView",
      "cursor": "grab"
     }
    },
    "f4ba9d69d03643218c55a9090cb7bc02": {
     "model_module": "jupyter-leaflet",
     "model_module_version": "^0.17",
     "model_name": "LeafletDrawControlModel",
     "state": {
      "_model_module": "jupyter-leaflet",
      "_model_module_version": "^0.17",
      "_model_name": "LeafletDrawControlModel",
      "_view_count": null,
      "_view_module": "jupyter-leaflet",
      "_view_module_version": "^0.17",
      "_view_name": "LeafletDrawControlView",
      "circle": {
       "shapeOptions": {
        "color": "#3388ff"
       }
      },
      "circlemarker": {},
      "data": [],
      "edit": true,
      "marker": {
       "shapeOptions": {
        "color": "#3388ff"
       }
      },
      "options": [
       "position"
      ],
      "polygon": {
       "shapeOptions": {}
      },
      "polyline": {
       "shapeOptions": {}
      },
      "position": "topleft",
      "rectangle": {
       "shapeOptions": {
        "color": "#3388ff"
       }
      },
      "remove": true
     }
    }
   }
  }
 },
 "nbformat": 4,
 "nbformat_minor": 4
}
